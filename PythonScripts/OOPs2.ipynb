{
 "cells": [
  {
   "cell_type": "code",
   "execution_count": 149,
   "id": "ee4674c5-1697-440f-ac4f-11b9d8209084",
   "metadata": {},
   "outputs": [],
   "source": [
    "class Fraction:\n",
    "    def __init__(self, n,d):\n",
    "       self.n = n\n",
    "       self.d = d\n",
    "\n",
    "    def __str__(self):\n",
    "        return f'{self.n}/{self.d}'\n",
    "\n",
    "\n",
    "    def __add__(self,other):\n",
    "        new_n = self.n * other.d + other.n * self.d\n",
    "        new_d = self.d * other.d\n",
    "        return f'{new_n}/{new_d}'\n",
    "\n",
    "\n",
    "    def __sub__(self,other):\n",
    "        new_n = self.n * other.d - other.n * self.d\n",
    "        new_d = self.d * other.d\n",
    "        return f'{new_n}/{new_d}'\n",
    "\n",
    "\n",
    "    def __mul__(self,other):\n",
    "        new_n = self.n * other.n\n",
    "        new_d = self.d * other.d\n",
    "        return f'{new_n}/{new_d}'\n",
    "\n",
    "    def __truediv__(self,other):\n",
    "        new_n = self.n * other.d\n",
    "        new_d = self.d * other.n\n",
    "        return f'{new_n}/{new_d}'\n",
    "\n",
    "    def to_decimal(self):\n",
    "        return self.n/self.d"
   ]
  },
  {
   "cell_type": "code",
   "execution_count": 151,
   "id": "fd87ef9a-d7ff-47df-ac50-b7f1adb708b8",
   "metadata": {},
   "outputs": [
    {
     "name": "stdout",
     "output_type": "stream",
     "text": [
      "Fraction 1: 3/4\n",
      "Fraction 2: 4/5\n",
      "Sum: 31/20\n",
      "Sub: -1/20\n",
      "Mul: 12/20\n",
      "Div: 15/16\n",
      "Decimal: 0.75\n"
     ]
    }
   ],
   "source": [
    "frac1 = Fraction(3,4)\n",
    "frac2 = Fraction(4,5)\n",
    "\n",
    "print(\"Fraction 1:\",frac1)\n",
    "print(\"Fraction 2:\",frac2)\n",
    "print(\"Sum:\",frac1 + frac2)\n",
    "print(\"Sub:\",frac1 - frac2)\n",
    "print(\"Mul:\",frac1 * frac2)\n",
    "print(\"Div:\",frac1 / frac2)\n",
    "print(\"Decimal:\",frac1.to_decimal())"
   ]
  },
  {
   "cell_type": "code",
   "execution_count": 153,
   "id": "7cef6b91-6322-4d50-bbf0-3330a68c1663",
   "metadata": {},
   "outputs": [
    {
     "name": "stdout",
     "output_type": "stream",
     "text": [
      "The length of rectangle is :  3\n",
      "The width of rectangle is :  4\n",
      "The perimeter of rectangle is :  14\n",
      "The area of rectangle is :  12\n"
     ]
    }
   ],
   "source": [
    "class Rectangle : \n",
    "    def __init__(self,x,y):\n",
    "        self.x = x\n",
    "        self.y = y\n",
    "\n",
    "    def perimeter(self):\n",
    "        return 2 * (self.x + self.y) \n",
    "\n",
    "    def area(self):\n",
    "        return self.x * self.y\n",
    "\n",
    "    def display(self):\n",
    "        print(\"The length of rectangle is : \", self.x)\n",
    "        print(\"The width of rectangle is : \", self.y)\n",
    "        print(\"The perimeter of rectangle is : \",self.perimeter())\n",
    "        print(\"The area of rectangle is : \", self.area())\n",
    "\n",
    "my_rectangle = Rect(3,4)\n",
    "my_rectangle.display()"
   ]
  },
  {
   "cell_type": "code",
   "execution_count": 155,
   "id": "61a2afc4-e278-4fa1-9c7c-eca110cb811e",
   "metadata": {},
   "outputs": [
    {
     "name": "stdout",
     "output_type": "stream",
     "text": [
      "\n",
      "Depositing 10000...\n",
      "\n",
      "Withdrawing 5000...\n",
      "\n",
      "\n",
      "Account Number: 123456789\n",
      "Account Name: Shivani\n",
      "Account Balance: 52250.0\n"
     ]
    }
   ],
   "source": [
    "class Bank:\n",
    "    def __init__(self, account_number, name, balance):\n",
    "        self.account_number = account_number\n",
    "        self.name = name\n",
    "        self.balance = balance\n",
    "\n",
    "    def deposit(self, amount):  # Accepts amount to deposit\n",
    "        self.balance += amount\n",
    "\n",
    "    def withdraw(self, amount):  # Accepts amount to withdraw\n",
    "        if amount > self.balance:\n",
    "            print(\"Insufficient Balance!!!\")\n",
    "        else:\n",
    "            self.balance -= amount\n",
    "            reduction = self.bankfees()\n",
    "            self.balance -= reduction\n",
    "\n",
    "    def bankfees(self):\n",
    "        return self.balance * 0.05  # 5% bank fee\n",
    "\n",
    "    def display(self):\n",
    "        print(\"Account Number:\", self.account_number)\n",
    "        print(\"Account Name:\", self.name)\n",
    "        print(\"Account Balance:\", self.balance)\n",
    "\n",
    "\n",
    "bank1 = Bank(123456789, 'Shivani', 50000)\n",
    "\n",
    "print(\"\\nDepositing 10000...\")\n",
    "bank1.deposit(10000)\n",
    "\n",
    "print(\"\\nWithdrawing 5000...\")\n",
    "bank1.withdraw(5000)\n",
    "\n",
    "print(\"\\n\")\n",
    "bank1.display()\n"
   ]
  },
  {
   "cell_type": "markdown",
   "id": "d3cf4240-65ba-434b-9bad-3b14b2c097e6",
   "metadata": {},
   "source": [
    "## Q-3:Computation class\n",
    "\n",
    "1. Create a Computation class with a default constructor (without parameters) allowing to perform various calculations on integers numbers.\n",
    "2. Create a method called Factorial ( ) which allows to calculate the factorial of an integer n. Integer n as parameter for this method\n",
    "3. Create a method called naturalSun() allowing to calculate the sum of the first n integers 1 + 2 + 3 + .. + n. Integer n as parameter for this method.\n",
    "4. Create a method called testPrime() in the Calculation class to test the primality of a given integer n, n is Prime or Not? Integer n as parameter for this\n",
    "method.\n",
    "5. Create a method called testPrims() allowing to test if two numbers are prime between them. Two integers are prime to one another if they have only 1\n",
    "as their common divisor. Eg. 4 and 9 are prime to each other.\n",
    "6. Create a tableMult() method which creates and displays the multiplication table of a given integer. Then create an allTablesMult() method to display\n",
    "all the integer multiplication tables 1, 2, 3, ... 9.\n",
    "7. Create a static listDiv() method that gets all the divisors of a given integer on new list called Ldiv. Create another listDivPrim() method that gets all the prime divisors of a given integer."
   ]
  },
  {
   "cell_type": "code",
   "execution_count": 158,
   "id": "1c6c5fc0-2c06-40fe-9f6e-05b4e4f1b572",
   "metadata": {},
   "outputs": [
    {
     "name": "stdout",
     "output_type": "stream",
     "text": [
      " 1 . Factorial of 5: 120\n",
      "\n",
      " 2. Sum of first 10 numbers: 55\n",
      "\n",
      " 3. Is 7 prime? True\n",
      "\n",
      " 4. Are 9 and 28 co-prime? True\n",
      "\n",
      " 5. Multiplication table of 6:\n",
      "6 x 1 = 6\n",
      "6 x 2 = 12\n",
      "6 x 3 = 18\n",
      "6 x 4 = 24\n",
      "6 x 5 = 30\n",
      "6 x 6 = 36\n",
      "6 x 7 = 42\n",
      "6 x 8 = 48\n",
      "6 x 9 = 54\n",
      "6 x 10 = 60\n",
      "\n",
      " 6. All multiplication tables from 1 and 2:\n",
      "1 x 1 = 1\n",
      "1 x 2 = 2\n",
      "1 x 3 = 3\n",
      "1 x 4 = 4\n",
      "1 x 5 = 5\n",
      "1 x 6 = 6\n",
      "1 x 7 = 7\n",
      "1 x 8 = 8\n",
      "1 x 9 = 9\n",
      "1 x 10 = 10\n",
      "---------------\n",
      "2 x 1 = 2\n",
      "2 x 2 = 4\n",
      "2 x 3 = 6\n",
      "2 x 4 = 8\n",
      "2 x 5 = 10\n",
      "2 x 6 = 12\n",
      "2 x 7 = 14\n",
      "2 x 8 = 16\n",
      "2 x 9 = 18\n",
      "2 x 10 = 20\n",
      "---------------\n",
      "\n",
      " 7. Divisors of 28: [1, 2, 4, 7, 14, 28]\n",
      "\n",
      " 8. Prime divisors of 28: [2, 7]\n"
     ]
    }
   ],
   "source": [
    "class Computation:\n",
    "    def __init__(self):\n",
    "        pass\n",
    "\n",
    "    # 2. Factorial of n\n",
    "    def factorial(self, n):\n",
    "        if n < 0:\n",
    "            return \"Factorial does not exist for negative numbers\"\n",
    "        result = 1\n",
    "        for i in range(1, n + 1):\n",
    "            result *= i\n",
    "        return result\n",
    "\n",
    "    # 3. Sum of first n natural numbers\n",
    "    def naturalSum(self, n):\n",
    "        return n * (n + 1) // 2\n",
    "\n",
    "    # 4. Check if n is prime\n",
    "    def testPrime(self, n):\n",
    "        if n < 2:\n",
    "            return False\n",
    "        for i in range(2, int(n**0.5) + 1):\n",
    "            if n % i == 0:\n",
    "                return False\n",
    "        return True\n",
    "\n",
    "    # 5. Check if two numbers are co-prime (prime between them)\n",
    "    def testPrims(self, a, b):\n",
    "        def gcd(x, y):\n",
    "            while y:\n",
    "                x, y = y, x % y\n",
    "            return x\n",
    "        return gcd(a, b) == 1\n",
    "\n",
    "    # 6. Multiplication table of a number\n",
    "    def tableMult(self, n):\n",
    "        for i in range(1, 11):\n",
    "            print(f\"{n} x {i} = {n * i}\")\n",
    "\n",
    "    def allTablesMult(self):\n",
    "        for i in range(1, 3):\n",
    "            self.tableMult(i)\n",
    "            print('-' * 15)\n",
    "\n",
    "    @staticmethod\n",
    "    def listDiv(n):\n",
    "        Ldiv = [i for i in range(1, n + 1) if n % i == 0]\n",
    "        return Ldiv\n",
    "\n",
    "    @staticmethod\n",
    "    def listDivPrim(n):\n",
    "        divisors = Computation.listDiv(n)\n",
    "        primes = [i for i in divisors if Computation.isPrime(i)]\n",
    "        return primes\n",
    "\n",
    "    @staticmethod\n",
    "    def isPrime(n):\n",
    "        if n < 2:\n",
    "            return False\n",
    "        for i in range(2, int(n**0.5) + 1):\n",
    "            if n % i == 0:\n",
    "                return False\n",
    "        return True\n",
    "\n",
    "\n",
    "comp = Computation()\n",
    "\n",
    "print(\" 1 . Factorial of 5:\", comp.factorial(5))\n",
    "print(\"\\n 2. Sum of first 10 numbers:\", comp.naturalSum(10))\n",
    "print(\"\\n 3. Is 7 prime?\", comp.testPrime(7))\n",
    "print(\"\\n 4. Are 9 and 28 co-prime?\", comp.testPrims(9, 28))\n",
    "print(\"\\n 5. Multiplication table of 6:\")\n",
    "comp.tableMult(6)\n",
    "print(\"\\n 6. All multiplication tables from 1 and 2:\")\n",
    "comp.allTablesMult()\n",
    "print(\"\\n 7. Divisors of 28:\", Computation.listDiv(28))\n",
    "print(\"\\n 8. Prime divisors of 28:\", Computation.listDivPrim(28))\n"
   ]
  },
  {
   "cell_type": "markdown",
   "id": "44efd5a6-d890-4a53-baa5-ca9de7ae4ef8",
   "metadata": {},
   "source": [
    "Q-4 : Build flashcard using class in Python.\n",
    "\n",
    "Build a flashcard using class in python. A flashcard is a card having information on both sides, which can be used as an aid in memoization. Flashcards usually have\n",
    "question on one side and an answer on the other.\n",
    "Example 1:\n",
    "Approach:\n",
    ". Create a class named FlashCard.\n",
    ". Initialize dictionary fruits using init() method. Here you have to define fruit name as key and it's color as value. E.g. {\"Banana\": \"yellow\", \"Strawberries\": \"pink\")\n",
    ". Now randomly choose a pair from fruits by using random module and store the key in variable fruit and value in variable color.\n",
    ". Now prompt the user to answer the color of the randomly chosen fruit.\n",
    ". If correct print correct else print wrong.\n",
    "Output:\n",
    "welcome to fruit quiz\n",
    "What is the color of Strawberries\n",
    "pink\n",
    "Correct answer\n",
    "Enter e, if you want to play again: e\n",
    "What is the color of watermelon\n",
    "green\n",
    "Correct answer\n",
    "Enter 0, if you want to play again: 1"
   ]
  },
  {
   "cell_type": "code",
   "execution_count": 16,
   "id": "342123ad-ccaf-4f56-8ae5-d6f95a0e580d",
   "metadata": {},
   "outputs": [
    {
     "name": "stdout",
     "output_type": "stream",
     "text": [
      "Welcome to the Fruit Quiz!\n",
      "\n",
      "What is the color of 'watermelon'?\n"
     ]
    },
    {
     "name": "stdin",
     "output_type": "stream",
     "text": [
      "Answer:  hu\n"
     ]
    },
    {
     "name": "stdout",
     "output_type": "stream",
     "text": [
      "❌ Incorrect. The correct answer is 'green'.\n"
     ]
    },
    {
     "name": "stdin",
     "output_type": "stream",
     "text": [
      "Enter 0 to play again or 1 to exit:  1\n"
     ]
    },
    {
     "name": "stdout",
     "output_type": "stream",
     "text": [
      "Thank you for playing the Fruit Quiz!\n"
     ]
    }
   ],
   "source": [
    "import random\n",
    "\n",
    "class FlashCard:\n",
    "    def __init__(self):\n",
    "        self.fruits = {\n",
    "            'apple': 'red',\n",
    "            'banana': 'yellow',\n",
    "            'watermelon': 'green',\n",
    "            'stawberry': 'pink',\n",
    "            'guava': 'green'\n",
    "        }\n",
    "\n",
    "    def quiz(self):\n",
    "        print(\"Welcome to the Fruit Quiz!\")\n",
    "        while True:\n",
    "            fruit, color = random.choice(list(self.fruits.items()))\n",
    "            print(f\"\\nWhat is the color of '{fruit}'?\")\n",
    "            user_answer = input(\"Answer: \").strip().lower()\n",
    "\n",
    "            if user_answer == color:\n",
    "                print(\"✅ Correct Answer!\")\n",
    "            else:\n",
    "                print(f\"❌ Incorrect. The correct answer is '{color}'.\")\n",
    "\n",
    "            option = input(\"Enter 0 to play again or 1 to exit: \").strip()\n",
    "\n",
    "            if option == '0':\n",
    "                continue\n",
    "            elif option == '1':\n",
    "                print(\"Thank you for playing the Fruit Quiz!\")\n",
    "                break\n",
    "            else:\n",
    "                print(\"Invalid option. Exiting the quiz.\")\n",
    "                break\n",
    "\n",
    "\n",
    "# Run the quiz\n",
    "card = FlashCard()\n",
    "card.quiz()\n"
   ]
  },
  {
   "cell_type": "code",
   "execution_count": null,
   "id": "96c27670-4819-461b-9191-b226b49d289b",
   "metadata": {},
   "outputs": [],
   "source": []
  },
  {
   "cell_type": "code",
   "execution_count": null,
   "id": "b281c3e5-ff27-448d-8d84-b7f9813e8256",
   "metadata": {},
   "outputs": [],
   "source": []
  },
  {
   "cell_type": "code",
   "execution_count": null,
   "id": "ad00355b-8a7d-4fa3-b934-307245aa025f",
   "metadata": {},
   "outputs": [],
   "source": []
  },
  {
   "cell_type": "code",
   "execution_count": null,
   "id": "3d77c1c5-429e-4262-bdf7-d2b92c29fd32",
   "metadata": {},
   "outputs": [],
   "source": []
  },
  {
   "cell_type": "code",
   "execution_count": null,
   "id": "877896eb-1930-406c-8f77-39d421223537",
   "metadata": {},
   "outputs": [],
   "source": []
  },
  {
   "cell_type": "code",
   "execution_count": null,
   "id": "f3faf63f-4eb6-4093-b2bd-7fec3f269436",
   "metadata": {},
   "outputs": [],
   "source": []
  },
  {
   "cell_type": "code",
   "execution_count": null,
   "id": "98dbb8d6-ccf1-4e06-8bc2-542ed8578a23",
   "metadata": {},
   "outputs": [],
   "source": []
  },
  {
   "cell_type": "code",
   "execution_count": null,
   "id": "ec3f639a-397a-4f2d-af99-4d4978e2c1d3",
   "metadata": {},
   "outputs": [],
   "source": []
  },
  {
   "cell_type": "code",
   "execution_count": null,
   "id": "15610985-48ec-4fff-b189-752666076357",
   "metadata": {},
   "outputs": [],
   "source": []
  },
  {
   "cell_type": "code",
   "execution_count": null,
   "id": "dcbc0e52-c680-427b-8788-0feb6f2e8001",
   "metadata": {},
   "outputs": [],
   "source": []
  },
  {
   "cell_type": "code",
   "execution_count": null,
   "id": "8bd41f1f-d0fa-4976-800f-ab0583dc0686",
   "metadata": {},
   "outputs": [],
   "source": []
  },
  {
   "cell_type": "code",
   "execution_count": null,
   "id": "dd7d3cbc-340a-4de7-917c-6504f2866b9d",
   "metadata": {},
   "outputs": [],
   "source": []
  }
 ],
 "metadata": {
  "kernelspec": {
   "display_name": "Python 3 (ipykernel)",
   "language": "python",
   "name": "python3"
  },
  "language_info": {
   "codemirror_mode": {
    "name": "ipython",
    "version": 3
   },
   "file_extension": ".py",
   "mimetype": "text/x-python",
   "name": "python",
   "nbconvert_exporter": "python",
   "pygments_lexer": "ipython3",
   "version": "3.10.14"
  }
 },
 "nbformat": 4,
 "nbformat_minor": 5
}
