{
 "cells": [
  {
   "cell_type": "markdown",
   "id": "076d9e08-40dd-4b21-a85a-dc9617d0e68b",
   "metadata": {},
   "source": [
    "# Aggreegation\n",
    "# Inheritance\n",
    "# Polymorphism\n",
    "# Abstraction\n",
    "# Real-time project\n",
    "# Interview QA"
   ]
  },
  {
   "cell_type": "markdown",
   "id": "ce257a91-83f6-4f0c-9173-f456611c0cb5",
   "metadata": {},
   "source": [
    "# Classification: 0/1, true/fasle, positive/negative, +/-\n",
    "# Regression: numbers polynomial,linear ,decision tree,random forest.(e.g. price of house)"
   ]
  },
  {
   "cell_type": "markdown",
   "id": "68a4f2e4-8aa2-4d64-a052-cf78dff4aa31",
   "metadata": {},
   "source": [
    "# Agreegation:\n",
    "- has a relation : one class ----> other class\n",
    "- customer ----> addreess,name,phone_num\n",
    "- school ----> student,teacher"
   ]
  },
  {
   "cell_type": "code",
   "execution_count": 27,
   "id": "b069c225-e9d4-4b88-a0bd-d0f21ea45aff",
   "metadata": {},
   "outputs": [
    {
     "name": "stdout",
     "output_type": "stream",
     "text": [
      "Pune 411011 Maharashtra\n"
     ]
    }
   ],
   "source": [
    "class Patient:\n",
    "    def __init__(self,name,gender,address):\n",
    "        self.name = name\n",
    "        self.gender = gender\n",
    "        self.address = address\n",
    "\n",
    "    def paddress(self):\n",
    "        print(self.address._Address__city,self.address.pin,self.address.state) # private attributes\n",
    "\n",
    "class Address:\n",
    "    def __init__(self,city,pin,state):\n",
    "        self.__city = city # private attributes\n",
    "        self.pin = pin\n",
    "        self.state = state\n",
    "\n",
    "add1 = Address(\"Pune\",411011,\"Maharashtra\")\n",
    "cust = Patient(\"shivani\",\"Female\",add1)\n",
    "\n",
    "cust.paddress()"
   ]
  },
  {
   "cell_type": "code",
   "execution_count": 41,
   "id": "3b0d6f6f-39b2-4abe-9622-c80815318596",
   "metadata": {},
   "outputs": [
    {
     "name": "stdout",
     "output_type": "stream",
     "text": [
      "Pune 411011 Maharashtra\n"
     ]
    }
   ],
   "source": [
    "class Patient:\n",
    "    def __init__(self,name,gender,address):\n",
    "        self.name = name\n",
    "        self.gender = gender\n",
    "        self.address = address\n",
    "\n",
    "    def paddress(self):\n",
    "        print(self.address.get_city(),self.address.pin,self.address.state) # private attributes\n",
    "\n",
    "class Address:\n",
    "    def __init__(self,city,pin,state):\n",
    "        self.__city = city # private attributes\n",
    "        self.pin = pin\n",
    "        self.state = state\n",
    "\n",
    "    def get_city(self):\n",
    "        return self.__city\n",
    "\n",
    "add1 = Address(\"Pune\",411011,\"Maharashtra\")\n",
    "cust = Patient(\"shivani\",\"Female\",add1)\n",
    "\n",
    "cust.paddress()"
   ]
  },
  {
   "cell_type": "code",
   "execution_count": 53,
   "id": "3266716f-c510-4505-a50d-535377da59dc",
   "metadata": {},
   "outputs": [
    {
     "name": "stdout",
     "output_type": "stream",
     "text": [
      "shivani Pune 411011 Maharashtra\n",
      "Teli Ujjain 411211 MP\n"
     ]
    }
   ],
   "source": [
    "class Patient:\n",
    "    def __init__(self, name, gender, address):\n",
    "        self.name = name\n",
    "        self.gender = gender\n",
    "        self.address = address\n",
    "\n",
    "    def paddress(self):\n",
    "        print(self.name, self.address.get_city(), self.address.pin, self.address.state)\n",
    "\n",
    "    def edit_profile(self, new_name, new_city, new_pin, new_state):\n",
    "        self.name = new_name\n",
    "        self.address.edit_address(new_city, new_pin, new_state)\n",
    "\n",
    "class Address:\n",
    "    def __init__(self, city, pin, state):\n",
    "        self.__city = city  # private attribute\n",
    "        self.pin = pin\n",
    "        self.state = state\n",
    "\n",
    "    def get_city(self):\n",
    "        return self.__city\n",
    "\n",
    "    def edit_address(self, new_city, new_pin, new_state):\n",
    "        self.__city = new_city\n",
    "        self.pin = new_pin\n",
    "        self.state = new_state\n",
    "\n",
    "# Example usage\n",
    "add1 = Address(\"Pune\", 411011, \"Maharashtra\")\n",
    "cust = Patient(\"shivani\", \"Female\", add1)\n",
    "\n",
    "cust.paddress()  # Output before edit\n",
    "cust.edit_profile(\"Teli\", \"Ujjain\", 411211, \"MP\")\n",
    "cust.paddress()  # Output after edit\n"
   ]
  },
  {
   "cell_type": "code",
   "execution_count": null,
   "id": "ac0a1e2f-8cc8-47dc-b256-8e4a0cd36d51",
   "metadata": {},
   "outputs": [],
   "source": []
  },
  {
   "cell_type": "code",
   "execution_count": null,
   "id": "eb49daab-5175-48ae-9c61-4524cfb0f332",
   "metadata": {},
   "outputs": [],
   "source": []
  },
  {
   "cell_type": "code",
   "execution_count": null,
   "id": "b6e23ce9-67b9-4cb5-b0ad-220f79133889",
   "metadata": {},
   "outputs": [],
   "source": []
  },
  {
   "cell_type": "code",
   "execution_count": null,
   "id": "3c96eab8-a51a-484c-a084-984f42a2e199",
   "metadata": {},
   "outputs": [],
   "source": []
  },
  {
   "cell_type": "code",
   "execution_count": null,
   "id": "080455fa-ccc5-43bf-92d8-2c99cc22aebf",
   "metadata": {},
   "outputs": [],
   "source": []
  },
  {
   "cell_type": "code",
   "execution_count": null,
   "id": "eb1cc1b4-2926-44fa-992d-30ad845e3936",
   "metadata": {},
   "outputs": [],
   "source": []
  },
  {
   "cell_type": "code",
   "execution_count": null,
   "id": "0e09d7b1-0cb8-4797-97c5-5105d7848844",
   "metadata": {},
   "outputs": [],
   "source": []
  },
  {
   "cell_type": "code",
   "execution_count": null,
   "id": "c8b7c0fb-f097-4a84-8b30-ea65734e5872",
   "metadata": {},
   "outputs": [],
   "source": []
  },
  {
   "cell_type": "code",
   "execution_count": null,
   "id": "8658f041-fcec-43eb-b810-d6ffdb75cfaa",
   "metadata": {},
   "outputs": [],
   "source": []
  },
  {
   "cell_type": "code",
   "execution_count": null,
   "id": "4a4c60cd-f32e-4c54-8b96-97bbc0c93370",
   "metadata": {},
   "outputs": [],
   "source": []
  },
  {
   "cell_type": "code",
   "execution_count": null,
   "id": "765915b5-728d-4a4a-ab01-179b99a41d6a",
   "metadata": {},
   "outputs": [],
   "source": []
  },
  {
   "cell_type": "code",
   "execution_count": null,
   "id": "b938abc7-1a4d-408a-bab9-30b5b04a2701",
   "metadata": {},
   "outputs": [],
   "source": []
  },
  {
   "cell_type": "code",
   "execution_count": null,
   "id": "93960e2f-afed-4d14-98ea-ffb946b8f16f",
   "metadata": {},
   "outputs": [],
   "source": []
  },
  {
   "cell_type": "code",
   "execution_count": null,
   "id": "db38ea60-1c31-415b-ba46-607488ff260e",
   "metadata": {},
   "outputs": [],
   "source": []
  },
  {
   "cell_type": "code",
   "execution_count": null,
   "id": "9353c954-4941-4518-9a17-38139612279d",
   "metadata": {},
   "outputs": [],
   "source": []
  },
  {
   "cell_type": "code",
   "execution_count": null,
   "id": "5b361af2-ad28-4382-85a9-48af3cfa1580",
   "metadata": {},
   "outputs": [],
   "source": []
  },
  {
   "cell_type": "code",
   "execution_count": null,
   "id": "e430859e-fa90-4fb3-a253-03aad6a30fc9",
   "metadata": {},
   "outputs": [],
   "source": []
  },
  {
   "cell_type": "code",
   "execution_count": null,
   "id": "c8ee3c67-88bb-481d-ac22-42d04cb32c94",
   "metadata": {},
   "outputs": [],
   "source": []
  },
  {
   "cell_type": "code",
   "execution_count": null,
   "id": "6ae4506f-a091-4761-8d1f-9659af3d299f",
   "metadata": {},
   "outputs": [],
   "source": []
  },
  {
   "cell_type": "code",
   "execution_count": null,
   "id": "a1c8d533-01fe-4f70-9cee-cc9353a0f72d",
   "metadata": {},
   "outputs": [],
   "source": []
  },
  {
   "cell_type": "code",
   "execution_count": null,
   "id": "01e1435a-13ca-4450-bf62-849abd581a1a",
   "metadata": {},
   "outputs": [],
   "source": []
  },
  {
   "cell_type": "code",
   "execution_count": null,
   "id": "8292d8c5-1c27-4b7a-8a7e-2455d9f3aaf7",
   "metadata": {},
   "outputs": [],
   "source": []
  },
  {
   "cell_type": "code",
   "execution_count": null,
   "id": "8a520356-115e-4994-8a0f-b478e7ec7c9a",
   "metadata": {},
   "outputs": [],
   "source": []
  },
  {
   "cell_type": "code",
   "execution_count": null,
   "id": "96bd04b5-652c-42cd-a9af-e083eb68f2f0",
   "metadata": {},
   "outputs": [],
   "source": []
  },
  {
   "cell_type": "code",
   "execution_count": null,
   "id": "cfa4e2be-8290-4e8e-ada1-ca46d5fdd790",
   "metadata": {},
   "outputs": [],
   "source": []
  },
  {
   "cell_type": "code",
   "execution_count": null,
   "id": "f3ad4c10-d396-453e-aa8f-8198b9dc2904",
   "metadata": {},
   "outputs": [],
   "source": []
  },
  {
   "cell_type": "code",
   "execution_count": null,
   "id": "316d2d0d-163b-464a-9615-4f3e2b3a9d5e",
   "metadata": {},
   "outputs": [],
   "source": []
  },
  {
   "cell_type": "code",
   "execution_count": null,
   "id": "6958430c-8fb0-4f36-bf08-e142e6130e16",
   "metadata": {},
   "outputs": [],
   "source": []
  },
  {
   "cell_type": "code",
   "execution_count": null,
   "id": "d0237499-8894-4629-a66e-1b90ae029d63",
   "metadata": {},
   "outputs": [],
   "source": []
  },
  {
   "cell_type": "code",
   "execution_count": null,
   "id": "9fc81e6c-b87f-444b-994f-8db044617ab1",
   "metadata": {},
   "outputs": [],
   "source": []
  },
  {
   "cell_type": "code",
   "execution_count": null,
   "id": "164cbe7a-2ee2-4e5f-89a6-5a61fe6ccb73",
   "metadata": {},
   "outputs": [],
   "source": []
  },
  {
   "cell_type": "code",
   "execution_count": null,
   "id": "9bf811f8-fae0-49ec-89d1-8d3538708f0d",
   "metadata": {},
   "outputs": [],
   "source": []
  },
  {
   "cell_type": "code",
   "execution_count": null,
   "id": "9c2a11e6-2dda-4958-96bb-9c849c1affbd",
   "metadata": {},
   "outputs": [],
   "source": []
  },
  {
   "cell_type": "code",
   "execution_count": null,
   "id": "b13b4e09-c302-4d7c-9457-73ffc10b7355",
   "metadata": {},
   "outputs": [],
   "source": []
  },
  {
   "cell_type": "code",
   "execution_count": null,
   "id": "eab084f4-97c3-40f1-87c6-b2b832824a6d",
   "metadata": {},
   "outputs": [],
   "source": []
  },
  {
   "cell_type": "code",
   "execution_count": null,
   "id": "cbeb1ab8-1e8e-403a-9f66-42e929a8b3a5",
   "metadata": {},
   "outputs": [],
   "source": []
  },
  {
   "cell_type": "code",
   "execution_count": null,
   "id": "2b64e190-9a44-4cb6-8d4e-3586ac2e3d23",
   "metadata": {},
   "outputs": [],
   "source": []
  },
  {
   "cell_type": "code",
   "execution_count": null,
   "id": "88d5a013-34a8-49e3-b673-1bfd69bdccde",
   "metadata": {},
   "outputs": [],
   "source": []
  },
  {
   "cell_type": "code",
   "execution_count": null,
   "id": "73df5a96-9272-453b-a8fa-649a66304b22",
   "metadata": {},
   "outputs": [],
   "source": []
  },
  {
   "cell_type": "code",
   "execution_count": null,
   "id": "2f1edf6f-3c58-45dd-9c20-0dd9e13749d1",
   "metadata": {},
   "outputs": [],
   "source": []
  },
  {
   "cell_type": "code",
   "execution_count": null,
   "id": "c080c812-24cf-4e9a-8d3c-a05055a85a81",
   "metadata": {},
   "outputs": [],
   "source": []
  },
  {
   "cell_type": "code",
   "execution_count": null,
   "id": "a1686fe6-214f-412c-9775-ea671a4aa8e3",
   "metadata": {},
   "outputs": [],
   "source": []
  },
  {
   "cell_type": "code",
   "execution_count": null,
   "id": "d3f6bf41-405f-4d26-8e65-07ef8c5e0742",
   "metadata": {},
   "outputs": [],
   "source": []
  },
  {
   "cell_type": "code",
   "execution_count": null,
   "id": "c7fd15b0-f56b-4f1c-a72e-574089d2bbf2",
   "metadata": {},
   "outputs": [],
   "source": []
  },
  {
   "cell_type": "code",
   "execution_count": null,
   "id": "45c5a550-e3fd-480c-9c5d-b847a6beedac",
   "metadata": {},
   "outputs": [],
   "source": []
  },
  {
   "cell_type": "code",
   "execution_count": null,
   "id": "4635f51c-01f3-4f0d-be95-ee08b4a24106",
   "metadata": {},
   "outputs": [],
   "source": []
  },
  {
   "cell_type": "code",
   "execution_count": null,
   "id": "a421848c-469c-49fd-a36f-e42d0734d75f",
   "metadata": {},
   "outputs": [],
   "source": []
  },
  {
   "cell_type": "code",
   "execution_count": null,
   "id": "2034756f-64f6-40ec-94bc-11d69d44450d",
   "metadata": {},
   "outputs": [],
   "source": []
  },
  {
   "cell_type": "code",
   "execution_count": null,
   "id": "ec1eb144-f9dd-4d60-8ad1-4cb7828a6890",
   "metadata": {},
   "outputs": [],
   "source": []
  },
  {
   "cell_type": "code",
   "execution_count": null,
   "id": "081f2f23-ce6a-4316-89bb-7e2795454a8e",
   "metadata": {},
   "outputs": [],
   "source": []
  },
  {
   "cell_type": "code",
   "execution_count": null,
   "id": "1bebeda9-e331-448f-b9fc-dac9e7e14117",
   "metadata": {},
   "outputs": [],
   "source": []
  },
  {
   "cell_type": "code",
   "execution_count": null,
   "id": "59648bb6-36b1-4525-821e-e3ae2eb84618",
   "metadata": {},
   "outputs": [],
   "source": []
  },
  {
   "cell_type": "code",
   "execution_count": null,
   "id": "938957a6-ccbe-4dfa-8633-dba0760fbb31",
   "metadata": {},
   "outputs": [],
   "source": []
  },
  {
   "cell_type": "code",
   "execution_count": null,
   "id": "589068df-1b6c-41d3-ba3c-4823b2ca201b",
   "metadata": {},
   "outputs": [],
   "source": []
  },
  {
   "cell_type": "code",
   "execution_count": null,
   "id": "770b11ae-440f-4db8-bd2d-5aa7c3e9c43c",
   "metadata": {},
   "outputs": [],
   "source": []
  },
  {
   "cell_type": "code",
   "execution_count": null,
   "id": "1797e7ef-9727-464e-8f73-4fbea05eaa96",
   "metadata": {},
   "outputs": [],
   "source": []
  },
  {
   "cell_type": "code",
   "execution_count": null,
   "id": "0c3b0a48-0103-4a3b-8527-8d83bf71ed4f",
   "metadata": {},
   "outputs": [],
   "source": []
  },
  {
   "cell_type": "code",
   "execution_count": null,
   "id": "4a2c6a16-1ff0-4bc8-a0eb-30a061baae59",
   "metadata": {},
   "outputs": [],
   "source": []
  },
  {
   "cell_type": "code",
   "execution_count": null,
   "id": "9759ca1e-e860-4b5c-868b-c70b30767fae",
   "metadata": {},
   "outputs": [],
   "source": []
  },
  {
   "cell_type": "code",
   "execution_count": null,
   "id": "45e5015a-8d90-41fe-b36e-127cb712e27f",
   "metadata": {},
   "outputs": [],
   "source": []
  },
  {
   "cell_type": "code",
   "execution_count": null,
   "id": "4d32973b-1def-4f2f-81b6-61d8088408c9",
   "metadata": {},
   "outputs": [],
   "source": []
  },
  {
   "cell_type": "code",
   "execution_count": null,
   "id": "467c57a7-be47-48bc-92f2-1b6d42fb8d96",
   "metadata": {},
   "outputs": [],
   "source": []
  },
  {
   "cell_type": "code",
   "execution_count": null,
   "id": "429ce693-0722-449a-b5e6-49c1239be19f",
   "metadata": {},
   "outputs": [],
   "source": []
  },
  {
   "cell_type": "code",
   "execution_count": null,
   "id": "a4e970da-665b-4545-8af3-34a79cb7c411",
   "metadata": {},
   "outputs": [],
   "source": []
  },
  {
   "cell_type": "code",
   "execution_count": null,
   "id": "419d33a2-dab1-4d22-a30a-ad4de3ba00c3",
   "metadata": {},
   "outputs": [],
   "source": []
  },
  {
   "cell_type": "code",
   "execution_count": null,
   "id": "d8f739d9-e22b-412a-833d-d2c5c32e1937",
   "metadata": {},
   "outputs": [],
   "source": []
  },
  {
   "cell_type": "code",
   "execution_count": null,
   "id": "1a4b63e5-2f0e-4daa-91cf-ff6807d0f4c3",
   "metadata": {},
   "outputs": [],
   "source": []
  },
  {
   "cell_type": "code",
   "execution_count": null,
   "id": "a25109cb-b962-4dc6-bafc-c5f35999a635",
   "metadata": {},
   "outputs": [],
   "source": []
  }
 ],
 "metadata": {
  "kernelspec": {
   "display_name": "Python 3 (ipykernel)",
   "language": "python",
   "name": "python3"
  },
  "language_info": {
   "codemirror_mode": {
    "name": "ipython",
    "version": 3
   },
   "file_extension": ".py",
   "mimetype": "text/x-python",
   "name": "python",
   "nbconvert_exporter": "python",
   "pygments_lexer": "ipython3",
   "version": "3.10.14"
  }
 },
 "nbformat": 4,
 "nbformat_minor": 5
}
