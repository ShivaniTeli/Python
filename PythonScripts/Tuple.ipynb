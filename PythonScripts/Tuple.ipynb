{
 "cells": [
  {
   "cell_type": "markdown",
   "id": "9edfde70-ea36-4951-8e4e-69b5c01e3e05",
   "metadata": {},
   "source": [
    "# Tuple\n",
    "\n",
    "-anything written inside() and each elements are sep by ,"
   ]
  },
  {
   "cell_type": "code",
   "execution_count": 21,
   "id": "dda75b6a-5e22-4034-8c2e-c178d4ad5612",
   "metadata": {},
   "outputs": [
    {
     "name": "stdout",
     "output_type": "stream",
     "text": [
      "(1, 2, 3, 4, 5) <class 'tuple'>\n"
     ]
    }
   ],
   "source": [
    "a = (1,2,3,4,5)\n",
    "print(a,type(a))"
   ]
  },
  {
   "cell_type": "markdown",
   "id": "5e73d6b0-260f-431d-be81-44a2881b5aa8",
   "metadata": {},
   "source": [
    "# Methods to create tuple"
   ]
  },
  {
   "cell_type": "code",
   "execution_count": 26,
   "id": "52e86f06-0e4d-435b-a02e-22d2519b56d5",
   "metadata": {},
   "outputs": [
    {
     "name": "stdout",
     "output_type": "stream",
     "text": [
      "(10, 20, 30, 40, 50) <class 'tuple'>\n"
     ]
    }
   ],
   "source": [
    "# If u already the elements\n",
    "\n",
    "a = (10,20,30,40,50)\n",
    "\n",
    "print(a,type(a))"
   ]
  },
  {
   "cell_type": "code",
   "execution_count": 28,
   "id": "e7b9352a-b3a4-438f-a0bd-5ceba75cbacb",
   "metadata": {},
   "outputs": [
    {
     "name": "stdin",
     "output_type": "stream",
     "text": [
      "enter a tuple: 1,2,3,4,5\n"
     ]
    },
    {
     "name": "stdout",
     "output_type": "stream",
     "text": [
      "(1, 2, 3, 4, 5) <class 'tuple'>\n"
     ]
    }
   ],
   "source": [
    "# Taking user input\n",
    "\n",
    "a = eval(input(\"enter a tuple:\"))\n",
    "\n",
    "print(a,type(a))"
   ]
  },
  {
   "cell_type": "code",
   "execution_count": 30,
   "id": "d5fc75a1-fe0e-4ddd-b53e-b0c67bd73509",
   "metadata": {},
   "outputs": [
    {
     "name": "stdin",
     "output_type": "stream",
     "text": [
      "enter a tuple: (1,2,3,4,55)\n"
     ]
    },
    {
     "name": "stdout",
     "output_type": "stream",
     "text": [
      "(1, 2, 3, 4, 55) <class 'tuple'>\n"
     ]
    }
   ],
   "source": [
    "# Taking user input\n",
    "\n",
    "a = eval(input(\"enter a tuple:\"))\n",
    "\n",
    "print(a,type(a))"
   ]
  },
  {
   "cell_type": "code",
   "execution_count": 34,
   "id": "12a6f20d-74bf-4ef6-aef1-275cefd2c233",
   "metadata": {},
   "outputs": [
    {
     "name": "stdout",
     "output_type": "stream",
     "text": [
      "('h', 'e', 'l', 'l', 'o', ' ', 'w', 'o', 'r', 'l', 'd') <class 'tuple'>\n"
     ]
    }
   ],
   "source": [
    "# by typecasting\n",
    "\n",
    "a = tuple(\"hello world\")\n",
    "print(a,type(a))"
   ]
  },
  {
   "cell_type": "code",
   "execution_count": 36,
   "id": "f2bb7eb6-3921-44ea-8682-32601c5ad102",
   "metadata": {},
   "outputs": [
    {
     "name": "stdout",
     "output_type": "stream",
     "text": [
      "(21, 34, 56, 78) <class 'tuple'>\n"
     ]
    }
   ],
   "source": [
    "# by typecasting\n",
    "\n",
    "a = tuple([21,34,56,78])\n",
    "print(a,type(a))"
   ]
  },
  {
   "cell_type": "markdown",
   "id": "f752853f-0df3-4224-af48-a6c9951c8812",
   "metadata": {},
   "source": [
    "### Tuple packing and tuple unpacking\n",
    "\n",
    "- tuple packing ---> assigning multiple elements to a single var\n",
    "- tuple unpacking ---> assigning multiple elements to a multiple var"
   ]
  },
  {
   "cell_type": "code",
   "execution_count": 45,
   "id": "92a8eea7-c651-4a03-b9e8-692a65a7b51a",
   "metadata": {},
   "outputs": [
    {
     "name": "stdout",
     "output_type": "stream",
     "text": [
      "(67, 234, 'xyz') <class 'tuple'>\n"
     ]
    }
   ],
   "source": [
    "#Tuple packing\n",
    "\n",
    "a = 67,234,'xyz'\n",
    "print(a,type(a))"
   ]
  },
  {
   "cell_type": "code",
   "execution_count": 49,
   "id": "7254e684-2ee8-4077-8f0e-76725081a856",
   "metadata": {},
   "outputs": [
    {
     "name": "stdout",
     "output_type": "stream",
     "text": [
      "1 <class 'int'>\n",
      "2 <class 'int'>\n",
      "xyz <class 'str'>\n"
     ]
    }
   ],
   "source": [
    "#Tuple Unpacking\n",
    "\n",
    "a,b,c= 1,2,'xyz'\n",
    "\n",
    "print(a,type(a))\n",
    "print(b,type(b))\n",
    "print(c,type(c))"
   ]
  },
  {
   "cell_type": "code",
   "execution_count": 51,
   "id": "7a92f332-5f6c-4be2-946f-96cbb4a192a3",
   "metadata": {},
   "outputs": [
    {
     "name": "stdout",
     "output_type": "stream",
     "text": [
      "1 <class 'int'>\n",
      "2 <class 'int'>\n",
      "['xyz', 'pqr'] <class 'list'>\n"
     ]
    }
   ],
   "source": [
    "#Tuple Unpacking\n",
    "\n",
    "a,b,c= 1,2,['xyz','pqr']\n",
    "\n",
    "print(a,type(a))\n",
    "print(b,type(b))\n",
    "print(c,type(c))"
   ]
  },
  {
   "cell_type": "code",
   "execution_count": 53,
   "id": "c13784a5-2c5e-4d20-919e-c5059b9ad069",
   "metadata": {},
   "outputs": [
    {
     "name": "stdout",
     "output_type": "stream",
     "text": [
      "3\n"
     ]
    }
   ],
   "source": [
    "a = 'this is python class'\n",
    "\n",
    "print(a.find('s'))"
   ]
  },
  {
   "cell_type": "code",
   "execution_count": 77,
   "id": "ff2e2eb2-7ef9-4410-b2f4-3c7aeff3d261",
   "metadata": {},
   "outputs": [
    {
     "data": {
      "text/plain": [
       "[(0, 't'),\n",
       " (1, 'h'),\n",
       " (2, 'i'),\n",
       " (3, 's'),\n",
       " (4, ' '),\n",
       " (5, 'i'),\n",
       " (6, 's'),\n",
       " (7, ' '),\n",
       " (8, 'p'),\n",
       " (9, 'y'),\n",
       " (10, 't'),\n",
       " (11, 'h'),\n",
       " (12, 'o'),\n",
       " (13, 'n'),\n",
       " (14, ' '),\n",
       " (15, 'c'),\n",
       " (16, 'l'),\n",
       " (17, 'a'),\n",
       " (18, 's'),\n",
       " (19, 's')]"
      ]
     },
     "execution_count": 77,
     "metadata": {},
     "output_type": "execute_result"
    }
   ],
   "source": [
    "a = 'this is python class'\n",
    "\n",
    "list(enumerate(a))"
   ]
  },
  {
   "cell_type": "code",
   "execution_count": 81,
   "id": "3cb3a75b-36d5-474a-9bf8-5406c365f32e",
   "metadata": {},
   "outputs": [
    {
     "name": "stdout",
     "output_type": "stream",
     "text": [
      "3\n",
      "6\n",
      "15\n",
      "20\n",
      "21\n"
     ]
    }
   ],
   "source": [
    "a = \"this is python's class\"\n",
    "for i,j in list(enumerate(a)):\n",
    "    if j == 's':\n",
    "        print(i)"
   ]
  },
  {
   "cell_type": "code",
   "execution_count": null,
   "id": "11e666c6-0b68-4ac4-8dc4-721853a6c9d8",
   "metadata": {},
   "outputs": [],
   "source": [
    "# Properties of Tuple:\n",
    "\n",
    "- Sequence data type - allows to do indexing and slicing\n",
    "- allows duplicates\n",
    "- It's heterogeneous\n",
    "- basic op - concatenation,repetation,Identity,membership\n",
    "- It is an immutable data type"
   ]
  },
  {
   "cell_type": "code",
   "execution_count": 118,
   "id": "55ba7f44-ba51-49fd-81aa-aed60de41559",
   "metadata": {},
   "outputs": [
    {
     "name": "stdout",
     "output_type": "stream",
     "text": [
      "ram\n"
     ]
    }
   ],
   "source": [
    "a = (\"ram\",25,9011376691)\n",
    "print(a[0])"
   ]
  },
  {
   "cell_type": "code",
   "execution_count": 122,
   "id": "4b305b19-d6f8-41bb-a922-8fcbe8800591",
   "metadata": {},
   "outputs": [
    {
     "name": "stdout",
     "output_type": "stream",
     "text": [
      "(25, 9011376691)\n"
     ]
    }
   ],
   "source": [
    "a = (\"ram\",25,9011376691)\n",
    "print(a[1:3])"
   ]
  },
  {
   "cell_type": "code",
   "execution_count": 128,
   "id": "3c3b5c05-22a1-4a7a-9dcc-bb27a091fb5c",
   "metadata": {},
   "outputs": [
    {
     "name": "stdout",
     "output_type": "stream",
     "text": [
      "('ram', 25, 9011376691, 'ram', 25, 'siya')\n"
     ]
    }
   ],
   "source": [
    "a = (\"ram\",25,9011376691,\"ram\",25,\"siya\") #allow duplicates as well as heterogenous\n",
    "print(a)"
   ]
  },
  {
   "cell_type": "code",
   "execution_count": 136,
   "id": "c86560c4-f5df-4bc8-b8bf-d2a5e7ccc3c5",
   "metadata": {},
   "outputs": [
    {
     "name": "stdout",
     "output_type": "stream",
     "text": [
      "(1, 2, 3, 4, 5, 6)\n"
     ]
    }
   ],
   "source": [
    "a = (1,2,3)\n",
    "b = (4,5,6)\n",
    "print(a+b) #Concat"
   ]
  },
  {
   "cell_type": "code",
   "execution_count": 138,
   "id": "e042e588-27cf-4b9a-ac59-e34424223380",
   "metadata": {},
   "outputs": [
    {
     "name": "stdout",
     "output_type": "stream",
     "text": [
      "(1, 2, 3, 1, 2, 3)\n"
     ]
    }
   ],
   "source": [
    "a = (1,2,3)\n",
    "print(a*2) #repetation"
   ]
  },
  {
   "cell_type": "code",
   "execution_count": 146,
   "id": "53da7c58-9d4d-4ab1-9744-6b7a77a3ae33",
   "metadata": {},
   "outputs": [
    {
     "name": "stdout",
     "output_type": "stream",
     "text": [
      "False\n",
      "True\n"
     ]
    }
   ],
   "source": [
    "a = (1,2,3)\n",
    "b = (1,2,3)\n",
    "print(a is b)\n",
    "print(a is not b) # identity "
   ]
  },
  {
   "cell_type": "code",
   "execution_count": 162,
   "id": "4593c71f-4f52-4431-8b6e-ea03e2589d3c",
   "metadata": {},
   "outputs": [
    {
     "name": "stdout",
     "output_type": "stream",
     "text": [
      "True\n",
      "False\n"
     ]
    }
   ],
   "source": [
    "a = (1,2,3)\n",
    "b = (1,2,3)\n",
    "print(2 in b)\n",
    "print(3 not in b) #membership"
   ]
  },
  {
   "cell_type": "code",
   "execution_count": null,
   "id": "1887d6fe-3dba-4d3a-ac89-29745f602941",
   "metadata": {},
   "outputs": [],
   "source": [
    "# Note: tuple is by default immutable so user cant to do changes in \n",
    "        data so it have in-built, it will give tuple  as a type"
   ]
  },
  {
   "cell_type": "markdown",
   "id": "73645249-c0c4-43dd-b081-bdd84f7899f5",
   "metadata": {},
   "source": [
    "# Dictionary"
   ]
  },
  {
   "cell_type": "code",
   "execution_count": 171,
   "id": "49971d74-d2fb-4cd1-a27c-e68d53ed0a81",
   "metadata": {},
   "outputs": [
    {
     "name": "stdout",
     "output_type": "stream",
     "text": [
      "{'name': 'Ram', 'age': 26, 'salary': 50000} <class 'dict'>\n"
     ]
    }
   ],
   "source": [
    "a = {'name':\"Ram\",\"age\":26,\"salary\":50000}\n",
    "print(a,type(a))"
   ]
  },
  {
   "cell_type": "code",
   "execution_count": 175,
   "id": "7d168696-871b-463c-88ce-63355bb9c093",
   "metadata": {},
   "outputs": [
    {
     "name": "stdin",
     "output_type": "stream",
     "text": [
      "Enter a dict:  {'a':1,'b':2,'c':3}\n"
     ]
    },
    {
     "name": "stdout",
     "output_type": "stream",
     "text": [
      "{'a': 1, 'b': 2, 'c': 3} <class 'dict'>\n"
     ]
    }
   ],
   "source": [
    "# If you alreday know the elements\n",
    "\n",
    "a = eval(input(\"Enter a dict: \"))\n",
    "print(a,type(a))"
   ]
  },
  {
   "cell_type": "markdown",
   "id": "fb87fb1a-5d6e-4c07-8900-bfb17167ae90",
   "metadata": {},
   "source": [
    "# TypeCasting"
   ]
  },
  {
   "cell_type": "code",
   "execution_count": 188,
   "id": "40dc1000-08a5-4475-aa6b-89cf7e575dcb",
   "metadata": {},
   "outputs": [
    {
     "name": "stdout",
     "output_type": "stream",
     "text": [
      "{'a': 1, 'b': 2}\n"
     ]
    }
   ],
   "source": [
    "a = (['a',1],('b',2))\n",
    "\n",
    "print(dict(a))"
   ]
  },
  {
   "cell_type": "code",
   "execution_count": 192,
   "id": "36282ea2-8313-47da-a69d-cfd42f8e6bb2",
   "metadata": {},
   "outputs": [
    {
     "name": "stdin",
     "output_type": "stream",
     "text": [
      "Enter number: 2\n"
     ]
    },
    {
     "name": "stdout",
     "output_type": "stream",
     "text": [
      "2 <class 'int'>\n"
     ]
    }
   ],
   "source": [
    "a = eval(input(\"Enter number:\"))\n",
    "print(a,type(a))"
   ]
  },
  {
   "cell_type": "code",
   "execution_count": 202,
   "id": "f4864ae2-f0aa-4950-8a50-369472c04380",
   "metadata": {},
   "outputs": [
    {
     "name": "stdin",
     "output_type": "stream",
     "text": [
      "Enter data: {'a':20}\n"
     ]
    },
    {
     "name": "stdout",
     "output_type": "stream",
     "text": [
      "{'a': 20} <class 'dict'>\n"
     ]
    }
   ],
   "source": [
    "a = dict(eval(input(\"Enter data:\")))\n",
    "print(a,type(a))"
   ]
  },
  {
   "cell_type": "code",
   "execution_count": 198,
   "id": "cb4553e5-71d3-495a-ad6e-b0b1aec8fb6a",
   "metadata": {},
   "outputs": [
    {
     "data": {
      "text/plain": [
       "[('xyz', 12), ('pqr', 34), ('abc', 56)]"
      ]
     },
     "execution_count": 198,
     "metadata": {},
     "output_type": "execute_result"
    }
   ],
   "source": [
    "a = ['xyz','pqr','abc']\n",
    "b = [12,34,56]\n",
    "list(zip(a,b))"
   ]
  },
  {
   "cell_type": "code",
   "execution_count": 200,
   "id": "f6363f58-b6c7-4544-9363-cdcf99793e1b",
   "metadata": {},
   "outputs": [
    {
     "data": {
      "text/plain": [
       "{'xyz': 12, 'pqr': 34, 'abc': 56}"
      ]
     },
     "execution_count": 200,
     "metadata": {},
     "output_type": "execute_result"
    }
   ],
   "source": [
    "a = ['xyz','pqr','abc']\n",
    "b = [12,34,56]\n",
    "dict(zip(a,b))"
   ]
  },
  {
   "cell_type": "code",
   "execution_count": 208,
   "id": "1db722d2-75c6-4f14-89fa-9f7175a4e9ab",
   "metadata": {},
   "outputs": [
    {
     "name": "stdin",
     "output_type": "stream",
     "text": [
      "Enter name of employees: shivani,teli,ram\n",
      "Enter age of employees: 12,12,12\n"
     ]
    },
    {
     "data": {
      "text/plain": [
       "{'shivani': 12, 'teli': 12, 'ram': 12}"
      ]
     },
     "execution_count": 208,
     "metadata": {},
     "output_type": "execute_result"
    }
   ],
   "source": [
    "Name = input(\"Enter name of employees:\").split(',')\n",
    "Age = eval(input(\"Enter age of employees:\"))\n",
    "\n",
    "dict(zip(Name,Age))"
   ]
  },
  {
   "cell_type": "code",
   "execution_count": 223,
   "id": "92dcb7f5-70d9-43b7-91c0-fa27571cb7ad",
   "metadata": {},
   "outputs": [
    {
     "name": "stdin",
     "output_type": "stream",
     "text": [
      "Enter name of employees: \"siya\",\"piya\"\n",
      "Enter age of employees: 1,2\n"
     ]
    },
    {
     "data": {
      "text/plain": [
       "{'siya': 1, 'piya': 2}"
      ]
     },
     "execution_count": 223,
     "metadata": {},
     "output_type": "execute_result"
    }
   ],
   "source": [
    "Name = eval(input(\"Enter name of employees:\"))\n",
    "Age = eval(input(\"Enter age of employees:\"))\n",
    "\n",
    "dict(zip(Name,Age))"
   ]
  },
  {
   "cell_type": "code",
   "execution_count": 233,
   "id": "ed9aeefc-313a-4625-a14e-ef7fb2d4de10",
   "metadata": {},
   "outputs": [
    {
     "name": "stdin",
     "output_type": "stream",
     "text": [
      "Enter name of employees: shivani,teli\n",
      "Enter marks of employees: [56,78],[54,78]\n"
     ]
    },
    {
     "data": {
      "text/plain": [
       "{'shivani': [56, 78], 'teli': [54, 78]}"
      ]
     },
     "execution_count": 233,
     "metadata": {},
     "output_type": "execute_result"
    }
   ],
   "source": [
    "Name = input(\"Enter name of employees:\").split(',')\n",
    "Marks = eval(input(\"Enter marks of employees:\"))\n",
    "\n",
    "dict(zip(Name,Marks))"
   ]
  },
  {
   "cell_type": "code",
   "execution_count": 281,
   "id": "d9d83971-842c-49ac-a7da-76480622c843",
   "metadata": {},
   "outputs": [
    {
     "name": "stdin",
     "output_type": "stream",
     "text": [
      "Enter name of employees: siya,piya\n",
      "Enter subjects: m,s,e\n",
      "marks of students: [1,2,3],[4,5,6]\n"
     ]
    },
    {
     "name": "stdout",
     "output_type": "stream",
     "text": [
      "{'siya': {'m': 1, 's': 2, 'e': 3}, 'piya': {'m': 4, 's': 5, 'e': 6}}\n"
     ]
    }
   ],
   "source": [
    "Name = input(\"Enter name of employees:\").split(',')\n",
    "sub = input(\"Enter subjects:\").split(',')\n",
    "marks = eval(input(\"marks of students:\"))\n",
    "elist = []\n",
    "for i in marks:\n",
    "    elist.append(dict(zip(sub,i)))\n",
    "print(dict(zip(Name,elist)))"
   ]
  },
  {
   "cell_type": "code",
   "execution_count": 295,
   "id": "48758ca3-c30d-4f5c-b7ec-48193adecec9",
   "metadata": {},
   "outputs": [
    {
     "name": "stdin",
     "output_type": "stream",
     "text": [
      "Enter employees: e,r,t\n",
      "Enter name of employees: s,d,f\n",
      "Enter age: 3,4,5\n",
      "salary of employees: 6,7,8\n"
     ]
    },
    {
     "data": {
      "text/plain": [
       "{'e': {'s': (6, '3')}, 'r': {'s': (6, '4')}, 't': {'s': (6, '5')}}"
      ]
     },
     "execution_count": 295,
     "metadata": {},
     "output_type": "execute_result"
    }
   ],
   "source": [
    "emp = input(\"Enter employees:\").split(',')\n",
    "name = input(\"Enter name of employees:\").split(',')\n",
    "age = input(\"Enter age:\").split(',')\n",
    "salary = eval(input(\"salary of employees:\"))\n",
    "elist = []\n",
    "for i in age:\n",
    "    elist.append(dict(zip(name,zip(salary,i))))\n",
    "\n",
    "dict(zip(emp,elist))"
   ]
  },
  {
   "cell_type": "code",
   "execution_count": null,
   "id": "b22b4c2b-a609-4ade-8125-930642bc70dd",
   "metadata": {},
   "outputs": [],
   "source": [
    "emp = input(\"Enter employees:\").split(',')\n",
    "name = input(\"Enter name of employees:\").split(',')\n",
    "age = input(\"Enter age:\").split(',')\n",
    "salary = eval(input(\"salary of employees:\"))\n",
    "elist = []\n",
    "for i in age:\n",
    "    elist.append(dict(zip(name,zip(salary,i))))\n",
    "\n",
    "dict(zip(emp_name,elist))"
   ]
  },
  {
   "cell_type": "markdown",
   "id": "5a39129e-b63e-4453-b42b-0afbd17a8369",
   "metadata": {},
   "source": [
    "# Keys, values, items"
   ]
  },
  {
   "cell_type": "code",
   "execution_count": 303,
   "id": "f3c998eb-88b0-4cfe-9868-bf9761221b8a",
   "metadata": {},
   "outputs": [
    {
     "data": {
      "text/plain": [
       "dict_keys(['emp_1', 'emp_2', 'emp_3'])"
      ]
     },
     "execution_count": 303,
     "metadata": {},
     "output_type": "execute_result"
    }
   ],
   "source": [
    "emp_data= {'emp_1': {'name':'Siya','age':21,'salary':908876},\n",
    "            'emp_2': {'name':'Kiya','age':29,'salary':895471},\n",
    "            'emp_3': {'name':'Sam','age':32,'salary':369874}\n",
    "           }\n",
    "emp_data.keys()"
   ]
  },
  {
   "cell_type": "code",
   "execution_count": 305,
   "id": "8502935a-9b5c-4f86-b21e-11881915bac2",
   "metadata": {},
   "outputs": [
    {
     "data": {
      "text/plain": [
       "dict_values([{'name': 'Siya', 'age': 21, 'salary': 908876}, {'name': 'Kiya', 'age': 29, 'salary': 895471}, {'name': 'Sam', 'age': 32, 'salary': 369874}])"
      ]
     },
     "execution_count": 305,
     "metadata": {},
     "output_type": "execute_result"
    }
   ],
   "source": [
    "emp_data= {'emp_1': {'name':'Siya','age':21,'salary':908876},\n",
    "            'emp_2': {'name':'Kiya','age':29,'salary':895471},\n",
    "            'emp_3': {'name':'Sam','age':32,'salary':369874}\n",
    "           }\n",
    "emp_data.values()"
   ]
  },
  {
   "cell_type": "code",
   "execution_count": 307,
   "id": "9aaa843b-2697-47d7-aa06-88154b5233b7",
   "metadata": {},
   "outputs": [
    {
     "data": {
      "text/plain": [
       "dict_items([('emp_1', {'name': 'Siya', 'age': 21, 'salary': 908876}), ('emp_2', {'name': 'Kiya', 'age': 29, 'salary': 895471}), ('emp_3', {'name': 'Sam', 'age': 32, 'salary': 369874})])"
      ]
     },
     "execution_count": 307,
     "metadata": {},
     "output_type": "execute_result"
    }
   ],
   "source": [
    "emp_data= {'emp_1': {'name':'Siya','age':21,'salary':908876},\n",
    "            'emp_2': {'name':'Kiya','age':29,'salary':895471},\n",
    "            'emp_3': {'name':'Sam','age':32,'salary':369874}\n",
    "           }\n",
    "emp_data.items()"
   ]
  },
  {
   "cell_type": "code",
   "execution_count": 311,
   "id": "d64e7860-575d-474f-a76f-72ea2b1d20a8",
   "metadata": {},
   "outputs": [
    {
     "name": "stdout",
     "output_type": "stream",
     "text": [
      "emp_1 {'name': 'Siya', 'age': 21, 'salary': 908876}\n",
      "emp_2 {'name': 'Kiya', 'age': 29, 'salary': 895471}\n",
      "emp_3 {'name': 'Sam', 'age': 32, 'salary': 369874}\n"
     ]
    }
   ],
   "source": [
    "emp_data= {'emp_1': {'name':'Siya','age':21,'salary':908876},\n",
    "            'emp_2': {'name':'Kiya','age':29,'salary':895471},\n",
    "            'emp_3': {'name':'Sam','age':32,'salary':369874}\n",
    "           }\n",
    "for i,j in emp_data.items():\n",
    "    print(i,j)"
   ]
  },
  {
   "cell_type": "code",
   "execution_count": 339,
   "id": "2799166d-7d38-4c16-b515-376d30cb9cba",
   "metadata": {},
   "outputs": [
    {
     "name": "stdin",
     "output_type": "stream",
     "text": [
      "enter name of emp searching for: shivani\n"
     ]
    },
    {
     "name": "stdout",
     "output_type": "stream",
     "text": [
      "emp_4\n"
     ]
    }
   ],
   "source": [
    "emp_data = {'emp_1': {'name': 'Siya', 'age': 21, 'salary': 908876},\n",
    " 'emp_2': {'name': 'Kiya', 'age': 29, 'salary': 895471},\n",
    " 'emp_3': {'name': 'Sam', 'age': 32, 'salary': 369874},\n",
    " 'emp_4': {'name': 'shivani', 'age': '26', 'salary': 600000},\n",
    " 'emp_5': {'name': 'shiv', 'age': 28, 'salary': 775471},\n",
    " 'emp_6': {'name': 'sakhi', 'age': 23, 'salary': 969874},\n",
    " 'emp_7': {'name': 'tina', 'age': 45, 'salary': 340000}}\n",
    "\n",
    "name = input(\"enter name of emp searching for:\")\n",
    "for i,j in emp_data.items():\n",
    "        if name in j.values():\n",
    "            print(i)\n",
    "            break\n",
    "else:\n",
    "    print(\"emp not found\")"
   ]
  },
  {
   "cell_type": "code",
   "execution_count": null,
   "id": "07e1c113-aa58-4870-9b8d-4a60a592b973",
   "metadata": {},
   "outputs": [],
   "source": []
  },
  {
   "cell_type": "code",
   "execution_count": null,
   "id": "ec0161c1-452a-4ef9-8852-873fefcb4cfe",
   "metadata": {},
   "outputs": [],
   "source": []
  },
  {
   "cell_type": "code",
   "execution_count": null,
   "id": "f04b81cb-8824-458d-83dc-b42e29c8ab92",
   "metadata": {},
   "outputs": [],
   "source": []
  },
  {
   "cell_type": "code",
   "execution_count": null,
   "id": "f983622f-bd36-4b12-9b83-614acb03cc36",
   "metadata": {},
   "outputs": [],
   "source": []
  },
  {
   "cell_type": "code",
   "execution_count": null,
   "id": "e510b718-c97b-4ebc-8014-37408eb6f269",
   "metadata": {},
   "outputs": [],
   "source": []
  },
  {
   "cell_type": "code",
   "execution_count": null,
   "id": "2e8db22d-3c04-4ea7-a156-fb6cabf4c568",
   "metadata": {},
   "outputs": [],
   "source": []
  },
  {
   "cell_type": "code",
   "execution_count": null,
   "id": "bd6efa04-5690-4e89-b829-f08b75ec6ce8",
   "metadata": {},
   "outputs": [],
   "source": []
  },
  {
   "cell_type": "code",
   "execution_count": null,
   "id": "e83151ea-1249-4b3f-8a1a-fea575c00804",
   "metadata": {},
   "outputs": [],
   "source": []
  },
  {
   "cell_type": "code",
   "execution_count": null,
   "id": "e8674975-4b28-49cc-88db-55045aa11417",
   "metadata": {},
   "outputs": [],
   "source": []
  },
  {
   "cell_type": "code",
   "execution_count": null,
   "id": "adb08292-e36a-4734-835c-d0a7e5d0ce11",
   "metadata": {},
   "outputs": [],
   "source": []
  },
  {
   "cell_type": "code",
   "execution_count": null,
   "id": "7b5cb22b-18cd-470c-8a98-35d27dd8afa0",
   "metadata": {},
   "outputs": [],
   "source": []
  },
  {
   "cell_type": "code",
   "execution_count": null,
   "id": "2a8a5ec8-d391-4378-8ad4-8940e2da7da2",
   "metadata": {},
   "outputs": [],
   "source": []
  },
  {
   "cell_type": "code",
   "execution_count": null,
   "id": "5b97a139-47b2-406e-b9b4-a99ca492dfcd",
   "metadata": {},
   "outputs": [],
   "source": []
  },
  {
   "cell_type": "code",
   "execution_count": null,
   "id": "edae0e74-12cb-4b31-b4ca-f3be59b85e7e",
   "metadata": {},
   "outputs": [],
   "source": []
  },
  {
   "cell_type": "code",
   "execution_count": null,
   "id": "b72156b4-f142-4b7e-87cf-ffb3a9bd8950",
   "metadata": {},
   "outputs": [],
   "source": []
  },
  {
   "cell_type": "code",
   "execution_count": null,
   "id": "789d9d62-4361-4bed-bfc0-a702b786858c",
   "metadata": {},
   "outputs": [],
   "source": []
  },
  {
   "cell_type": "code",
   "execution_count": null,
   "id": "20324709-a173-4b3e-b8fe-a3cf8a07a4ad",
   "metadata": {},
   "outputs": [],
   "source": []
  },
  {
   "cell_type": "code",
   "execution_count": null,
   "id": "b582123e-55bb-4c92-87fb-368d78f76976",
   "metadata": {},
   "outputs": [],
   "source": []
  },
  {
   "cell_type": "code",
   "execution_count": null,
   "id": "2e803aa7-2acf-4d59-8822-02472123dba3",
   "metadata": {},
   "outputs": [],
   "source": []
  },
  {
   "cell_type": "code",
   "execution_count": null,
   "id": "7fced34c-61bb-4a6a-832d-eac207e3e1ce",
   "metadata": {},
   "outputs": [],
   "source": []
  },
  {
   "cell_type": "code",
   "execution_count": null,
   "id": "e2a58f40-10b7-4eb4-909d-fb0c7f4252c1",
   "metadata": {},
   "outputs": [],
   "source": []
  },
  {
   "cell_type": "code",
   "execution_count": null,
   "id": "30b46540-f470-4aaf-8e8f-1cedb13a6cb0",
   "metadata": {},
   "outputs": [],
   "source": []
  },
  {
   "cell_type": "code",
   "execution_count": null,
   "id": "2893afa0-34de-4a04-b1ff-c853a2d2dea0",
   "metadata": {},
   "outputs": [],
   "source": []
  },
  {
   "cell_type": "code",
   "execution_count": null,
   "id": "f8b17051-6ad6-4752-9cfb-1e14bd6f907d",
   "metadata": {},
   "outputs": [],
   "source": []
  },
  {
   "cell_type": "code",
   "execution_count": null,
   "id": "30051401-6f34-4a81-93d6-edc668086599",
   "metadata": {},
   "outputs": [],
   "source": []
  },
  {
   "cell_type": "code",
   "execution_count": null,
   "id": "ac1fa5fa-a416-4541-a540-4f5c081ff2ee",
   "metadata": {},
   "outputs": [],
   "source": []
  },
  {
   "cell_type": "code",
   "execution_count": null,
   "id": "fc9b023f-18bb-4720-b9a9-bf3dcabab510",
   "metadata": {},
   "outputs": [],
   "source": []
  },
  {
   "cell_type": "code",
   "execution_count": null,
   "id": "54c122a2-2d23-432c-b8cb-afdb7cdb8697",
   "metadata": {},
   "outputs": [],
   "source": []
  },
  {
   "cell_type": "code",
   "execution_count": null,
   "id": "a9160c78-6028-4910-b1a9-215d8f8f807a",
   "metadata": {},
   "outputs": [],
   "source": []
  }
 ],
 "metadata": {
  "kernelspec": {
   "display_name": "Python [conda env:base] *",
   "language": "python",
   "name": "conda-base-py"
  },
  "language_info": {
   "codemirror_mode": {
    "name": "ipython",
    "version": 3
   },
   "file_extension": ".py",
   "mimetype": "text/x-python",
   "name": "python",
   "nbconvert_exporter": "python",
   "pygments_lexer": "ipython3",
   "version": "3.10.14"
  }
 },
 "nbformat": 4,
 "nbformat_minor": 5
}
