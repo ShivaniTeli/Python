{
 "cells": [
  {
   "cell_type": "code",
   "execution_count": 359,
   "id": "967607ac-7e91-4160-921d-2a4186248830",
   "metadata": {},
   "outputs": [
    {
     "data": {
      "text/plain": [
       "'C:\\\\Users\\\\Shivani Teli\\\\Documents\\\\PythonLearnbay'"
      ]
     },
     "execution_count": 359,
     "metadata": {},
     "output_type": "execute_result"
    }
   ],
   "source": [
    "pwd"
   ]
  },
  {
   "cell_type": "markdown",
   "id": "c3c1b7d8-cca1-43c6-ad8c-383d090418ec",
   "metadata": {},
   "source": [
    "# List\n",
    "\n",
    "--> Anything return inside [] and each element seprated by ,"
   ]
  },
  {
   "cell_type": "code",
   "execution_count": 59,
   "id": "8d5092f6-197a-4599-b10e-22858437707c",
   "metadata": {},
   "outputs": [
    {
     "name": "stdout",
     "output_type": "stream",
     "text": [
      "[1, 2, 3, 4, 5] <class 'list'>\n"
     ]
    }
   ],
   "source": [
    "a = [1,2,3,4,5]\n",
    "print(a,type(a))"
   ]
  },
  {
   "cell_type": "markdown",
   "id": "a6115ff7-d55e-4030-82c6-2afe96a56cef",
   "metadata": {},
   "source": [
    "# Creating of a list"
   ]
  },
  {
   "cell_type": "code",
   "execution_count": 63,
   "id": "42fa84ee-a649-44aa-a5b7-66d0acccfba0",
   "metadata": {},
   "outputs": [
    {
     "name": "stdout",
     "output_type": "stream",
     "text": [
      "['banana', 'apple', 'orange']\n"
     ]
    }
   ],
   "source": [
    "# If u already know the element\n",
    "\n",
    "a = [\"banana\",\"apple\",\"orange\"]\n",
    "print(a)"
   ]
  },
  {
   "cell_type": "code",
   "execution_count": 71,
   "id": "775edf1e-6069-468e-9d8b-5497ede93119",
   "metadata": {},
   "outputs": [
    {
     "name": "stdin",
     "output_type": "stream",
     "text": [
      "Enter list: [\"siya\",\"ram\",\"piya\",\"raghav\"]\n"
     ]
    },
    {
     "name": "stdout",
     "output_type": "stream",
     "text": [
      "['siya', 'ram', 'piya', 'raghav'] <class 'list'>\n"
     ]
    }
   ],
   "source": [
    "#Taking user input\n",
    "\n",
    "a = eval(input(\"Enter list:\"))\n",
    "print(a,type(a))"
   ]
  },
  {
   "cell_type": "code",
   "execution_count": 77,
   "id": "23add4aa-7fdb-4de9-bcab-c7781f5f94f6",
   "metadata": {},
   "outputs": [
    {
     "name": "stdout",
     "output_type": "stream",
     "text": [
      "['x', 'y', 'z', ' ', 'a', 'b', 'c'] <class 'list'>\n"
     ]
    }
   ],
   "source": [
    "#Type casting str-->list\n",
    "\n",
    "a = list('xyz abc')\n",
    "print(a,type(a))"
   ]
  },
  {
   "cell_type": "code",
   "execution_count": 79,
   "id": "a48b04eb-23ac-4103-8afd-cdeebf4b141a",
   "metadata": {},
   "outputs": [
    {
     "name": "stdout",
     "output_type": "stream",
     "text": [
      "[21, 23, 54, 76] <class 'list'>\n"
     ]
    }
   ],
   "source": [
    "#Type casting tuple-->list\n",
    "\n",
    "a = list((21,23,54,76))\n",
    "print(a,type(a))"
   ]
  },
  {
   "cell_type": "code",
   "execution_count": 94,
   "id": "6c2e0d00-fc75-4bc2-98c0-8f54e38de173",
   "metadata": {},
   "outputs": [
    {
     "name": "stdout",
     "output_type": "stream",
     "text": [
      "['Hello,', 'Welcome', 'to', 'city'] <class 'list'>\n"
     ]
    }
   ],
   "source": [
    "#Type casting str-->list by spliting the words\n",
    "\n",
    "a = 'Hello, Welcome to city'.split()\n",
    "print(a,type(a))"
   ]
  },
  {
   "cell_type": "code",
   "execution_count": 116,
   "id": "41832f13-5c8e-429d-8d22-4048ec6acf83",
   "metadata": {},
   "outputs": [
    {
     "name": "stdin",
     "output_type": "stream",
     "text": [
      "Enter list elemnets: 234,567,444\n"
     ]
    },
    {
     "name": "stdout",
     "output_type": "stream",
     "text": [
      "['234', '567', '444']\n"
     ]
    }
   ],
   "source": [
    "demo = input(\"Enter list elemnets:\").split(',')\n",
    "print(demo)"
   ]
  },
  {
   "cell_type": "code",
   "execution_count": 130,
   "id": "618603d3-3009-4596-a97b-60ec72f98e08",
   "metadata": {},
   "outputs": [
    {
     "name": "stdin",
     "output_type": "stream",
     "text": [
      "Enter list elemnets: ab,cd,ef\n"
     ]
    },
    {
     "name": "stdout",
     "output_type": "stream",
     "text": [
      "['ab', 'cd', 'ef']\n"
     ]
    }
   ],
   "source": [
    "demo = input(\"Enter list elemnets:\").split(',')\n",
    "print(demo)"
   ]
  },
  {
   "cell_type": "markdown",
   "id": "86c6925d-8cde-4d89-8d20-6e95209dd129",
   "metadata": {},
   "source": [
    "# Properties of list\n",
    "- Sequence data type - allows to do indexing and slicing\n",
    "- allows duplicates\n",
    "- It's heterogeneous\n",
    "- basic op - concatenation,repetation,Identity,membership\n",
    "- It is an mutable data type"
   ]
  },
  {
   "cell_type": "code",
   "execution_count": 143,
   "id": "f619d490-f216-4dcb-aff5-191e65096957",
   "metadata": {},
   "outputs": [
    {
     "name": "stdout",
     "output_type": "stream",
     "text": [
      "45\n"
     ]
    }
   ],
   "source": [
    "a = [1,22,31,45,5]\n",
    "print(a[3])"
   ]
  },
  {
   "cell_type": "code",
   "execution_count": 149,
   "id": "d99f6008-a9ba-433a-914a-74785aaa117a",
   "metadata": {},
   "outputs": [
    {
     "name": "stdout",
     "output_type": "stream",
     "text": [
      "[1, 22, 31]\n"
     ]
    }
   ],
   "source": [
    "a = [1,22,31,45,5]\n",
    "print(a[0:3])"
   ]
  },
  {
   "cell_type": "code",
   "execution_count": 151,
   "id": "4563f9d5-9083-47ca-84dc-615606ad7e4f",
   "metadata": {},
   "outputs": [
    {
     "name": "stdout",
     "output_type": "stream",
     "text": [
      "[45, 31]\n"
     ]
    }
   ],
   "source": [
    "a = [1,22,31,45,5]\n",
    "print(a[3:1:-1])"
   ]
  },
  {
   "cell_type": "code",
   "execution_count": 157,
   "id": "ff3f7eba-8e51-4f93-9c9e-e25a6e46280f",
   "metadata": {},
   "outputs": [
    {
     "name": "stdout",
     "output_type": "stream",
     "text": [
      "[1, 22, 31, 45, 5, 9, 9, 8, 90, 21]\n"
     ]
    }
   ],
   "source": [
    "a = [1,22,31,45,5,9,9,8,90,21]\n",
    "print(a)"
   ]
  },
  {
   "cell_type": "code",
   "execution_count": 159,
   "id": "5cfe458e-f8b3-4d5f-8dd9-6b51090b31ee",
   "metadata": {},
   "outputs": [
    {
     "name": "stdout",
     "output_type": "stream",
     "text": [
      "[1, 22, 31, 45, 5, 9, 9, 8, 'abc', (2+8j), True, 0.7, [1, 2], (3, 4)]\n"
     ]
    }
   ],
   "source": [
    "a = [1,22,31,45,5,9,9,8,'abc',2+8j,True, 0.7,[1,2],(3,4)]\n",
    "print(a)"
   ]
  },
  {
   "cell_type": "code",
   "execution_count": 163,
   "id": "d2cd4b44-5f4b-4e49-87c1-95224c1f7735",
   "metadata": {},
   "outputs": [
    {
     "name": "stdout",
     "output_type": "stream",
     "text": [
      "[1, 2, 3, 4, 2, 3, 4]\n"
     ]
    }
   ],
   "source": [
    "# concate --> both should same data type\n",
    "a = [1,2,3,4]\n",
    "b = [2,3,4]\n",
    "print(a+b)"
   ]
  },
  {
   "cell_type": "code",
   "execution_count": 167,
   "id": "6ebe98e5-b09e-403a-9d90-011c591aea10",
   "metadata": {},
   "outputs": [
    {
     "name": "stdout",
     "output_type": "stream",
     "text": [
      "[1, 2, 3, 4, 1, 2, 3, 4]\n"
     ]
    }
   ],
   "source": [
    "# repetation --> one should be int\n",
    "a = [1,2,3,4]\n",
    "b = 2\n",
    "print(a*b)"
   ]
  },
  {
   "cell_type": "code",
   "execution_count": 171,
   "id": "8defaa48-ab42-4bc8-91b1-e0174cc938d0",
   "metadata": {},
   "outputs": [
    {
     "name": "stdout",
     "output_type": "stream",
     "text": [
      "False\n"
     ]
    }
   ],
   "source": [
    "#membership---> in, not in\n",
    "\n",
    "a = [1,2,3,4]\n",
    "b = 20\n",
    "print(b in a)"
   ]
  },
  {
   "cell_type": "code",
   "execution_count": 179,
   "id": "d916364e-69d0-447b-9744-fcaf3b598a87",
   "metadata": {},
   "outputs": [
    {
     "name": "stdout",
     "output_type": "stream",
     "text": [
      "2183371663488\n",
      "2183371668480\n",
      "True\n"
     ]
    }
   ],
   "source": [
    "# Identity\n",
    "# op --> is , is not\n",
    "\n",
    "a = [1,2,3]\n",
    "b = [1,2,3]\n",
    "\n",
    "print(id(a))\n",
    "print(id(b))\n",
    "print(a is not b)"
   ]
  },
  {
   "cell_type": "markdown",
   "id": "0bf481b0-70fe-43a6-8bc3-7eb426f2bd23",
   "metadata": {},
   "source": [
    "# It's an mutuable"
   ]
  },
  {
   "cell_type": "code",
   "execution_count": 182,
   "id": "d67f8db3-5850-4613-9aa2-42b0a756a018",
   "metadata": {},
   "outputs": [
    {
     "data": {
      "text/plain": [
       "[1, 2, 123, 4, 5]"
      ]
     },
     "execution_count": 182,
     "metadata": {},
     "output_type": "execute_result"
    }
   ],
   "source": [
    "a = [1,2,3,4,5]\n",
    "\n",
    "a[2] = 123\n",
    "\n",
    "a"
   ]
  },
  {
   "cell_type": "markdown",
   "id": "5408a973-857c-45a6-adc6-1be3358ac6b0",
   "metadata": {},
   "source": [
    "# Nested List"
   ]
  },
  {
   "cell_type": "code",
   "execution_count": 185,
   "id": "69380806-5265-4b71-b5da-5becadfd5892",
   "metadata": {},
   "outputs": [
    {
     "name": "stdout",
     "output_type": "stream",
     "text": [
      "[1, 2, 3, [4, 5]]\n"
     ]
    }
   ],
   "source": [
    "a = [1,2,3,[4,5]]\n",
    "print(a)"
   ]
  },
  {
   "cell_type": "code",
   "execution_count": 187,
   "id": "cd0a1b8c-55ac-4839-83d2-c93d58937de3",
   "metadata": {},
   "outputs": [
    {
     "name": "stdout",
     "output_type": "stream",
     "text": [
      "3\n"
     ]
    }
   ],
   "source": [
    "a = [1,2,3]\n",
    "\n",
    "print(len(a))"
   ]
  },
  {
   "cell_type": "code",
   "execution_count": 191,
   "id": "3458c49f-5eba-4c7f-8419-0906024281c1",
   "metadata": {},
   "outputs": [
    {
     "name": "stdout",
     "output_type": "stream",
     "text": [
      "4\n"
     ]
    }
   ],
   "source": [
    "a = [1,2,3,[4,5,6]] #list inside list consider as one object\n",
    "\n",
    "print(len(a))"
   ]
  },
  {
   "cell_type": "code",
   "execution_count": 203,
   "id": "946e05c6-e258-4c4f-9d79-a3dbf16c6d2d",
   "metadata": {},
   "outputs": [
    {
     "data": {
      "text/plain": [
       "['ram', 'color']"
      ]
     },
     "execution_count": 203,
     "metadata": {},
     "output_type": "execute_result"
    }
   ],
   "source": [
    "a = ['name','address','phone',['ram','color']]\n",
    "a[3]"
   ]
  },
  {
   "cell_type": "code",
   "execution_count": 205,
   "id": "de8411d9-3708-4fa5-9d6a-30a61c39e296",
   "metadata": {},
   "outputs": [
    {
     "data": {
      "text/plain": [
       "['ram', 'color']"
      ]
     },
     "execution_count": 205,
     "metadata": {},
     "output_type": "execute_result"
    }
   ],
   "source": [
    "a = ['name','address','phone',['ram','color']]\n",
    "a[-1]"
   ]
  },
  {
   "cell_type": "code",
   "execution_count": 207,
   "id": "5e3174a3-47b0-47a9-b130-0a823408b50c",
   "metadata": {},
   "outputs": [
    {
     "data": {
      "text/plain": [
       "'color'"
      ]
     },
     "execution_count": 207,
     "metadata": {},
     "output_type": "execute_result"
    }
   ],
   "source": [
    "a = ['name','address','phone',['ram','color']]\n",
    "a[3][1]"
   ]
  },
  {
   "cell_type": "code",
   "execution_count": 217,
   "id": "12983ae7-4747-4e41-9b5a-3aef390b88f6",
   "metadata": {},
   "outputs": [
    {
     "data": {
      "text/plain": [
       "['name', 'address', 'phone', ['ram', 'color', 'processor', 'screen_size']]"
      ]
     },
     "execution_count": 217,
     "metadata": {},
     "output_type": "execute_result"
    }
   ],
   "source": [
    "a = ['name','address','phone',['ram','color','processor','screen_size']]\n",
    "a"
   ]
  },
  {
   "cell_type": "code",
   "execution_count": 225,
   "id": "c48f911e-5c11-4a13-aa36-868825ec6caf",
   "metadata": {},
   "outputs": [
    {
     "data": {
      "text/plain": [
       "'color'"
      ]
     },
     "execution_count": 225,
     "metadata": {},
     "output_type": "execute_result"
    }
   ],
   "source": [
    "a = ['name','address','phone',['ram',['color','processor'],'screen_size']]\n",
    "a[3][1][0]"
   ]
  },
  {
   "cell_type": "code",
   "execution_count": 255,
   "id": "f904a995-8ff7-49be-9353-6b5df765d082",
   "metadata": {},
   "outputs": [
    {
     "name": "stdout",
     "output_type": "stream",
     "text": [
      "['processor', 'model']\n"
     ]
    }
   ],
   "source": [
    "a = ['name','address','mobileno',['ram','processor','model','camera'],'screen size']\n",
    "print(a[3][1:3])"
   ]
  },
  {
   "cell_type": "code",
   "execution_count": 273,
   "id": "94c4994e-abaa-4997-96c2-4db0b2dba1ea",
   "metadata": {},
   "outputs": [
    {
     "name": "stdout",
     "output_type": "stream",
     "text": [
      "[19, 20, 21, 22]\n",
      "[22, 21, 20, 19]\n"
     ]
    }
   ],
   "source": [
    "lst_1 = [[ 0,  1,  2,  3,  4,  5],\n",
    "       [ 6,  7,  8,  9, 10, 11],\n",
    "       [12, 13, 14, 15, 16, 17],\n",
    "       [18, 19, 20, 21, 22, 23],\n",
    "       [24, 25, 26, 27, 28, 29],\n",
    "       [30, 31, 32, 33, 34, 35]]\n",
    "#19,20,21,22\n",
    "print(lst_1[3][1:-1])\n",
    "\n",
    "#22,21,20,19\n",
    "print(lst_1[3][4:0:-1])"
   ]
  },
  {
   "cell_type": "code",
   "execution_count": 285,
   "id": "3c542f64-1a54-4918-a588-c8161d0b4c39",
   "metadata": {},
   "outputs": [
    {
     "name": "stdout",
     "output_type": "stream",
     "text": [
      "[19, 20, 21, 22]\n",
      "[22, 21, 20, 19]\n"
     ]
    }
   ],
   "source": [
    "lst_2 = [[[ 0,  1,  2,  3,  4,  5],\n",
    "        [ 6,  7,  8,  9, 10, 11],\n",
    "        [12, 13, 14, 15, 16, 17]],\n",
    "\n",
    "       [[18, 19, 20, 21, 22, 23],\n",
    "        [24, 25, 26, 27, 28, 29],\n",
    "        [30, 31, 32, 33, 34, 35]]]\n",
    "\n",
    "# 19, 20, 21, 22\n",
    "print(lst_2[1][0][1:5])\n",
    "\n",
    "# 22, 21 , 20 , 19\n",
    "print(lst_2[1][0][4:0:-1])"
   ]
  },
  {
   "cell_type": "markdown",
   "id": "9334db69-ee8e-4cab-aec9-366899d3231a",
   "metadata": {},
   "source": [
    "# Methods of list"
   ]
  },
  {
   "cell_type": "code",
   "execution_count": 289,
   "id": "ad2a7d14-7499-4ac6-824f-4d0789d5257a",
   "metadata": {},
   "outputs": [
    {
     "name": "stdout",
     "output_type": "stream",
     "text": [
      "['__add__', '__class__', '__class_getitem__', '__contains__', '__delattr__', '__delitem__', '__dir__', '__doc__', '__eq__', '__format__', '__ge__', '__getattribute__', '__getitem__', '__gt__', '__hash__', '__iadd__', '__imul__', '__init__', '__init_subclass__', '__iter__', '__le__', '__len__', '__lt__', '__mul__', '__ne__', '__new__', '__reduce__', '__reduce_ex__', '__repr__', '__reversed__', '__rmul__', '__setattr__', '__setitem__', '__sizeof__', '__str__', '__subclasshook__', 'append', 'clear', 'copy', 'count', 'extend', 'index', 'insert', 'pop', 'remove', 'reverse', 'sort']\n"
     ]
    }
   ],
   "source": [
    "print(dir(list))"
   ]
  },
  {
   "cell_type": "markdown",
   "id": "0ed54da7-666a-4956-9d16-9f674d0542b5",
   "metadata": {},
   "source": [
    "# Methods to add the elements inside the list\n",
    "do changes in original object\n",
    "-append\n",
    "-extend\n",
    "-insert"
   ]
  },
  {
   "cell_type": "markdown",
   "id": "fe3b1a02-8588-4367-8bda-3884932a0013",
   "metadata": {},
   "source": [
    "# Append\n",
    "\n",
    "-insert the data only at the end\n",
    "-you can insert only 1 element at a time"
   ]
  },
  {
   "cell_type": "code",
   "execution_count": 312,
   "id": "76cc2954-d6e5-4dd4-9241-64c184ff5f69",
   "metadata": {},
   "outputs": [
    {
     "name": "stdout",
     "output_type": "stream",
     "text": [
      "None\n"
     ]
    }
   ],
   "source": [
    "a =['name','address','phone','ram','color']\n",
    "print(a.append('data'))"
   ]
  },
  {
   "cell_type": "code",
   "execution_count": 314,
   "id": "519bfcff-69e3-4f46-82f0-59fa5eb272f2",
   "metadata": {},
   "outputs": [
    {
     "name": "stdout",
     "output_type": "stream",
     "text": [
      "['name', 'address', 'phone', 'ram', 'color', 'data']\n"
     ]
    }
   ],
   "source": [
    "print(a)"
   ]
  },
  {
   "cell_type": "code",
   "execution_count": 328,
   "id": "a0def239-7885-4d0b-b25c-efa7c13b0d89",
   "metadata": {},
   "outputs": [
    {
     "name": "stdout",
     "output_type": "stream",
     "text": [
      "None\n"
     ]
    },
    {
     "data": {
      "text/plain": [
       "['name', 'address', 'phone', 'ram', 'color', ['data', 'price']]"
      ]
     },
     "execution_count": 328,
     "metadata": {},
     "output_type": "execute_result"
    }
   ],
   "source": [
    "a =['name','address','phone','ram','color']\n",
    "print(a.append(['data','price']))\n",
    "a"
   ]
  },
  {
   "cell_type": "code",
   "execution_count": 357,
   "id": "a78dbc46-44e8-4c75-b0e8-24ac9b37ec0a",
   "metadata": {},
   "outputs": [
    {
     "name": "stdout",
     "output_type": "stream",
     "text": [
      "None\n",
      "['name', 'address', 'phone', 'ram', 'color', 'data', 'price']\n"
     ]
    }
   ],
   "source": [
    "# Extend\n",
    "#--> insert the data only at the end\n",
    "#--> you can insert many element at a time\n",
    "a =['name','address','phone','ram','color']\n",
    "print(a.extend(['data','price']))\n",
    "print(a)"
   ]
  },
  {
   "cell_type": "markdown",
   "id": "b2b8a6a5-b235-4bc5-983b-a442ae662f5d",
   "metadata": {},
   "source": [
    "# Insert \n",
    "\n",
    "- You can insert only 1 element at a time\n",
    "- You can insert at a specific index value"
   ]
  },
  {
   "cell_type": "code",
   "execution_count": 335,
   "id": "07d07382-5bfd-4b89-8e92-fe68105f96e1",
   "metadata": {},
   "outputs": [
    {
     "data": {
      "text/plain": [
       "['name', 'address', 'price', 'phone', 'ram', 'color']"
      ]
     },
     "execution_count": 335,
     "metadata": {},
     "output_type": "execute_result"
    }
   ],
   "source": [
    "a =['name','address','phone','ram','color']\n",
    "a.insert(2,'price')\n",
    "a"
   ]
  },
  {
   "cell_type": "markdown",
   "id": "a3d9b56d-3773-4fac-b68e-67d7dfc27c92",
   "metadata": {},
   "source": [
    "a =['name','address','phone','ram','color']\n",
    "a.extend(['data','price']).append('tag')\n",
    "a"
   ]
  },
  {
   "cell_type": "code",
   "execution_count": 341,
   "id": "20548927-aa84-4cbb-aee3-a9a1e35a8c44",
   "metadata": {},
   "outputs": [
    {
     "data": {
      "text/plain": [
       "['name', 'address', 'phone', 'ram', 'color', 'xyz', 'abc', 'data', 'price']"
      ]
     },
     "execution_count": 341,
     "metadata": {},
     "output_type": "execute_result"
    }
   ],
   "source": [
    "a =['name','address','phone','ram','color']\n",
    "b = ['xyz','abc']\n",
    "b.extend(['data','price'])\n",
    "a.extend(b)\n",
    "a"
   ]
  },
  {
   "cell_type": "markdown",
   "id": "86560cd6-95d6-42e0-99ee-e11b9ae99113",
   "metadata": {},
   "source": [
    "# Methods to remove the elements from the list\n",
    "\n",
    "-pop---> remove  according to index\n",
    "-remove--> remove the data according to the object"
   ]
  },
  {
   "cell_type": "code",
   "execution_count": 347,
   "id": "f56f49a0-61d6-4df2-88b6-617248b03218",
   "metadata": {},
   "outputs": [
    {
     "name": "stdout",
     "output_type": "stream",
     "text": [
      "color\n"
     ]
    },
    {
     "data": {
      "text/plain": [
       "['name', 'address', 'phone', 'ram']"
      ]
     },
     "execution_count": 347,
     "metadata": {},
     "output_type": "execute_result"
    }
   ],
   "source": [
    "a =['name','address','phone','ram','color']\n",
    "print(a.pop())\n",
    "a"
   ]
  },
  {
   "cell_type": "code",
   "execution_count": 349,
   "id": "6aabf5eb-c9dd-4a3f-a4a2-4ff7ce9615d5",
   "metadata": {},
   "outputs": [
    {
     "name": "stdout",
     "output_type": "stream",
     "text": [
      "phone\n"
     ]
    },
    {
     "data": {
      "text/plain": [
       "['name', 'address', 'ram', 'color']"
      ]
     },
     "execution_count": 349,
     "metadata": {},
     "output_type": "execute_result"
    }
   ],
   "source": [
    "a =['name','address','phone','ram','color']\n",
    "print(a.pop(2))\n",
    "a"
   ]
  },
  {
   "cell_type": "code",
   "execution_count": 353,
   "id": "5494b588-619e-4a50-b2ba-30b824a01848",
   "metadata": {},
   "outputs": [
    {
     "data": {
      "text/plain": [
       "['name', 'address', 'phone', 'color']"
      ]
     },
     "execution_count": 353,
     "metadata": {},
     "output_type": "execute_result"
    }
   ],
   "source": [
    "a =['name','address','phone','ram','color']\n",
    "a.remove('ram')\n",
    "a"
   ]
  },
  {
   "cell_type": "code",
   "execution_count": 355,
   "id": "4744c3ab-2514-4c64-9ad3-9155b7b78e8a",
   "metadata": {},
   "outputs": [
    {
     "data": {
      "text/plain": [
       "['name', 'address', 'phone', ['price', 'data', 'processor'], 'ram', 'color']"
      ]
     },
     "execution_count": 355,
     "metadata": {},
     "output_type": "execute_result"
    }
   ],
   "source": [
    "a =['name','address','phone',['price','data'],'ram','color']\n",
    "a[3].append(\"processor\")\n",
    "a"
   ]
  },
  {
   "cell_type": "code",
   "execution_count": null,
   "id": "6a231de9-6376-43e2-af14-eb48f3d269fb",
   "metadata": {},
   "outputs": [],
   "source": [
    "BODMOS rule:----->\n",
    "() --->para\n",
    "88 --->exponen\n",
    "*,/,//,%\n",
    "+,-\n",
    "<<,>>\n",
    "&\n",
    "^\n",
    "|\n",
    "==,!=,<,>,<=,>=\n",
    "not\n",
    "and\n",
    "or"
   ]
  },
  {
   "cell_type": "markdown",
   "id": "474834c0-3cae-4729-9c42-f06049d2f2d8",
   "metadata": {},
   "source": [
    "# Methods of list\n"
   ]
  },
  {
   "cell_type": "code",
   "execution_count": 379,
   "id": "5106faef-3841-4692-836b-f1bd72b0e881",
   "metadata": {},
   "outputs": [
    {
     "data": {
      "text/plain": [
       "['name', 'address', 'phone', 'ram', 'color', 'cost']"
      ]
     },
     "execution_count": 379,
     "metadata": {},
     "output_type": "execute_result"
    }
   ],
   "source": [
    "a =['name','address','phone','ram','color']\n",
    "b = 'cost'\n",
    "a.append(b)\n",
    "a"
   ]
  },
  {
   "cell_type": "code",
   "execution_count": 381,
   "id": "b3565907-2d65-4c93-a349-656e28749605",
   "metadata": {},
   "outputs": [
    {
     "data": {
      "text/plain": [
       "['name', 'address', 'phone', 'ram', 'color', 'b', 'c']"
      ]
     },
     "execution_count": 381,
     "metadata": {},
     "output_type": "execute_result"
    }
   ],
   "source": [
    "a =['name','address','phone','ram','color']\n",
    "b = 'cost'\n",
    "a.extend(['b','c'])\n",
    "a"
   ]
  },
  {
   "cell_type": "code",
   "execution_count": 383,
   "id": "f142d73f-6b2c-4ad0-b6dc-d7c1575aae00",
   "metadata": {},
   "outputs": [
    {
     "data": {
      "text/plain": [
       "['name', 'address', 'cost', 'phone', 'ram', 'color']"
      ]
     },
     "execution_count": 383,
     "metadata": {},
     "output_type": "execute_result"
    }
   ],
   "source": [
    "a =['name','address','phone','ram','color']\n",
    "b = 'cost'\n",
    "a.insert(2,b)\n",
    "a"
   ]
  },
  {
   "cell_type": "code",
   "execution_count": 389,
   "id": "fcf49619-8f1d-4439-8c5c-a32dd593a4cb",
   "metadata": {},
   "outputs": [
    {
     "name": "stdout",
     "output_type": "stream",
     "text": [
      "address\n"
     ]
    },
    {
     "data": {
      "text/plain": [
       "['name', 'phone', 'ram', 'color']"
      ]
     },
     "execution_count": 389,
     "metadata": {},
     "output_type": "execute_result"
    }
   ],
   "source": [
    "a =['name','address','phone','ram','color']\n",
    "b = 'cost'\n",
    "print(a.pop(1))\n",
    "a"
   ]
  },
  {
   "cell_type": "code",
   "execution_count": 387,
   "id": "35d07225-3291-4eff-a729-5a075d129ab4",
   "metadata": {},
   "outputs": [
    {
     "data": {
      "text/plain": [
       "['name', 'address', 'phone', 'color']"
      ]
     },
     "execution_count": 387,
     "metadata": {},
     "output_type": "execute_result"
    }
   ],
   "source": [
    "a =['name','address','phone','ram','color']\n",
    "b = 'cost'\n",
    "a.remove('ram')\n",
    "a"
   ]
  },
  {
   "cell_type": "code",
   "execution_count": 391,
   "id": "92153bed-0eee-4933-b305-2903468d8e3d",
   "metadata": {},
   "outputs": [
    {
     "name": "stdout",
     "output_type": "stream",
     "text": [
      "['__add__', '__class__', '__class_getitem__', '__contains__', '__delattr__', '__delitem__', '__dir__', '__doc__', '__eq__', '__format__', '__ge__', '__getattribute__', '__getitem__', '__gt__', '__hash__', '__iadd__', '__imul__', '__init__', '__init_subclass__', '__iter__', '__le__', '__len__', '__lt__', '__mul__', '__ne__', '__new__', '__reduce__', '__reduce_ex__', '__repr__', '__reversed__', '__rmul__', '__setattr__', '__setitem__', '__sizeof__', '__str__', '__subclasshook__', 'append', 'clear', 'copy', 'count', 'extend', 'index', 'insert', 'pop', 'remove', 'reverse', 'sort']\n"
     ]
    }
   ],
   "source": [
    "print(dir(list))"
   ]
  },
  {
   "cell_type": "code",
   "execution_count": 407,
   "id": "980f2c78-cf63-4cfc-87c8-ee6586f391a8",
   "metadata": {},
   "outputs": [
    {
     "name": "stdout",
     "output_type": "stream",
     "text": [
      "1\n"
     ]
    }
   ],
   "source": [
    "a =['name','address','phone','ram','color','ram','sam']\n",
    "print(a.count('phone'))"
   ]
  },
  {
   "cell_type": "code",
   "execution_count": 405,
   "id": "411271e4-5cc3-485e-aaf1-ffd45447b237",
   "metadata": {},
   "outputs": [
    {
     "name": "stdout",
     "output_type": "stream",
     "text": [
      "4\n"
     ]
    }
   ],
   "source": [
    "a =['name','address','phone','ram','color']\n",
    "print(a.index('color'))"
   ]
  },
  {
   "cell_type": "code",
   "execution_count": 409,
   "id": "12578f43-c086-49e9-b0e9-3270857b277d",
   "metadata": {},
   "outputs": [
    {
     "data": {
      "text/plain": [
       "[90, 88, 76, 53, 56, 34, 21]"
      ]
     },
     "execution_count": 409,
     "metadata": {},
     "output_type": "execute_result"
    }
   ],
   "source": [
    "a = [21,34,56,53,76,88,90]\n",
    "a.reverse()\n",
    "a"
   ]
  },
  {
   "cell_type": "code",
   "execution_count": 413,
   "id": "1f4f484a-8181-4db6-887b-73c743197c87",
   "metadata": {},
   "outputs": [
    {
     "data": {
      "text/plain": [
       "[21, 34, 53, 56, 76, 88, 90]"
      ]
     },
     "execution_count": 413,
     "metadata": {},
     "output_type": "execute_result"
    }
   ],
   "source": [
    "a = [21,34,56,53,76,88,90]\n",
    "a.sort() #reverse = False\n",
    "a"
   ]
  },
  {
   "cell_type": "code",
   "execution_count": 421,
   "id": "25febee1-320e-46d1-968b-69279177bae7",
   "metadata": {},
   "outputs": [
    {
     "data": {
      "text/plain": [
       "[90, 88, 76, 56, 53, 34, 21]"
      ]
     },
     "execution_count": 421,
     "metadata": {},
     "output_type": "execute_result"
    }
   ],
   "source": [
    "a = [21,34,56,53,76,88,90]\n",
    "a.sort(reverse=True) #reverse = True\n",
    "a"
   ]
  },
  {
   "cell_type": "code",
   "execution_count": 423,
   "id": "97f6df66-cad2-4e95-8cbd-fb65cc207db9",
   "metadata": {},
   "outputs": [
    {
     "data": {
      "text/plain": [
       "['address', 'color', 'name', 'phone', 'ram']"
      ]
     },
     "execution_count": 423,
     "metadata": {},
     "output_type": "execute_result"
    }
   ],
   "source": [
    "a =['name','address','phone','ram','color']\n",
    "a.sort()\n",
    "a"
   ]
  },
  {
   "cell_type": "code",
   "execution_count": 491,
   "id": "53a80256-e9f4-4c2d-9e8e-9cba7f9ca08d",
   "metadata": {},
   "outputs": [
    {
     "data": {
      "text/plain": [
       "['ram', 'name', 'phone', 'color', 'address']"
      ]
     },
     "execution_count": 491,
     "metadata": {},
     "output_type": "execute_result"
    }
   ],
   "source": [
    "# Sorting according to length of string\n",
    "a =['name','address','phone','ram','color']\n",
    "a.sort(key = len)\n",
    "a"
   ]
  },
  {
   "cell_type": "code",
   "execution_count": 493,
   "id": "984609e8-0e10-49bb-89ad-d5ade7b52574",
   "metadata": {},
   "outputs": [
    {
     "name": "stdout",
     "output_type": "stream",
     "text": [
      "4 name\n",
      "7 address\n",
      "5 phone\n",
      "3 ram\n",
      "5 color\n"
     ]
    }
   ],
   "source": [
    "a =['name','address','phone','ram','color']\n",
    "\n",
    "for i in a:\n",
    "    print(len(i),i)"
   ]
  },
  {
   "cell_type": "code",
   "execution_count": 515,
   "id": "b73f61ff-5396-4340-94f5-ce939aa83305",
   "metadata": {},
   "outputs": [
    {
     "data": {
      "text/plain": [
       "[]"
      ]
     },
     "execution_count": 515,
     "metadata": {},
     "output_type": "execute_result"
    }
   ],
   "source": [
    "#Clear ---> content get deleted\n",
    "a =['name','address','phone','ram','color']\n",
    "a.clear()\n",
    "a"
   ]
  },
  {
   "cell_type": "code",
   "execution_count": 519,
   "id": "f50b1142-c432-4cae-9e8e-ea0877457439",
   "metadata": {},
   "outputs": [
    {
     "ename": "NameError",
     "evalue": "name 'a' is not defined",
     "output_type": "error",
     "traceback": [
      "\u001b[1;31m---------------------------------------------------------------------------\u001b[0m",
      "\u001b[1;31mNameError\u001b[0m                                 Traceback (most recent call last)",
      "Cell \u001b[1;32mIn[519], line 4\u001b[0m\n\u001b[0;32m      2\u001b[0m a \u001b[38;5;241m=\u001b[39m[\u001b[38;5;124m'\u001b[39m\u001b[38;5;124mname\u001b[39m\u001b[38;5;124m'\u001b[39m,\u001b[38;5;124m'\u001b[39m\u001b[38;5;124maddress\u001b[39m\u001b[38;5;124m'\u001b[39m,\u001b[38;5;124m'\u001b[39m\u001b[38;5;124mphone\u001b[39m\u001b[38;5;124m'\u001b[39m,\u001b[38;5;124m'\u001b[39m\u001b[38;5;124mram\u001b[39m\u001b[38;5;124m'\u001b[39m,\u001b[38;5;124m'\u001b[39m\u001b[38;5;124mcolor\u001b[39m\u001b[38;5;124m'\u001b[39m]\n\u001b[0;32m      3\u001b[0m \u001b[38;5;28;01mdel\u001b[39;00m a\n\u001b[1;32m----> 4\u001b[0m \u001b[38;5;28mprint\u001b[39m(\u001b[43ma\u001b[49m)\n",
      "\u001b[1;31mNameError\u001b[0m: name 'a' is not defined"
     ]
    }
   ],
   "source": [
    "#delete ---> del--> object as well as elements get deleted\n",
    "a =['name','address','phone','ram','color']\n",
    "del a\n",
    "print(a) #whole oject and elements are get deleted, its undefined list so its giving error"
   ]
  },
  {
   "cell_type": "code",
   "execution_count": null,
   "id": "16271209-ba14-493e-9d18-6902a23724a6",
   "metadata": {},
   "outputs": [],
   "source": []
  },
  {
   "cell_type": "markdown",
   "id": "be43191f-230e-49ff-bb8c-6219eb4a6258",
   "metadata": {},
   "source": [
    "# Copy"
   ]
  },
  {
   "cell_type": "code",
   "execution_count": null,
   "id": "4432a5a9-ae0b-4a61-9852-7dbc149bb02e",
   "metadata": {},
   "outputs": [],
   "source": [
    "# stack ---> varibale memory\n",
    "# Heap  ---> memory addreess  "
   ]
  },
  {
   "cell_type": "code",
   "execution_count": 528,
   "id": "a1ed886e-0dbf-4264-a744-458b494fb275",
   "metadata": {},
   "outputs": [
    {
     "name": "stdout",
     "output_type": "stream",
     "text": [
      "2183286705904\n",
      "2183279567984\n",
      "False\n"
     ]
    }
   ],
   "source": [
    "a = \"python\"\n",
    "b = \"cython\"\n",
    "\n",
    "print(id(a))\n",
    "print(id(b))\n",
    "\n",
    "print(a is b)"
   ]
  },
  {
   "cell_type": "code",
   "execution_count": 532,
   "id": "575a8511-8d83-48df-a4ef-97f17c2756b0",
   "metadata": {},
   "outputs": [
    {
     "name": "stdout",
     "output_type": "stream",
     "text": [
      "2183242420656\n",
      "2183242420656\n"
     ]
    }
   ],
   "source": [
    "a = \"python\"\n",
    "b = \"cython\"\n",
    "\n",
    "print(id(a[4]))\n",
    "print(id(b[4]))"
   ]
  },
  {
   "cell_type": "code",
   "execution_count": 542,
   "id": "061a4bd0-bafc-49ec-a594-a1cbbc74b474",
   "metadata": {},
   "outputs": [
    {
     "name": "stdout",
     "output_type": "stream",
     "text": [
      "2183241335056\n",
      "2183241335056\n",
      "True\n",
      "True\n"
     ]
    }
   ],
   "source": [
    "a = [1,2,3]\n",
    "b = [1,2,3]\n",
    "\n",
    "print(id(a[1]))\n",
    "print(id(b[1]))\n",
    "\n",
    "print(a[1] is b[1])\n",
    "print(a == b)"
   ]
  },
  {
   "cell_type": "markdown",
   "id": "e2fa3ba3-8c38-48bf-964a-db98a3415680",
   "metadata": {},
   "source": [
    "# Aliasing"
   ]
  },
  {
   "cell_type": "code",
   "execution_count": 536,
   "id": "6ff6c8ed-50c0-4bed-952d-c19decace242",
   "metadata": {},
   "outputs": [
    {
     "name": "stdout",
     "output_type": "stream",
     "text": [
      "2183376084480\n",
      "2183376080960\n"
     ]
    },
    {
     "data": {
      "text/plain": [
       "False"
      ]
     },
     "execution_count": 536,
     "metadata": {},
     "output_type": "execute_result"
    }
   ],
   "source": [
    "a = [1,2,3]\n",
    "b = [1,2,3]\n",
    "\n",
    "print(id(a))\n",
    "print(id(b))\n",
    "\n",
    "a is b"
   ]
  },
  {
   "cell_type": "code",
   "execution_count": 549,
   "id": "5160c0dc-0860-4489-b7b2-9edf05cedf80",
   "metadata": {},
   "outputs": [
    {
     "data": {
      "text/plain": [
       "2183241335088"
      ]
     },
     "execution_count": 549,
     "metadata": {},
     "output_type": "execute_result"
    }
   ],
   "source": [
    "a = [1,2,3]\n",
    "b = [1,3,2]\n",
    "id(a[-1])"
   ]
  },
  {
   "cell_type": "code",
   "execution_count": 551,
   "id": "1731de00-8bed-4f99-b804-f7802240337a",
   "metadata": {},
   "outputs": [
    {
     "data": {
      "text/plain": [
       "2183241335088"
      ]
     },
     "execution_count": 551,
     "metadata": {},
     "output_type": "execute_result"
    }
   ],
   "source": [
    "id(b[1])"
   ]
  },
  {
   "cell_type": "code",
   "execution_count": 561,
   "id": "a0fc3fc0-3a62-4862-b58e-4d39700d169a",
   "metadata": {},
   "outputs": [
    {
     "name": "stdout",
     "output_type": "stream",
     "text": [
      "[22, 3, 43]\n",
      "[22, 3, 43]\n",
      "--------------->\n",
      "2183384822912\n",
      "2183384822912\n"
     ]
    }
   ],
   "source": [
    "a = [22,3,43]\n",
    "b = a\n",
    "print(a)\n",
    "print(b)\n",
    "print('--------------->')\n",
    "print(id(a))\n",
    "print(id(b))"
   ]
  },
  {
   "cell_type": "code",
   "execution_count": 563,
   "id": "441a18f4-c20b-4c9b-b4fb-edb54ad9b4ec",
   "metadata": {},
   "outputs": [
    {
     "name": "stdout",
     "output_type": "stream",
     "text": [
      "[22, 3, 43]\n",
      "[22, 3, 43]\n",
      "--------------->\n",
      "[999, 3, 43]\n",
      "[999, 3, 43]\n",
      "-------------->\n",
      "2183384820416\n",
      "2183384820416\n"
     ]
    }
   ],
   "source": [
    "a = [22,3,43]\n",
    "b = a\n",
    "print(a)\n",
    "print(b)\n",
    "print('--------------->')\n",
    "b[0]=999\n",
    "print(a)\n",
    "print(b)\n",
    "print(\"-------------->\")\n",
    "print(id(a))\n",
    "print(id(b))"
   ]
  },
  {
   "cell_type": "markdown",
   "id": "ca82484c-0c12-4e55-a1b5-09c196a455d5",
   "metadata": {},
   "source": [
    "# Shallow copy"
   ]
  },
  {
   "cell_type": "code",
   "execution_count": 566,
   "id": "3ce5f286-7d07-46d0-83f5-700f26238fd2",
   "metadata": {},
   "outputs": [
    {
     "name": "stdout",
     "output_type": "stream",
     "text": [
      "[22, 3, 43]\n",
      "[22, 3, 43]\n",
      "--------------->\n",
      "[22, 3, 43]\n",
      "[999, 3, 43]\n",
      "-------------->\n",
      "2183384812288\n",
      "2183384824000\n"
     ]
    }
   ],
   "source": [
    "a = [22,3,43]\n",
    "b = a.copy()\n",
    "print(a)\n",
    "print(b)\n",
    "print('--------------->')\n",
    "b[0]=999\n",
    "print(a)\n",
    "print(b)\n",
    "print(\"-------------->\")\n",
    "print(id(a))\n",
    "print(id(b))"
   ]
  },
  {
   "cell_type": "markdown",
   "id": "53f3f1f1-ab5e-437a-8e96-27b8d2805c8d",
   "metadata": {},
   "source": [
    "# Failing point of shallow copy"
   ]
  },
  {
   "cell_type": "code",
   "execution_count": 569,
   "id": "58f2003a-c804-49d4-a231-449b8db9eed5",
   "metadata": {},
   "outputs": [
    {
     "name": "stdout",
     "output_type": "stream",
     "text": [
      "[22, 3, 43, [2, 3]]\n",
      "[22, 3, 43, [2, 3]]\n",
      "--------------->\n",
      "[22, 3, 43, [2, 3]]\n",
      "[999, 3, 43, [2, 3]]\n",
      "-------------->\n",
      "2183376091520\n",
      "2183376085568\n"
     ]
    }
   ],
   "source": [
    "a = [22,3,43,[2,3]]\n",
    "b = a.copy()\n",
    "print(a)\n",
    "print(b)\n",
    "print('--------------->')\n",
    "b[0]=999\n",
    "print(a)\n",
    "print(b)\n",
    "print(\"-------------->\")\n",
    "print(id(a))\n",
    "print(id(b))"
   ]
  },
  {
   "cell_type": "code",
   "execution_count": 573,
   "id": "09cbae57-8d72-4c89-a5d1-0333122fe826",
   "metadata": {},
   "outputs": [
    {
     "name": "stdout",
     "output_type": "stream",
     "text": [
      "[22, 3, 43, [2, 3]]\n",
      "[22, 3, 43, [2, 3]]\n",
      "--------------->\n",
      "[22, 3, 43, [2, 8]]\n",
      "[999, 3, 43, [2, 8]]\n",
      "-------------->\n",
      "2183381523904\n",
      "2183381527808\n"
     ]
    }
   ],
   "source": [
    "a = [22,3,43,[2,3]]\n",
    "b = a.copy()\n",
    "print(a)\n",
    "print(b)\n",
    "print('--------------->')\n",
    "b[0]=999\n",
    "b[3][1]=8\n",
    "print(a)\n",
    "print(b)\n",
    "print(\"-------------->\")\n",
    "print(id(a))\n",
    "print(id(b))"
   ]
  },
  {
   "cell_type": "markdown",
   "id": "6774663a-0ae5-4631-9808-7cda9a53f9ef",
   "metadata": {},
   "source": [
    "# Deep copy"
   ]
  },
  {
   "cell_type": "code",
   "execution_count": 576,
   "id": "899ed5f3-505d-434a-8253-9c717f57b4b5",
   "metadata": {},
   "outputs": [],
   "source": [
    "from copy import deepcopy"
   ]
  },
  {
   "cell_type": "code",
   "execution_count": 582,
   "id": "8ef87a81-f80a-47fa-9ade-d71728cb2de2",
   "metadata": {},
   "outputs": [
    {
     "name": "stdout",
     "output_type": "stream",
     "text": [
      "[22, 3, 43, [2, 3]]\n",
      "[22, 3, 43, [2, 3]]\n",
      "--------------->\n",
      "[22, 3, 43, [2, 3]]\n",
      "[999, 3, 43, [2, 8]]\n",
      "--------------->\n",
      "2183376179840\n",
      "2183376180032\n"
     ]
    }
   ],
   "source": [
    "a = [22,3,43,[2,3]]\n",
    "b = deepcopy(a)\n",
    "print(a)\n",
    "print(b)\n",
    "print('--------------->')\n",
    "b[0]=999\n",
    "b[3][1] = 8\n",
    "print(a)\n",
    "print(b)\n",
    "print(\"--------------->\")\n",
    "print(id(a))\n",
    "print(id(b))"
   ]
  },
  {
   "cell_type": "code",
   "execution_count": 588,
   "id": "665b8ce6-1ae5-4720-b46d-c4465bdff9f6",
   "metadata": {},
   "outputs": [
    {
     "name": "stdout",
     "output_type": "stream",
     "text": [
      "Ahgttam tebo  r lsorDc\n"
     ]
    }
   ],
   "source": [
    "my_str = \"Although that way may not be obvious at first unless you're Dutch\"\n",
    "print(my_str[0::3])"
   ]
  },
  {
   "cell_type": "code",
   "execution_count": 590,
   "id": "fb0bfcf4-a92a-4536-bd1b-19d2e142e559",
   "metadata": {},
   "outputs": [
    {
     "name": "stdout",
     "output_type": "stream",
     "text": [
      "65\n"
     ]
    }
   ],
   "source": [
    "my_str = \"Although that way may not be obvious at first unless you're Dutch\"\n",
    "print(len(my_str))"
   ]
  },
  {
   "cell_type": "code",
   "execution_count": null,
   "id": "98b6d18e-840e-452b-92bd-da011dd63afb",
   "metadata": {},
   "outputs": [],
   "source": []
  },
  {
   "cell_type": "code",
   "execution_count": null,
   "id": "2236d948-8067-41a9-82e3-1b9b3576d1aa",
   "metadata": {},
   "outputs": [],
   "source": []
  },
  {
   "cell_type": "code",
   "execution_count": null,
   "id": "f64eac96-8afd-4424-a448-28c0816f02b7",
   "metadata": {},
   "outputs": [],
   "source": []
  },
  {
   "cell_type": "code",
   "execution_count": null,
   "id": "2e22196f-7cec-4c6a-96fd-003487db604e",
   "metadata": {},
   "outputs": [],
   "source": []
  },
  {
   "cell_type": "code",
   "execution_count": null,
   "id": "ad21014b-e094-494c-9a99-a51c04e65114",
   "metadata": {},
   "outputs": [],
   "source": []
  },
  {
   "cell_type": "code",
   "execution_count": null,
   "id": "4c5ba78e-9468-409d-9366-b2d092e464cf",
   "metadata": {},
   "outputs": [],
   "source": []
  },
  {
   "cell_type": "code",
   "execution_count": null,
   "id": "ac63830d-34a6-4dfc-82e4-cf983bf0b486",
   "metadata": {},
   "outputs": [],
   "source": []
  },
  {
   "cell_type": "code",
   "execution_count": null,
   "id": "9fbba61a-cb16-4954-ac9d-a7b6900848f2",
   "metadata": {},
   "outputs": [],
   "source": []
  },
  {
   "cell_type": "code",
   "execution_count": null,
   "id": "99c75e73-02f6-4705-bebe-9cc634ee6fc9",
   "metadata": {},
   "outputs": [],
   "source": []
  },
  {
   "cell_type": "code",
   "execution_count": null,
   "id": "fdca00b6-738c-4a7b-b869-bb3631ecb3f4",
   "metadata": {},
   "outputs": [],
   "source": []
  },
  {
   "cell_type": "code",
   "execution_count": null,
   "id": "f9860c9a-00bb-4cf5-acdd-2afb5a6ac3df",
   "metadata": {},
   "outputs": [],
   "source": []
  },
  {
   "cell_type": "code",
   "execution_count": null,
   "id": "d22d1f78-80f2-4ffd-8dee-24084d5f092e",
   "metadata": {},
   "outputs": [],
   "source": []
  },
  {
   "cell_type": "code",
   "execution_count": null,
   "id": "f4278cb4-f508-4ae7-9e4b-b8d6373c3399",
   "metadata": {},
   "outputs": [],
   "source": []
  },
  {
   "cell_type": "code",
   "execution_count": null,
   "id": "6ad0d303-e5ba-4eb5-ad7c-2555df8849e7",
   "metadata": {},
   "outputs": [],
   "source": []
  },
  {
   "cell_type": "code",
   "execution_count": null,
   "id": "0724cfd4-8004-4660-8285-5d9b8c7cb07a",
   "metadata": {},
   "outputs": [],
   "source": []
  },
  {
   "cell_type": "code",
   "execution_count": null,
   "id": "ea6e42a6-606e-4ba6-9dff-ce435525df94",
   "metadata": {},
   "outputs": [],
   "source": []
  },
  {
   "cell_type": "code",
   "execution_count": null,
   "id": "b5cd32e8-4a09-46ae-9126-d81c5a30f4f0",
   "metadata": {},
   "outputs": [],
   "source": []
  },
  {
   "cell_type": "code",
   "execution_count": null,
   "id": "49843b9a-6fbc-40b2-ad5e-13585b6aa59a",
   "metadata": {},
   "outputs": [],
   "source": []
  },
  {
   "cell_type": "code",
   "execution_count": null,
   "id": "46e102ba-56f6-42ca-b83b-ca314ab839b6",
   "metadata": {},
   "outputs": [],
   "source": []
  },
  {
   "cell_type": "code",
   "execution_count": null,
   "id": "3864e0e2-7fc4-419d-8b77-b0686a28c39b",
   "metadata": {},
   "outputs": [],
   "source": []
  },
  {
   "cell_type": "code",
   "execution_count": null,
   "id": "f273e994-73de-40f5-a7c9-4f696895db9c",
   "metadata": {},
   "outputs": [],
   "source": []
  },
  {
   "cell_type": "code",
   "execution_count": null,
   "id": "cea111aa-ccef-4010-b766-58522995c4be",
   "metadata": {},
   "outputs": [],
   "source": []
  },
  {
   "cell_type": "code",
   "execution_count": null,
   "id": "8b3e61ad-a9d1-4bad-8f03-9df8e5ed34fa",
   "metadata": {},
   "outputs": [],
   "source": []
  },
  {
   "cell_type": "code",
   "execution_count": null,
   "id": "a412716a-73a0-441f-a0c6-24136debf4db",
   "metadata": {},
   "outputs": [],
   "source": []
  },
  {
   "cell_type": "code",
   "execution_count": null,
   "id": "3039aa59-87fc-43f7-879c-a5147f9a454a",
   "metadata": {},
   "outputs": [],
   "source": []
  },
  {
   "cell_type": "code",
   "execution_count": null,
   "id": "2cd46fc3-020b-4a85-ae86-29498bfd80d3",
   "metadata": {},
   "outputs": [],
   "source": []
  },
  {
   "cell_type": "code",
   "execution_count": null,
   "id": "d696320c-3102-4a63-9066-963f49e73f06",
   "metadata": {},
   "outputs": [],
   "source": []
  },
  {
   "cell_type": "code",
   "execution_count": null,
   "id": "d0fdb0aa-da15-4f83-8725-063fb6225c1c",
   "metadata": {},
   "outputs": [],
   "source": []
  },
  {
   "cell_type": "code",
   "execution_count": null,
   "id": "c94f1af9-6bc5-44dd-a64b-b5c49492ea17",
   "metadata": {},
   "outputs": [],
   "source": []
  },
  {
   "cell_type": "code",
   "execution_count": null,
   "id": "c33ddb41-db43-4157-8207-9082b20fca79",
   "metadata": {},
   "outputs": [],
   "source": []
  }
 ],
 "metadata": {
  "kernelspec": {
   "display_name": "Python [conda env:base] *",
   "language": "python",
   "name": "conda-base-py"
  },
  "language_info": {
   "codemirror_mode": {
    "name": "ipython",
    "version": 3
   },
   "file_extension": ".py",
   "mimetype": "text/x-python",
   "name": "python",
   "nbconvert_exporter": "python",
   "pygments_lexer": "ipython3",
   "version": "3.10.14"
  }
 },
 "nbformat": 4,
 "nbformat_minor": 5
}
