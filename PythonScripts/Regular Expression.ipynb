{
 "cells": [
  {
   "cell_type": "markdown",
   "id": "d5a3584f-c7b1-43de-b6fd-0240b0ff295a",
   "metadata": {},
   "source": [
    "'''\n",
    ".       - Any Character Except New Line\n",
    "\\d      - Digit (0-9)\n",
    "\\D      - Not a Digit (0-9)\n",
    "\\w      - Word Character (a-z, A-Z, 0-9, _)\n",
    "\\W      - Not a Word Character\n",
    "\\s      - Whitespace (space, tab, newline)\n",
    "\\S      - Not Whitespace (space, tab, newline)\n",
    "\n",
    "\\b      - Word Boundary\n",
    "\\B      - Not a Word Boundary\n",
    "^       - Beginning of a String\n",
    "$       - End of a String\n",
    "\n",
    "[]      - Matches Characters in brackets\n",
    "[^ ]    - Matches Characters NOT in brackets\n",
    "|       - Either Or\n",
    "( )     - Group\n",
    "\n",
    "Quantifiers:\n",
    "*       - 0 or More\n",
    "+       - 1 or More\n",
    "?       - 0 or One\n",
    "{3}     - Exact Number\n",
    "{3,4}   - Range of Numbers (Minimum, Maximum)\n",
    "'''"
   ]
  },
  {
   "cell_type": "code",
   "execution_count": 1,
   "id": "daa8e648-2bb1-4a9d-a178-f900fbf9426d",
   "metadata": {},
   "outputs": [],
   "source": [
    "import re"
   ]
  },
  {
   "cell_type": "code",
   "execution_count": 24,
   "id": "2a114439-892e-4007-b628-b6f48e998f0e",
   "metadata": {},
   "outputs": [],
   "source": [
    "text_to_search = '''\n",
    "abcdefghijklmnopqurtuvwxyz\n",
    "ABCDEFGHIJKLMNOPQRSTUVWXYZ\n",
    "321-555-4321\n",
    "1234567890\n",
    "Ha HaHa\n",
    "MetaCharacters (Need to be escaped):\n",
    ". ^ $ * + ? { } [ ]  | ( )\n",
    "Salahuddin@TCS.com\n",
    "321-555-4321\n",
    "123.555.1234\n",
    "123*555*1234\n",
    "123.555.1234\n",
    "800-555-1234\n",
    "900-555-1234\n",
    "Mr. Schafer\n",
    "Mr Smith\n",
    "Ms Davis\n",
    "Mrs. Robinson\n",
    "Mr. T\n",
    "Mr_hello\n",
    "abc\n",
    "'''"
   ]
  },
  {
   "cell_type": "code",
   "execution_count": 26,
   "id": "aa38b961-486b-416c-870a-2d267682f20b",
   "metadata": {},
   "outputs": [
    {
     "data": {
      "text/plain": [
       "'abc'"
      ]
     },
     "execution_count": 26,
     "metadata": {},
     "output_type": "execute_result"
    }
   ],
   "source": [
    "text_to_search[1:4]"
   ]
  },
  {
   "cell_type": "markdown",
   "id": "03ff341b-887e-47fe-a062-1acc7209a125",
   "metadata": {},
   "source": [
    "# Syntax 1"
   ]
  },
  {
   "cell_type": "code",
   "execution_count": 29,
   "id": "6d638d31-3053-4877-b6ec-14bd614c73fe",
   "metadata": {},
   "outputs": [
    {
     "name": "stdout",
     "output_type": "stream",
     "text": [
      "<re.Match object; span=(1, 4), match='abc'>\n",
      "<re.Match object; span=(307, 310), match='abc'>\n"
     ]
    }
   ],
   "source": [
    "# What you are searching for \n",
    "\n",
    "pattern = re.compile('abc')\n",
    "\n",
    "# from which string you are searching for\n",
    "\n",
    "a = pattern.finditer(text_to_search)\n",
    "\n",
    "for i in a:\n",
    "    print(i)"
   ]
  },
  {
   "cell_type": "markdown",
   "id": "69666b4a-fab0-4d45-a76f-e72264a645ec",
   "metadata": {},
   "source": [
    "# Syntax 2"
   ]
  },
  {
   "cell_type": "code",
   "execution_count": 50,
   "id": "4e96dc4d-adfa-4c7e-b85e-e1d69dc302a3",
   "metadata": {},
   "outputs": [
    {
     "data": {
      "text/plain": [
       "[<re.Match object; span=(1, 4), match='abc'>,\n",
       " <re.Match object; span=(307, 310), match='abc'>]"
      ]
     },
     "execution_count": 50,
     "metadata": {},
     "output_type": "execute_result"
    }
   ],
   "source": [
    "list(re.finditer('abc',text_to_search))"
   ]
  },
  {
   "cell_type": "code",
   "execution_count": 52,
   "id": "66e98646-ef00-44ac-84bc-65d89e1db661",
   "metadata": {},
   "outputs": [
    {
     "data": {
      "text/plain": [
       "[<re.Match object; span=(55, 56), match='3'>,\n",
       " <re.Match object; span=(56, 57), match='2'>,\n",
       " <re.Match object; span=(57, 58), match='1'>,\n",
       " <re.Match object; span=(59, 60), match='5'>,\n",
       " <re.Match object; span=(60, 61), match='5'>,\n",
       " <re.Match object; span=(61, 62), match='5'>,\n",
       " <re.Match object; span=(63, 64), match='4'>,\n",
       " <re.Match object; span=(64, 65), match='3'>,\n",
       " <re.Match object; span=(65, 66), match='2'>,\n",
       " <re.Match object; span=(66, 67), match='1'>,\n",
       " <re.Match object; span=(68, 69), match='1'>,\n",
       " <re.Match object; span=(69, 70), match='2'>,\n",
       " <re.Match object; span=(70, 71), match='3'>,\n",
       " <re.Match object; span=(71, 72), match='4'>,\n",
       " <re.Match object; span=(72, 73), match='5'>,\n",
       " <re.Match object; span=(73, 74), match='6'>,\n",
       " <re.Match object; span=(74, 75), match='7'>,\n",
       " <re.Match object; span=(75, 76), match='8'>,\n",
       " <re.Match object; span=(76, 77), match='9'>,\n",
       " <re.Match object; span=(77, 78), match='0'>,\n",
       " <re.Match object; span=(170, 171), match='3'>,\n",
       " <re.Match object; span=(171, 172), match='2'>,\n",
       " <re.Match object; span=(172, 173), match='1'>,\n",
       " <re.Match object; span=(174, 175), match='5'>,\n",
       " <re.Match object; span=(175, 176), match='5'>,\n",
       " <re.Match object; span=(176, 177), match='5'>,\n",
       " <re.Match object; span=(178, 179), match='4'>,\n",
       " <re.Match object; span=(179, 180), match='3'>,\n",
       " <re.Match object; span=(180, 181), match='2'>,\n",
       " <re.Match object; span=(181, 182), match='1'>,\n",
       " <re.Match object; span=(183, 184), match='1'>,\n",
       " <re.Match object; span=(184, 185), match='2'>,\n",
       " <re.Match object; span=(185, 186), match='3'>,\n",
       " <re.Match object; span=(187, 188), match='5'>,\n",
       " <re.Match object; span=(188, 189), match='5'>,\n",
       " <re.Match object; span=(189, 190), match='5'>,\n",
       " <re.Match object; span=(191, 192), match='1'>,\n",
       " <re.Match object; span=(192, 193), match='2'>,\n",
       " <re.Match object; span=(193, 194), match='3'>,\n",
       " <re.Match object; span=(194, 195), match='4'>,\n",
       " <re.Match object; span=(196, 197), match='1'>,\n",
       " <re.Match object; span=(197, 198), match='2'>,\n",
       " <re.Match object; span=(198, 199), match='3'>,\n",
       " <re.Match object; span=(200, 201), match='5'>,\n",
       " <re.Match object; span=(201, 202), match='5'>,\n",
       " <re.Match object; span=(202, 203), match='5'>,\n",
       " <re.Match object; span=(204, 205), match='1'>,\n",
       " <re.Match object; span=(205, 206), match='2'>,\n",
       " <re.Match object; span=(206, 207), match='3'>,\n",
       " <re.Match object; span=(207, 208), match='4'>,\n",
       " <re.Match object; span=(209, 210), match='1'>,\n",
       " <re.Match object; span=(210, 211), match='2'>,\n",
       " <re.Match object; span=(211, 212), match='3'>,\n",
       " <re.Match object; span=(213, 214), match='5'>,\n",
       " <re.Match object; span=(214, 215), match='5'>,\n",
       " <re.Match object; span=(215, 216), match='5'>,\n",
       " <re.Match object; span=(217, 218), match='1'>,\n",
       " <re.Match object; span=(218, 219), match='2'>,\n",
       " <re.Match object; span=(219, 220), match='3'>,\n",
       " <re.Match object; span=(220, 221), match='4'>,\n",
       " <re.Match object; span=(222, 223), match='8'>,\n",
       " <re.Match object; span=(223, 224), match='0'>,\n",
       " <re.Match object; span=(224, 225), match='0'>,\n",
       " <re.Match object; span=(226, 227), match='5'>,\n",
       " <re.Match object; span=(227, 228), match='5'>,\n",
       " <re.Match object; span=(228, 229), match='5'>,\n",
       " <re.Match object; span=(230, 231), match='1'>,\n",
       " <re.Match object; span=(231, 232), match='2'>,\n",
       " <re.Match object; span=(232, 233), match='3'>,\n",
       " <re.Match object; span=(233, 234), match='4'>,\n",
       " <re.Match object; span=(235, 236), match='9'>,\n",
       " <re.Match object; span=(236, 237), match='0'>,\n",
       " <re.Match object; span=(237, 238), match='0'>,\n",
       " <re.Match object; span=(239, 240), match='5'>,\n",
       " <re.Match object; span=(240, 241), match='5'>,\n",
       " <re.Match object; span=(241, 242), match='5'>,\n",
       " <re.Match object; span=(243, 244), match='1'>,\n",
       " <re.Match object; span=(244, 245), match='2'>,\n",
       " <re.Match object; span=(245, 246), match='3'>,\n",
       " <re.Match object; span=(246, 247), match='4'>]"
      ]
     },
     "execution_count": 52,
     "metadata": {},
     "output_type": "execute_result"
    }
   ],
   "source": [
    "list(re.finditer('\\d',text_to_search))"
   ]
  },
  {
   "cell_type": "code",
   "execution_count": 54,
   "id": "8a3d059b-d6fb-4705-a0af-cbdba60b4c08",
   "metadata": {},
   "outputs": [
    {
     "data": {
      "text/plain": [
       "[<re.Match object; span=(0, 1), match='\\n'>,\n",
       " <re.Match object; span=(1, 2), match='a'>,\n",
       " <re.Match object; span=(2, 3), match='b'>,\n",
       " <re.Match object; span=(3, 4), match='c'>,\n",
       " <re.Match object; span=(4, 5), match='d'>,\n",
       " <re.Match object; span=(5, 6), match='e'>,\n",
       " <re.Match object; span=(6, 7), match='f'>,\n",
       " <re.Match object; span=(7, 8), match='g'>,\n",
       " <re.Match object; span=(8, 9), match='h'>,\n",
       " <re.Match object; span=(9, 10), match='i'>,\n",
       " <re.Match object; span=(10, 11), match='j'>,\n",
       " <re.Match object; span=(11, 12), match='k'>,\n",
       " <re.Match object; span=(12, 13), match='l'>,\n",
       " <re.Match object; span=(13, 14), match='m'>,\n",
       " <re.Match object; span=(14, 15), match='n'>,\n",
       " <re.Match object; span=(15, 16), match='o'>,\n",
       " <re.Match object; span=(16, 17), match='p'>,\n",
       " <re.Match object; span=(17, 18), match='q'>,\n",
       " <re.Match object; span=(18, 19), match='u'>,\n",
       " <re.Match object; span=(19, 20), match='r'>,\n",
       " <re.Match object; span=(20, 21), match='t'>,\n",
       " <re.Match object; span=(21, 22), match='u'>,\n",
       " <re.Match object; span=(22, 23), match='v'>,\n",
       " <re.Match object; span=(23, 24), match='w'>,\n",
       " <re.Match object; span=(24, 25), match='x'>,\n",
       " <re.Match object; span=(25, 26), match='y'>,\n",
       " <re.Match object; span=(26, 27), match='z'>,\n",
       " <re.Match object; span=(27, 28), match='\\n'>,\n",
       " <re.Match object; span=(28, 29), match='A'>,\n",
       " <re.Match object; span=(29, 30), match='B'>,\n",
       " <re.Match object; span=(30, 31), match='C'>,\n",
       " <re.Match object; span=(31, 32), match='D'>,\n",
       " <re.Match object; span=(32, 33), match='E'>,\n",
       " <re.Match object; span=(33, 34), match='F'>,\n",
       " <re.Match object; span=(34, 35), match='G'>,\n",
       " <re.Match object; span=(35, 36), match='H'>,\n",
       " <re.Match object; span=(36, 37), match='I'>,\n",
       " <re.Match object; span=(37, 38), match='J'>,\n",
       " <re.Match object; span=(38, 39), match='K'>,\n",
       " <re.Match object; span=(39, 40), match='L'>,\n",
       " <re.Match object; span=(40, 41), match='M'>,\n",
       " <re.Match object; span=(41, 42), match='N'>,\n",
       " <re.Match object; span=(42, 43), match='O'>,\n",
       " <re.Match object; span=(43, 44), match='P'>,\n",
       " <re.Match object; span=(44, 45), match='Q'>,\n",
       " <re.Match object; span=(45, 46), match='R'>,\n",
       " <re.Match object; span=(46, 47), match='S'>,\n",
       " <re.Match object; span=(47, 48), match='T'>,\n",
       " <re.Match object; span=(48, 49), match='U'>,\n",
       " <re.Match object; span=(49, 50), match='V'>,\n",
       " <re.Match object; span=(50, 51), match='W'>,\n",
       " <re.Match object; span=(51, 52), match='X'>,\n",
       " <re.Match object; span=(52, 53), match='Y'>,\n",
       " <re.Match object; span=(53, 54), match='Z'>,\n",
       " <re.Match object; span=(54, 55), match='\\n'>,\n",
       " <re.Match object; span=(58, 59), match='-'>,\n",
       " <re.Match object; span=(62, 63), match='-'>,\n",
       " <re.Match object; span=(67, 68), match='\\n'>,\n",
       " <re.Match object; span=(78, 79), match='\\n'>,\n",
       " <re.Match object; span=(79, 80), match='H'>,\n",
       " <re.Match object; span=(80, 81), match='a'>,\n",
       " <re.Match object; span=(81, 82), match=' '>,\n",
       " <re.Match object; span=(82, 83), match='H'>,\n",
       " <re.Match object; span=(83, 84), match='a'>,\n",
       " <re.Match object; span=(84, 85), match='H'>,\n",
       " <re.Match object; span=(85, 86), match='a'>,\n",
       " <re.Match object; span=(86, 87), match='\\n'>,\n",
       " <re.Match object; span=(87, 88), match='M'>,\n",
       " <re.Match object; span=(88, 89), match='e'>,\n",
       " <re.Match object; span=(89, 90), match='t'>,\n",
       " <re.Match object; span=(90, 91), match='a'>,\n",
       " <re.Match object; span=(91, 92), match='C'>,\n",
       " <re.Match object; span=(92, 93), match='h'>,\n",
       " <re.Match object; span=(93, 94), match='a'>,\n",
       " <re.Match object; span=(94, 95), match='r'>,\n",
       " <re.Match object; span=(95, 96), match='a'>,\n",
       " <re.Match object; span=(96, 97), match='c'>,\n",
       " <re.Match object; span=(97, 98), match='t'>,\n",
       " <re.Match object; span=(98, 99), match='e'>,\n",
       " <re.Match object; span=(99, 100), match='r'>,\n",
       " <re.Match object; span=(100, 101), match='s'>,\n",
       " <re.Match object; span=(101, 102), match=' '>,\n",
       " <re.Match object; span=(102, 103), match='('>,\n",
       " <re.Match object; span=(103, 104), match='N'>,\n",
       " <re.Match object; span=(104, 105), match='e'>,\n",
       " <re.Match object; span=(105, 106), match='e'>,\n",
       " <re.Match object; span=(106, 107), match='d'>,\n",
       " <re.Match object; span=(107, 108), match=' '>,\n",
       " <re.Match object; span=(108, 109), match='t'>,\n",
       " <re.Match object; span=(109, 110), match='o'>,\n",
       " <re.Match object; span=(110, 111), match=' '>,\n",
       " <re.Match object; span=(111, 112), match='b'>,\n",
       " <re.Match object; span=(112, 113), match='e'>,\n",
       " <re.Match object; span=(113, 114), match=' '>,\n",
       " <re.Match object; span=(114, 115), match='e'>,\n",
       " <re.Match object; span=(115, 116), match='s'>,\n",
       " <re.Match object; span=(116, 117), match='c'>,\n",
       " <re.Match object; span=(117, 118), match='a'>,\n",
       " <re.Match object; span=(118, 119), match='p'>,\n",
       " <re.Match object; span=(119, 120), match='e'>,\n",
       " <re.Match object; span=(120, 121), match='d'>,\n",
       " <re.Match object; span=(121, 122), match=')'>,\n",
       " <re.Match object; span=(122, 123), match=':'>,\n",
       " <re.Match object; span=(123, 124), match='\\n'>,\n",
       " <re.Match object; span=(124, 125), match='.'>,\n",
       " <re.Match object; span=(125, 126), match=' '>,\n",
       " <re.Match object; span=(126, 127), match='^'>,\n",
       " <re.Match object; span=(127, 128), match=' '>,\n",
       " <re.Match object; span=(128, 129), match='$'>,\n",
       " <re.Match object; span=(129, 130), match=' '>,\n",
       " <re.Match object; span=(130, 131), match='*'>,\n",
       " <re.Match object; span=(131, 132), match=' '>,\n",
       " <re.Match object; span=(132, 133), match='+'>,\n",
       " <re.Match object; span=(133, 134), match=' '>,\n",
       " <re.Match object; span=(134, 135), match='?'>,\n",
       " <re.Match object; span=(135, 136), match=' '>,\n",
       " <re.Match object; span=(136, 137), match='{'>,\n",
       " <re.Match object; span=(137, 138), match=' '>,\n",
       " <re.Match object; span=(138, 139), match='}'>,\n",
       " <re.Match object; span=(139, 140), match=' '>,\n",
       " <re.Match object; span=(140, 141), match='['>,\n",
       " <re.Match object; span=(141, 142), match=' '>,\n",
       " <re.Match object; span=(142, 143), match=']'>,\n",
       " <re.Match object; span=(143, 144), match=' '>,\n",
       " <re.Match object; span=(144, 145), match=' '>,\n",
       " <re.Match object; span=(145, 146), match='|'>,\n",
       " <re.Match object; span=(146, 147), match=' '>,\n",
       " <re.Match object; span=(147, 148), match='('>,\n",
       " <re.Match object; span=(148, 149), match=' '>,\n",
       " <re.Match object; span=(149, 150), match=')'>,\n",
       " <re.Match object; span=(150, 151), match='\\n'>,\n",
       " <re.Match object; span=(151, 152), match='S'>,\n",
       " <re.Match object; span=(152, 153), match='a'>,\n",
       " <re.Match object; span=(153, 154), match='l'>,\n",
       " <re.Match object; span=(154, 155), match='a'>,\n",
       " <re.Match object; span=(155, 156), match='h'>,\n",
       " <re.Match object; span=(156, 157), match='u'>,\n",
       " <re.Match object; span=(157, 158), match='d'>,\n",
       " <re.Match object; span=(158, 159), match='d'>,\n",
       " <re.Match object; span=(159, 160), match='i'>,\n",
       " <re.Match object; span=(160, 161), match='n'>,\n",
       " <re.Match object; span=(161, 162), match='@'>,\n",
       " <re.Match object; span=(162, 163), match='T'>,\n",
       " <re.Match object; span=(163, 164), match='C'>,\n",
       " <re.Match object; span=(164, 165), match='S'>,\n",
       " <re.Match object; span=(165, 166), match='.'>,\n",
       " <re.Match object; span=(166, 167), match='c'>,\n",
       " <re.Match object; span=(167, 168), match='o'>,\n",
       " <re.Match object; span=(168, 169), match='m'>,\n",
       " <re.Match object; span=(169, 170), match='\\n'>,\n",
       " <re.Match object; span=(173, 174), match='-'>,\n",
       " <re.Match object; span=(177, 178), match='-'>,\n",
       " <re.Match object; span=(182, 183), match='\\n'>,\n",
       " <re.Match object; span=(186, 187), match='.'>,\n",
       " <re.Match object; span=(190, 191), match='.'>,\n",
       " <re.Match object; span=(195, 196), match='\\n'>,\n",
       " <re.Match object; span=(199, 200), match='*'>,\n",
       " <re.Match object; span=(203, 204), match='*'>,\n",
       " <re.Match object; span=(208, 209), match='\\n'>,\n",
       " <re.Match object; span=(212, 213), match='.'>,\n",
       " <re.Match object; span=(216, 217), match='.'>,\n",
       " <re.Match object; span=(221, 222), match='\\n'>,\n",
       " <re.Match object; span=(225, 226), match='-'>,\n",
       " <re.Match object; span=(229, 230), match='-'>,\n",
       " <re.Match object; span=(234, 235), match='\\n'>,\n",
       " <re.Match object; span=(238, 239), match='-'>,\n",
       " <re.Match object; span=(242, 243), match='-'>,\n",
       " <re.Match object; span=(247, 248), match='\\n'>,\n",
       " <re.Match object; span=(248, 249), match='M'>,\n",
       " <re.Match object; span=(249, 250), match='r'>,\n",
       " <re.Match object; span=(250, 251), match='.'>,\n",
       " <re.Match object; span=(251, 252), match=' '>,\n",
       " <re.Match object; span=(252, 253), match='S'>,\n",
       " <re.Match object; span=(253, 254), match='c'>,\n",
       " <re.Match object; span=(254, 255), match='h'>,\n",
       " <re.Match object; span=(255, 256), match='a'>,\n",
       " <re.Match object; span=(256, 257), match='f'>,\n",
       " <re.Match object; span=(257, 258), match='e'>,\n",
       " <re.Match object; span=(258, 259), match='r'>,\n",
       " <re.Match object; span=(259, 260), match='\\n'>,\n",
       " <re.Match object; span=(260, 261), match='M'>,\n",
       " <re.Match object; span=(261, 262), match='r'>,\n",
       " <re.Match object; span=(262, 263), match=' '>,\n",
       " <re.Match object; span=(263, 264), match='S'>,\n",
       " <re.Match object; span=(264, 265), match='m'>,\n",
       " <re.Match object; span=(265, 266), match='i'>,\n",
       " <re.Match object; span=(266, 267), match='t'>,\n",
       " <re.Match object; span=(267, 268), match='h'>,\n",
       " <re.Match object; span=(268, 269), match='\\n'>,\n",
       " <re.Match object; span=(269, 270), match='M'>,\n",
       " <re.Match object; span=(270, 271), match='s'>,\n",
       " <re.Match object; span=(271, 272), match=' '>,\n",
       " <re.Match object; span=(272, 273), match='D'>,\n",
       " <re.Match object; span=(273, 274), match='a'>,\n",
       " <re.Match object; span=(274, 275), match='v'>,\n",
       " <re.Match object; span=(275, 276), match='i'>,\n",
       " <re.Match object; span=(276, 277), match='s'>,\n",
       " <re.Match object; span=(277, 278), match='\\n'>,\n",
       " <re.Match object; span=(278, 279), match='M'>,\n",
       " <re.Match object; span=(279, 280), match='r'>,\n",
       " <re.Match object; span=(280, 281), match='s'>,\n",
       " <re.Match object; span=(281, 282), match='.'>,\n",
       " <re.Match object; span=(282, 283), match=' '>,\n",
       " <re.Match object; span=(283, 284), match='R'>,\n",
       " <re.Match object; span=(284, 285), match='o'>,\n",
       " <re.Match object; span=(285, 286), match='b'>,\n",
       " <re.Match object; span=(286, 287), match='i'>,\n",
       " <re.Match object; span=(287, 288), match='n'>,\n",
       " <re.Match object; span=(288, 289), match='s'>,\n",
       " <re.Match object; span=(289, 290), match='o'>,\n",
       " <re.Match object; span=(290, 291), match='n'>,\n",
       " <re.Match object; span=(291, 292), match='\\n'>,\n",
       " <re.Match object; span=(292, 293), match='M'>,\n",
       " <re.Match object; span=(293, 294), match='r'>,\n",
       " <re.Match object; span=(294, 295), match='.'>,\n",
       " <re.Match object; span=(295, 296), match=' '>,\n",
       " <re.Match object; span=(296, 297), match='T'>,\n",
       " <re.Match object; span=(297, 298), match='\\n'>,\n",
       " <re.Match object; span=(298, 299), match='M'>,\n",
       " <re.Match object; span=(299, 300), match='r'>,\n",
       " <re.Match object; span=(300, 301), match='_'>,\n",
       " <re.Match object; span=(301, 302), match='h'>,\n",
       " <re.Match object; span=(302, 303), match='e'>,\n",
       " <re.Match object; span=(303, 304), match='l'>,\n",
       " <re.Match object; span=(304, 305), match='l'>,\n",
       " <re.Match object; span=(305, 306), match='o'>,\n",
       " <re.Match object; span=(306, 307), match='\\n'>,\n",
       " <re.Match object; span=(307, 308), match='a'>,\n",
       " <re.Match object; span=(308, 309), match='b'>,\n",
       " <re.Match object; span=(309, 310), match='c'>,\n",
       " <re.Match object; span=(310, 311), match='\\n'>]"
      ]
     },
     "execution_count": 54,
     "metadata": {},
     "output_type": "execute_result"
    }
   ],
   "source": [
    "list(re.finditer('\\D',text_to_search))"
   ]
  },
  {
   "cell_type": "code",
   "execution_count": 56,
   "id": "72e5fe3f-684d-4438-9f92-faae7eb91f16",
   "metadata": {},
   "outputs": [
    {
     "data": {
      "text/plain": [
       "[<re.Match object; span=(1, 2), match='a'>,\n",
       " <re.Match object; span=(2, 3), match='b'>,\n",
       " <re.Match object; span=(3, 4), match='c'>,\n",
       " <re.Match object; span=(4, 5), match='d'>,\n",
       " <re.Match object; span=(5, 6), match='e'>,\n",
       " <re.Match object; span=(6, 7), match='f'>,\n",
       " <re.Match object; span=(7, 8), match='g'>,\n",
       " <re.Match object; span=(8, 9), match='h'>,\n",
       " <re.Match object; span=(9, 10), match='i'>,\n",
       " <re.Match object; span=(10, 11), match='j'>,\n",
       " <re.Match object; span=(11, 12), match='k'>,\n",
       " <re.Match object; span=(12, 13), match='l'>,\n",
       " <re.Match object; span=(13, 14), match='m'>,\n",
       " <re.Match object; span=(14, 15), match='n'>,\n",
       " <re.Match object; span=(15, 16), match='o'>,\n",
       " <re.Match object; span=(16, 17), match='p'>,\n",
       " <re.Match object; span=(17, 18), match='q'>,\n",
       " <re.Match object; span=(18, 19), match='u'>,\n",
       " <re.Match object; span=(19, 20), match='r'>,\n",
       " <re.Match object; span=(20, 21), match='t'>,\n",
       " <re.Match object; span=(21, 22), match='u'>,\n",
       " <re.Match object; span=(22, 23), match='v'>,\n",
       " <re.Match object; span=(23, 24), match='w'>,\n",
       " <re.Match object; span=(24, 25), match='x'>,\n",
       " <re.Match object; span=(25, 26), match='y'>,\n",
       " <re.Match object; span=(26, 27), match='z'>,\n",
       " <re.Match object; span=(28, 29), match='A'>,\n",
       " <re.Match object; span=(29, 30), match='B'>,\n",
       " <re.Match object; span=(30, 31), match='C'>,\n",
       " <re.Match object; span=(31, 32), match='D'>,\n",
       " <re.Match object; span=(32, 33), match='E'>,\n",
       " <re.Match object; span=(33, 34), match='F'>,\n",
       " <re.Match object; span=(34, 35), match='G'>,\n",
       " <re.Match object; span=(35, 36), match='H'>,\n",
       " <re.Match object; span=(36, 37), match='I'>,\n",
       " <re.Match object; span=(37, 38), match='J'>,\n",
       " <re.Match object; span=(38, 39), match='K'>,\n",
       " <re.Match object; span=(39, 40), match='L'>,\n",
       " <re.Match object; span=(40, 41), match='M'>,\n",
       " <re.Match object; span=(41, 42), match='N'>,\n",
       " <re.Match object; span=(42, 43), match='O'>,\n",
       " <re.Match object; span=(43, 44), match='P'>,\n",
       " <re.Match object; span=(44, 45), match='Q'>,\n",
       " <re.Match object; span=(45, 46), match='R'>,\n",
       " <re.Match object; span=(46, 47), match='S'>,\n",
       " <re.Match object; span=(47, 48), match='T'>,\n",
       " <re.Match object; span=(48, 49), match='U'>,\n",
       " <re.Match object; span=(49, 50), match='V'>,\n",
       " <re.Match object; span=(50, 51), match='W'>,\n",
       " <re.Match object; span=(51, 52), match='X'>,\n",
       " <re.Match object; span=(52, 53), match='Y'>,\n",
       " <re.Match object; span=(53, 54), match='Z'>,\n",
       " <re.Match object; span=(55, 56), match='3'>,\n",
       " <re.Match object; span=(56, 57), match='2'>,\n",
       " <re.Match object; span=(57, 58), match='1'>,\n",
       " <re.Match object; span=(59, 60), match='5'>,\n",
       " <re.Match object; span=(60, 61), match='5'>,\n",
       " <re.Match object; span=(61, 62), match='5'>,\n",
       " <re.Match object; span=(63, 64), match='4'>,\n",
       " <re.Match object; span=(64, 65), match='3'>,\n",
       " <re.Match object; span=(65, 66), match='2'>,\n",
       " <re.Match object; span=(66, 67), match='1'>,\n",
       " <re.Match object; span=(68, 69), match='1'>,\n",
       " <re.Match object; span=(69, 70), match='2'>,\n",
       " <re.Match object; span=(70, 71), match='3'>,\n",
       " <re.Match object; span=(71, 72), match='4'>,\n",
       " <re.Match object; span=(72, 73), match='5'>,\n",
       " <re.Match object; span=(73, 74), match='6'>,\n",
       " <re.Match object; span=(74, 75), match='7'>,\n",
       " <re.Match object; span=(75, 76), match='8'>,\n",
       " <re.Match object; span=(76, 77), match='9'>,\n",
       " <re.Match object; span=(77, 78), match='0'>,\n",
       " <re.Match object; span=(79, 80), match='H'>,\n",
       " <re.Match object; span=(80, 81), match='a'>,\n",
       " <re.Match object; span=(82, 83), match='H'>,\n",
       " <re.Match object; span=(83, 84), match='a'>,\n",
       " <re.Match object; span=(84, 85), match='H'>,\n",
       " <re.Match object; span=(85, 86), match='a'>,\n",
       " <re.Match object; span=(87, 88), match='M'>,\n",
       " <re.Match object; span=(88, 89), match='e'>,\n",
       " <re.Match object; span=(89, 90), match='t'>,\n",
       " <re.Match object; span=(90, 91), match='a'>,\n",
       " <re.Match object; span=(91, 92), match='C'>,\n",
       " <re.Match object; span=(92, 93), match='h'>,\n",
       " <re.Match object; span=(93, 94), match='a'>,\n",
       " <re.Match object; span=(94, 95), match='r'>,\n",
       " <re.Match object; span=(95, 96), match='a'>,\n",
       " <re.Match object; span=(96, 97), match='c'>,\n",
       " <re.Match object; span=(97, 98), match='t'>,\n",
       " <re.Match object; span=(98, 99), match='e'>,\n",
       " <re.Match object; span=(99, 100), match='r'>,\n",
       " <re.Match object; span=(100, 101), match='s'>,\n",
       " <re.Match object; span=(103, 104), match='N'>,\n",
       " <re.Match object; span=(104, 105), match='e'>,\n",
       " <re.Match object; span=(105, 106), match='e'>,\n",
       " <re.Match object; span=(106, 107), match='d'>,\n",
       " <re.Match object; span=(108, 109), match='t'>,\n",
       " <re.Match object; span=(109, 110), match='o'>,\n",
       " <re.Match object; span=(111, 112), match='b'>,\n",
       " <re.Match object; span=(112, 113), match='e'>,\n",
       " <re.Match object; span=(114, 115), match='e'>,\n",
       " <re.Match object; span=(115, 116), match='s'>,\n",
       " <re.Match object; span=(116, 117), match='c'>,\n",
       " <re.Match object; span=(117, 118), match='a'>,\n",
       " <re.Match object; span=(118, 119), match='p'>,\n",
       " <re.Match object; span=(119, 120), match='e'>,\n",
       " <re.Match object; span=(120, 121), match='d'>,\n",
       " <re.Match object; span=(151, 152), match='S'>,\n",
       " <re.Match object; span=(152, 153), match='a'>,\n",
       " <re.Match object; span=(153, 154), match='l'>,\n",
       " <re.Match object; span=(154, 155), match='a'>,\n",
       " <re.Match object; span=(155, 156), match='h'>,\n",
       " <re.Match object; span=(156, 157), match='u'>,\n",
       " <re.Match object; span=(157, 158), match='d'>,\n",
       " <re.Match object; span=(158, 159), match='d'>,\n",
       " <re.Match object; span=(159, 160), match='i'>,\n",
       " <re.Match object; span=(160, 161), match='n'>,\n",
       " <re.Match object; span=(162, 163), match='T'>,\n",
       " <re.Match object; span=(163, 164), match='C'>,\n",
       " <re.Match object; span=(164, 165), match='S'>,\n",
       " <re.Match object; span=(166, 167), match='c'>,\n",
       " <re.Match object; span=(167, 168), match='o'>,\n",
       " <re.Match object; span=(168, 169), match='m'>,\n",
       " <re.Match object; span=(170, 171), match='3'>,\n",
       " <re.Match object; span=(171, 172), match='2'>,\n",
       " <re.Match object; span=(172, 173), match='1'>,\n",
       " <re.Match object; span=(174, 175), match='5'>,\n",
       " <re.Match object; span=(175, 176), match='5'>,\n",
       " <re.Match object; span=(176, 177), match='5'>,\n",
       " <re.Match object; span=(178, 179), match='4'>,\n",
       " <re.Match object; span=(179, 180), match='3'>,\n",
       " <re.Match object; span=(180, 181), match='2'>,\n",
       " <re.Match object; span=(181, 182), match='1'>,\n",
       " <re.Match object; span=(183, 184), match='1'>,\n",
       " <re.Match object; span=(184, 185), match='2'>,\n",
       " <re.Match object; span=(185, 186), match='3'>,\n",
       " <re.Match object; span=(187, 188), match='5'>,\n",
       " <re.Match object; span=(188, 189), match='5'>,\n",
       " <re.Match object; span=(189, 190), match='5'>,\n",
       " <re.Match object; span=(191, 192), match='1'>,\n",
       " <re.Match object; span=(192, 193), match='2'>,\n",
       " <re.Match object; span=(193, 194), match='3'>,\n",
       " <re.Match object; span=(194, 195), match='4'>,\n",
       " <re.Match object; span=(196, 197), match='1'>,\n",
       " <re.Match object; span=(197, 198), match='2'>,\n",
       " <re.Match object; span=(198, 199), match='3'>,\n",
       " <re.Match object; span=(200, 201), match='5'>,\n",
       " <re.Match object; span=(201, 202), match='5'>,\n",
       " <re.Match object; span=(202, 203), match='5'>,\n",
       " <re.Match object; span=(204, 205), match='1'>,\n",
       " <re.Match object; span=(205, 206), match='2'>,\n",
       " <re.Match object; span=(206, 207), match='3'>,\n",
       " <re.Match object; span=(207, 208), match='4'>,\n",
       " <re.Match object; span=(209, 210), match='1'>,\n",
       " <re.Match object; span=(210, 211), match='2'>,\n",
       " <re.Match object; span=(211, 212), match='3'>,\n",
       " <re.Match object; span=(213, 214), match='5'>,\n",
       " <re.Match object; span=(214, 215), match='5'>,\n",
       " <re.Match object; span=(215, 216), match='5'>,\n",
       " <re.Match object; span=(217, 218), match='1'>,\n",
       " <re.Match object; span=(218, 219), match='2'>,\n",
       " <re.Match object; span=(219, 220), match='3'>,\n",
       " <re.Match object; span=(220, 221), match='4'>,\n",
       " <re.Match object; span=(222, 223), match='8'>,\n",
       " <re.Match object; span=(223, 224), match='0'>,\n",
       " <re.Match object; span=(224, 225), match='0'>,\n",
       " <re.Match object; span=(226, 227), match='5'>,\n",
       " <re.Match object; span=(227, 228), match='5'>,\n",
       " <re.Match object; span=(228, 229), match='5'>,\n",
       " <re.Match object; span=(230, 231), match='1'>,\n",
       " <re.Match object; span=(231, 232), match='2'>,\n",
       " <re.Match object; span=(232, 233), match='3'>,\n",
       " <re.Match object; span=(233, 234), match='4'>,\n",
       " <re.Match object; span=(235, 236), match='9'>,\n",
       " <re.Match object; span=(236, 237), match='0'>,\n",
       " <re.Match object; span=(237, 238), match='0'>,\n",
       " <re.Match object; span=(239, 240), match='5'>,\n",
       " <re.Match object; span=(240, 241), match='5'>,\n",
       " <re.Match object; span=(241, 242), match='5'>,\n",
       " <re.Match object; span=(243, 244), match='1'>,\n",
       " <re.Match object; span=(244, 245), match='2'>,\n",
       " <re.Match object; span=(245, 246), match='3'>,\n",
       " <re.Match object; span=(246, 247), match='4'>,\n",
       " <re.Match object; span=(248, 249), match='M'>,\n",
       " <re.Match object; span=(249, 250), match='r'>,\n",
       " <re.Match object; span=(252, 253), match='S'>,\n",
       " <re.Match object; span=(253, 254), match='c'>,\n",
       " <re.Match object; span=(254, 255), match='h'>,\n",
       " <re.Match object; span=(255, 256), match='a'>,\n",
       " <re.Match object; span=(256, 257), match='f'>,\n",
       " <re.Match object; span=(257, 258), match='e'>,\n",
       " <re.Match object; span=(258, 259), match='r'>,\n",
       " <re.Match object; span=(260, 261), match='M'>,\n",
       " <re.Match object; span=(261, 262), match='r'>,\n",
       " <re.Match object; span=(263, 264), match='S'>,\n",
       " <re.Match object; span=(264, 265), match='m'>,\n",
       " <re.Match object; span=(265, 266), match='i'>,\n",
       " <re.Match object; span=(266, 267), match='t'>,\n",
       " <re.Match object; span=(267, 268), match='h'>,\n",
       " <re.Match object; span=(269, 270), match='M'>,\n",
       " <re.Match object; span=(270, 271), match='s'>,\n",
       " <re.Match object; span=(272, 273), match='D'>,\n",
       " <re.Match object; span=(273, 274), match='a'>,\n",
       " <re.Match object; span=(274, 275), match='v'>,\n",
       " <re.Match object; span=(275, 276), match='i'>,\n",
       " <re.Match object; span=(276, 277), match='s'>,\n",
       " <re.Match object; span=(278, 279), match='M'>,\n",
       " <re.Match object; span=(279, 280), match='r'>,\n",
       " <re.Match object; span=(280, 281), match='s'>,\n",
       " <re.Match object; span=(283, 284), match='R'>,\n",
       " <re.Match object; span=(284, 285), match='o'>,\n",
       " <re.Match object; span=(285, 286), match='b'>,\n",
       " <re.Match object; span=(286, 287), match='i'>,\n",
       " <re.Match object; span=(287, 288), match='n'>,\n",
       " <re.Match object; span=(288, 289), match='s'>,\n",
       " <re.Match object; span=(289, 290), match='o'>,\n",
       " <re.Match object; span=(290, 291), match='n'>,\n",
       " <re.Match object; span=(292, 293), match='M'>,\n",
       " <re.Match object; span=(293, 294), match='r'>,\n",
       " <re.Match object; span=(296, 297), match='T'>,\n",
       " <re.Match object; span=(298, 299), match='M'>,\n",
       " <re.Match object; span=(299, 300), match='r'>,\n",
       " <re.Match object; span=(300, 301), match='_'>,\n",
       " <re.Match object; span=(301, 302), match='h'>,\n",
       " <re.Match object; span=(302, 303), match='e'>,\n",
       " <re.Match object; span=(303, 304), match='l'>,\n",
       " <re.Match object; span=(304, 305), match='l'>,\n",
       " <re.Match object; span=(305, 306), match='o'>,\n",
       " <re.Match object; span=(307, 308), match='a'>,\n",
       " <re.Match object; span=(308, 309), match='b'>,\n",
       " <re.Match object; span=(309, 310), match='c'>]"
      ]
     },
     "execution_count": 56,
     "metadata": {},
     "output_type": "execute_result"
    }
   ],
   "source": [
    "list(re.finditer('\\w',text_to_search))"
   ]
  },
  {
   "cell_type": "code",
   "execution_count": 58,
   "id": "85a1462b-15a1-4549-8a58-c983a7e5afff",
   "metadata": {},
   "outputs": [
    {
     "data": {
      "text/plain": [
       "[<re.Match object; span=(0, 1), match='\\n'>,\n",
       " <re.Match object; span=(27, 28), match='\\n'>,\n",
       " <re.Match object; span=(54, 55), match='\\n'>,\n",
       " <re.Match object; span=(58, 59), match='-'>,\n",
       " <re.Match object; span=(62, 63), match='-'>,\n",
       " <re.Match object; span=(67, 68), match='\\n'>,\n",
       " <re.Match object; span=(78, 79), match='\\n'>,\n",
       " <re.Match object; span=(81, 82), match=' '>,\n",
       " <re.Match object; span=(86, 87), match='\\n'>,\n",
       " <re.Match object; span=(101, 102), match=' '>,\n",
       " <re.Match object; span=(102, 103), match='('>,\n",
       " <re.Match object; span=(107, 108), match=' '>,\n",
       " <re.Match object; span=(110, 111), match=' '>,\n",
       " <re.Match object; span=(113, 114), match=' '>,\n",
       " <re.Match object; span=(121, 122), match=')'>,\n",
       " <re.Match object; span=(122, 123), match=':'>,\n",
       " <re.Match object; span=(123, 124), match='\\n'>,\n",
       " <re.Match object; span=(124, 125), match='.'>,\n",
       " <re.Match object; span=(125, 126), match=' '>,\n",
       " <re.Match object; span=(126, 127), match='^'>,\n",
       " <re.Match object; span=(127, 128), match=' '>,\n",
       " <re.Match object; span=(128, 129), match='$'>,\n",
       " <re.Match object; span=(129, 130), match=' '>,\n",
       " <re.Match object; span=(130, 131), match='*'>,\n",
       " <re.Match object; span=(131, 132), match=' '>,\n",
       " <re.Match object; span=(132, 133), match='+'>,\n",
       " <re.Match object; span=(133, 134), match=' '>,\n",
       " <re.Match object; span=(134, 135), match='?'>,\n",
       " <re.Match object; span=(135, 136), match=' '>,\n",
       " <re.Match object; span=(136, 137), match='{'>,\n",
       " <re.Match object; span=(137, 138), match=' '>,\n",
       " <re.Match object; span=(138, 139), match='}'>,\n",
       " <re.Match object; span=(139, 140), match=' '>,\n",
       " <re.Match object; span=(140, 141), match='['>,\n",
       " <re.Match object; span=(141, 142), match=' '>,\n",
       " <re.Match object; span=(142, 143), match=']'>,\n",
       " <re.Match object; span=(143, 144), match=' '>,\n",
       " <re.Match object; span=(144, 145), match=' '>,\n",
       " <re.Match object; span=(145, 146), match='|'>,\n",
       " <re.Match object; span=(146, 147), match=' '>,\n",
       " <re.Match object; span=(147, 148), match='('>,\n",
       " <re.Match object; span=(148, 149), match=' '>,\n",
       " <re.Match object; span=(149, 150), match=')'>,\n",
       " <re.Match object; span=(150, 151), match='\\n'>,\n",
       " <re.Match object; span=(161, 162), match='@'>,\n",
       " <re.Match object; span=(165, 166), match='.'>,\n",
       " <re.Match object; span=(169, 170), match='\\n'>,\n",
       " <re.Match object; span=(173, 174), match='-'>,\n",
       " <re.Match object; span=(177, 178), match='-'>,\n",
       " <re.Match object; span=(182, 183), match='\\n'>,\n",
       " <re.Match object; span=(186, 187), match='.'>,\n",
       " <re.Match object; span=(190, 191), match='.'>,\n",
       " <re.Match object; span=(195, 196), match='\\n'>,\n",
       " <re.Match object; span=(199, 200), match='*'>,\n",
       " <re.Match object; span=(203, 204), match='*'>,\n",
       " <re.Match object; span=(208, 209), match='\\n'>,\n",
       " <re.Match object; span=(212, 213), match='.'>,\n",
       " <re.Match object; span=(216, 217), match='.'>,\n",
       " <re.Match object; span=(221, 222), match='\\n'>,\n",
       " <re.Match object; span=(225, 226), match='-'>,\n",
       " <re.Match object; span=(229, 230), match='-'>,\n",
       " <re.Match object; span=(234, 235), match='\\n'>,\n",
       " <re.Match object; span=(238, 239), match='-'>,\n",
       " <re.Match object; span=(242, 243), match='-'>,\n",
       " <re.Match object; span=(247, 248), match='\\n'>,\n",
       " <re.Match object; span=(250, 251), match='.'>,\n",
       " <re.Match object; span=(251, 252), match=' '>,\n",
       " <re.Match object; span=(259, 260), match='\\n'>,\n",
       " <re.Match object; span=(262, 263), match=' '>,\n",
       " <re.Match object; span=(268, 269), match='\\n'>,\n",
       " <re.Match object; span=(271, 272), match=' '>,\n",
       " <re.Match object; span=(277, 278), match='\\n'>,\n",
       " <re.Match object; span=(281, 282), match='.'>,\n",
       " <re.Match object; span=(282, 283), match=' '>,\n",
       " <re.Match object; span=(291, 292), match='\\n'>,\n",
       " <re.Match object; span=(294, 295), match='.'>,\n",
       " <re.Match object; span=(295, 296), match=' '>,\n",
       " <re.Match object; span=(297, 298), match='\\n'>,\n",
       " <re.Match object; span=(306, 307), match='\\n'>,\n",
       " <re.Match object; span=(310, 311), match='\\n'>]"
      ]
     },
     "execution_count": 58,
     "metadata": {},
     "output_type": "execute_result"
    }
   ],
   "source": [
    "list(re.finditer('\\W',text_to_search))"
   ]
  },
  {
   "cell_type": "code",
   "execution_count": 66,
   "id": "49ea64ab-d9de-4317-9fdf-5a740332239d",
   "metadata": {},
   "outputs": [
    {
     "data": {
      "text/plain": [
       "[<re.Match object; span=(55, 67), match='321-555-4321'>,\n",
       " <re.Match object; span=(170, 182), match='321-555-4321'>,\n",
       " <re.Match object; span=(183, 195), match='123.555.1234'>,\n",
       " <re.Match object; span=(196, 208), match='123*555*1234'>,\n",
       " <re.Match object; span=(209, 221), match='123.555.1234'>,\n",
       " <re.Match object; span=(222, 234), match='800-555-1234'>,\n",
       " <re.Match object; span=(235, 247), match='900-555-1234'>]"
      ]
     },
     "execution_count": 66,
     "metadata": {},
     "output_type": "execute_result"
    }
   ],
   "source": [
    "list(re.finditer('\\d\\d\\d.\\d\\d\\d.\\d\\d\\d\\d',text_to_search))"
   ]
  },
  {
   "cell_type": "code",
   "execution_count": 76,
   "id": "4359d8e4-0759-491d-9ffa-577a631ce5aa",
   "metadata": {},
   "outputs": [
    {
     "data": {
      "text/plain": [
       "[<re.Match object; span=(0, 3), match='cat'>,\n",
       " <re.Match object; span=(4, 7), match='cat'>,\n",
       " <re.Match object; span=(13, 16), match='cat'>,\n",
       " <re.Match object; span=(26, 29), match='cat'>,\n",
       " <re.Match object; span=(33, 36), match='cat'>,\n",
       " <re.Match object; span=(39, 42), match='cat'>,\n",
       " <re.Match object; span=(52, 55), match='cat'>]"
      ]
     },
     "execution_count": 76,
     "metadata": {},
     "output_type": "execute_result"
    }
   ],
   "source": [
    "str1 = 'cat catholic category copycat bobcat uncatchable concatination'\n",
    "\n",
    "list(re.finditer('cat',str1))"
   ]
  },
  {
   "cell_type": "code",
   "execution_count": 74,
   "id": "c419ba69-6e76-4eea-979b-c43dc5a79b0d",
   "metadata": {},
   "outputs": [
    {
     "data": {
      "text/plain": [
       "[<re.Match object; span=(0, 3), match='cat'>,\n",
       " <re.Match object; span=(4, 7), match='cat'>,\n",
       " <re.Match object; span=(13, 16), match='cat'>]"
      ]
     },
     "execution_count": 74,
     "metadata": {},
     "output_type": "execute_result"
    }
   ],
   "source": [
    "str1 = 'cat catholic category copycat bobcat uncatchable concatination'\n",
    "\n",
    "list(re.finditer(r'\\bcat',str1))"
   ]
  },
  {
   "cell_type": "code",
   "execution_count": 78,
   "id": "2fb91f39-289f-4031-959b-42d10fa93e38",
   "metadata": {},
   "outputs": [
    {
     "data": {
      "text/plain": [
       "[<re.Match object; span=(0, 3), match='cat'>,\n",
       " <re.Match object; span=(26, 29), match='cat'>,\n",
       " <re.Match object; span=(33, 36), match='cat'>]"
      ]
     },
     "execution_count": 78,
     "metadata": {},
     "output_type": "execute_result"
    }
   ],
   "source": [
    "str1 = 'cat catholic category copycat bobcat uncatchable concatination'\n",
    "\n",
    "list(re.finditer(r'cat\\b',str1))"
   ]
  },
  {
   "cell_type": "code",
   "execution_count": 80,
   "id": "b8987799-7ee5-43c0-b465-c808daf8dfb5",
   "metadata": {},
   "outputs": [
    {
     "data": {
      "text/plain": [
       "[<re.Match object; span=(0, 3), match='cat'>]"
      ]
     },
     "execution_count": 80,
     "metadata": {},
     "output_type": "execute_result"
    }
   ],
   "source": [
    "str1 = 'cat catholic category copycat bobcat uncatchable concatination'\n",
    "\n",
    "list(re.finditer(r'\\bcat\\b',str1))"
   ]
  },
  {
   "cell_type": "code",
   "execution_count": 82,
   "id": "8af1316c-ad14-4af7-963f-e44807ed7c76",
   "metadata": {},
   "outputs": [
    {
     "data": {
      "text/plain": [
       "[<re.Match object; span=(26, 29), match='cat'>,\n",
       " <re.Match object; span=(33, 36), match='cat'>,\n",
       " <re.Match object; span=(39, 42), match='cat'>,\n",
       " <re.Match object; span=(52, 55), match='cat'>]"
      ]
     },
     "execution_count": 82,
     "metadata": {},
     "output_type": "execute_result"
    }
   ],
   "source": [
    "str1 = 'cat catholic category copycat bobcat uncatchable concatination'\n",
    "\n",
    "list(re.finditer(r'\\Bcat',str1))"
   ]
  },
  {
   "cell_type": "code",
   "execution_count": 84,
   "id": "6e6cd090-89c2-43ae-ab17-89de58870de3",
   "metadata": {},
   "outputs": [
    {
     "data": {
      "text/plain": [
       "[<re.Match object; span=(39, 42), match='cat'>,\n",
       " <re.Match object; span=(52, 55), match='cat'>]"
      ]
     },
     "execution_count": 84,
     "metadata": {},
     "output_type": "execute_result"
    }
   ],
   "source": [
    "str1 = 'cat catholic category copycat bobcat uncatchable concatination'\n",
    "\n",
    "list(re.finditer(r'\\Bcat\\B',str1))"
   ]
  },
  {
   "cell_type": "code",
   "execution_count": 104,
   "id": "d16d87e9-ea36-43fb-b459-2627829ae0e6",
   "metadata": {},
   "outputs": [
    {
     "data": {
      "text/plain": [
       "[<re.Match object; span=(55, 67), match='321-555-4321'>,\n",
       " <re.Match object; span=(170, 182), match='321-555-4321'>,\n",
       " <re.Match object; span=(183, 195), match='123.555.1234'>,\n",
       " <re.Match object; span=(196, 208), match='123*555*1234'>,\n",
       " <re.Match object; span=(209, 221), match='123.555.1234'>,\n",
       " <re.Match object; span=(222, 234), match='800-555-1234'>,\n",
       " <re.Match object; span=(235, 247), match='900-555-1234'>]"
      ]
     },
     "execution_count": 104,
     "metadata": {},
     "output_type": "execute_result"
    }
   ],
   "source": [
    "list(re.finditer('\\d{3}.\\d{3}.\\d{4}',text_to_search))"
   ]
  },
  {
   "cell_type": "code",
   "execution_count": 106,
   "id": "94b851a7-9d01-40af-9322-9857638442c2",
   "metadata": {},
   "outputs": [
    {
     "data": {
      "text/plain": [
       "[<re.Match object; span=(55, 67), match='321-555-4321'>,\n",
       " <re.Match object; span=(170, 184), match='321-555-432189'>,\n",
       " <re.Match object; span=(185, 197), match='123.555.1234'>,\n",
       " <re.Match object; span=(198, 213), match='123*555*1234543'>,\n",
       " <re.Match object; span=(214, 226), match='123.555.1234'>,\n",
       " <re.Match object; span=(227, 241), match='800-555-123422'>,\n",
       " <re.Match object; span=(242, 254), match='900-555-1234'>]"
      ]
     },
     "execution_count": 106,
     "metadata": {},
     "output_type": "execute_result"
    }
   ],
   "source": [
    "text_to_search = '''\n",
    "abcdefghijklmnopqurtuvwxyz\n",
    "ABCDEFGHIJKLMNOPQRSTUVWXYZ\n",
    "321-555-4321\n",
    "1234567890\n",
    "Ha HaHa\n",
    "MetaCharacters (Need to be escaped):\n",
    ". ^ $ * + ? { } [ ]  | ( )\n",
    "Salahuddin@TCS.com\n",
    "321-555-432189\n",
    "123.555.1234\n",
    "123*555*1234543\n",
    "123.555.1234\n",
    "800-555-123422\n",
    "900-555-1234\n",
    "Mr. Schafer\n",
    "Mr Smith\n",
    "Ms Davis\n",
    "Mrs. Robinson\n",
    "Mr. T\n",
    "Mr_hello\n",
    "abc\n",
    "'''\n",
    "\n",
    "list(re.finditer('\\d{3}.\\d{3}.\\d{4,7}',text_to_search))"
   ]
  },
  {
   "cell_type": "code",
   "execution_count": 110,
   "id": "3a1d1de1-0b94-4812-8bbf-ef8f6d2956a2",
   "metadata": {},
   "outputs": [
    {
     "data": {
      "text/plain": [
       "[<re.Match object; span=(0, 1), match='1'>]"
      ]
     },
     "execution_count": 110,
     "metadata": {},
     "output_type": "execute_result"
    }
   ],
   "source": [
    "string = '1xyz@gmail.com'\n",
    "list(re.finditer(r'^\\d',string))"
   ]
  },
  {
   "cell_type": "code",
   "execution_count": 112,
   "id": "5420a39e-be7c-4bbc-b2f1-60afc4e9479a",
   "metadata": {},
   "outputs": [
    {
     "data": {
      "text/plain": [
       "[<re.Match object; span=(10, 13), match='com'>]"
      ]
     },
     "execution_count": 112,
     "metadata": {},
     "output_type": "execute_result"
    }
   ],
   "source": [
    "string = 'xyz@gmail.com'\n",
    "list(re.finditer(r'com$',string))"
   ]
  },
  {
   "cell_type": "code",
   "execution_count": 116,
   "id": "f68f989e-90a7-45e7-bfa2-5423fcde62c7",
   "metadata": {},
   "outputs": [
    {
     "data": {
      "text/plain": [
       "[<re.Match object; span=(4, 7), match='cat'>,\n",
       " <re.Match object; span=(8, 11), match='mat'>]"
      ]
     },
     "execution_count": 116,
     "metadata": {},
     "output_type": "execute_result"
    }
   ],
   "source": [
    "string = 'rat cat mat fat bat'\n",
    "list(re.finditer(r'[cm]at',string))"
   ]
  },
  {
   "cell_type": "code",
   "execution_count": 118,
   "id": "cfa91128-7105-4c37-b3f5-2f8c43a810fe",
   "metadata": {},
   "outputs": [
    {
     "data": {
      "text/plain": [
       "[<re.Match object; span=(0, 3), match='rat'>,\n",
       " <re.Match object; span=(12, 15), match='fat'>,\n",
       " <re.Match object; span=(16, 19), match='bat'>]"
      ]
     },
     "execution_count": 118,
     "metadata": {},
     "output_type": "execute_result"
    }
   ],
   "source": [
    "string = 'rat cat mat fat bat'\n",
    "list(re.finditer(r'[^cm]at',string))"
   ]
  },
  {
   "cell_type": "code",
   "execution_count": 120,
   "id": "438a2b30-a64c-40be-8cd0-c5066a3a90f2",
   "metadata": {},
   "outputs": [
    {
     "data": {
      "text/plain": [
       "[<re.Match object; span=(0, 3), match='rat'>,\n",
       " <re.Match object; span=(4, 7), match='cat'>,\n",
       " <re.Match object; span=(8, 11), match='mat'>,\n",
       " <re.Match object; span=(12, 15), match='fat'>,\n",
       " <re.Match object; span=(16, 19), match='bat'>]"
      ]
     },
     "execution_count": 120,
     "metadata": {},
     "output_type": "execute_result"
    }
   ],
   "source": [
    "string = 'rat cat mat fat bat'\n",
    "list(re.finditer(r'[a-z]at',string))"
   ]
  },
  {
   "cell_type": "code",
   "execution_count": 200,
   "id": "a8c9a1a4-9f6b-40cb-9189-70e967cf06cd",
   "metadata": {},
   "outputs": [],
   "source": [
    "text_to_search = '''\n",
    "abcdefghijklmnopqurtuvwxyz\n",
    "ABCDEFGHIJKLMNOPQRSTUVWXYZ\n",
    "321-555-4321\n",
    "1234567890\n",
    "Ha HaHa\n",
    "MetaCharacters (Need to be escaped):\n",
    ". ^ $ * + ? { } [ ]  | ( )\n",
    "Salahuddin@TCS.com\n",
    "321-555-432189\n",
    "123.555.1234\n",
    "123*555*1234543\n",
    "123.555.1234\n",
    "800-555-123422\n",
    "900-555-1234\n",
    "Mr. Schafer\n",
    "Mr Smith\n",
    "Ms Davis\n",
    "Mrs. Robinson\n",
    "Mr. T\n",
    "Mr_hello\n",
    "abc\n",
    "'''"
   ]
  },
  {
   "cell_type": "code",
   "execution_count": 206,
   "id": "70d67cbf-02ba-4a3f-818c-815c2f03f521",
   "metadata": {},
   "outputs": [
    {
     "data": {
      "text/plain": [
       "[<re.Match object; span=(55, 67), match='321-555-4321'>,\n",
       " <re.Match object; span=(170, 184), match='321-555-432189'>,\n",
       " <re.Match object; span=(198, 213), match='123*555*1234543'>,\n",
       " <re.Match object; span=(227, 241), match='800-555-123422'>,\n",
       " <re.Match object; span=(242, 254), match='900-555-1234'>]"
      ]
     },
     "execution_count": 206,
     "metadata": {},
     "output_type": "execute_result"
    }
   ],
   "source": [
    "list(re.finditer(r'\\d{3}[-*]\\d{3}[-*]\\d{4,7}',text_to_search))"
   ]
  },
  {
   "cell_type": "code",
   "execution_count": 208,
   "id": "3499e802-1da9-4bbb-aed7-633c2564746b",
   "metadata": {},
   "outputs": [
    {
     "data": {
      "text/plain": [
       "[<re.Match object; span=(185, 197), match='123.555.1234'>,\n",
       " <re.Match object; span=(214, 226), match='123.555.1234'>]"
      ]
     },
     "execution_count": 208,
     "metadata": {},
     "output_type": "execute_result"
    }
   ],
   "source": [
    "list(re.finditer(r'\\d{3}\\.\\d{3}\\.\\d{4,7}',text_to_search))"
   ]
  },
  {
   "cell_type": "code",
   "execution_count": 218,
   "id": "de653307-05c7-46c9-b1be-f52c52780137",
   "metadata": {},
   "outputs": [
    {
     "name": "stdout",
     "output_type": "stream",
     "text": [
      "Mr. Schafer\n",
      "Mr Smith\n",
      "Ms Davis\n",
      "Mrs. Robinson\n",
      "Mr. T\n",
      "Mr_hello\n"
     ]
    }
   ],
   "source": [
    "# What you are searching for\n",
    "a = re.compile(r'M(r|s)s?[_\\.]?\\s?[A-Za-z]*')\n",
    "\n",
    "# From which string you are searching\n",
    "b = a.finditer(text_to_search)\n",
    "\n",
    "for i in b:\n",
    "    print(i.group())"
   ]
  },
  {
   "cell_type": "code",
   "execution_count": null,
   "id": "378da9f7-3375-43fa-bd0b-34e626902896",
   "metadata": {},
   "outputs": [],
   "source": []
  },
  {
   "cell_type": "code",
   "execution_count": null,
   "id": "3b0a144c-daec-4c7d-a449-b13722118ec0",
   "metadata": {},
   "outputs": [],
   "source": []
  },
  {
   "cell_type": "code",
   "execution_count": null,
   "id": "c0c8dbd1-7dbd-44f5-b0f6-e4b61adc198d",
   "metadata": {},
   "outputs": [],
   "source": []
  },
  {
   "cell_type": "code",
   "execution_count": null,
   "id": "60b3689e-3e86-4794-a499-398c23463b03",
   "metadata": {},
   "outputs": [],
   "source": []
  },
  {
   "cell_type": "code",
   "execution_count": null,
   "id": "6bfad47a-d1c1-4ecd-8dff-0b5b77f2f93f",
   "metadata": {},
   "outputs": [],
   "source": []
  },
  {
   "cell_type": "code",
   "execution_count": null,
   "id": "2b2f48da-e93e-453b-9cee-3d8c3ce0f90b",
   "metadata": {},
   "outputs": [],
   "source": []
  },
  {
   "cell_type": "code",
   "execution_count": null,
   "id": "e55bb91f-163b-4620-a895-360e902812e4",
   "metadata": {},
   "outputs": [],
   "source": []
  },
  {
   "cell_type": "code",
   "execution_count": null,
   "id": "e92dc00d-d6cb-47af-91dd-60d291c6a022",
   "metadata": {},
   "outputs": [],
   "source": []
  },
  {
   "cell_type": "code",
   "execution_count": null,
   "id": "4cf6d697-b8b9-41b5-814a-24a560dceae1",
   "metadata": {},
   "outputs": [],
   "source": []
  },
  {
   "cell_type": "code",
   "execution_count": null,
   "id": "a8c8371b-7030-46a6-ba00-c3dcf4b3aeea",
   "metadata": {},
   "outputs": [],
   "source": []
  },
  {
   "cell_type": "code",
   "execution_count": null,
   "id": "d77710dd-bfc6-4f27-8c29-b1da20ccbaff",
   "metadata": {},
   "outputs": [],
   "source": []
  },
  {
   "cell_type": "code",
   "execution_count": null,
   "id": "9348f97e-3238-45e7-8895-b313a013f8f2",
   "metadata": {},
   "outputs": [],
   "source": []
  },
  {
   "cell_type": "code",
   "execution_count": null,
   "id": "ebcc60ca-214d-4c01-af75-0d91f4fdf4b7",
   "metadata": {},
   "outputs": [],
   "source": []
  },
  {
   "cell_type": "code",
   "execution_count": null,
   "id": "4621d43b-c58d-4891-b826-afb6a6de6331",
   "metadata": {},
   "outputs": [],
   "source": []
  },
  {
   "cell_type": "code",
   "execution_count": null,
   "id": "ace09726-8ec9-448a-8e10-651bc9bc2943",
   "metadata": {},
   "outputs": [],
   "source": []
  },
  {
   "cell_type": "code",
   "execution_count": null,
   "id": "6a446e56-68af-4fe1-8826-ff41273df7ce",
   "metadata": {},
   "outputs": [],
   "source": []
  },
  {
   "cell_type": "code",
   "execution_count": null,
   "id": "ee8340d0-0cd1-4d1a-a577-75c8305e4664",
   "metadata": {},
   "outputs": [],
   "source": []
  },
  {
   "cell_type": "code",
   "execution_count": null,
   "id": "bd25ab06-81b5-4533-93d1-e67c77233f0a",
   "metadata": {},
   "outputs": [],
   "source": []
  },
  {
   "cell_type": "code",
   "execution_count": null,
   "id": "bffb20f2-1d14-4379-a11c-f0d0e38b29af",
   "metadata": {},
   "outputs": [],
   "source": []
  },
  {
   "cell_type": "code",
   "execution_count": null,
   "id": "9bdd1deb-9de0-4049-babf-227749a73fe0",
   "metadata": {},
   "outputs": [],
   "source": []
  },
  {
   "cell_type": "code",
   "execution_count": null,
   "id": "1ec7805d-08f9-42a3-a4ab-0e579f9b7619",
   "metadata": {},
   "outputs": [],
   "source": []
  },
  {
   "cell_type": "code",
   "execution_count": null,
   "id": "1237c907-1a50-4a6e-b220-52e37cc66c20",
   "metadata": {},
   "outputs": [],
   "source": []
  },
  {
   "cell_type": "code",
   "execution_count": null,
   "id": "e9f72b6d-53e2-4686-84a1-dce530c6af12",
   "metadata": {},
   "outputs": [],
   "source": []
  },
  {
   "cell_type": "code",
   "execution_count": null,
   "id": "9cb1e473-4028-43ef-af92-d54f113d627c",
   "metadata": {},
   "outputs": [],
   "source": []
  },
  {
   "cell_type": "code",
   "execution_count": null,
   "id": "e8cc519c-7e22-4df4-8ad2-34e2d5e2238c",
   "metadata": {},
   "outputs": [],
   "source": []
  },
  {
   "cell_type": "code",
   "execution_count": null,
   "id": "9ea35d1f-2ac8-4b63-b3e0-e4adc9580c2a",
   "metadata": {},
   "outputs": [],
   "source": []
  },
  {
   "cell_type": "code",
   "execution_count": null,
   "id": "598722c6-3c41-4512-80b6-b197ba2fd39a",
   "metadata": {},
   "outputs": [],
   "source": []
  },
  {
   "cell_type": "code",
   "execution_count": null,
   "id": "fb9d8f05-3e42-451d-898d-972e2d32688a",
   "metadata": {},
   "outputs": [],
   "source": []
  },
  {
   "cell_type": "code",
   "execution_count": null,
   "id": "c2889e3f-4fa0-4fae-b770-78acbab00b6c",
   "metadata": {},
   "outputs": [],
   "source": []
  },
  {
   "cell_type": "code",
   "execution_count": null,
   "id": "5b0ec177-ef0d-41f0-8fd0-8810920b74c0",
   "metadata": {},
   "outputs": [],
   "source": []
  },
  {
   "cell_type": "code",
   "execution_count": null,
   "id": "9eedeab9-b9f7-4572-bd7f-e506c5f68f20",
   "metadata": {},
   "outputs": [],
   "source": []
  },
  {
   "cell_type": "code",
   "execution_count": null,
   "id": "7f810203-0a5f-445a-8744-13c68a704c36",
   "metadata": {},
   "outputs": [],
   "source": []
  },
  {
   "cell_type": "code",
   "execution_count": null,
   "id": "a5dd6004-8a01-4383-8638-7861c7cfc287",
   "metadata": {},
   "outputs": [],
   "source": []
  },
  {
   "cell_type": "code",
   "execution_count": null,
   "id": "819006ed-79ad-4cb7-93e2-27edcaa28001",
   "metadata": {},
   "outputs": [],
   "source": []
  },
  {
   "cell_type": "code",
   "execution_count": null,
   "id": "70cc5429-6ce4-4c73-b0e0-a5e1841265ac",
   "metadata": {},
   "outputs": [],
   "source": []
  },
  {
   "cell_type": "code",
   "execution_count": null,
   "id": "ec228e33-d92c-4d15-9111-54a813154a25",
   "metadata": {},
   "outputs": [],
   "source": []
  },
  {
   "cell_type": "code",
   "execution_count": null,
   "id": "598299e8-e385-4b1b-9bbe-2f295e2c691e",
   "metadata": {},
   "outputs": [],
   "source": []
  },
  {
   "cell_type": "code",
   "execution_count": null,
   "id": "aa88c969-73d8-45b8-90a0-790788dc646f",
   "metadata": {},
   "outputs": [],
   "source": []
  },
  {
   "cell_type": "code",
   "execution_count": null,
   "id": "45bd1f8a-93ac-4df9-9859-03c9d38a5b2f",
   "metadata": {},
   "outputs": [],
   "source": []
  },
  {
   "cell_type": "code",
   "execution_count": null,
   "id": "05988800-57c0-45e9-99cf-2e77fb39940e",
   "metadata": {},
   "outputs": [],
   "source": []
  },
  {
   "cell_type": "code",
   "execution_count": null,
   "id": "6f01f9ba-081f-4525-9d97-831d76e9cf5a",
   "metadata": {},
   "outputs": [],
   "source": []
  },
  {
   "cell_type": "code",
   "execution_count": null,
   "id": "03c4318e-e441-46f0-9566-ade3591bcebb",
   "metadata": {},
   "outputs": [],
   "source": []
  },
  {
   "cell_type": "code",
   "execution_count": null,
   "id": "1fcb99a9-fdb9-4744-9be2-e0107b038e21",
   "metadata": {},
   "outputs": [],
   "source": []
  },
  {
   "cell_type": "code",
   "execution_count": null,
   "id": "15813b11-1567-4663-99e5-7a55ca9c1772",
   "metadata": {},
   "outputs": [],
   "source": []
  },
  {
   "cell_type": "code",
   "execution_count": null,
   "id": "65da061d-8ab7-4ba4-93d6-5af2b5e6c661",
   "metadata": {},
   "outputs": [],
   "source": []
  },
  {
   "cell_type": "code",
   "execution_count": null,
   "id": "65cac75a-ac72-43bd-b238-47d1b78e81da",
   "metadata": {},
   "outputs": [],
   "source": []
  },
  {
   "cell_type": "code",
   "execution_count": null,
   "id": "81b0a469-1c59-49c6-bf48-df845cc2a5e0",
   "metadata": {},
   "outputs": [],
   "source": []
  },
  {
   "cell_type": "code",
   "execution_count": null,
   "id": "9c388384-652e-4442-8927-cb0124902035",
   "metadata": {},
   "outputs": [],
   "source": []
  },
  {
   "cell_type": "code",
   "execution_count": null,
   "id": "5cb5912c-2a31-470e-a217-fc0412104b63",
   "metadata": {},
   "outputs": [],
   "source": []
  },
  {
   "cell_type": "code",
   "execution_count": null,
   "id": "192814c7-555a-419b-ad04-39a5bc30a854",
   "metadata": {},
   "outputs": [],
   "source": []
  },
  {
   "cell_type": "code",
   "execution_count": null,
   "id": "81127679-8a7a-4522-9f4c-039593eadfb1",
   "metadata": {},
   "outputs": [],
   "source": []
  },
  {
   "cell_type": "code",
   "execution_count": null,
   "id": "1fadf6dc-fd36-46de-ae06-45ead8a31435",
   "metadata": {},
   "outputs": [],
   "source": []
  },
  {
   "cell_type": "code",
   "execution_count": null,
   "id": "f7d87142-3999-4b0e-9030-9ca7dc67dff1",
   "metadata": {},
   "outputs": [],
   "source": []
  },
  {
   "cell_type": "code",
   "execution_count": null,
   "id": "c32c4d15-c88a-48b0-9e65-ca8cf1c75819",
   "metadata": {},
   "outputs": [],
   "source": []
  },
  {
   "cell_type": "code",
   "execution_count": null,
   "id": "2af69aeb-cd25-47f8-8af1-d6eccd8ea679",
   "metadata": {},
   "outputs": [],
   "source": []
  },
  {
   "cell_type": "code",
   "execution_count": null,
   "id": "909bb825-8d8a-4935-bdb7-6243e9ae1610",
   "metadata": {},
   "outputs": [],
   "source": []
  },
  {
   "cell_type": "code",
   "execution_count": null,
   "id": "03d8e4fd-6e51-47d8-b742-b3a34bc539c4",
   "metadata": {},
   "outputs": [],
   "source": []
  },
  {
   "cell_type": "code",
   "execution_count": null,
   "id": "8631088d-958c-460a-9f03-b34ad9b45187",
   "metadata": {},
   "outputs": [],
   "source": []
  },
  {
   "cell_type": "code",
   "execution_count": null,
   "id": "045f87c1-5ef3-41a2-a0c1-97b5ab5604a1",
   "metadata": {},
   "outputs": [],
   "source": []
  },
  {
   "cell_type": "code",
   "execution_count": null,
   "id": "e4bc2f62-6b42-4106-a904-a29896ed905e",
   "metadata": {},
   "outputs": [],
   "source": []
  },
  {
   "cell_type": "code",
   "execution_count": null,
   "id": "b17c5888-623e-4a70-b1d7-4641768b722c",
   "metadata": {},
   "outputs": [],
   "source": []
  },
  {
   "cell_type": "code",
   "execution_count": null,
   "id": "9a587abc-d4bd-41d7-b460-00fa99b56616",
   "metadata": {},
   "outputs": [],
   "source": []
  },
  {
   "cell_type": "code",
   "execution_count": null,
   "id": "2fb9f6c8-783e-4e31-b199-dd27a2a5adbf",
   "metadata": {},
   "outputs": [],
   "source": []
  },
  {
   "cell_type": "code",
   "execution_count": null,
   "id": "dc1bfaf6-8921-4702-8a98-75e57932c4af",
   "metadata": {},
   "outputs": [],
   "source": []
  },
  {
   "cell_type": "code",
   "execution_count": null,
   "id": "50c2ee06-a7b4-430f-ba73-221e40a40273",
   "metadata": {},
   "outputs": [],
   "source": []
  },
  {
   "cell_type": "code",
   "execution_count": null,
   "id": "710b1e81-d5d1-421a-83c0-cfcf4ce61a47",
   "metadata": {},
   "outputs": [],
   "source": []
  },
  {
   "cell_type": "code",
   "execution_count": null,
   "id": "4ef8ec25-5f66-4513-a036-fed6efeb3e7f",
   "metadata": {},
   "outputs": [],
   "source": []
  },
  {
   "cell_type": "code",
   "execution_count": null,
   "id": "35bc3787-933f-4d84-a790-8e3f68464f2e",
   "metadata": {},
   "outputs": [],
   "source": []
  },
  {
   "cell_type": "code",
   "execution_count": null,
   "id": "b00a545d-48aa-42d3-a7f4-931f931049da",
   "metadata": {},
   "outputs": [],
   "source": []
  },
  {
   "cell_type": "code",
   "execution_count": null,
   "id": "d234a1fa-046e-4548-aef8-cd907e3daa16",
   "metadata": {},
   "outputs": [],
   "source": []
  },
  {
   "cell_type": "code",
   "execution_count": null,
   "id": "13161063-2c74-41e0-bc26-0b98151f2ef4",
   "metadata": {},
   "outputs": [],
   "source": []
  },
  {
   "cell_type": "code",
   "execution_count": null,
   "id": "26fd9c62-1901-4e03-95cb-922c3a8ad5f1",
   "metadata": {},
   "outputs": [],
   "source": []
  },
  {
   "cell_type": "code",
   "execution_count": null,
   "id": "7c53aa06-927e-4650-b5d5-05424286b4b3",
   "metadata": {},
   "outputs": [],
   "source": []
  },
  {
   "cell_type": "code",
   "execution_count": null,
   "id": "2245b0d8-a71f-4440-a0c3-37583b7fa373",
   "metadata": {},
   "outputs": [],
   "source": []
  },
  {
   "cell_type": "code",
   "execution_count": null,
   "id": "597ec793-f594-4b5b-bf13-1166d7d425f0",
   "metadata": {},
   "outputs": [],
   "source": []
  },
  {
   "cell_type": "code",
   "execution_count": null,
   "id": "e3f58f03-16ea-44c6-b206-43d1c5bdbef3",
   "metadata": {},
   "outputs": [],
   "source": []
  },
  {
   "cell_type": "code",
   "execution_count": null,
   "id": "2a1af4c4-f7e8-4ac3-ad7f-8f24d197e806",
   "metadata": {},
   "outputs": [],
   "source": []
  },
  {
   "cell_type": "code",
   "execution_count": null,
   "id": "28625ff0-d2d6-40c5-b520-fd08e4145beb",
   "metadata": {},
   "outputs": [],
   "source": []
  },
  {
   "cell_type": "code",
   "execution_count": null,
   "id": "a8f22489-da56-45b7-ae33-5658b7eac77d",
   "metadata": {},
   "outputs": [],
   "source": []
  },
  {
   "cell_type": "code",
   "execution_count": null,
   "id": "d5fc5334-fa59-4d38-9605-92ac89054ccc",
   "metadata": {},
   "outputs": [],
   "source": []
  }
 ],
 "metadata": {
  "kernelspec": {
   "display_name": "Python [conda env:base] *",
   "language": "python",
   "name": "conda-base-py"
  },
  "language_info": {
   "codemirror_mode": {
    "name": "ipython",
    "version": 3
   },
   "file_extension": ".py",
   "mimetype": "text/x-python",
   "name": "python",
   "nbconvert_exporter": "python",
   "pygments_lexer": "ipython3",
   "version": "3.10.14"
  }
 },
 "nbformat": 4,
 "nbformat_minor": 5
}
