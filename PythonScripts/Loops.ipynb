{
 "cells": [
  {
   "cell_type": "markdown",
   "id": "27c13114-5a22-4379-ab0a-1c1bffa2b6f6",
   "metadata": {},
   "source": [
    "# For Loops\n",
    "\n",
    "for var in iterable:\n",
    "    stat1\n",
    "    stat2"
   ]
  },
  {
   "cell_type": "code",
   "execution_count": null,
   "id": "b090e863-0d89-4d99-bbfb-7778f2d2735e",
   "metadata": {},
   "outputs": [],
   "source": [
    "# How to identify any data is terable  ?\n",
    "1. len()--->should work\n",
    "2.print(dir(oject))---->__iter__"
   ]
  },
  {
   "cell_type": "code",
   "execution_count": 52,
   "id": "0e233f5c-a139-4872-be37-364d2238bff5",
   "metadata": {},
   "outputs": [
    {
     "name": "stdout",
     "output_type": "stream",
     "text": [
      "hello\n",
      "world\n"
     ]
    }
   ],
   "source": [
    "for i in ['hello','world']:\n",
    "    print(i)"
   ]
  },
  {
   "cell_type": "code",
   "execution_count": 54,
   "id": "e937cafe-dad9-4a00-931b-20f93bca713a",
   "metadata": {},
   "outputs": [
    {
     "name": "stdout",
     "output_type": "stream",
     "text": [
      "h\n",
      "e\n",
      "l\n",
      "l\n",
      "o\n"
     ]
    }
   ],
   "source": [
    "for i in 'hello':\n",
    "    print(i)"
   ]
  },
  {
   "cell_type": "code",
   "execution_count": null,
   "id": "a799dca9-f9ca-42a8-9eac-a929973a4887",
   "metadata": {},
   "outputs": [],
   "source": [
    "# while Loop:--> unknown iterations\n",
    "\n",
    "syntax \n",
    "\n",
    "1.Initialization\n",
    "2.condition checking\n",
    "3.inc/dec"
   ]
  },
  {
   "cell_type": "code",
   "execution_count": 7,
   "id": "30cc4632-dcad-41db-89f8-c34459df91d2",
   "metadata": {},
   "outputs": [
    {
     "name": "stdout",
     "output_type": "stream",
     "text": [
      "Hello World\n",
      "Hello World\n",
      "Hello World\n",
      "Hello World\n",
      "Hello World\n"
     ]
    }
   ],
   "source": [
    "var = 0 #initialization\n",
    "\n",
    "while var <5: #Condition checking\n",
    "    print(\"Hello World\")\n",
    "    var += 1"
   ]
  },
  {
   "cell_type": "code",
   "execution_count": 7,
   "id": "9e9eb0ed-5cbf-461a-a7a5-ba9cd5a327c7",
   "metadata": {},
   "outputs": [
    {
     "name": "stdout",
     "output_type": "stream",
     "text": [
      "p\n",
      "yy\n",
      "ttt\n",
      "hhhh\n",
      "ooooo\n",
      "nnnnnn\n"
     ]
    }
   ],
   "source": [
    "a = \"python\"\n",
    "for i in range(len(a)):\n",
    "    print(a[i] * (i+1))"
   ]
  },
  {
   "cell_type": "code",
   "execution_count": 11,
   "id": "054c289d-0744-4500-9f9a-4eefa114da8d",
   "metadata": {},
   "outputs": [
    {
     "name": "stdout",
     "output_type": "stream",
     "text": [
      "p\n",
      "yy\n",
      "ttt\n",
      "hhhh\n",
      "ooooo\n",
      "nnnnnn\n"
     ]
    }
   ],
   "source": [
    "a = \"python\"\n",
    "var = 0\n",
    "while var < len(a):\n",
    "    print(a[var] * (var + 1))\n",
    "    var+=1"
   ]
  },
  {
   "cell_type": "markdown",
   "id": "bc45c618-d25b-455b-a6f7-39eda49a8f6e",
   "metadata": {},
   "source": [
    "# Keywords:\n",
    "\n",
    "- Break\n",
    "- Pass\n",
    "- Continue"
   ]
  },
  {
   "cell_type": "markdown",
   "id": "ec93c20c-67ae-4711-adb4-df4b9b175573",
   "metadata": {},
   "source": [
    "# Break : \n",
    "\n",
    "- It breaks the current iteration\n",
    "- It breaks the remanining iterations\n"
   ]
  },
  {
   "cell_type": "code",
   "execution_count": 15,
   "id": "d84d3b67-3339-4f0c-9eaf-08b0895bcf05",
   "metadata": {},
   "outputs": [
    {
     "data": {
      "text/plain": [
       "list[range(0, 10)]"
      ]
     },
     "execution_count": 15,
     "metadata": {},
     "output_type": "execute_result"
    }
   ],
   "source": [
    "list[range(10)]"
   ]
  },
  {
   "cell_type": "code",
   "execution_count": 23,
   "id": "9e13013c-fe61-4e3e-a712-1021c7b61013",
   "metadata": {},
   "outputs": [
    {
     "name": "stdout",
     "output_type": "stream",
     "text": [
      "0\n",
      "1\n",
      "2\n",
      "completed\n"
     ]
    }
   ],
   "source": [
    "for i in range(11):\n",
    "    if i == 3:\n",
    "        break\n",
    "    print(i)\n",
    "print(\"completed\")"
   ]
  },
  {
   "cell_type": "code",
   "execution_count": 31,
   "id": "163cbefd-80fb-46bc-8374-dca939ae99f2",
   "metadata": {},
   "outputs": [
    {
     "name": "stdout",
     "output_type": "stream",
     "text": [
      "0\n",
      "1\n",
      "2\n",
      "Completed\n"
     ]
    }
   ],
   "source": [
    "i = 0 \n",
    "\n",
    "while i < 11:\n",
    "    if i == 3:\n",
    "        break\n",
    "    print(i)\n",
    "    i += 1\n",
    "print(\"Completed\")"
   ]
  },
  {
   "cell_type": "markdown",
   "id": "e38e9e4c-fc1b-4bdb-b6b9-00264d3c29cf",
   "metadata": {},
   "source": [
    "# Continue:\n",
    "\n",
    "- It only breaks the current iteration"
   ]
  },
  {
   "cell_type": "code",
   "execution_count": 27,
   "id": "09442072-c991-4304-b5a4-5ec5332cc328",
   "metadata": {},
   "outputs": [
    {
     "name": "stdout",
     "output_type": "stream",
     "text": [
      "0\n",
      "1\n",
      "2\n",
      "4\n",
      "5\n",
      "6\n",
      "7\n",
      "8\n",
      "9\n",
      "10\n",
      "completed\n"
     ]
    }
   ],
   "source": [
    "for i in range(11):\n",
    "    if i == 3:\n",
    "        continue\n",
    "    print(i)\n",
    "print(\"completed\")"
   ]
  },
  {
   "cell_type": "code",
   "execution_count": 39,
   "id": "19f10c61-37a2-44ef-b1e9-4dea9a86c7b2",
   "metadata": {},
   "outputs": [
    {
     "name": "stdout",
     "output_type": "stream",
     "text": [
      "P\n",
      "yy\n",
      "ttt\n",
      "hhhh\n",
      "ooooo\n",
      "nnnnnn\n"
     ]
    }
   ],
   "source": [
    "a = \"Python\"\n",
    "i = 0\n",
    "\n",
    "while i in range(len(a)):\n",
    "    print(a[i] * (i + 1))\n",
    "    i += 1\n"
   ]
  },
  {
   "cell_type": "code",
   "execution_count": 5,
   "id": "4f64b137-61df-43d2-a564-8c37cb64369d",
   "metadata": {},
   "outputs": [
    {
     "name": "stdout",
     "output_type": "stream",
     "text": [
      "0\n",
      "1\n",
      "2\n",
      "Completed\n"
     ]
    }
   ],
   "source": [
    "i = 0 \n",
    "while i < 11:\n",
    "    if i ==3:\n",
    "        break\n",
    "    print(i)\n",
    "    i += 1\n",
    "print(\"Completed\")"
   ]
  },
  {
   "cell_type": "markdown",
   "id": "08b82ca9-3edb-4e5a-aa38-643e9a8c8ae0",
   "metadata": {},
   "source": [
    "# Pass:"
   ]
  },
  {
   "cell_type": "code",
   "execution_count": 24,
   "id": "e5ac325f-fe40-4822-8281-0b1d1d00e92c",
   "metadata": {},
   "outputs": [
    {
     "name": "stdin",
     "output_type": "stream",
     "text": [
      "Enter number 3\n"
     ]
    }
   ],
   "source": [
    "a = eval(input(\"Enter number\"))\n",
    "\n",
    "if i%2 == 0:\n",
    "    pass\n",
    "else:\n",
    "    print(\"odd\")"
   ]
  },
  {
   "cell_type": "markdown",
   "id": "98a500cd-25a4-47be-9971-36c584ac9d52",
   "metadata": {},
   "source": [
    "# Else"
   ]
  },
  {
   "cell_type": "code",
   "execution_count": 27,
   "id": "d2b61cd9-50a5-4438-9179-00f64fc27580",
   "metadata": {},
   "outputs": [
    {
     "name": "stdout",
     "output_type": "stream",
     "text": [
      "0\n",
      "1\n",
      "2\n"
     ]
    }
   ],
   "source": [
    "for i in range(10):\n",
    "    if i == 3:\n",
    "        break\n",
    "    print(i)\n",
    "else:\n",
    "    print(\"Completed\")"
   ]
  },
  {
   "cell_type": "code",
   "execution_count": 37,
   "id": "6fad03f6-41f4-4097-af80-df4fe83b63e4",
   "metadata": {},
   "outputs": [
    {
     "name": "stdin",
     "output_type": "stream",
     "text": [
      "Enter name of file: A\n"
     ]
    },
    {
     "name": "stdout",
     "output_type": "stream",
     "text": [
      "File found\n"
     ]
    }
   ],
   "source": [
    "lst = ['a','b','c','d']\n",
    "\n",
    "a = input(\"Enter name of file:\").lower()\n",
    "\n",
    "for i in lst:\n",
    "    if i == a:\n",
    "        print(\"File found\")\n",
    "        break\n",
    "else:\n",
    "    print(\"File not found in DB\")"
   ]
  },
  {
   "cell_type": "code",
   "execution_count": 39,
   "id": "68c0688e-e09c-44f9-8c01-61464df7ad16",
   "metadata": {},
   "outputs": [
    {
     "name": "stdout",
     "output_type": "stream",
     "text": [
      "0\n",
      "1\n",
      "2\n",
      "3\n",
      "4\n",
      "5\n",
      "6\n",
      "8\n",
      "9\n",
      "Loop completed\n"
     ]
    }
   ],
   "source": [
    "for i in range(10):\n",
    "    if i == 7 :\n",
    "        continue\n",
    "    print(i)\n",
    "else:\n",
    "    print(\"Loop completed\")"
   ]
  },
  {
   "cell_type": "code",
   "execution_count": 96,
   "id": "a8043eac-9d15-45c1-aa0a-718953cad1d7",
   "metadata": {},
   "outputs": [
    {
     "name": "stdin",
     "output_type": "stream",
     "text": [
      "Enter number: 4\n"
     ]
    },
    {
     "name": "stdout",
     "output_type": "stream",
     "text": [
      "Not prime number\n"
     ]
    }
   ],
   "source": [
    "# Prime number\n",
    "num = eval(input(\"Enter number:\"))\n",
    "if num!= 2:\n",
    "    for i in range(2,num):\n",
    "        if num % i == 0:\n",
    "            print(\"Not prime number\")\n",
    "            break\n",
    "    else:\n",
    "        print(\"Prime number\")\n",
    "else:\n",
    "    print(\"Prime number\")"
   ]
  },
  {
   "cell_type": "code",
   "execution_count": 98,
   "id": "9204be3a-bd3e-4d82-84b2-2804731ad97d",
   "metadata": {},
   "outputs": [
    {
     "name": "stdin",
     "output_type": "stream",
     "text": [
      "Enter number: 5\n",
      "Enter number: 5\n",
      "Enter number: 0\n"
     ]
    },
    {
     "name": "stdout",
     "output_type": "stream",
     "text": [
      "Coming out of loop\n"
     ]
    }
   ],
   "source": [
    "while True:\n",
    "    num = eval(input(\"Enter number:\"))\n",
    "    if num == 0:\n",
    "        print(\"Coming out of loop\")\n",
    "        break"
   ]
  },
  {
   "cell_type": "code",
   "execution_count": 32,
   "id": "c12fe492-db62-43d2-b7be-8b9cce20dad6",
   "metadata": {},
   "outputs": [
    {
     "name": "stdin",
     "output_type": "stream",
     "text": [
      "Enter amount you want to transfer:  89635\n"
     ]
    },
    {
     "name": "stdout",
     "output_type": "stream",
     "text": [
      "Overlimit! The amount exceeds the 50,000 limit.\n"
     ]
    },
    {
     "name": "stdin",
     "output_type": "stream",
     "text": [
      "Do you want to continue (y/n)?  y\n",
      "Enter amount you want to transfer:  8795\n"
     ]
    },
    {
     "name": "stdout",
     "output_type": "stream",
     "text": [
      "Amount transferred.\n"
     ]
    }
   ],
   "source": [
    "while True:\n",
    "    \n",
    "        num = eval(input(\"Enter amount you want to transfer: \"))\n",
    "        if 0 < num <= 50000:\n",
    "            print(\"Amount transferred.\")\n",
    "            break\n",
    "        else:\n",
    "            if num > 50000:\n",
    "                print(\"Overlimit! The amount exceeds the 50,000 limit.\")\n",
    "            else:\n",
    "                print(\"Invalid amount! Amount must be greater than 0.\")\n",
    "            \n",
    "            a = input(\"Do you want to continue (y/n)? \").lower()\n",
    "            if a == 'y':\n",
    "                continue\n",
    "            else:\n",
    "                print(\"Have a nice day!!\")\n",
    "                break"
   ]
  },
  {
   "cell_type": "markdown",
   "id": "78971583-185f-42af-9a6e-a820fc395fef",
   "metadata": {},
   "source": []
  },
  {
   "cell_type": "code",
   "execution_count": null,
   "id": "fb10c75e-485a-49ab-9b66-1fccb76e54f3",
   "metadata": {},
   "outputs": [],
   "source": []
  },
  {
   "cell_type": "code",
   "execution_count": null,
   "id": "22f04d5d-9078-4931-b0cd-6b17bd7da652",
   "metadata": {},
   "outputs": [],
   "source": []
  },
  {
   "cell_type": "code",
   "execution_count": null,
   "id": "caa6504f-9699-4cf7-ba74-78c65dadba67",
   "metadata": {},
   "outputs": [],
   "source": []
  },
  {
   "cell_type": "code",
   "execution_count": null,
   "id": "b89b9e45-73aa-4e7b-8df8-4f5bd610a928",
   "metadata": {},
   "outputs": [],
   "source": []
  },
  {
   "cell_type": "code",
   "execution_count": null,
   "id": "800c74e5-8c7a-429d-b491-ccf4997b138f",
   "metadata": {},
   "outputs": [],
   "source": []
  },
  {
   "cell_type": "code",
   "execution_count": null,
   "id": "192a1539-7b7e-4a10-ae43-b9179b8b4f6e",
   "metadata": {},
   "outputs": [],
   "source": []
  },
  {
   "cell_type": "code",
   "execution_count": null,
   "id": "90ad1e1e-f58d-4bb1-a557-4559cb388b36",
   "metadata": {},
   "outputs": [],
   "source": []
  },
  {
   "cell_type": "code",
   "execution_count": null,
   "id": "38de73d0-f400-4b53-86fe-28b845e38a57",
   "metadata": {},
   "outputs": [],
   "source": []
  },
  {
   "cell_type": "code",
   "execution_count": null,
   "id": "f57077c6-b308-4f88-820e-533f50a104df",
   "metadata": {},
   "outputs": [],
   "source": []
  },
  {
   "cell_type": "code",
   "execution_count": null,
   "id": "8cd71536-1090-4240-9d18-26322c3d494f",
   "metadata": {},
   "outputs": [],
   "source": []
  },
  {
   "cell_type": "code",
   "execution_count": null,
   "id": "70e4e3d8-4d55-47f3-b62c-4000c470870a",
   "metadata": {},
   "outputs": [],
   "source": []
  },
  {
   "cell_type": "code",
   "execution_count": null,
   "id": "3fb318ab-4d4d-4c39-bc38-680d2f393081",
   "metadata": {},
   "outputs": [],
   "source": []
  },
  {
   "cell_type": "code",
   "execution_count": null,
   "id": "e1d4237e-9579-40b1-ab49-41089f000330",
   "metadata": {},
   "outputs": [],
   "source": []
  },
  {
   "cell_type": "code",
   "execution_count": null,
   "id": "981f3211-a7aa-4941-8a2c-a71403d8d074",
   "metadata": {},
   "outputs": [],
   "source": []
  },
  {
   "cell_type": "code",
   "execution_count": null,
   "id": "e8d1d094-efd0-4b6c-8794-4e971bd8c106",
   "metadata": {},
   "outputs": [],
   "source": []
  },
  {
   "cell_type": "code",
   "execution_count": null,
   "id": "944c1ff3-0cc8-41a6-9ee2-36aec4359626",
   "metadata": {},
   "outputs": [],
   "source": []
  },
  {
   "cell_type": "code",
   "execution_count": null,
   "id": "2864ca47-6d54-4213-a3d0-4307cea5bab8",
   "metadata": {},
   "outputs": [],
   "source": []
  },
  {
   "cell_type": "code",
   "execution_count": null,
   "id": "f345df5c-e86a-4aa3-ad39-9a1f15b66487",
   "metadata": {},
   "outputs": [],
   "source": []
  },
  {
   "cell_type": "code",
   "execution_count": null,
   "id": "95caeff8-18b5-42f0-a2bd-61c0fa11027a",
   "metadata": {},
   "outputs": [],
   "source": []
  },
  {
   "cell_type": "code",
   "execution_count": null,
   "id": "1248ed2f-2854-42f6-878c-fd16a19c8549",
   "metadata": {},
   "outputs": [],
   "source": []
  },
  {
   "cell_type": "code",
   "execution_count": null,
   "id": "c6b64fdc-9631-4a8a-8f78-210f521c473b",
   "metadata": {},
   "outputs": [],
   "source": []
  }
 ],
 "metadata": {
  "kernelspec": {
   "display_name": "Python [conda env:base] *",
   "language": "python",
   "name": "conda-base-py"
  },
  "language_info": {
   "codemirror_mode": {
    "name": "ipython",
    "version": 3
   },
   "file_extension": ".py",
   "mimetype": "text/x-python",
   "name": "python",
   "nbconvert_exporter": "python",
   "pygments_lexer": "ipython3",
   "version": "3.10.14"
  }
 },
 "nbformat": 4,
 "nbformat_minor": 5
}
