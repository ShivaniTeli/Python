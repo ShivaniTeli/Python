{
 "cells": [
  {
   "cell_type": "markdown",
   "id": "5ce2091d-1495-4375-82ec-744a9d1af589",
   "metadata": {},
   "source": [
    "# String\n",
    "\n",
    "-Anything written inside '..',\"....\",'''....''',\"\"\"...\"\"\""
   ]
  },
  {
   "cell_type": "code",
   "execution_count": 38,
   "id": "59514d44-2520-4374-8131-5b7482b9f1ae",
   "metadata": {},
   "outputs": [
    {
     "name": "stdout",
     "output_type": "stream",
     "text": [
      "Hello <class 'str'>\n"
     ]
    }
   ],
   "source": [
    "a = 'Hello' \n",
    "print(a,type(a))"
   ]
  },
  {
   "cell_type": "code",
   "execution_count": null,
   "id": "394cf85c-01e3-43a0-b15f-0405838f073f",
   "metadata": {},
   "outputs": [],
   "source": [
    "#properties of string\n",
    "\n",
    "-It is an sequence\n",
    "-It allows us to perform indexing,slicing\n",
    "\n",
    "--->Indexing - extracting or accessing single char at a time\n",
    "--->Slicing -  extracting or accessing multiple char at a time"
   ]
  },
  {
   "cell_type": "code",
   "execution_count": 40,
   "id": "34b79d73-f77e-4acf-b14c-402398d393ff",
   "metadata": {},
   "outputs": [
    {
     "name": "stdout",
     "output_type": "stream",
     "text": [
      "h\n",
      "h\n"
     ]
    }
   ],
   "source": [
    "# Indexing\n",
    "a = 'python'\n",
    "\n",
    "print(a[3])\n",
    "print(a[-3])"
   ]
  },
  {
   "cell_type": "code",
   "execution_count": 66,
   "id": "cf98fc46-11f7-4c46-aeb5-b40ebd22de59",
   "metadata": {},
   "outputs": [
    {
     "name": "stdout",
     "output_type": "stream",
     "text": [
      "data\n",
      "data\n",
      "data\n",
      "data\n"
     ]
    }
   ],
   "source": [
    "# Slicing   [start(inclusive):stop(exclusive):step(1)]\n",
    "a = 'data science'\n",
    "print(a[0:4])\n",
    "print(a[-12:-8])\n",
    "print(a[0:-8])\n",
    "print(a[-12:4])"
   ]
  },
  {
   "cell_type": "code",
   "execution_count": 70,
   "id": "d5962dec-6b30-42d9-a2b0-e62857040463",
   "metadata": {},
   "outputs": [
    {
     "name": "stdout",
     "output_type": "stream",
     "text": [
      "scie\n",
      "scie\n",
      "scie\n",
      "scie\n"
     ]
    }
   ],
   "source": [
    "a = 'data science'\n",
    "print(a[5:9])\n",
    "print(a[-7:-3])\n",
    "print(a[5:-3])\n",
    "print(a[-7:9])"
   ]
  },
  {
   "cell_type": "code",
   "execution_count": 74,
   "id": "2bcd7db3-f3ef-4456-80c0-782ec7c923f0",
   "metadata": {},
   "outputs": [
    {
     "name": "stdout",
     "output_type": "stream",
     "text": [
      "aacec\n"
     ]
    }
   ],
   "source": [
    "a = 'datascience'\n",
    "print(a[1:12:2])"
   ]
  },
  {
   "cell_type": "code",
   "execution_count": 102,
   "id": "f60d7adf-d245-4e57-ae64-c216660b13f3",
   "metadata": {},
   "outputs": [
    {
     "name": "stdout",
     "output_type": "stream",
     "text": [
      "atad\n",
      "atad\n",
      "atad\n"
     ]
    }
   ],
   "source": [
    "a = 'datascience'\n",
    "print(a[3:-12:-1])\n",
    "print(a[-8:-12:-1])\n",
    "print(a[3::-1])"
   ]
  },
  {
   "cell_type": "code",
   "execution_count": 128,
   "id": "b4198303-92cf-44b8-9d8e-2109df49503e",
   "metadata": {},
   "outputs": [
    {
     "name": "stdout",
     "output_type": "stream",
     "text": [
      "01\n",
      "01\n",
      "01\n",
      "01\n",
      "01\n",
      "01\n"
     ]
    }
   ],
   "source": [
    "# 01-06-2025\n",
    "\n",
    "a = \"01-06-2025\"\n",
    "print(a[0:2])\n",
    "print(a[0:-8])\n",
    "print(a[-10:-8])\n",
    "print(a[-10:2])\n",
    "print(a[:2])\n",
    "print(a[:-8])"
   ]
  },
  {
   "cell_type": "code",
   "execution_count": 148,
   "id": "6a0012f4-3e46-4e23-a51a-3d562845418d",
   "metadata": {},
   "outputs": [
    {
     "name": "stdout",
     "output_type": "stream",
     "text": [
      "10\n",
      "10\n",
      "10\n",
      "10\n"
     ]
    }
   ],
   "source": [
    "# 01-06-2025\n",
    "\n",
    "a = \"01-06-2025\"\n",
    "print(a[1:-11:-1])\n",
    "print(a[1::-1])\n",
    "print(a[-9::-1])\n",
    "print(a[-9:-11:-1])"
   ]
  },
  {
   "cell_type": "code",
   "execution_count": 168,
   "id": "b3ac397e-70af-4723-9b6b-fa14eb10322b",
   "metadata": {},
   "outputs": [
    {
     "name": "stdin",
     "output_type": "stream",
     "text": [
      "Enter data:  racecar\n"
     ]
    },
    {
     "name": "stdout",
     "output_type": "stream",
     "text": [
      "palindrome\n"
     ]
    }
   ],
   "source": [
    "a = input(\"Enter data: \")\n",
    "if (a == a[::-1]):\n",
    "    print(\"palindrome\")\n",
    "else:\n",
    "    print(\"Not palindrome\")"
   ]
  },
  {
   "cell_type": "markdown",
   "id": "0ae1ed67-c7e2-409a-b54b-770decc707a7",
   "metadata": {},
   "source": [
    "# Properties of String\n",
    "- sequence data type --->allows us to perform indexing and slicing\n",
    "- I t allows us to perform basic operations such as concatenation,repetation,membership oprator, identity operator\n",
    "\n",
    "## Note - string is immutable data type"
   ]
  },
  {
   "cell_type": "code",
   "execution_count": null,
   "id": "327280dc-345f-4809-b80d-ae91c783f02a",
   "metadata": {},
   "outputs": [],
   "source": [
    "# Concatenation\n",
    "# op ----> +\n",
    "#operands --->both should be a string"
   ]
  },
  {
   "cell_type": "code",
   "execution_count": 176,
   "id": "9af911f3-d6d0-459b-937b-897ad3faf569",
   "metadata": {},
   "outputs": [
    {
     "name": "stdout",
     "output_type": "stream",
     "text": [
      "Hello\tWorld\n"
     ]
    }
   ],
   "source": [
    "a = \"Hello\\t\"\n",
    "b = \"World\"\n",
    "\n",
    "print(a+b)"
   ]
  },
  {
   "cell_type": "code",
   "execution_count": null,
   "id": "e6233e22-60fa-4dbd-ac58-4107e6568045",
   "metadata": {},
   "outputs": [],
   "source": [
    "#repetation\n",
    "- operator ---> *\n",
    "- operand ----->one should be string and another should be integer"
   ]
  },
  {
   "cell_type": "code",
   "execution_count": 178,
   "id": "1d1fc980-7b5f-46ce-87da-0fd41cfc80a3",
   "metadata": {},
   "outputs": [
    {
     "name": "stdout",
     "output_type": "stream",
     "text": [
      "PythonPythonPython\n"
     ]
    }
   ],
   "source": [
    "a = \"Python\"\n",
    "b = 3\n",
    "print(a * b)"
   ]
  },
  {
   "cell_type": "code",
   "execution_count": 182,
   "id": "a14f99a1-000e-41ac-91c2-d7ecd81b026b",
   "metadata": {},
   "outputs": [
    {
     "name": "stdout",
     "output_type": "stream",
     "text": [
      "pppppp\n",
      "yyyyy\n",
      "tttt\n",
      "hhh\n",
      "oo\n",
      "n\n"
     ]
    }
   ],
   "source": [
    "a = \"python\"\n",
    "print(a[0] * 6)\n",
    "print(a[1] * 5)\n",
    "print(a[2] * 4)\n",
    "print(a[3] * 3)\n",
    "print(a[4] * 2)\n",
    "print(a[5] * 1)\n",
    "\n"
   ]
  },
  {
   "cell_type": "code",
   "execution_count": null,
   "id": "d9456154-ba4f-40e8-b4a0-a22c3dd81fce",
   "metadata": {},
   "outputs": [],
   "source": [
    "#Membership \n",
    "- operator ---> in,not in\n",
    "- returns true if the sub seq is present in the seq else false"
   ]
  },
  {
   "cell_type": "code",
   "execution_count": 184,
   "id": "511531a5-de9e-4f9a-8c50-58a8cb321589",
   "metadata": {},
   "outputs": [
    {
     "name": "stdout",
     "output_type": "stream",
     "text": [
      "True\n"
     ]
    }
   ],
   "source": [
    "a = \"Hello, We are learning Python\"\n",
    "print('Python' in a)"
   ]
  },
  {
   "cell_type": "code",
   "execution_count": 186,
   "id": "db5851c3-a557-469b-a986-c52e853d78de",
   "metadata": {},
   "outputs": [
    {
     "name": "stdout",
     "output_type": "stream",
     "text": [
      "True\n"
     ]
    }
   ],
   "source": [
    "b = \"Hello World\"\n",
    "print('d' in b)"
   ]
  },
  {
   "cell_type": "code",
   "execution_count": 188,
   "id": "0d1ee1b5-29cf-474f-93ca-23dd87e48440",
   "metadata": {},
   "outputs": [
    {
     "name": "stdout",
     "output_type": "stream",
     "text": [
      "True\n",
      "True\n",
      "True\n"
     ]
    }
   ],
   "source": [
    "a = 'python'\n",
    "b = 'python'\n",
    "\n",
    "print(a is b)   #identity--->memory address\n",
    "print(a == b)   #assignment--->value assigning\n",
    "print(a in b)   #membership----> sabseq present in seq"
   ]
  },
  {
   "cell_type": "code",
   "execution_count": 190,
   "id": "5cd4016e-1ca2-4bb9-9353-b5631228c1ea",
   "metadata": {},
   "outputs": [
    {
     "name": "stdout",
     "output_type": "stream",
     "text": [
      "False\n",
      "True\n",
      "True\n"
     ]
    }
   ],
   "source": [
    "a = 'python java'\n",
    "b = 'python java'\n",
    "\n",
    "print(a is b)   #identity--->memory address\n",
    "print(a == b)   #assignment--->value assigning\n",
    "print(a in b)   #membership----> sabseq present in seq"
   ]
  },
  {
   "cell_type": "code",
   "execution_count": 194,
   "id": "cba4fdf4-0f89-4c0c-8668-8c0a61725965",
   "metadata": {},
   "outputs": [
    {
     "name": "stdout",
     "output_type": "stream",
     "text": [
      "False\n",
      "False\n",
      "True\n"
     ]
    }
   ],
   "source": [
    "a = 'java'\n",
    "b = 'python java'\n",
    "\n",
    "print(a is b)   #identity--->memory address\n",
    "print(a == b)   #assignment--->value assigning\n",
    "print(a in b)   #membership----> sabseq present in seq"
   ]
  },
  {
   "cell_type": "markdown",
   "id": "e1cee493-74c3-4b7b-aa23-5862f114b6b8",
   "metadata": {},
   "source": [
    "# A string is immutable datatype"
   ]
  },
  {
   "cell_type": "code",
   "execution_count": 221,
   "id": "94f6ae9b-2452-4be8-9f16-326855d33752",
   "metadata": {},
   "outputs": [
    {
     "name": "stdout",
     "output_type": "stream",
     "text": [
      "t\n"
     ]
    }
   ],
   "source": [
    "#it will never change\n",
    "a = \"python\"\n",
    "print(a[2]='i')"
   ]
  },
  {
   "cell_type": "code",
   "execution_count": 215,
   "id": "6073caaa-a2cf-4e9e-a9ee-387e80531c9c",
   "metadata": {},
   "outputs": [
    {
     "data": {
      "text/plain": [
       "'jython'"
      ]
     },
     "execution_count": 215,
     "metadata": {},
     "output_type": "execute_result"
    }
   ],
   "source": [
    "a = \"python\"\n",
    "a.replace('p','j')"
   ]
  },
  {
   "cell_type": "code",
   "execution_count": 217,
   "id": "44b7befd-83b6-4d28-ae2f-1f0bebefc50f",
   "metadata": {},
   "outputs": [
    {
     "data": {
      "text/plain": [
       "'PYTHON'"
      ]
     },
     "execution_count": 217,
     "metadata": {},
     "output_type": "execute_result"
    }
   ],
   "source": [
    "a = \"python\"\n",
    "a.upper()"
   ]
  },
  {
   "cell_type": "code",
   "execution_count": 219,
   "id": "74d99b80-444d-4e54-a84a-4f9545d9f3ed",
   "metadata": {},
   "outputs": [
    {
     "data": {
      "text/plain": [
       "'twitter'"
      ]
     },
     "execution_count": 219,
     "metadata": {},
     "output_type": "execute_result"
    }
   ],
   "source": [
    "a = \"TWITTER\"\n",
    "a.lower()"
   ]
  },
  {
   "cell_type": "markdown",
   "id": "10ce66c6-5959-4faa-beca-a3880e582a10",
   "metadata": {},
   "source": [
    "# Methods of String"
   ]
  },
  {
   "cell_type": "code",
   "execution_count": 3,
   "id": "2029b57f-de54-4d50-a381-0079ea4b24e1",
   "metadata": {},
   "outputs": [
    {
     "name": "stdout",
     "output_type": "stream",
     "text": [
      "['__add__', '__class__', '__contains__', '__delattr__', '__dir__', '__doc__', '__eq__', '__format__', '__ge__', '__getattribute__', '__getitem__', '__getnewargs__', '__gt__', '__hash__', '__init__', '__init_subclass__', '__iter__', '__le__', '__len__', '__lt__', '__mod__', '__mul__', '__ne__', '__new__', '__reduce__', '__reduce_ex__', '__repr__', '__rmod__', '__rmul__', '__setattr__', '__sizeof__', '__str__', '__subclasshook__', 'capitalize', 'casefold', 'center', 'count', 'encode', 'endswith', 'expandtabs', 'find', 'format', 'format_map', 'index', 'isalnum', 'isalpha', 'isascii', 'isdecimal', 'isdigit', 'isidentifier', 'islower', 'isnumeric', 'isprintable', 'isspace', 'istitle', 'isupper', 'join', 'ljust', 'lower', 'lstrip', 'maketrans', 'partition', 'removeprefix', 'removesuffix', 'replace', 'rfind', 'rindex', 'rjust', 'rpartition', 'rsplit', 'rstrip', 'split', 'splitlines', 'startswith', 'strip', 'swapcase', 'title', 'translate', 'upper', 'zfill']\n"
     ]
    }
   ],
   "source": [
    "print(dir(str))"
   ]
  },
  {
   "cell_type": "code",
   "execution_count": 9,
   "id": "22666aca-d745-4271-8fd7-cc11546d0b55",
   "metadata": {},
   "outputs": [
    {
     "name": "stdout",
     "output_type": "stream",
     "text": [
      "This is a python class\n"
     ]
    }
   ],
   "source": [
    "# 1.capitalize\n",
    "a = \"this is a python class\"\n",
    "print(a.capitalize())"
   ]
  },
  {
   "cell_type": "code",
   "execution_count": 11,
   "id": "40ec3867-ca09-4c4c-a0c7-f251e776994b",
   "metadata": {},
   "outputs": [
    {
     "data": {
      "text/plain": [
       "'PYTHON'"
      ]
     },
     "execution_count": 11,
     "metadata": {},
     "output_type": "execute_result"
    }
   ],
   "source": [
    "# upper\n",
    "a = \"python\"\n",
    "a.upper()"
   ]
  },
  {
   "cell_type": "code",
   "execution_count": 15,
   "id": "c0155ad1-a748-4b0c-80e3-c8f9c4fa8b48",
   "metadata": {},
   "outputs": [
    {
     "data": {
      "text/plain": [
       "'Its A Python'"
      ]
     },
     "execution_count": 15,
     "metadata": {},
     "output_type": "execute_result"
    }
   ],
   "source": [
    "# title\n",
    "a = \"its a python\"\n",
    "a.title()"
   ]
  },
  {
   "cell_type": "code",
   "execution_count": 19,
   "id": "00214975-e525-411a-9b9f-01956142db33",
   "metadata": {},
   "outputs": [
    {
     "data": {
      "text/plain": [
       "'toy'"
      ]
     },
     "execution_count": 19,
     "metadata": {},
     "output_type": "execute_result"
    }
   ],
   "source": [
    "#lower\n",
    "a = \"TOY\"\n",
    "a.lower()"
   ]
  },
  {
   "cell_type": "code",
   "execution_count": 29,
   "id": "ef697a31-ea96-4b52-8f18-42e684c33dd1",
   "metadata": {},
   "outputs": [
    {
     "name": "stdin",
     "output_type": "stream",
     "text": [
      "Enter user name: Xyz@gmail.com\n",
      "Enter password demo123\n"
     ]
    },
    {
     "name": "stdout",
     "output_type": "stream",
     "text": [
      "Logged in\n"
     ]
    }
   ],
   "source": [
    "u_name = \"xyz@gmail.com\"\n",
    "password = \"demo123\"\n",
    "\n",
    "a = input(\"Enter user name:\").lower()\n",
    "b = input(\"Enter password\")\n",
    "if (u_name == a) and (password ==b):\n",
    "    print(\"Logged in\")\n",
    "else:\n",
    "    print(\"Incorrect Data\")"
   ]
  },
  {
   "cell_type": "markdown",
   "id": "30077eb4-aac6-499b-8b5a-b96fed28cd9e",
   "metadata": {},
   "source": [
    "# Methods that return bool"
   ]
  },
  {
   "cell_type": "code",
   "execution_count": 51,
   "id": "6a1e204f-3786-49f2-bbb9-303cd140b135",
   "metadata": {},
   "outputs": [
    {
     "name": "stdout",
     "output_type": "stream",
     "text": [
      "True\n",
      "True\n",
      "True\n",
      "False\n"
     ]
    }
   ],
   "source": [
    "# is alnum\n",
    "\"\"\" print(value, ..., sep=' ', end='\\n', file=sys.stdout, flush=False)\n",
    "\n",
    "Prints the values to a stream, or to sys.stdout by default.\n",
    "Optional keyword arguments:\n",
    "file:  a file-like object (stream); defaults to the current sys.stdout.\n",
    "sep:   string inserted between values, default a space.\n",
    "end:   string appended after the last value, default a newline.\n",
    "flush: whether to forcibly flush the stream.\n",
    "Type:      builtin_function_or_method\"\"\"\n",
    "\n",
    "s1 = 'abc'\n",
    "s2 = '45678'\n",
    "s3 = 'asd123'\n",
    "s4 = '%$'\n",
    "print(s1.isalnum())\n",
    "print(s2.isalnum())\n",
    "print(s3.isalnum())\n",
    "print(s4.isalnum())"
   ]
  },
  {
   "cell_type": "code",
   "execution_count": 53,
   "id": "e03a6c14-748d-4d5e-8377-57df888fab9b",
   "metadata": {},
   "outputs": [
    {
     "name": "stdout",
     "output_type": "stream",
     "text": [
      "False\n",
      "True\n",
      "False\n",
      "False\n"
     ]
    }
   ],
   "source": [
    "# is digit\n",
    "\"\"\"print(value, ..., sep=' ', end='\\n', file=sys.stdout, flush=False)\n",
    "\n",
    "Prints the values to a stream, or to sys.stdout by default.\n",
    "Optional keyword arguments:\n",
    "file:  a file-like object (stream); defaults to the current sys.stdout.\n",
    "sep:   string inserted between values, default a space.\n",
    "end:   string appended after the last value, default a newline.\n",
    "flush: whether to forcibly flush the stream.\n",
    "Type:      builtin_function_or_method\"\"\"\n",
    "\n",
    "s1 = 'abc'\n",
    "s2 = '45678'\n",
    "s3 = 'asd123'\n",
    "s4 = '%$'\n",
    "print(s1.isdigit())\n",
    "print(s2.isdigit())\n",
    "print(s3.isdigit())\n",
    "print(s4.isdigit())"
   ]
  },
  {
   "cell_type": "markdown",
   "id": "dec8c6e5-5878-4e33-aab8-ccfdf48c7ae3",
   "metadata": {},
   "source": [
    "# starts with"
   ]
  },
  {
   "cell_type": "code",
   "execution_count": 58,
   "id": "0cf634cc-fc7a-4adc-b9ad-55fe9c92f42e",
   "metadata": {},
   "outputs": [
    {
     "name": "stdout",
     "output_type": "stream",
     "text": [
      "True\n"
     ]
    }
   ],
   "source": [
    "a = \"hello world\"\n",
    "print(a.startswith('h'))"
   ]
  },
  {
   "cell_type": "code",
   "execution_count": 66,
   "id": "61eaaeb3-1996-41ad-befa-49d74e44bf6c",
   "metadata": {},
   "outputs": [
    {
     "name": "stdout",
     "output_type": "stream",
     "text": [
      "True\n"
     ]
    }
   ],
   "source": [
    "a = \"hello world\"\n",
    "print(a.startswith('wor',6))"
   ]
  },
  {
   "cell_type": "markdown",
   "id": "4e9e6980-37e5-489d-a596-24bdcaea2f3f",
   "metadata": {},
   "source": [
    "# Ends with\n"
   ]
  },
  {
   "cell_type": "code",
   "execution_count": 75,
   "id": "f891d140-9201-42f6-8056-7d57b51fcec2",
   "metadata": {},
   "outputs": [
    {
     "name": "stdout",
     "output_type": "stream",
     "text": [
      "True\n"
     ]
    }
   ],
   "source": [
    "a = \"hello world\"\n",
    "print(a.endswith('ld'))"
   ]
  },
  {
   "cell_type": "code",
   "execution_count": 77,
   "id": "e84f4cbd-49a9-4633-9223-e76ca1e93514",
   "metadata": {},
   "outputs": [
    {
     "name": "stdout",
     "output_type": "stream",
     "text": [
      "True\n"
     ]
    }
   ],
   "source": [
    "a = \"hello world\"\n",
    "print(a.endswith('llo',0,5))"
   ]
  },
  {
   "cell_type": "markdown",
   "id": "4fd14e4c-e4c1-4125-9658-35872fd46736",
   "metadata": {},
   "source": [
    "# find,rfind,lfind,rindex"
   ]
  },
  {
   "cell_type": "code",
   "execution_count": 100,
   "id": "28ef551d-77b4-4051-bed8-a1e69906174f",
   "metadata": {},
   "outputs": [
    {
     "data": {
      "text/plain": [
       "3"
      ]
     },
     "execution_count": 100,
     "metadata": {},
     "output_type": "execute_result"
    }
   ],
   "source": [
    "a = 'abc@gmail.com'\n",
    "\n",
    "a.find(\"@\") #left to right...it will return first left value "
   ]
  },
  {
   "cell_type": "code",
   "execution_count": 116,
   "id": "e7e9d432-5ce4-426e-8aac-610b0769017e",
   "metadata": {},
   "outputs": [
    {
     "name": "stdout",
     "output_type": "stream",
     "text": [
      "9\n",
      "-1\n"
     ]
    }
   ],
   "source": [
    "a = 'abc@gmail@.com'\n",
    "\n",
    "print(a.rfind(\"@\"))#right to left...it will return first left value \n",
    "\n",
    "print(a.find(\"%\"))"
   ]
  },
  {
   "cell_type": "code",
   "execution_count": 110,
   "id": "341f9259-8ed2-4b44-9607-a1037ec203d9",
   "metadata": {},
   "outputs": [
    {
     "data": {
      "text/plain": [
       "3"
      ]
     },
     "execution_count": 110,
     "metadata": {},
     "output_type": "execute_result"
    }
   ],
   "source": [
    "a = 'abc@gmail@.com'\n",
    "\n",
    "a.index(\"@\") ##left to right...it will return first left value "
   ]
  },
  {
   "cell_type": "code",
   "execution_count": 112,
   "id": "d729f0b2-e8f9-4882-9822-7c99e5af2527",
   "metadata": {},
   "outputs": [
    {
     "data": {
      "text/plain": [
       "9"
      ]
     },
     "execution_count": 112,
     "metadata": {},
     "output_type": "execute_result"
    }
   ],
   "source": [
    "a = 'abc@gmail@.com'\n",
    "\n",
    "a.rindex(\"@\")#right to left...it will return first left value "
   ]
  },
  {
   "cell_type": "markdown",
   "id": "fc3ac401-5761-44d3-8f65-db8bf4b81106",
   "metadata": {},
   "source": [
    "# Index----->if charcter is not present it will return error\n",
    "# find------>if charcter is not present it will return -1"
   ]
  },
  {
   "cell_type": "code",
   "execution_count": 5,
   "id": "3887fc95-4328-4fda-bee0-d1435d881f8f",
   "metadata": {},
   "outputs": [
    {
     "name": "stdout",
     "output_type": "stream",
     "text": [
      "siya\n",
      "piya\n",
      "treta\n",
      "abhay\n"
     ]
    }
   ],
   "source": [
    "lst = [\"siya@gmail.com\",\"piya@gmail.com\",\"treta@yahoo.com\",\"abhay@hotmail.com\"]\n",
    "\n",
    "for i in lst:\n",
    "    print(i[0 : i.find('@')])"
   ]
  },
  {
   "cell_type": "code",
   "execution_count": 9,
   "id": "5d87d502-6eda-4337-9bb7-417fc6e5a29b",
   "metadata": {},
   "outputs": [
    {
     "name": "stdout",
     "output_type": "stream",
     "text": [
      "shiv\n"
     ]
    }
   ],
   "source": [
    "a = \"shivani\"\n",
    "print(a[0:4])"
   ]
  },
  {
   "cell_type": "code",
   "execution_count": 11,
   "id": "004fff12-28ae-42d1-8be2-bfc41a38a018",
   "metadata": {},
   "outputs": [
    {
     "name": "stdout",
     "output_type": "stream",
     "text": [
      "inavihS\n"
     ]
    }
   ],
   "source": [
    "x = \"Shivani\"\n",
    "print(x[::-1])"
   ]
  },
  {
   "cell_type": "markdown",
   "id": "d789cc19-d0b4-471d-8aa6-48bae436a224",
   "metadata": {},
   "source": [
    "# Strip, lstrip, rstrip"
   ]
  },
  {
   "cell_type": "code",
   "execution_count": 31,
   "id": "c42699c2-6b6d-4aff-9512-771a059a0c2e",
   "metadata": {},
   "outputs": [
    {
     "data": {
      "text/plain": [
       "'pyth*on'"
      ]
     },
     "execution_count": 31,
     "metadata": {},
     "output_type": "execute_result"
    }
   ],
   "source": [
    "a = '*****pyth*on***************'\n",
    "a.strip('*')"
   ]
  },
  {
   "cell_type": "code",
   "execution_count": 37,
   "id": "be1ada1e-38cb-496b-97ce-a3ac7839acef",
   "metadata": {},
   "outputs": [
    {
     "name": "stdout",
     "output_type": "stream",
     "text": [
      "demo_for_strip\n"
     ]
    }
   ],
   "source": [
    "a = \"          demo_for_strip    \"\n",
    "print(a.strip())"
   ]
  },
  {
   "cell_type": "code",
   "execution_count": 47,
   "id": "97e08037-df34-4d4f-93a0-c1556afa4493",
   "metadata": {},
   "outputs": [
    {
     "name": "stdout",
     "output_type": "stream",
     "text": [
      "p\n",
      "y\n",
      "t\n",
      "h\n",
      "o\n",
      "n\n"
     ]
    }
   ],
   "source": [
    "a = '***********pyt*hon*******'\n",
    "for i in a:\n",
    "    if i != '*':\n",
    "        print(i)"
   ]
  },
  {
   "cell_type": "code",
   "execution_count": 17,
   "id": "a579a445-c0be-4d55-bdf1-7648c6c81bb3",
   "metadata": {},
   "outputs": [
    {
     "data": {
      "text/plain": [
       "' 00009123456000'"
      ]
     },
     "execution_count": 17,
     "metadata": {},
     "output_type": "execute_result"
    }
   ],
   "source": [
    "a = \" 00009123456000\"\n",
    "a.lstrip('0')"
   ]
  },
  {
   "cell_type": "code",
   "execution_count": 57,
   "id": "8a913ce2-b16b-459f-aa71-e7049fec583d",
   "metadata": {},
   "outputs": [
    {
     "name": "stdout",
     "output_type": "stream",
     "text": [
      " ****************demo_for_rstrip\n"
     ]
    }
   ],
   "source": [
    "a = \" ****************demo_for_rstrip**********\"\n",
    "print(a.rstrip('*'))"
   ]
  },
  {
   "cell_type": "markdown",
   "id": "04557e40-4a8e-4cfd-baed-4cdb3984a64b",
   "metadata": {},
   "source": [
    "# ljust, rjust"
   ]
  },
  {
   "cell_type": "code",
   "execution_count": 23,
   "id": "b7f4ce63-5fbf-4455-876d-21a605c300a5",
   "metadata": {},
   "outputs": [
    {
     "data": {
      "text/plain": [
       "'python****'"
      ]
     },
     "execution_count": 23,
     "metadata": {},
     "output_type": "execute_result"
    }
   ],
   "source": [
    "a = \"python\"\n",
    "a.ljust(10,'*')"
   ]
  },
  {
   "cell_type": "code",
   "execution_count": 25,
   "id": "5489aa30-e5da-46f1-b1b7-ffb485c6076f",
   "metadata": {},
   "outputs": [
    {
     "data": {
      "text/plain": [
       "'python    '"
      ]
     },
     "execution_count": 25,
     "metadata": {},
     "output_type": "execute_result"
    }
   ],
   "source": [
    "a = \"python\"\n",
    "a.ljust(10)"
   ]
  },
  {
   "cell_type": "code",
   "execution_count": 27,
   "id": "5fa59f42-fed0-4c48-b57e-14d62c25a14d",
   "metadata": {},
   "outputs": [
    {
     "data": {
      "text/plain": [
       "'****python'"
      ]
     },
     "execution_count": 27,
     "metadata": {},
     "output_type": "execute_result"
    }
   ],
   "source": [
    "a = \"python\"\n",
    "a.rjust(10,'*')"
   ]
  },
  {
   "cell_type": "markdown",
   "id": "8cc2450b-1157-4c59-a216-2cb133d3ca41",
   "metadata": {},
   "source": [
    "# Replace"
   ]
  },
  {
   "cell_type": "code",
   "execution_count": 57,
   "id": "cb4fc982-25cb-4e1a-bbbf-2892160ccb66",
   "metadata": {},
   "outputs": [
    {
     "data": {
      "text/plain": [
       "'This is jython class, jython is an jrogramming language, jython has an easy syntax'"
      ]
     },
     "execution_count": 57,
     "metadata": {},
     "output_type": "execute_result"
    }
   ],
   "source": [
    "a = \"This is python class, python is an programming language, python has an easy syntax\"\n",
    "\n",
    "a .replace('p','j')\n"
   ]
  },
  {
   "cell_type": "code",
   "execution_count": 61,
   "id": "b8219773-baf6-4aab-a492-b372e027704a",
   "metadata": {},
   "outputs": [
    {
     "data": {
      "text/plain": [
       "'This is java class, java is an programming language, java has an easy syntax'"
      ]
     },
     "execution_count": 61,
     "metadata": {},
     "output_type": "execute_result"
    }
   ],
   "source": [
    "a = \"This is python class, python is an programming language, python has an easy syntax\"\n",
    "a .replace('python','java')"
   ]
  },
  {
   "cell_type": "code",
   "execution_count": 63,
   "id": "212dc5c7-d34c-44b3-9d5b-5d592addf378",
   "metadata": {},
   "outputs": [
    {
     "data": {
      "text/plain": [
       "'This is java class, python is an programming language, python has an easy syntax'"
      ]
     },
     "execution_count": 63,
     "metadata": {},
     "output_type": "execute_result"
    }
   ],
   "source": [
    "a = \"This is python class, python is an programming language, python has an easy syntax\"\n",
    "a .replace('python','java',1)"
   ]
  },
  {
   "cell_type": "markdown",
   "id": "e99eae9b-02ee-4267-bc14-741222e3923f",
   "metadata": {},
   "source": [
    "# Split\n",
    "- by default it split the string according to the white spaces\n",
    "- It return you the list"
   ]
  },
  {
   "cell_type": "code",
   "execution_count": 66,
   "id": "b3d73690-c167-4124-9a09-246baa4e7684",
   "metadata": {},
   "outputs": [
    {
     "name": "stdout",
     "output_type": "stream",
     "text": [
      "['This is python class', ' python is an programming language', ' python has an easy syntax']\n"
     ]
    }
   ],
   "source": [
    "a = \"This is python class, python is an programming language, python has an easy syntax\"\n",
    "print(a.split(','))"
   ]
  },
  {
   "cell_type": "code",
   "execution_count": 74,
   "id": "3eaf3a5d-2611-4564-ab25-6cce7179661a",
   "metadata": {},
   "outputs": [
    {
     "name": "stdout",
     "output_type": "stream",
     "text": [
      "['This', 'is', 'python', 'class,', 'python', 'is', 'an', 'programming', 'language,', 'python', 'has', 'an', 'easy', 'syntax']\n"
     ]
    }
   ],
   "source": [
    "a = \"This is python class, python is an programming language, python has an easy syntax\"\n",
    "print(a.split())"
   ]
  },
  {
   "cell_type": "code",
   "execution_count": 7,
   "id": "76d98fb2-a2ea-4b5d-8c1e-0c88eb61ef2a",
   "metadata": {},
   "outputs": [
    {
     "data": {
      "text/plain": [
       "['This',\n",
       " 'is',\n",
       " 'python',\n",
       " 'class,',\n",
       " 'python',\n",
       " 'is',\n",
       " 'an',\n",
       " 'programming',\n",
       " 'language,',\n",
       " 'python',\n",
       " 'has',\n",
       " 'an',\n",
       " 'easy',\n",
       " 'syntax']"
      ]
     },
     "execution_count": 7,
     "metadata": {},
     "output_type": "execute_result"
    }
   ],
   "source": [
    "a = \"This is python class, python is an programming language, python has an easy syntax\"\n",
    "b = a.split()\n",
    "b"
   ]
  },
  {
   "cell_type": "code",
   "execution_count": 9,
   "id": "9ec77696-2fa4-4fd1-878f-f9037a97a692",
   "metadata": {},
   "outputs": [
    {
     "data": {
      "text/plain": [
       "['This',\n",
       " 'is',\n",
       " 'python',\n",
       " 'class,',\n",
       " 'java',\n",
       " 'is',\n",
       " 'an',\n",
       " 'programming',\n",
       " 'language,',\n",
       " 'python',\n",
       " 'has',\n",
       " 'an',\n",
       " 'easy',\n",
       " 'syntax']"
      ]
     },
     "execution_count": 9,
     "metadata": {},
     "output_type": "execute_result"
    }
   ],
   "source": [
    "b [4] = 'java'\n",
    "b"
   ]
  },
  {
   "cell_type": "markdown",
   "id": "114730fc-647f-405b-9302-c88e3755a16d",
   "metadata": {},
   "source": [
    "# Join"
   ]
  },
  {
   "cell_type": "code",
   "execution_count": 11,
   "id": "b10c0242-dbca-4481-bb26-ab575cf5fbda",
   "metadata": {},
   "outputs": [
    {
     "data": {
      "text/plain": [
       "'This,is,python,class,,java,is,an,programming,language,,python,has,an,easy,syntax'"
      ]
     },
     "execution_count": 11,
     "metadata": {},
     "output_type": "execute_result"
    }
   ],
   "source": [
    "','.join(b)"
   ]
  },
  {
   "cell_type": "code",
   "execution_count": 13,
   "id": "c28a9ca5-c4c3-4d25-b91a-0c1eef493568",
   "metadata": {},
   "outputs": [
    {
     "data": {
      "text/plain": [
       "'This is python class, java is an programming language, python has an easy syntax'"
      ]
     },
     "execution_count": 13,
     "metadata": {},
     "output_type": "execute_result"
    }
   ],
   "source": [
    "' ' .join(b)"
   ]
  },
  {
   "cell_type": "code",
   "execution_count": 31,
   "id": "d4db5013-f105-4119-b00b-10969ccda3a1",
   "metadata": {},
   "outputs": [
    {
     "data": {
      "text/plain": [
       "['17', '06', '2025']"
      ]
     },
     "execution_count": 31,
     "metadata": {},
     "output_type": "execute_result"
    }
   ],
   "source": [
    "a = \"17-06-2025\"\n",
    "b = a.split('-')\n",
    "b"
   ]
  },
  {
   "cell_type": "code",
   "execution_count": 29,
   "id": "576574f8-f66a-4c38-912a-2f677ba6c955",
   "metadata": {},
   "outputs": [
    {
     "data": {
      "text/plain": [
       "'2025-06-17'"
      ]
     },
     "execution_count": 29,
     "metadata": {},
     "output_type": "execute_result"
    }
   ],
   "source": [
    "'-'.join(b[::-1])"
   ]
  },
  {
   "cell_type": "code",
   "execution_count": 35,
   "id": "a089a91d-7a9a-44d1-b09f-89dd37ab5b8b",
   "metadata": {},
   "outputs": [
    {
     "data": {
      "text/plain": [
       "'2025/06/17'"
      ]
     },
     "execution_count": 35,
     "metadata": {},
     "output_type": "execute_result"
    }
   ],
   "source": [
    "a = \"17-06-2025\"\n",
    "\n",
    "'/'.join(a.split('-')[::-1])"
   ]
  },
  {
   "cell_type": "markdown",
   "id": "7c3d12cb-f946-4af1-8603-f618a1546e6f",
   "metadata": {},
   "source": [
    "#Write a Python program to find the total number of times letter 'p' is appeared in the below string:-\n",
    "    \n",
    "#Input:- 'peter piper picked a peck of pickled peppers.'\n",
    "#Output:- 9\n"
   ]
  },
  {
   "cell_type": "code",
   "execution_count": 46,
   "id": "b8bd573b-7113-4fe2-863e-75deb9208ff5",
   "metadata": {},
   "outputs": [
    {
     "name": "stdout",
     "output_type": "stream",
     "text": [
      "9\n"
     ]
    }
   ],
   "source": [
    "input = 'peter piper picked a peck of pickled peppers.'\n",
    "print(input.count('p'))"
   ]
  },
  {
   "cell_type": "markdown",
   "id": "bab1ee91-5ca2-40c6-821b-894bb388167a",
   "metadata": {},
   "source": [
    "#Write a python program to find below output:-\n",
    "\n",
    "#Input:- 'peter piper picked a peck of pickled peppers.'\n",
    "#Output:- 'peppers. pickled of peck a picked piper peter'\n"
   ]
  },
  {
   "cell_type": "code",
   "execution_count": 48,
   "id": "947502fd-4fee-47e4-b9e9-99ab4243a726",
   "metadata": {},
   "outputs": [
    {
     "data": {
      "text/plain": [
       "'peppers. pickled of peck a picked piper peter'"
      ]
     },
     "execution_count": 48,
     "metadata": {},
     "output_type": "execute_result"
    }
   ],
   "source": [
    "input = 'peter piper picked a peck of pickled peppers.'\n",
    "' '.join(input.split()[::-1])\n"
   ]
  },
  {
   "cell_type": "markdown",
   "id": "f9a463b6-af9b-4de8-9d25-b574a1aab3e4",
   "metadata": {},
   "source": [
    "#Write a python program to find below output:-\n",
    "\n",
    "#Input:- 'peter piper picked a peck of pickled peppers.'\n",
    "#Output:- '.sreppep delkcip fo kcep a dekcip repip retep'"
   ]
  },
  {
   "cell_type": "code",
   "execution_count": 74,
   "id": "d6eecb03-1e57-4eec-a6fd-634c5df9e962",
   "metadata": {},
   "outputs": [
    {
     "name": "stdout",
     "output_type": "stream",
     "text": [
      ".sreppep delkcip fo kcep a dekcip repip retep\n"
     ]
    }
   ],
   "source": [
    "str = 'peter piper picked a peck of pickled peppers.'\n",
    "print(str[::-1])"
   ]
  },
  {
   "cell_type": "markdown",
   "id": "94d059fd-9e72-44dd-bd0e-c538bab57771",
   "metadata": {},
   "source": [
    "# Special char\n",
    "#new line = \\n\n",
    "#space = \\t\n",
    "#back space = \\b\n",
    "#carrige return = \\r----->replce left side by right side string"
   ]
  },
  {
   "cell_type": "code",
   "execution_count": 97,
   "id": "a78cc3a7-0fd3-47eb-bd1b-99890ef5a8b0",
   "metadata": {},
   "outputs": [
    {
     "name": "stdout",
     "output_type": "stream",
     "text": [
      "hello\n",
      "python\n"
     ]
    }
   ],
   "source": [
    "a = \"hello\\npython\"\n",
    "print(a)"
   ]
  },
  {
   "cell_type": "code",
   "execution_count": 93,
   "id": "7b339335-f0e8-4164-ae48-973be766c5a8",
   "metadata": {},
   "outputs": [
    {
     "name": "stdout",
     "output_type": "stream",
     "text": [
      "hello\tpython\n"
     ]
    }
   ],
   "source": [
    "a = \"hello\\tpython\"\n",
    "print(a)"
   ]
  },
  {
   "cell_type": "code",
   "execution_count": 95,
   "id": "4482fc78-956d-4f9e-85b1-4cd4a707e0d7",
   "metadata": {},
   "outputs": [
    {
     "name": "stdout",
     "output_type": "stream",
     "text": [
      "hellpython\n"
     ]
    }
   ],
   "source": [
    "a = \"hello\\bpython\"\n",
    "print(a)"
   ]
  },
  {
   "cell_type": "code",
   "execution_count": 103,
   "id": "f6e9be2e-560f-4fca-b9ce-cf09ed9dd04c",
   "metadata": {},
   "outputs": [
    {
     "name": "stdout",
     "output_type": "stream",
     "text": [
      "pytlo\n"
     ]
    }
   ],
   "source": [
    "a = \"hello\\rpyt\"\n",
    "print(a)"
   ]
  },
  {
   "cell_type": "markdown",
   "id": "f8092a15-aca9-4304-a9a7-94225f188018",
   "metadata": {},
   "source": [
    "# Escape char , Back slash"
   ]
  },
  {
   "cell_type": "code",
   "execution_count": 121,
   "id": "1e08d823-5dbe-4809-9b8b-1da9d79b59e9",
   "metadata": {},
   "outputs": [
    {
     "name": "stdout",
     "output_type": "stream",
     "text": [
      "hello\\nworld\n"
     ]
    }
   ],
   "source": [
    "a = \"hello\\\\nworld\"\n",
    "print(a)"
   ]
  },
  {
   "cell_type": "code",
   "execution_count": 123,
   "id": "5229722b-9b5d-4f81-a73c-b48d6efade5d",
   "metadata": {},
   "outputs": [
    {
     "data": {
      "text/plain": [
       "'c:user\\\\new_folder\\testing\\x08ackup.txt'"
      ]
     },
     "execution_count": 123,
     "metadata": {},
     "output_type": "execute_result"
    }
   ],
   "source": [
    "a = \"c:user\\\\new_folder\\testing\\backup.txt\"\n",
    "a"
   ]
  },
  {
   "cell_type": "code",
   "execution_count": 125,
   "id": "3f812642-3efb-4cc5-9899-7d70beccce2b",
   "metadata": {},
   "outputs": [
    {
     "name": "stdout",
     "output_type": "stream",
     "text": [
      "c:user\\new_folder\testinackup.txt\n"
     ]
    }
   ],
   "source": [
    "a = \"c:user\\\\new_folder\\testing\\backup.txt\"\n",
    "print(a)"
   ]
  },
  {
   "cell_type": "code",
   "execution_count": null,
   "id": "46c16a53-ac9f-4c39-85dc-b9d5f6160b2d",
   "metadata": {},
   "outputs": [],
   "source": []
  },
  {
   "cell_type": "code",
   "execution_count": null,
   "id": "78450062-a677-4893-ada3-5d51b253c4e3",
   "metadata": {},
   "outputs": [],
   "source": []
  },
  {
   "cell_type": "code",
   "execution_count": null,
   "id": "7ad523fe-d8bf-4e68-856f-f36e94c9490b",
   "metadata": {},
   "outputs": [],
   "source": []
  },
  {
   "cell_type": "code",
   "execution_count": null,
   "id": "dea67cb6-47cd-44c4-8f38-d7422cd0d115",
   "metadata": {},
   "outputs": [],
   "source": []
  }
 ],
 "metadata": {
  "kernelspec": {
   "display_name": "Python [conda env:base] *",
   "language": "python",
   "name": "conda-base-py"
  },
  "language_info": {
   "codemirror_mode": {
    "name": "ipython",
    "version": 3
   },
   "file_extension": ".py",
   "mimetype": "text/x-python",
   "name": "python",
   "nbconvert_exporter": "python",
   "pygments_lexer": "ipython3",
   "version": "3.10.14"
  }
 },
 "nbformat": 4,
 "nbformat_minor": 5
}
