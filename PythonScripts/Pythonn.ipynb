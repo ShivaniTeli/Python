{
 "cells": [
  {
   "cell_type": "code",
   "execution_count": 4,
   "id": "22eecbdf-32a2-4dfd-b64e-0e00bad0cdf0",
   "metadata": {},
   "outputs": [
    {
     "name": "stdout",
     "output_type": "stream",
     "text": [
      "<class 'list'> ['xyz', 'abc']\n"
     ]
    }
   ],
   "source": [
    "a = ['xyz','abc']\n",
    "print(type(a),a)"
   ]
  },
  {
   "cell_type": "code",
   "execution_count": 6,
   "id": "0cdca710-f730-4792-bb66-b58d7c8000b4",
   "metadata": {},
   "outputs": [
    {
     "name": "stdout",
     "output_type": "stream",
     "text": [
      "<class 'tuple'> ('xyz', 'abc')\n"
     ]
    }
   ],
   "source": [
    "a = ('xyz','abc')\n",
    "print(type(a),a)"
   ]
  },
  {
   "cell_type": "code",
   "execution_count": 14,
   "id": "62f79180-dbca-4eba-b05a-6eab5a4bc2fc",
   "metadata": {},
   "outputs": [
    {
     "name": "stdout",
     "output_type": "stream",
     "text": [
      "{1, 2, 3, 4, 5} <class 'set'>\n",
      "5\n"
     ]
    }
   ],
   "source": [
    "a = {1,2,3,4,5}\n",
    "print(a,type(a))\n",
    "print(len(a))"
   ]
  },
  {
   "cell_type": "code",
   "execution_count": 20,
   "id": "d7aa6ef8-e835-484f-8485-fe14a16f86f1",
   "metadata": {},
   "outputs": [
    {
     "name": "stdout",
     "output_type": "stream",
     "text": [
      "{'name': 'shivani', 'age': 25} <class 'dict'> 2\n"
     ]
    }
   ],
   "source": [
    "a = {\"name\":\"shivani\",\"age\":25}\n",
    "print(a,type(a),len(a))"
   ]
  },
  {
   "cell_type": "code",
   "execution_count": 32,
   "id": "495b7dea-1a0b-462d-a0df-1dbecbb69da1",
   "metadata": {},
   "outputs": [
    {
     "name": "stdout",
     "output_type": "stream",
     "text": [
      "age : 25\n",
      "salary : 100000\n",
      "name : Teli\n"
     ]
    }
   ],
   "source": [
    "a = {\"name\":\"Teli\",\"age\":25,\"salary\":100000}\n",
    "print(\"age :\",a[\"age\"])\n",
    "print(\"salary :\",a[\"salary\"])\n",
    "print(\"name :\",a[\"name\"])"
   ]
  },
  {
   "cell_type": "code",
   "execution_count": 34,
   "id": "f396c584-6a3d-437b-869e-cfff611d7fa0",
   "metadata": {},
   "outputs": [
    {
     "name": "stdout",
     "output_type": "stream",
     "text": [
      "5.5 <class 'float'>\n"
     ]
    }
   ],
   "source": [
    "a = 5.5\n",
    "print(a,type(a))"
   ]
  },
  {
   "cell_type": "code",
   "execution_count": 36,
   "id": "f0ec6894-e2ee-4bc3-ae0c-0333b119c245",
   "metadata": {},
   "outputs": [
    {
     "name": "stdout",
     "output_type": "stream",
     "text": [
      "(2+5j) <class 'complex'>\n"
     ]
    }
   ],
   "source": [
    "b = 2+5j\n",
    "print(b,type(b))"
   ]
  },
  {
   "cell_type": "code",
   "execution_count": 38,
   "id": "b9856165-47b2-4b2f-a1bc-4e4143c614aa",
   "metadata": {},
   "outputs": [
    {
     "name": "stdout",
     "output_type": "stream",
     "text": [
      "True <class 'bool'>\n"
     ]
    }
   ],
   "source": [
    "c = True\n",
    "print(c,type(c))"
   ]
  },
  {
   "cell_type": "code",
   "execution_count": 50,
   "id": "9034d423-ef74-40a4-bbe0-4be9018b960a",
   "metadata": {},
   "outputs": [
    {
     "name": "stdout",
     "output_type": "stream",
     "text": [
      "Hello, Data Scientist!!!\n",
      "<class 'str'>\n"
     ]
    }
   ],
   "source": [
    "temp = \"Hello, Data Scientist!!!\"\n",
    "print(temp)\n",
    "print(type(temp))"
   ]
  },
  {
   "cell_type": "markdown",
   "id": "51b450ef-845d-4971-9c07-977f808c6dd1",
   "metadata": {},
   "source": [
    "# Comments - Expalin the code, Stop execution of some part of code , ctrl + ? =to comment and uncomment mulitple lines\n",
    "1-# = single line comment\n",
    "2-''' .........''' = multiline code\n",
    "3-\"\"\"................\"\"\" = multiline code"
   ]
  },
  {
   "cell_type": "code",
   "execution_count": 53,
   "id": "8ae1ad32-20c5-4f49-9e18-6d4cb8daa1ef",
   "metadata": {},
   "outputs": [
    {
     "name": "stdout",
     "output_type": "stream",
     "text": [
      "12.56\n"
     ]
    }
   ],
   "source": [
    "pi = 3.14 # value for pi in always constant\n",
    "r = 2 #provided radius\n",
    "area = pi * r * r # formula for area of circle\n",
    "print(area) #output"
   ]
  },
  {
   "cell_type": "markdown",
   "id": "7d781668-ad6d-45c4-8a08-35895add898f",
   "metadata": {},
   "source": [
    "# Indentation - we dont have {} in python  we have to use spaces"
   ]
  },
  {
   "cell_type": "code",
   "execution_count": 62,
   "id": "c3cdbe1d-450c-4299-8dc0-bf5e4112813b",
   "metadata": {},
   "outputs": [
    {
     "name": "stdout",
     "output_type": "stream",
     "text": [
      "Big Data\n"
     ]
    }
   ],
   "source": [
    "a = 10\n",
    "b = 20\n",
    "\n",
    "if a > b:\n",
    "    print(\"SQL\")\n",
    "    print(\"Python\")\n",
    "print(\"Big Data\")"
   ]
  },
  {
   "cell_type": "code",
   "execution_count": 65,
   "id": "f628e7b4-569d-456b-b73a-27f64e80a848",
   "metadata": {},
   "outputs": [
    {
     "name": "stdout",
     "output_type": "stream",
     "text": [
      "SQL\n",
      "Python\n"
     ]
    }
   ],
   "source": [
    "a = 10\n",
    "b = 40\n",
    "\n",
    "if a < b:\n",
    "    print(\"SQL\")\n",
    "    if a == b:\n",
    "        print(\"C++\")\n",
    "    print(\"Python\")"
   ]
  },
  {
   "cell_type": "markdown",
   "id": "edf05ac0-6d52-4069-931d-57163282102b",
   "metadata": {},
   "source": [
    "# Typecasting - convert one data type to another data type, \n",
    "* int()\n",
    "* float()\n",
    "* bool()\n",
    "* str()\n",
    "* complex()"
   ]
  },
  {
   "cell_type": "code",
   "execution_count": 73,
   "id": "d25717a7-7a16-4346-9fcc-d533b917361a",
   "metadata": {},
   "outputs": [
    {
     "name": "stdout",
     "output_type": "stream",
     "text": [
      "45.0 <class 'float'>\n"
     ]
    }
   ],
   "source": [
    "# Syntax 1\n",
    "\n",
    "a = float(45)\n",
    "\n",
    "print(a,type(a))\n"
   ]
  },
  {
   "cell_type": "code",
   "execution_count": 77,
   "id": "c19aaa59-69fc-415d-82b9-131af614291e",
   "metadata": {},
   "outputs": [
    {
     "name": "stdout",
     "output_type": "stream",
     "text": [
      "45 <class 'float'>\n"
     ]
    }
   ],
   "source": [
    "# Syntax 2\n",
    "\n",
    "a = 45\n",
    "\n",
    "print(a,type(float(a)))"
   ]
  },
  {
   "cell_type": "code",
   "execution_count": 79,
   "id": "9fe88f76-5bc1-4fb8-945e-53942d9ae6a9",
   "metadata": {},
   "outputs": [
    {
     "name": "stdout",
     "output_type": "stream",
     "text": [
      "(34+0j) <class 'complex'>\n"
     ]
    }
   ],
   "source": [
    "a = complex(34)\n",
    "\n",
    "print(a, type(a))"
   ]
  },
  {
   "cell_type": "code",
   "execution_count": 85,
   "id": "64aae65b-5ac9-4325-875e-379d0b8ec9a1",
   "metadata": {},
   "outputs": [
    {
     "name": "stdout",
     "output_type": "stream",
     "text": [
      "5.0\n"
     ]
    }
   ],
   "source": [
    "a = \"5\"\n",
    "print(float(a))"
   ]
  },
  {
   "cell_type": "code",
   "execution_count": 87,
   "id": "0cd33541-5ae5-4b92-94eb-619150349057",
   "metadata": {},
   "outputs": [
    {
     "name": "stdout",
     "output_type": "stream",
     "text": [
      "45 <class 'float'>\n"
     ]
    }
   ],
   "source": [
    "a = 45.65\n",
    "\n",
    "print(int(a),type(a))"
   ]
  },
  {
   "cell_type": "code",
   "execution_count": 4,
   "id": "48769d3a-a750-4fa7-8718-66b52edd131b",
   "metadata": {},
   "outputs": [
    {
     "name": "stdout",
     "output_type": "stream",
     "text": [
      "56\n"
     ]
    }
   ],
   "source": [
    "a = str(56)\n",
    "\n",
    "print(a)"
   ]
  },
  {
   "cell_type": "code",
   "execution_count": 1,
   "id": "746702f8-7197-4f84-b964-c5f53ef763d3",
   "metadata": {},
   "outputs": [
    {
     "name": "stdout",
     "output_type": "stream",
     "text": [
      "43\n"
     ]
    }
   ],
   "source": [
    "x = \"43\"\n",
    "\n",
    "print(str(x))"
   ]
  },
  {
   "cell_type": "code",
   "execution_count": 6,
   "id": "fdf0c3d8-fdff-44db-9319-4694fba7b51b",
   "metadata": {},
   "outputs": [
    {
     "name": "stdout",
     "output_type": "stream",
     "text": [
      "3.4\n"
     ]
    }
   ],
   "source": [
    "t = float(\"3.4\")\n",
    "\n",
    "print(t)"
   ]
  },
  {
   "cell_type": "code",
   "execution_count": 11,
   "id": "de6b2236-15b7-4bf3-9a66-d9f46c0f61d6",
   "metadata": {},
   "outputs": [
    {
     "name": "stdout",
     "output_type": "stream",
     "text": [
      "45.6 <class 'float'>\n"
     ]
    }
   ],
   "source": [
    "demo = eval(\"45.6\")\n",
    "\n",
    "print(demo,type(demo))"
   ]
  },
  {
   "cell_type": "code",
   "execution_count": 13,
   "id": "1dc1db61-cb7d-468c-ba1e-2b4ac7f72fd8",
   "metadata": {},
   "outputs": [
    {
     "name": "stdout",
     "output_type": "stream",
     "text": [
      "(5+5j)\n"
     ]
    }
   ],
   "source": [
    "r = eval(\"5+5j\")\n",
    "print(r)"
   ]
  },
  {
   "cell_type": "code",
   "execution_count": 21,
   "id": "03535c45-8afc-4a80-8d06-909f02e063e9",
   "metadata": {},
   "outputs": [
    {
     "name": "stdout",
     "output_type": "stream",
     "text": [
      "[3, 4, 5, 6, 7.8]\n"
     ]
    }
   ],
   "source": [
    "l = eval('[3,4,5,6,7.8]')\n",
    "\n",
    "print(l)"
   ]
  },
  {
   "cell_type": "markdown",
   "id": "c2490d1a-6ac7-4d51-b9f0-0e9d47b3ec78",
   "metadata": {},
   "source": [
    "# Input Functions\n",
    "\n",
    "- collect an input from the user\n",
    "- Input wil always be in string data type"
   ]
  },
  {
   "cell_type": "code",
   "execution_count": 36,
   "id": "bd250839-ca2c-43d1-a9b3-4a128da71ad9",
   "metadata": {},
   "outputs": [
    {
     "name": "stdin",
     "output_type": "stream",
     "text": [
      "Enter data: 34.6\n"
     ]
    },
    {
     "name": "stdout",
     "output_type": "stream",
     "text": [
      "34.6 <class 'float'>\n"
     ]
    }
   ],
   "source": [
    "a = eval(input(\"Enter data:\"))\n",
    "\n",
    "print(a,type(a))"
   ]
  },
  {
   "cell_type": "code",
   "execution_count": 42,
   "id": "e80fbe26-c89e-46a5-b954-1ab9ebb630f4",
   "metadata": {},
   "outputs": [
    {
     "name": "stdin",
     "output_type": "stream",
     "text": [
      "Enter number1:  20\n",
      "Enter number2:  10\n"
     ]
    },
    {
     "name": "stdout",
     "output_type": "stream",
     "text": [
      "additon of given numbers is:  30\n"
     ]
    }
   ],
   "source": [
    "a = eval(input(\"Enter number1: \"))\n",
    "b = eval(input(\"Enter number2: \"))\n",
    "\n",
    "print(\"additon of given numbers is: \", a + b)"
   ]
  },
  {
   "cell_type": "code",
   "execution_count": 48,
   "id": "a2d0e498-7be5-477c-8451-c811ca9a7cad",
   "metadata": {},
   "outputs": [
    {
     "name": "stdin",
     "output_type": "stream",
     "text": [
      "Enter number1:  56\n",
      "Enter number2:  7.8\n"
     ]
    },
    {
     "name": "stdout",
     "output_type": "stream",
     "text": [
      "additon of given numbers is:  63.8\n"
     ]
    }
   ],
   "source": [
    "#typecating\n",
    "a = eval(input(\"Enter number1: \"))\n",
    "b = eval(input(\"Enter number2: \"))\n",
    "\n",
    "print(\"additon of given numbers is: \", a + b)"
   ]
  },
  {
   "cell_type": "code",
   "execution_count": 56,
   "id": "71e6a477-207b-4fe3-83b8-34a1369f1f9a",
   "metadata": {},
   "outputs": [
    {
     "name": "stdin",
     "output_type": "stream",
     "text": [
      "Enter number1:  3\n",
      "Enter number2:  4\n"
     ]
    },
    {
     "name": "stdout",
     "output_type": "stream",
     "text": [
      "The additon of 3 and 4 is:  7\n"
     ]
    }
   ],
   "source": [
    "a = eval(input(\"Enter number1: \"))\n",
    "b = eval(input(\"Enter number2: \"))\n",
    "\n",
    "print(f\"The additon of {a} and {b} is: \", a + b)"
   ]
  },
  {
   "cell_type": "code",
   "execution_count": 62,
   "id": "6b58d15c-aaec-42cc-bb2e-aa3115125e37",
   "metadata": {},
   "outputs": [
    {
     "name": "stdin",
     "output_type": "stream",
     "text": [
      "Enter number1:  5\n",
      "Enter number2:  6\n"
     ]
    },
    {
     "name": "stdout",
     "output_type": "stream",
     "text": [
      "additon of5 & 6 = 11\n"
     ]
    }
   ],
   "source": [
    "a = eval(input(\"Enter number1: \"))\n",
    "b = eval(input(\"Enter number2: \"))\n",
    "\n",
    "print(\"additon of\" +str(a) +\" & \" +str(b)+ \" = \" +str(a + b))"
   ]
  },
  {
   "cell_type": "code",
   "execution_count": 66,
   "id": "76485033-d0d3-492c-b945-b830564fa9cf",
   "metadata": {},
   "outputs": [
    {
     "name": "stdin",
     "output_type": "stream",
     "text": [
      "Enter first name: Shivani\n",
      "Enter last name: Teli\n"
     ]
    },
    {
     "name": "stdout",
     "output_type": "stream",
     "text": [
      "Shivani----->Teli\n"
     ]
    }
   ],
   "source": [
    "x = input(\"Enter first name:\")\n",
    "y = input(\"Enter last name:\")\n",
    "\n",
    "print(str(x) + '----->' +str(y))"
   ]
  },
  {
   "cell_type": "code",
   "execution_count": 68,
   "id": "19580ee8-e58a-492b-91cf-fdf67ee7fa8b",
   "metadata": {},
   "outputs": [
    {
     "name": "stdin",
     "output_type": "stream",
     "text": [
      "Enter first name: shivani\n",
      "Enter last name: teli\n"
     ]
    },
    {
     "name": "stdout",
     "output_type": "stream",
     "text": [
      "shivani----->teli\n"
     ]
    }
   ],
   "source": [
    "x = input(\"Enter first name:\")\n",
    "y = input(\"Enter last name:\")\n",
    "\n",
    "print(x + '----->' +y)"
   ]
  },
  {
   "cell_type": "code",
   "execution_count": 75,
   "id": "8caf3984-e699-450c-898d-49ef7f25b19f",
   "metadata": {},
   "outputs": [
    {
     "name": "stdin",
     "output_type": "stream",
     "text": [
      "Enter first name: \"Data\"\n",
      "Enter last name: \"Science\"\n"
     ]
    },
    {
     "name": "stdout",
     "output_type": "stream",
     "text": [
      "Data----->Science\n"
     ]
    }
   ],
   "source": [
    "x = eval(input(\"Enter first name:\"))\n",
    "y = eval(input(\"Enter last name:\"))\n",
    "\n",
    "print(x + '----->' +y)"
   ]
  },
  {
   "cell_type": "markdown",
   "id": "7d96b164-0336-4d53-9242-7b987f519f90",
   "metadata": {},
   "source": [
    "# Format String"
   ]
  },
  {
   "cell_type": "code",
   "execution_count": 88,
   "id": "0033fd31-5963-46dd-96b3-cf3048f6056b",
   "metadata": {},
   "outputs": [
    {
     "name": "stdin",
     "output_type": "stream",
     "text": [
      "Enter number1:  2\n",
      "Enter number2:  3\n"
     ]
    },
    {
     "name": "stdout",
     "output_type": "stream",
     "text": [
      "The additon of 2 and 3 is:  5 \n"
     ]
    }
   ],
   "source": [
    "#syntax 1\n",
    "\n",
    "a = eval(input(\"Enter number1: \"))\n",
    "b = eval(input(\"Enter number2: \"))\n",
    "\n",
    "print(\"The additon of {} and {} is:  {} \".format(a,b,a+b ))"
   ]
  },
  {
   "cell_type": "code",
   "execution_count": 92,
   "id": "638939fb-6df7-4a1b-9454-7ca9b7ba5b86",
   "metadata": {},
   "outputs": [
    {
     "name": "stdin",
     "output_type": "stream",
     "text": [
      "Enter number1:  1\n",
      "Enter number2:  2\n"
     ]
    },
    {
     "name": "stdout",
     "output_type": "stream",
     "text": [
      "The additon of 1 and 2 is: 3\n"
     ]
    }
   ],
   "source": [
    "#syntax 2\n",
    "\n",
    "a = eval(input(\"Enter number1: \"))\n",
    "b = eval(input(\"Enter number2: \"))\n",
    "\n",
    "print(f\"The additon of {a} and {b} is: {a + b}\")"
   ]
  },
  {
   "cell_type": "code",
   "execution_count": 96,
   "id": "d3318ff8-8d90-428a-9976-5f6d0e887e97",
   "metadata": {},
   "outputs": [
    {
     "name": "stdin",
     "output_type": "stream",
     "text": [
      "Enter first name: data \n",
      "Enter last name: scientist\n"
     ]
    },
    {
     "name": "stdout",
     "output_type": "stream",
     "text": [
      "data  -----> scientist\n"
     ]
    }
   ],
   "source": [
    "x = input(\"Enter first name:\")\n",
    "y = input(\"Enter last name:\")\n",
    "\n",
    "print(f\"{x} -----> {y}\")"
   ]
  },
  {
   "cell_type": "code",
   "execution_count": 110,
   "id": "4f097ca6-049b-44bd-a545-c025beddd7e4",
   "metadata": {},
   "outputs": [
    {
     "name": "stdin",
     "output_type": "stream",
     "text": [
      "Enter mobile number: 9011373629\n"
     ]
    },
    {
     "name": "stdout",
     "output_type": "stream",
     "text": [
      " +91-9011373629\n"
     ]
    }
   ],
   "source": [
    "phone = int(input(\"Enter mobile number:\"))\n",
    "\n",
    "print(f\" +91-{phone}\")"
   ]
  },
  {
   "cell_type": "code",
   "execution_count": 116,
   "id": "64096c1b-b69f-431e-ad4d-1c1ae43fba09",
   "metadata": {},
   "outputs": [
    {
     "name": "stdin",
     "output_type": "stream",
     "text": [
      "Enter today's temperature in degree cel:  32.5\n"
     ]
    },
    {
     "name": "stdout",
     "output_type": "stream",
     "text": [
      "The faranite value for the 32.5 degree cel = 90.5\n"
     ]
    }
   ],
   "source": [
    "temp = eval(input(\"Enter today's temperature in degree cel: \"))\n",
    "\n",
    "far = (temp * (9/5)) + 32\n",
    "\n",
    "print(f\"The faranite value for the {temp} degree cel = {far}\")"
   ]
  },
  {
   "cell_type": "markdown",
   "id": "625e1283-93f5-44fc-908a-e4c4c7fc8a53",
   "metadata": {},
   "source": [
    "# Output Function\n",
    "\n",
    "print"
   ]
  },
  {
   "cell_type": "code",
   "execution_count": 124,
   "id": "6a5f9904-0733-43c8-b329-84c2790475d0",
   "metadata": {},
   "outputs": [
    {
     "name": "stdout",
     "output_type": "stream",
     "text": [
      "10 20\n",
      "10\n",
      "20\n"
     ]
    }
   ],
   "source": [
    "a = 10\n",
    "b = 20\n",
    "print(a,b)\n",
    "print(a)\n",
    "print(b)"
   ]
  },
  {
   "cell_type": "code",
   "execution_count": 132,
   "id": "91a97a92-f663-43dc-92df-e961ccbbfa23",
   "metadata": {},
   "outputs": [
    {
     "name": "stdout",
     "output_type": "stream",
     "text": [
      "10---->20---->30\n"
     ]
    }
   ],
   "source": [
    "#Seprate:\n",
    "a = 10\n",
    "b = 20\n",
    "c = 30\n",
    "\n",
    "print(a,b,c, sep = '---->')"
   ]
  },
  {
   "cell_type": "code",
   "execution_count": 134,
   "id": "e0ee6f6f-9c40-4f07-9440-cbc3672fc282",
   "metadata": {},
   "outputs": [
    {
     "name": "stdout",
     "output_type": "stream",
     "text": [
      "10 20\n",
      "10&20\n"
     ]
    }
   ],
   "source": [
    "#End:\n",
    "a = 10\n",
    "b = 20\n",
    "print(a,b)\n",
    "print(a, end = \"&\")\n",
    "print(b)"
   ]
  },
  {
   "cell_type": "code",
   "execution_count": 146,
   "id": "406c84be-673b-483e-841f-1b7d273be7fb",
   "metadata": {},
   "outputs": [
    {
     "name": "stdout",
     "output_type": "stream",
     "text": [
      "10+++20---30**50\n",
      "40\n",
      "10&&&20&&&50%%%"
     ]
    }
   ],
   "source": [
    "a = 10\n",
    "b = 20\n",
    "c = 30\n",
    "d = 40\n",
    "e = 50\n",
    "\n",
    "print(a,b,sep = '+++',end = '---')\n",
    "print(c,e,sep = '**')\n",
    "print(d,sep = '###')\n",
    "print(a,b,e, sep = '&&&', end = '%%%')"
   ]
  },
  {
   "cell_type": "markdown",
   "id": "9fd38387-d213-4f35-bc31-3e368045b06b",
   "metadata": {},
   "source": [
    "# Range - start,stop,step\n",
    "\n",
    "-start ---->inclusive ---->by default 0\n",
    "-stop------>exclusive\n",
    "-step------> by default 1\n",
    "\n",
    "range(start,stop,step)"
   ]
  },
  {
   "cell_type": "code",
   "execution_count": 169,
   "id": "fde48940-3088-4c0f-89c9-d0478b3060c7",
   "metadata": {},
   "outputs": [
    {
     "data": {
      "text/plain": [
       "[0, 1, 2, 3, 4, 5, 6, 7, 8, 9]"
      ]
     },
     "execution_count": 169,
     "metadata": {},
     "output_type": "execute_result"
    }
   ],
   "source": [
    "# 0 - 10\n",
    "\n",
    "list(range(10))"
   ]
  },
  {
   "cell_type": "code",
   "execution_count": 175,
   "id": "c3f62519-082b-4e01-8280-3455f00b1a89",
   "metadata": {},
   "outputs": [
    {
     "name": "stdout",
     "output_type": "stream",
     "text": [
      "[5, 6, 7, 8, 9]\n"
     ]
    }
   ],
   "source": [
    "print(list(range(5,10)))"
   ]
  },
  {
   "cell_type": "code",
   "execution_count": 183,
   "id": "f0494c5c-935f-4543-95ca-ca46b2ea009d",
   "metadata": {},
   "outputs": [
    {
     "data": {
      "text/plain": [
       "[2, 4, 6, 8, 10, 12, 14, 16, 18, 20]"
      ]
     },
     "execution_count": 183,
     "metadata": {},
     "output_type": "execute_result"
    }
   ],
   "source": [
    "list(range(2,21,2))"
   ]
  },
  {
   "cell_type": "code",
   "execution_count": 193,
   "id": "0b1cd75d-2819-4607-aab5-39cde8359e01",
   "metadata": {},
   "outputs": [
    {
     "data": {
      "text/plain": [
       "[10, 9, 8, 7, 6, 5, 4, 3, 2, 1]"
      ]
     },
     "execution_count": 193,
     "metadata": {},
     "output_type": "execute_result"
    }
   ],
   "source": [
    "list(range(10,0,-1))"
   ]
  },
  {
   "cell_type": "code",
   "execution_count": 200,
   "id": "dc62b882-1f7a-4190-b489-be6a38ac15bc",
   "metadata": {},
   "outputs": [
    {
     "data": {
      "text/plain": [
       "[50, 45, 40, 35, 30, 25, 20, 15, 10, 5]"
      ]
     },
     "execution_count": 200,
     "metadata": {},
     "output_type": "execute_result"
    }
   ],
   "source": [
    "list(range(50,4,-5))"
   ]
  },
  {
   "cell_type": "code",
   "execution_count": 210,
   "id": "d06ea63f-036c-4b9e-92ca-1319f8316232",
   "metadata": {},
   "outputs": [
    {
     "name": "stdout",
     "output_type": "stream",
     "text": [
      "A,B,C,D,E,F,G,H,I,J,K,L,M,N,O,P,Q,R,S,T,U,V,W,X,Y,Z,"
     ]
    }
   ],
   "source": [
    "for i in range(65,91):\n",
    "    print(chr(i),end = ',')"
   ]
  },
  {
   "cell_type": "code",
   "execution_count": 212,
   "id": "4c1123d0-d1bb-4ac3-8654-59a942cb24ca",
   "metadata": {},
   "outputs": [
    {
     "name": "stdout",
     "output_type": "stream",
     "text": [
      "a,b,c,d,e,f,g,h,i,j,k,l,m,n,o,p,q,r,s,t,u,v,w,x,y,z,"
     ]
    }
   ],
   "source": [
    "for i in range(97,123):\n",
    "    print(chr(i),end = ',')"
   ]
  },
  {
   "cell_type": "markdown",
   "id": "eaf3d1fa-52e8-42c4-a130-ad4fd7832a0e",
   "metadata": {},
   "source": [
    "# Time Docstring:\n",
    "strftime(format[, tuple]) -> string\n",
    "\n",
    "Convert a time tuple to a string according to a format specification.\n",
    "See the library reference manual for formatting codes. When the time tuple\n",
    "is not present, current time as returned by localtime() is used.\n",
    "\n",
    "Commonly used format codes:\n",
    "\n",
    "%Y  Year with century as a decimal number.\n",
    "%m  Month as a decimal number [01,12].\n",
    "%d  Day of the month as a decimal number [01,31].\n",
    "%H  Hour (24-hour clock) as a decimal number [00,23].\n",
    "%M  Minute as a decimal number [00,59].\n",
    "%S  Second as a decimal number [00,61].\n",
    "%z  Time zone offset from UTC.\n",
    "%a  Locale's abbreviated weekday name.\n",
    "%A  Locale's full weekday name.\n",
    "%b  Locale's abbreviated month name.\n",
    "%B  Locale's full month name.\n",
    "%c  Locale's appropriate date and time representation.\n",
    "%I  Hour (12-hour clock) as a decimal number [01,12].\n",
    "%p  Locale's equivalent of either AM or PM.\n",
    "\n",
    "Other codes may be available on your platform.  See documentation for\n",
    "the C library strftime function.\n",
    "Type:      builtin_function_or_method\n",
    "\n"
   ]
  },
  {
   "cell_type": "code",
   "execution_count": 9,
   "id": "f063df58-70bb-4e6a-8bc5-f60e1801bea7",
   "metadata": {},
   "outputs": [
    {
     "data": {
      "text/plain": [
       "'Wed Jul 30 10:18:55 2025'"
      ]
     },
     "execution_count": 9,
     "metadata": {},
     "output_type": "execute_result"
    }
   ],
   "source": [
    "import time\n",
    "time.strftime('%c')"
   ]
  },
  {
   "cell_type": "code",
   "execution_count": null,
   "id": "0b8b0efe-5be2-4010-acca-2214d89f256a",
   "metadata": {},
   "outputs": [],
   "source": [
    "import time\n",
    "time.strftime()\n",
    "len"
   ]
  },
  {
   "cell_type": "code",
   "execution_count": 3,
   "id": "b51d13e8-565e-4da8-a5bc-4222089f6b99",
   "metadata": {},
   "outputs": [
    {
     "data": {
      "text/plain": [
       "'2025-07-29 04:36:46 PM +0530'"
      ]
     },
     "execution_count": 3,
     "metadata": {},
     "output_type": "execute_result"
    }
   ],
   "source": [
    "import time\n",
    "time.strftime('%Y-%m-%d %I:%M:%S %p %z')"
   ]
  },
  {
   "cell_type": "code",
   "execution_count": 1,
   "id": "cd899ba8-6fc6-47de-b73b-aa7d90a6bc2a",
   "metadata": {},
   "outputs": [
    {
     "name": "stdin",
     "output_type": "stream",
     "text": [
      "Enter today's temperature in degree cel:  23\n"
     ]
    },
    {
     "name": "stdout",
     "output_type": "stream",
     "text": [
      "At 2025-07-29 04:18:17 PM ---> The faranite value for the 23 degree cel = 73.4\n"
     ]
    }
   ],
   "source": [
    "import time\n",
    "\n",
    "t = time.strftime('%Y-%m-%d %I:%M:%S %p')\n",
    "\n",
    "temp = eval(input(\"Enter today's temperature in degree cel: \"))\n",
    "\n",
    "far = (temp * (9/5)) + 32\n",
    "\n",
    "print(f\"At {t} ---> The faranite value for the {temp} degree cel = {far}\")"
   ]
  },
  {
   "cell_type": "code",
   "execution_count": 232,
   "id": "c73ba56c-cfe3-4471-9acd-1fddd6ad6dbd",
   "metadata": {},
   "outputs": [
    {
     "data": {
      "text/plain": [
       "25"
      ]
     },
     "execution_count": 232,
     "metadata": {},
     "output_type": "execute_result"
    }
   ],
   "source": [
    "from datetime import datetime\n",
    "\n",
    "a = '2000-01-01'\n",
    "\n",
    "birthday = datetime.strptime(a , '%Y-%m-%d')\n",
    "today = datetime.today()\n",
    "\n",
    "age = today.year - birthday.year - ((today.month,today.day) < (birthday.month,birthday.day))\n",
    "age\n"
   ]
  },
  {
   "cell_type": "markdown",
   "id": "09264d9d-0401-459c-b784-de3aac45cf60",
   "metadata": {},
   "source": [
    "# Integer DataType"
   ]
  },
  {
   "cell_type": "code",
   "execution_count": 2,
   "id": "0227b25e-d285-48f3-bb8f-2e24263bc62c",
   "metadata": {},
   "outputs": [
    {
     "name": "stdout",
     "output_type": "stream",
     "text": [
      "-89 <class 'int'>\n"
     ]
    }
   ],
   "source": [
    "a = -89\n",
    "\n",
    "print(a,type(a))"
   ]
  },
  {
   "cell_type": "markdown",
   "id": "27479d1a-0bc5-46a7-a86d-a3227f998a67",
   "metadata": {},
   "source": [
    "# operations possible on Integer"
   ]
  },
  {
   "cell_type": "code",
   "execution_count": null,
   "id": "fed972e9-4143-4323-85b9-7b9c9868ab6d",
   "metadata": {},
   "outputs": [],
   "source": [
    "## Arithmetic Operations\n",
    "\n",
    "+, - ,*,/,**(exponent),,//(floor division),%(Modulus)"
   ]
  },
  {
   "cell_type": "code",
   "execution_count": 5,
   "id": "6f74e691-ff39-4e3f-839b-d2557cc913eb",
   "metadata": {},
   "outputs": [
    {
     "data": {
      "text/plain": [
       "50"
      ]
     },
     "execution_count": 5,
     "metadata": {},
     "output_type": "execute_result"
    }
   ],
   "source": [
    "a = 45\n",
    "b = 5\n",
    "\n",
    "a+b"
   ]
  },
  {
   "cell_type": "code",
   "execution_count": 7,
   "id": "7957a99e-a6e5-4c12-82ee-ba4089473e24",
   "metadata": {},
   "outputs": [
    {
     "data": {
      "text/plain": [
       "40"
      ]
     },
     "execution_count": 7,
     "metadata": {},
     "output_type": "execute_result"
    }
   ],
   "source": [
    "a = 45\n",
    "b = 5\n",
    "\n",
    "a - b"
   ]
  },
  {
   "cell_type": "code",
   "execution_count": 9,
   "id": "5f78b3bc-2b42-43e6-b97e-b199c8f54a30",
   "metadata": {},
   "outputs": [
    {
     "data": {
      "text/plain": [
       "225"
      ]
     },
     "execution_count": 9,
     "metadata": {},
     "output_type": "execute_result"
    }
   ],
   "source": [
    "a = 45\n",
    "b = 5\n",
    "\n",
    "a * b "
   ]
  },
  {
   "cell_type": "code",
   "execution_count": 11,
   "id": "c4cffe94-0fed-43e8-9063-fbd1d32ad6ef",
   "metadata": {},
   "outputs": [
    {
     "data": {
      "text/plain": [
       "9.0"
      ]
     },
     "execution_count": 11,
     "metadata": {},
     "output_type": "execute_result"
    }
   ],
   "source": [
    "a = 45\n",
    "b = 5\n",
    "\n",
    "a / b"
   ]
  },
  {
   "cell_type": "code",
   "execution_count": 18,
   "id": "ff671af4-5ac4-46dc-a30c-eca9b1448d24",
   "metadata": {
    "collapsed": true,
    "jupyter": {
     "outputs_hidden": true
    }
   },
   "outputs": [
    {
     "data": {
      "text/plain": [
       "184528125"
      ]
     },
     "execution_count": 18,
     "metadata": {},
     "output_type": "execute_result"
    }
   ],
   "source": [
    "a = 45\n",
    "b = 5\n",
    "\n",
    "a ** b"
   ]
  },
  {
   "cell_type": "code",
   "execution_count": 45,
   "id": "52725672-511a-4017-b9aa-d2c76ae12d3f",
   "metadata": {},
   "outputs": [
    {
     "name": "stdout",
     "output_type": "stream",
     "text": [
      "2\n",
      "1.25\n",
      "1\n"
     ]
    }
   ],
   "source": [
    "import math \n",
    "a = 10\n",
    "b = 8\n",
    "print(math.ceil(a/b))\n",
    "print(a / b)\n",
    "print(a // b)"
   ]
  },
  {
   "cell_type": "code",
   "execution_count": 24,
   "id": "6aba317e-57a2-499e-90d9-09c40dd41c9c",
   "metadata": {},
   "outputs": [
    {
     "data": {
      "text/plain": [
       "1"
      ]
     },
     "execution_count": 24,
     "metadata": {},
     "output_type": "execute_result"
    }
   ],
   "source": [
    "a = 10\n",
    "b = 6\n",
    "\n",
    "a // b"
   ]
  },
  {
   "cell_type": "markdown",
   "id": "755babb2-ae3d-4e65-9724-fd97e9713165",
   "metadata": {},
   "source": [
    "\n",
    "floor value                          exact value                      ceiling value\n",
    "    1                                    1.666                               2"
   ]
  },
  {
   "cell_type": "code",
   "execution_count": 30,
   "id": "e883aa2d-7763-4e98-b62a-554f86632a0c",
   "metadata": {},
   "outputs": [
    {
     "name": "stdout",
     "output_type": "stream",
     "text": [
      "-3.3333333333333335\n",
      "-4\n"
     ]
    }
   ],
   "source": [
    "a = -10\n",
    "b = 3\n",
    "\n",
    "print(a / b)\n",
    "print(a//b)"
   ]
  },
  {
   "cell_type": "code",
   "execution_count": 32,
   "id": "fe2de116-9f45-404a-8e01-f19053629a7e",
   "metadata": {},
   "outputs": [
    {
     "data": {
      "text/plain": [
       "4"
      ]
     },
     "execution_count": 32,
     "metadata": {},
     "output_type": "execute_result"
    }
   ],
   "source": [
    "import math \n",
    "a = 10\n",
    "b = 3\n",
    "math.ceil(a/b)"
   ]
  },
  {
   "cell_type": "code",
   "execution_count": 49,
   "id": "72d1b37a-f41d-4235-bab8-1cb4c176fb48",
   "metadata": {},
   "outputs": [
    {
     "name": "stdout",
     "output_type": "stream",
     "text": [
      "3.3333333333333335\n",
      "3\n",
      "1\n"
     ]
    }
   ],
   "source": [
    "a = 10\n",
    "b = 3\n",
    "\n",
    "print(a / b) #return exact value\n",
    "print(a // b) # give floor value\n",
    "print(a % b) #returns remainder value"
   ]
  },
  {
   "cell_type": "markdown",
   "id": "343df747-a2a8-44a6-b2a0-2f30d020736d",
   "metadata": {},
   "source": [
    "# Comparison Operator\n",
    "----->   > , < , >= , <=\n",
    "\n",
    "-Always return bool"
   ]
  },
  {
   "cell_type": "code",
   "execution_count": 51,
   "id": "3b357948-4e8d-4fd9-be00-1b0f2e151e38",
   "metadata": {},
   "outputs": [
    {
     "name": "stdout",
     "output_type": "stream",
     "text": [
      "False\n"
     ]
    }
   ],
   "source": [
    "a = 23\n",
    "b = 34\n",
    "\n",
    "print(a > b)"
   ]
  },
  {
   "cell_type": "code",
   "execution_count": 53,
   "id": "30488384-eea2-4396-9fa5-f8c346b6057d",
   "metadata": {},
   "outputs": [
    {
     "name": "stdout",
     "output_type": "stream",
     "text": [
      "False\n"
     ]
    }
   ],
   "source": [
    "#Comparison with float is allowed\n",
    "\n",
    "a = 23\n",
    "b = 34.8\n",
    "\n",
    "print(a > b)"
   ]
  },
  {
   "cell_type": "code",
   "execution_count": 55,
   "id": "b40e87cc-f11f-44e5-9bac-a266395737c2",
   "metadata": {},
   "outputs": [
    {
     "name": "stdout",
     "output_type": "stream",
     "text": [
      "True\n"
     ]
    }
   ],
   "source": [
    "#Comparison with bool value is allowed\n",
    "a = 23\n",
    "b = True\n",
    "\n",
    "print(a > b)"
   ]
  },
  {
   "cell_type": "code",
   "execution_count": 64,
   "id": "4eebdf92-7b99-4e4a-b2d4-4128462d87bf",
   "metadata": {},
   "outputs": [
    {
     "name": "stdout",
     "output_type": "stream",
     "text": [
      "True\n"
     ]
    }
   ],
   "source": [
    "#Comparison with string value is not allowed\n",
    "a = 23\n",
    "b = \"abc\"\n",
    "\n",
    "print(a > b)"
   ]
  },
  {
   "cell_type": "code",
   "execution_count": 68,
   "id": "8c0aa6e8-3f2b-473c-b37d-32a889892eb6",
   "metadata": {},
   "outputs": [
    {
     "name": "stdout",
     "output_type": "stream",
     "text": [
      "False\n"
     ]
    }
   ],
   "source": [
    "a = 'abc' #97 \n",
    "b = 'ABC' #65 \n",
    "\n",
    "print(a < b)"
   ]
  },
  {
   "cell_type": "code",
   "execution_count": 70,
   "id": "460d4d14-1dab-41e7-9e52-82a1fe5d51e2",
   "metadata": {},
   "outputs": [
    {
     "name": "stdout",
     "output_type": "stream",
     "text": [
      "False\n"
     ]
    }
   ],
   "source": [
    "a = 'abc' #97 98 99\n",
    "b = 'aBC' #65 66 67\n",
    "\n",
    "print(a < b)"
   ]
  },
  {
   "cell_type": "code",
   "execution_count": 76,
   "id": "0a87e395-4c6b-4a57-b36d-e9c187878e6d",
   "metadata": {},
   "outputs": [
    {
     "data": {
      "text/plain": [
       "72"
      ]
     },
     "execution_count": 76,
     "metadata": {},
     "output_type": "execute_result"
    }
   ],
   "source": [
    "#ord() - return ascii of any value\n",
    "a = 'H'\n",
    "\n",
    "ord(a)"
   ]
  },
  {
   "cell_type": "code",
   "execution_count": 78,
   "id": "7fa07e48-c3e6-4aa1-8d03-25dbb445cc67",
   "metadata": {},
   "outputs": [
    {
     "data": {
      "text/plain": [
       "'0b1001000'"
      ]
     },
     "execution_count": 78,
     "metadata": {},
     "output_type": "execute_result"
    }
   ],
   "source": [
    "#bin - return binrary of any value\n",
    "\n",
    "bin(72)"
   ]
  },
  {
   "cell_type": "code",
   "execution_count": 80,
   "id": "b8afafdf-3b40-4b9b-878d-b3eea0fc831f",
   "metadata": {},
   "outputs": [
    {
     "data": {
      "text/plain": [
       "72"
      ]
     },
     "execution_count": 80,
     "metadata": {},
     "output_type": "execute_result"
    }
   ],
   "source": [
    "# int - return int of any binary value\n",
    "\n",
    "int(0b1001000)"
   ]
  },
  {
   "cell_type": "code",
   "execution_count": 82,
   "id": "449d1e8f-307b-4dc3-9c24-c1066155e2ea",
   "metadata": {},
   "outputs": [
    {
     "data": {
      "text/plain": [
       "'K'"
      ]
     },
     "execution_count": 82,
     "metadata": {},
     "output_type": "execute_result"
    }
   ],
   "source": [
    "#chr - return chr of any value ascii value\n",
    "\n",
    "chr(75)"
   ]
  },
  {
   "cell_type": "code",
   "execution_count": null,
   "id": "726c1db2-d31b-480e-b52b-d23d1de9f034",
   "metadata": {},
   "outputs": [],
   "source": [
    "# unable to comapre with complex data type\n",
    "\n",
    "a = 40\n",
    "b = 4 + 8j\n",
    "\n",
    "print(a > b)"
   ]
  },
  {
   "cell_type": "markdown",
   "id": "503286ba-0026-4fe9-893c-8844671dd516",
   "metadata": {},
   "source": [
    "# comparison operator works on - bool, float,int\n",
    "# not on - complex , string "
   ]
  },
  {
   "cell_type": "markdown",
   "id": "682a8b94-11bf-4cb2-9bf7-3f8730e7f1d7",
   "metadata": {},
   "source": [
    "# Equality Operartor\n",
    "\n",
    "== , !=\n",
    "- Do equality on any operator it will never throw error"
   ]
  },
  {
   "cell_type": "code",
   "execution_count": 87,
   "id": "3e25965c-bcf6-4c05-b4dd-2c0ad2aebea6",
   "metadata": {},
   "outputs": [
    {
     "data": {
      "text/plain": [
       "False"
      ]
     },
     "execution_count": 87,
     "metadata": {},
     "output_type": "execute_result"
    }
   ],
   "source": [
    "a = 115\n",
    "b = 'abc'\n",
    "\n",
    "a == b"
   ]
  },
  {
   "cell_type": "code",
   "execution_count": 89,
   "id": "8191d839-dfd1-445e-a7c5-94028aec545c",
   "metadata": {},
   "outputs": [
    {
     "data": {
      "text/plain": [
       "False"
      ]
     },
     "execution_count": 89,
     "metadata": {},
     "output_type": "execute_result"
    }
   ],
   "source": [
    "a = 5\n",
    "b = 9 + 8j\n",
    "\n",
    "a ==b"
   ]
  },
  {
   "cell_type": "code",
   "execution_count": 103,
   "id": "047880db-4976-4d80-a82e-7a64728c2598",
   "metadata": {},
   "outputs": [
    {
     "name": "stdout",
     "output_type": "stream",
     "text": [
      "True\n"
     ]
    }
   ],
   "source": [
    "print(65 ==ord('A')) # comparing with values itself so retrun True"
   ]
  },
  {
   "cell_type": "code",
   "execution_count": 105,
   "id": "2f735d9a-0530-432e-8637-7839e160a9af",
   "metadata": {},
   "outputs": [
    {
     "name": "stdout",
     "output_type": "stream",
     "text": [
      "False\n"
     ]
    }
   ],
   "source": [
    "a = 65\n",
    "b = 'A'\n",
    "\n",
    "print(a == b) # caomparing with str here so its False"
   ]
  },
  {
   "cell_type": "code",
   "execution_count": 107,
   "id": "6d732fee-8602-4998-bd35-dc8cce5c3efa",
   "metadata": {},
   "outputs": [
    {
     "name": "stdout",
     "output_type": "stream",
     "text": [
      "True\n"
     ]
    }
   ],
   "source": [
    "print(ord('A') + 20 == 85)"
   ]
  },
  {
   "cell_type": "code",
   "execution_count": null,
   "id": "69096a58-92ab-431b-b155-b06728784586",
   "metadata": {},
   "outputs": [],
   "source": [
    "# Logical Operators\n",
    "-----> AND\n",
    "-----> OR\n",
    "----->NOT\n"
   ]
  },
  {
   "cell_type": "code",
   "execution_count": 129,
   "id": "ea0787ec-dc4e-4c36-af64-092fd048bf59",
   "metadata": {},
   "outputs": [
    {
     "name": "stdin",
     "output_type": "stream",
     "text": [
      "Enter User Name:  abc@gmail.com\n",
      "Enter Password:  Demo\n"
     ]
    },
    {
     "name": "stdout",
     "output_type": "stream",
     "text": [
      "LoggedIn\n"
     ]
    }
   ],
   "source": [
    "user_name = 'abc@gmail.com'\n",
    "password = 'Demo'\n",
    "\n",
    "a = input(\"Enter User Name: \")\n",
    "b = input(\"Enter Password: \")\n",
    "\n",
    "if (user_name == a) and (password == b):    #both condition should true then it wil return true\n",
    "    print(\"LoggedIn\")\n",
    "else:\n",
    "    print(\"Incorrect Info\")"
   ]
  },
  {
   "cell_type": "code",
   "execution_count": 127,
   "id": "415050f2-bef8-4092-b62d-5ebd6ce5ba4f",
   "metadata": {},
   "outputs": [
    {
     "name": "stdin",
     "output_type": "stream",
     "text": [
      "Enter User Name:  abc@gmail.com\n",
      "Enter Password:  Demo\n"
     ]
    },
    {
     "name": "stdout",
     "output_type": "stream",
     "text": [
      "Incorrect Info\n"
     ]
    }
   ],
   "source": [
    "user_name = 'abc@gmail.com'\n",
    "password = 'Demo'\n",
    "\n",
    "a = input(\"Enter User Name: \")\n",
    "b = input(\"Enter Password: \")\n",
    "\n",
    "if (user_name == a) and (not password == b):  # not will convert true scenario to false and vice versa\n",
    "    print(\"LoggedIn\")\n",
    "else:\n",
    "    print(\"Incorrect Info\")"
   ]
  },
  {
   "cell_type": "code",
   "execution_count": 125,
   "id": "475a4db8-f96c-4055-bb55-2866e48da7d3",
   "metadata": {},
   "outputs": [
    {
     "name": "stdin",
     "output_type": "stream",
     "text": [
      "Enter User Name:  abc@gmail.com\n",
      "Enter Password:  demo\n"
     ]
    },
    {
     "name": "stdout",
     "output_type": "stream",
     "text": [
      "LoggedIn\n"
     ]
    }
   ],
   "source": [
    "user_name = 'abc@gmail.com'\n",
    "password = 'Demo'\n",
    "\n",
    "a = input(\"Enter User Name: \")\n",
    "b = input(\"Enter Password: \")\n",
    "\n",
    "if (user_name == a) or (password == b): # one condition should be true\n",
    "    print(\"LoggedIn\")\n",
    "else:\n",
    "    print(\"Incorrect Info\")"
   ]
  },
  {
   "cell_type": "markdown",
   "id": "30f155a6-49f6-4d77-8f37-21e18682e908",
   "metadata": {},
   "source": [
    "# Typecasting into bool\n",
    "int ---> 0 is false and rest all the TRUE\n",
    "Float ----> 0.0 is false and rest all are True\n",
    "complex ---> 0 + 0j is false and rest all are True\n",
    "None----> always False\n",
    "str-----> False and rest all are True\n",
    "[]-False\n",
    "()- False\n",
    "{} - False"
   ]
  },
  {
   "cell_type": "code",
   "execution_count": 134,
   "id": "0f0debbf-0a46-490b-97e5-cf10968dfb61",
   "metadata": {},
   "outputs": [
    {
     "data": {
      "text/plain": [
       "True"
      ]
     },
     "execution_count": 134,
     "metadata": {},
     "output_type": "execute_result"
    }
   ],
   "source": [
    "a = 43\n",
    "bool(a)"
   ]
  },
  {
   "cell_type": "code",
   "execution_count": 136,
   "id": "4e4bd2f0-18aa-409b-8ecd-f9978c27e0ef",
   "metadata": {},
   "outputs": [
    {
     "data": {
      "text/plain": [
       "True"
      ]
     },
     "execution_count": 136,
     "metadata": {},
     "output_type": "execute_result"
    }
   ],
   "source": [
    "a = 9.8\n",
    "bool(a)"
   ]
  },
  {
   "cell_type": "code",
   "execution_count": 147,
   "id": "a8b9e826-fb4b-455d-b907-580d9ce86b31",
   "metadata": {},
   "outputs": [
    {
     "data": {
      "text/plain": [
       "True"
      ]
     },
     "execution_count": 147,
     "metadata": {},
     "output_type": "execute_result"
    }
   ],
   "source": [
    "a = 'abc' # even space consider as value in str\n",
    "bool(a)"
   ]
  },
  {
   "cell_type": "code",
   "execution_count": null,
   "id": "55542782-7411-4877-b636-621f1473e8cb",
   "metadata": {},
   "outputs": [],
   "source": [
    "## If values are there in logical opearator there is an deviation\n",
    "\n",
    "A and B ---> The result will be A if A is False else it is B\n",
    "\n",
    "A or B -----> The result will be A if A is True else B\n"
   ]
  },
  {
   "cell_type": "code",
   "execution_count": 181,
   "id": "7d6a7efe-32f7-4aca-9e0e-1bcad81a77cd",
   "metadata": {},
   "outputs": [
    {
     "data": {
      "text/plain": [
       "23"
      ]
     },
     "execution_count": 181,
     "metadata": {},
     "output_type": "execute_result"
    }
   ],
   "source": [
    "#looks for false scenario\n",
    "45 and 23 # bool of 45 is True , bool of 23 is True so both are True it will consider B"
   ]
  },
  {
   "cell_type": "code",
   "execution_count": 165,
   "id": "e076f7d7-f07d-4ab6-a0c8-743f0ba98c4a",
   "metadata": {},
   "outputs": [
    {
     "data": {
      "text/plain": [
       "0"
      ]
     },
     "execution_count": 165,
     "metadata": {},
     "output_type": "execute_result"
    }
   ],
   "source": [
    "0 and 23"
   ]
  },
  {
   "cell_type": "code",
   "execution_count": 183,
   "id": "72760e86-fb3e-4e3a-aaf0-37992f6aa8b9",
   "metadata": {},
   "outputs": [
    {
     "data": {
      "text/plain": [
       "45"
      ]
     },
     "execution_count": 183,
     "metadata": {},
     "output_type": "execute_result"
    }
   ],
   "source": [
    "# Looks for True scenario\n",
    "45 or 23 # bool of 45 is true , bool of 23 is True but its OR so it will consider first True value"
   ]
  },
  {
   "cell_type": "code",
   "execution_count": 185,
   "id": "9198f6f7-ef60-466e-9271-72c91e6bd7be",
   "metadata": {},
   "outputs": [
    {
     "name": "stdout",
     "output_type": "stream",
     "text": [
      "45\n"
     ]
    }
   ],
   "source": [
    " print(0 or 45)"
   ]
  },
  {
   "cell_type": "code",
   "execution_count": 187,
   "id": "fe6c6b3c-6845-45c2-a0a0-153ac2a40ef4",
   "metadata": {},
   "outputs": [
    {
     "name": "stdout",
     "output_type": "stream",
     "text": [
      "34\n"
     ]
    }
   ],
   "source": [
    "print(34 or 0)"
   ]
  },
  {
   "cell_type": "code",
   "execution_count": 189,
   "id": "8f1e1281-aac2-4749-807d-7e981b54a197",
   "metadata": {},
   "outputs": [
    {
     "name": "stdout",
     "output_type": "stream",
     "text": [
      "0\n"
     ]
    }
   ],
   "source": [
    "print(34 and 0)"
   ]
  },
  {
   "cell_type": "code",
   "execution_count": 193,
   "id": "71e75b86-c9ec-4987-8640-5acca9272ad4",
   "metadata": {},
   "outputs": [
    {
     "name": "stdout",
     "output_type": "stream",
     "text": [
      "0\n"
     ]
    }
   ],
   "source": [
    "print(0 and 40)"
   ]
  },
  {
   "cell_type": "markdown",
   "id": "37a2339b-c3f5-4a8c-b27d-34045c72daad",
   "metadata": {},
   "source": [
    "# Bitwise Operators\n",
    "\n",
    "-Bitwise and --------> &\n",
    "-Bitwise or ---------> |\n",
    "-Bitwise xor ---------> ^\n",
    "-Bitwise left shift-----------> <<\n",
    "-Bitwise right shift ---------> >>\n",
    "-Bitwise not -----------------> ~\n"
   ]
  },
  {
   "cell_type": "code",
   "execution_count": 211,
   "id": "d664bd36-1dd5-42d0-9f36-015d9f7aa027",
   "metadata": {},
   "outputs": [
    {
     "name": "stdout",
     "output_type": "stream",
     "text": [
      "0\n"
     ]
    }
   ],
   "source": [
    "# Bitwise and --------> &\n",
    "\n",
    "a = 10\n",
    "b = 20\n",
    "\n",
    "print(a & b)"
   ]
  },
  {
   "cell_type": "code",
   "execution_count": 223,
   "id": "db871632-ca1b-4000-a707-c176a2ed872a",
   "metadata": {},
   "outputs": [
    {
     "name": "stdout",
     "output_type": "stream",
     "text": [
      "40\n"
     ]
    }
   ],
   "source": [
    "a = 45\n",
    "b = 56\n",
    "\n",
    "print(a & b)\n",
    "#print(bin(45))  # 0b101101\n",
    "#print(bin(56))  # 0b111000"
   ]
  },
  {
   "cell_type": "code",
   "execution_count": null,
   "id": "e8b70236-792d-4624-ab6c-b97edf52bdae",
   "metadata": {},
   "outputs": [],
   "source": [
    "10 ---> 01010  #have to add 0 at begining\n",
    "20 ---> 10100\n",
    "        00000"
   ]
  },
  {
   "cell_type": "code",
   "execution_count": 225,
   "id": "66ba00d5-dbd7-427b-8fce-56ee7247bc83",
   "metadata": {},
   "outputs": [
    {
     "name": "stdout",
     "output_type": "stream",
     "text": [
      "91\n"
     ]
    }
   ],
   "source": [
    "a = 67\n",
    "b = 89\n",
    "\n",
    "print(a | b)"
   ]
  },
  {
   "cell_type": "code",
   "execution_count": 237,
   "id": "a942f816-249f-4b55-9ab5-fb722255c096",
   "metadata": {},
   "outputs": [
    {
     "name": "stdout",
     "output_type": "stream",
     "text": [
      "19\n"
     ]
    }
   ],
   "source": [
    "a = 67\n",
    "b = 80\n",
    "\"\"\"\"\n",
    "a =   0b1000011\n",
    "b =   0b1010000\n",
    "o/p = 0b0101100  \n",
    "\"\"\"\n",
    "print(a ^ b)"
   ]
  },
  {
   "cell_type": "code",
   "execution_count": 235,
   "id": "ec501aed-f2d7-4c2c-9925-1a10e8d6e51c",
   "metadata": {},
   "outputs": [
    {
     "name": "stdout",
     "output_type": "stream",
     "text": [
      "0b1000011\n",
      "0b1010000\n"
     ]
    }
   ],
   "source": [
    "print(bin(67))\n",
    "\n",
    "print(bin(80))"
   ]
  },
  {
   "cell_type": "markdown",
   "id": "2200796c-09d8-4e98-8f59-53089ff3d86c",
   "metadata": {},
   "source": [
    "# Bitwise left shift << \n",
    "\n",
    "a * (2 ** n)\n",
    "\n",
    "add zero at end"
   ]
  },
  {
   "cell_type": "code",
   "execution_count": 1,
   "id": "323ac744-329c-4183-9042-b648337d7e01",
   "metadata": {},
   "outputs": [
    {
     "name": "stdout",
     "output_type": "stream",
     "text": [
      "536\n"
     ]
    }
   ],
   "source": [
    "x = 67\n",
    "y = 3\n",
    "\n",
    "print(x << y)"
   ]
  },
  {
   "cell_type": "code",
   "execution_count": 8,
   "id": "6ecc132e-8f3b-427f-9aaf-bb7a923fdf34",
   "metadata": {},
   "outputs": [
    {
     "name": "stdout",
     "output_type": "stream",
     "text": [
      "536\n"
     ]
    }
   ],
   "source": [
    "#bin(67) n=3\n",
    "#0b1000011 so add 3 zero at end\n",
    "#0b1000011000\n",
    "print(int(0b1000011000))"
   ]
  },
  {
   "cell_type": "markdown",
   "id": "482d355c-cebb-43b2-8847-60a0920bf81d",
   "metadata": {},
   "source": [
    "# Bitwise right shift >>\n",
    "\n",
    "a // (2 ** n)\n",
    "\n",
    "add zero at start and remove value from end"
   ]
  },
  {
   "cell_type": "code",
   "execution_count": 12,
   "id": "a37fe708-feba-432e-9e19-832f3ecd31ad",
   "metadata": {},
   "outputs": [
    {
     "name": "stdout",
     "output_type": "stream",
     "text": [
      "8\n"
     ]
    }
   ],
   "source": [
    "print(67 >> 3)"
   ]
  },
  {
   "cell_type": "code",
   "execution_count": 10,
   "id": "c581c793-031e-4130-8b78-68f21cae9460",
   "metadata": {},
   "outputs": [
    {
     "name": "stdout",
     "output_type": "stream",
     "text": [
      "8\n"
     ]
    }
   ],
   "source": [
    "#bin(67) n=3\n",
    "#0b1000011 so add 3 zero at start and remove 3 values from end\n",
    "#0b0001000\n",
    "print(int(0b0001000))"
   ]
  },
  {
   "cell_type": "code",
   "execution_count": 14,
   "id": "045e2b29-c9ae-4748-b43f-c7e52f1cd76d",
   "metadata": {},
   "outputs": [
    {
     "name": "stdout",
     "output_type": "stream",
     "text": [
      "4\n",
      "True\n"
     ]
    }
   ],
   "source": [
    "print(78 >> 4)\n",
    "\n",
    "print(78 > 4)"
   ]
  },
  {
   "cell_type": "markdown",
   "id": "58a883ac-414a-4100-b003-74efee996710",
   "metadata": {},
   "source": [
    "## Bitwise not ~\n",
    "\n",
    "-adds 1 to existing value \n",
    "-It converts it sign "
   ]
  },
  {
   "cell_type": "code",
   "execution_count": 20,
   "id": "6707e8a9-5fb2-4dd6-9bf3-f71049f43b91",
   "metadata": {},
   "outputs": [
    {
     "name": "stdout",
     "output_type": "stream",
     "text": [
      "-46\n"
     ]
    }
   ],
   "source": [
    "x = 45\n",
    "print(~x)"
   ]
  },
  {
   "cell_type": "code",
   "execution_count": 22,
   "id": "3c788c6e-e2d7-457a-950b-ab779636c280",
   "metadata": {},
   "outputs": [
    {
     "name": "stdout",
     "output_type": "stream",
     "text": [
      "97\n"
     ]
    }
   ],
   "source": [
    "x = -98\n",
    "print(~x)"
   ]
  },
  {
   "cell_type": "markdown",
   "id": "f5c0b82e-dc1a-4a44-b6c8-035e2a7e3de0",
   "metadata": {},
   "source": [
    "# Assignment Operators\n",
    "\n",
    "="
   ]
  },
  {
   "cell_type": "code",
   "execution_count": 28,
   "id": "ac97b1ed-6026-4f85-872d-ed96ecf8a78f",
   "metadata": {},
   "outputs": [
    {
     "name": "stdout",
     "output_type": "stream",
     "text": [
      "42\n"
     ]
    }
   ],
   "source": [
    "x = 40\n",
    "\n",
    "# Add 2 to the existing value of x and reassign it to the same var\n",
    "\n",
    "x = x + 2\n",
    "print(x)"
   ]
  },
  {
   "cell_type": "code",
   "execution_count": 30,
   "id": "d9b75ab3-5ca7-46a1-91d8-eab957097ba2",
   "metadata": {},
   "outputs": [
    {
     "name": "stdout",
     "output_type": "stream",
     "text": [
      "42\n"
     ]
    }
   ],
   "source": [
    "x = 40\n",
    "\n",
    "# Add 2 to the existing value of x and reassign it to the same var\n",
    "\n",
    "x += 2\n",
    "print(x)"
   ]
  },
  {
   "cell_type": "code",
   "execution_count": 34,
   "id": "d7f2aa3b-ecf1-492d-b220-7a6551fd96fb",
   "metadata": {},
   "outputs": [
    {
     "name": "stdout",
     "output_type": "stream",
     "text": [
      "38\n"
     ]
    }
   ],
   "source": [
    "x = 40\n",
    "\n",
    "# Add 2 to the existing value of x and reassign it to the same var\n",
    "\n",
    "x -= 2\n",
    "print(x)"
   ]
  },
  {
   "cell_type": "code",
   "execution_count": 40,
   "id": "22b39902-c62e-4f6c-a1fe-979aaf73bc65",
   "metadata": {},
   "outputs": [
    {
     "name": "stdout",
     "output_type": "stream",
     "text": [
      "2\n"
     ]
    }
   ],
   "source": [
    "x = 46\n",
    "\n",
    "# Add 2 to the existing value of x and reassign it to the same var\n",
    "\n",
    "x &= 2\n",
    "print(x)"
   ]
  },
  {
   "cell_type": "code",
   "execution_count": 55,
   "id": "b1b9d58e-0f2c-4132-9179-1749d2ef369a",
   "metadata": {},
   "outputs": [
    {
     "name": "stdout",
     "output_type": "stream",
     "text": [
      "5\n"
     ]
    }
   ],
   "source": [
    "lst = ['shivani','teli','sam','sita','sai','siya']\n",
    "count = 0\n",
    "for i in lst:\n",
    "    if i.startswith('s'):\n",
    "        count +=1\n",
    "print(count)"
   ]
  },
  {
   "cell_type": "markdown",
   "id": "18631eff-72b1-44f8-961e-4a8d170993ee",
   "metadata": {},
   "source": [
    "# Identity operator\n",
    "\n",
    "memory reusability- \n",
    "\n",
    "- int ---> -5 to 256\n",
    "- string ---> applicable A-Z, a-z,0-9,_\n",
    "- Bool----> Applicabale\n",
    "- None ---> Applicable\n",
    "\n",
    "- float ---> Not Applicable\n",
    "- complex ---> Not Applicable\n",
    "eg. in image if suppose purple color present multiple times so everytime need to create varibale for it having same value so they python introduces memory resuabilty concept i.e -5 to 256"
   ]
  },
  {
   "cell_type": "code",
   "execution_count": 57,
   "id": "910625c0-61fc-4ec0-bc81-87ca2cf9cd4f",
   "metadata": {},
   "outputs": [
    {
     "name": "stdout",
     "output_type": "stream",
     "text": [
      "3213409649168\n",
      "3213409649488\n",
      "3213409649808\n"
     ]
    }
   ],
   "source": [
    "a = 10\n",
    "b = 20\n",
    "c = 30\n",
    "print(id(a))\n",
    "print(id(b))\n",
    "print(id(c))\n"
   ]
  },
  {
   "cell_type": "code",
   "execution_count": 59,
   "id": "ef038d2a-e784-4a97-8b9e-71e038fe0653",
   "metadata": {},
   "outputs": [
    {
     "name": "stdout",
     "output_type": "stream",
     "text": [
      "140716447058128\n",
      "140716447058128\n"
     ]
    }
   ],
   "source": [
    "a = True\n",
    "b = True\n",
    "print(id(a))\n",
    "print(id(b))"
   ]
  },
  {
   "cell_type": "code",
   "execution_count": 61,
   "id": "ffcfcff2-0416-4b24-ad43-30c3fdb2d96a",
   "metadata": {},
   "outputs": [
    {
     "name": "stdout",
     "output_type": "stream",
     "text": [
      "140716447133376\n",
      "140716447133376\n"
     ]
    }
   ],
   "source": [
    "a = None\n",
    "b = None\n",
    "print(id(a))\n",
    "print(id(b))"
   ]
  },
  {
   "cell_type": "code",
   "execution_count": 63,
   "id": "c12b94b2-8cde-4841-9ed5-2848d9300e15",
   "metadata": {},
   "outputs": [
    {
     "name": "stdout",
     "output_type": "stream",
     "text": [
      "3213527292848\n",
      "3213527291920\n"
     ]
    }
   ],
   "source": [
    "a  = 3.4\n",
    "b = 3.4\n",
    "\n",
    "print(id(a))\n",
    "print(id(b))"
   ]
  },
  {
   "cell_type": "code",
   "execution_count": 67,
   "id": "d77d68b9-6b4d-4c1b-8fde-c7406fa1c164",
   "metadata": {},
   "outputs": [
    {
     "name": "stdout",
     "output_type": "stream",
     "text": [
      "3213455215856\n",
      "3213455215856\n"
     ]
    }
   ],
   "source": [
    "# String use reuse same memory\n",
    "a = 'python'\n",
    "b = 'python'\n",
    "\n",
    "print(id(a))\n",
    "print(id(b))"
   ]
  },
  {
   "cell_type": "code",
   "execution_count": 71,
   "id": "b288002a-53b7-4158-aef7-b61a11031c2a",
   "metadata": {},
   "outputs": [
    {
     "name": "stdout",
     "output_type": "stream",
     "text": [
      "True\n"
     ]
    }
   ],
   "source": [
    "a = 23\n",
    "b = 23\n",
    "print(a is b)"
   ]
  },
  {
   "cell_type": "code",
   "execution_count": 75,
   "id": "8c677ef1-813e-4b32-ba0c-43a7c11ece3a",
   "metadata": {},
   "outputs": [
    {
     "name": "stdout",
     "output_type": "stream",
     "text": [
      "True\n"
     ]
    }
   ],
   "source": [
    "a = 9.8\n",
    "b = 4.5\n",
    "\n",
    "print(a is not b)"
   ]
  },
  {
   "cell_type": "code",
   "execution_count": 77,
   "id": "1c00c251-a808-48c9-83ff-a975f74f85a3",
   "metadata": {},
   "outputs": [
    {
     "name": "stdout",
     "output_type": "stream",
     "text": [
      "3213409650288\n",
      "3213409650288\n",
      "True\n",
      "True\n"
     ]
    }
   ],
   "source": [
    "# String use reuse same memory\n",
    "a = 45 \n",
    "b = 45\n",
    "print(id(a))\n",
    "print(id(b))\n",
    "\n",
    "print(a is b)\n",
    "print(a == b)"
   ]
  },
  {
   "cell_type": "code",
   "execution_count": 81,
   "id": "46bf6d79-04d4-403d-8766-cf607f8106c1",
   "metadata": {},
   "outputs": [
    {
     "name": "stdout",
     "output_type": "stream",
     "text": [
      "3213527287440\n",
      "3213527294480\n",
      "False\n",
      "True\n"
     ]
    }
   ],
   "source": [
    "# String use reuse same memory\n",
    "a = 45.8 \n",
    "b = 45.8\n",
    "print(id(a))\n",
    "print(id(b))\n",
    "\n",
    "print(a is b)\n",
    "print(a == b)"
   ]
  },
  {
   "cell_type": "markdown",
   "id": "9de8509e-8295-4736-8016-954f6e882320",
   "metadata": {},
   "source": [
    "# Float\n",
    "\n",
    "arithmetic = +,-,*,/,//,**,%    ## Applicable\n",
    "comparison = >,<,<=,>=          ## Applicable\n",
    "equality = ==, !=               ## Applicable       \n",
    "logical = and,or,not            ## Applicable\n",
    "bitwise = &,|,~,<<,>>           ## Not Applicable\n",
    "assignment = =                  ## Not Applicable\n",
    "identity = is ,is not           ## Applicable"
   ]
  },
  {
   "cell_type": "code",
   "execution_count": 7,
   "id": "b4ca9bbd-6e54-4f31-943f-d64b5a218a15",
   "metadata": {},
   "outputs": [
    {
     "ename": "SyntaxError",
     "evalue": "invalid syntax (1580732840.py, line 31)",
     "output_type": "error",
     "traceback": [
      "\u001b[1;36m  Cell \u001b[1;32mIn[7], line 31\u001b[1;36m\u001b[0m\n\u001b[1;33m    print(a+=b)\u001b[0m\n\u001b[1;37m           ^\u001b[0m\n\u001b[1;31mSyntaxError\u001b[0m\u001b[1;31m:\u001b[0m invalid syntax\n"
     ]
    }
   ],
   "source": [
    "a = 9.8\n",
    "b = 5.4\n",
    "print(\"Arithmetic operator\")\n",
    "print(a+b)\n",
    "print(a-b)\n",
    "print(a*b)\n",
    "print(a/b)\n",
    "print(a//b)\n",
    "print(a**b)\n",
    "print(a%b)\n",
    "print(\"comparison operator\")\n",
    "print(a>b)\n",
    "print(a<b)\n",
    "print(a>=b)\n",
    "print(a<=b)\n",
    "print(\"equality operator\")\n",
    "print(a==b)\n",
    "print(a!=b)\n",
    "print(a%b)\n",
    "print(\"logical operator\")\n",
    "print(a and b)\n",
    "print(a or b)\n",
    "# #print(a ! b)\n",
    "# print(\"Bitwise Opeartor\")\n",
    "# print(a & b)\n",
    "# print(a | b)\n",
    "# #print(a ~ b)\n",
    "# print(a >> b)\n",
    "# print(a << b)\n",
    "print(\"Assignment Operator\")\n",
    "print(a+=b)\n",
    "print(\"Identity operator\")\n",
    "print(a is b)\n",
    "print( a is not b)\n",
    "\n"
   ]
  },
  {
   "cell_type": "markdown",
   "id": "bcce3d96-9d56-4d84-8691-901cbbd86426",
   "metadata": {},
   "source": [
    "# Complex\n",
    "\n",
    "arithmetic = +,-,*,/,//,**,%    ## Applicable expect //,%\n",
    "comparison = >,<,<=,>=          ## Not Applicable\n",
    "equality = ==, !=               ## Applicable       \n",
    "logical = and,or,not            ## Applicable\n",
    "bitwise = &,|,~,<<,>>           ## Not Applicable\n",
    "assignment = =                  ## Not Applicable\n",
    "identity = is ,is not           ## Applicable"
   ]
  },
  {
   "cell_type": "code",
   "execution_count": 117,
   "id": "2ecf4f9a-888c-4753-ba7c-d7e7bd5a04a2",
   "metadata": {},
   "outputs": [
    {
     "name": "stdout",
     "output_type": "stream",
     "text": [
      "Arithmetic operator\n",
      "(14+6j)\n",
      "(4-2j)\n",
      "(37+46j)\n",
      "(1.2926829268292683-0.6341463414634148j)\n",
      "(-23623.953611397872-14610.03652470125j)\n",
      "equality operator\n",
      "False\n",
      "True\n",
      "logical operator\n",
      "(5+4j)\n",
      "(9+2j)\n",
      "Identity operator\n",
      "False\n",
      "True\n"
     ]
    }
   ],
   "source": [
    "a = 9+2j\n",
    "b = 5+4j\n",
    "print(\"Arithmetic operator\")\n",
    "print(a+b)\n",
    "print(a-b)\n",
    "print(a*b)\n",
    "print(a/b)\n",
    "#print(a//b)\n",
    "print(a**b)\n",
    "#print(a%b)\n",
    "# print(\"comparison operator\")\n",
    "# print(a>b)\n",
    "# print(a<b)\n",
    "# print(a>=b)\n",
    "# print(a<=b)\n",
    "print(\"equality operator\")\n",
    "print(a==b)\n",
    "print(a!=b)\n",
    "print(\"logical operator\")\n",
    "print(a and b)\n",
    "print(a or b)\n",
    "#print(a ! b)\n",
    "# print(\"Bitwise Opeartor\")\n",
    "# print(a & b)\n",
    "# print(a | b)\n",
    "# #print(a ~ b)\n",
    "# print(a >> b)\n",
    "# print(a << b)\n",
    "# print(\"Assignment Operator\")\n",
    "# print(a = b)\n",
    "print(\"Identity operator\")\n",
    "print(a is b)\n",
    "print( a is not b)"
   ]
  },
  {
   "cell_type": "code",
   "execution_count": 2,
   "id": "a66615d4-7b69-4d7b-bc10-ddefb46981f7",
   "metadata": {},
   "outputs": [],
   "source": [
    "a = 9\n",
    "b = 7\n",
    "a += b"
   ]
  },
  {
   "cell_type": "code",
   "execution_count": null,
   "id": "fd2fe2d2-e208-4b4f-9376-29198c3c947a",
   "metadata": {},
   "outputs": [],
   "source": []
  },
  {
   "cell_type": "code",
   "execution_count": null,
   "id": "57be61c0-ef15-4bc2-bcb0-46032efb6029",
   "metadata": {},
   "outputs": [],
   "source": []
  }
 ],
 "metadata": {
  "kernelspec": {
   "display_name": "Python [conda env:base] *",
   "language": "python",
   "name": "conda-base-py"
  },
  "language_info": {
   "codemirror_mode": {
    "name": "ipython",
    "version": 3
   },
   "file_extension": ".py",
   "mimetype": "text/x-python",
   "name": "python",
   "nbconvert_exporter": "python",
   "pygments_lexer": "ipython3",
   "version": "3.10.14"
  }
 },
 "nbformat": 4,
 "nbformat_minor": 5
}
