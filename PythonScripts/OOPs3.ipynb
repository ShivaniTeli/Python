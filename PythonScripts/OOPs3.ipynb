{
 "cells": [
  {
   "cell_type": "markdown",
   "id": "efc043b2-ef9c-4edc-afce-2ced5c52663f",
   "metadata": {},
   "source": [
    "# Referance variable\n",
    " "
   ]
  },
  {
   "cell_type": "code",
   "execution_count": 44,
   "id": "0d45256d-8a6c-4b30-9516-b7b0b1f79eb0",
   "metadata": {},
   "outputs": [],
   "source": [
    "class demo:\n",
    "    def __init__(self,name,country):\n",
    "        self.name = name\n",
    "        self.country = country\n",
    "\n",
    "    def greet(self):\n",
    "        if self.country == 'India':\n",
    "            print(\"Namste\",self.name)\n",
    "        else:\n",
    "            print(\"Hello\",self.name)\n",
    "            \n",
    "        "
   ]
  },
  {
   "cell_type": "code",
   "execution_count": 46,
   "id": "f70260d4-83c3-4a17-ac74-5d75f78d4a94",
   "metadata": {},
   "outputs": [
    {
     "name": "stdout",
     "output_type": "stream",
     "text": [
      "Namste Shivani\n"
     ]
    }
   ],
   "source": [
    "person = demo('Shivani','India')\n",
    "person.greet()"
   ]
  },
  {
   "cell_type": "code",
   "execution_count": 34,
   "id": "744bb8f9-fb3f-4cda-b5fa-7b7bb9787f1e",
   "metadata": {},
   "outputs": [],
   "source": [
    "person.gender = 'Female'"
   ]
  },
  {
   "cell_type": "code",
   "execution_count": 36,
   "id": "8a5338e8-95a9-453f-8673-d2807b5789f1",
   "metadata": {},
   "outputs": [
    {
     "data": {
      "text/plain": [
       "'Female'"
      ]
     },
     "execution_count": 36,
     "metadata": {},
     "output_type": "execute_result"
    }
   ],
   "source": [
    "person.gender"
   ]
  },
  {
   "cell_type": "markdown",
   "id": "effceefe-6da5-4261-85a3-992dd4235a40",
   "metadata": {},
   "source": [
    "## Reference variable : \n",
    "\n",
    "1. it holds the object\n",
    "2. we can create object without reference variable as well (we can create instance outside the class as well)\n",
    "3. An object can have multiple reference variable\n",
    "4. assigning a new reference variable to an existing object does not create a new object"
   ]
  },
  {
   "cell_type": "code",
   "execution_count": 65,
   "id": "f32ea13c-9bae-48e4-a09b-3495e0d0b7f1",
   "metadata": {},
   "outputs": [],
   "source": [
    "class demo:\n",
    "    def __init__(self):\n",
    "        self.name = 'Shivani'\n",
    "        self.gender = 'Female'\n",
    "\n",
    "p = demo()\n",
    "q = p"
   ]
  },
  {
   "cell_type": "code",
   "execution_count": 67,
   "id": "ea2f148b-a301-4dcc-b0b0-3f5f67715f6f",
   "metadata": {},
   "outputs": [
    {
     "name": "stdout",
     "output_type": "stream",
     "text": [
      "1929819790048\n",
      "1929819790048\n"
     ]
    }
   ],
   "source": [
    "print(id(p))\n",
    "print(id(q))"
   ]
  },
  {
   "cell_type": "code",
   "execution_count": 69,
   "id": "1db352c4-4f3f-4daf-9007-ced10e474c93",
   "metadata": {},
   "outputs": [
    {
     "name": "stdout",
     "output_type": "stream",
     "text": [
      "Shivani\n",
      "Shivani\n",
      "Teli\n",
      "Teli\n"
     ]
    }
   ],
   "source": [
    "print(p.name)\n",
    "print(q.name)\n",
    "q.name= 'Teli'\n",
    "print(p.name)\n",
    "print(q.name)"
   ]
  },
  {
   "cell_type": "code",
   "execution_count": 70,
   "id": "08f32739-c709-45ea-a9b4-f270cfa3f9e5",
   "metadata": {},
   "outputs": [],
   "source": [
    "class demo:\n",
    "    def __init__(self,name,gender):\n",
    "        self.name = 'Shivani'\n",
    "        self.gender = 'Female'\n"
   ]
  },
  {
   "cell_type": "code",
   "execution_count": 72,
   "id": "690b500e-2699-43be-bc42-a1c91c0ea8e0",
   "metadata": {},
   "outputs": [],
   "source": [
    "p1 = demo('Shivani','Female')\n",
    "p2 = demo('Piya','Female')"
   ]
  },
  {
   "cell_type": "code",
   "execution_count": 74,
   "id": "122b9ad2-c4ef-41b7-b6c1-8d7ff2487899",
   "metadata": {},
   "outputs": [
    {
     "name": "stdout",
     "output_type": "stream",
     "text": [
      "1929778298688\n",
      "1929778298544\n"
     ]
    }
   ],
   "source": [
    "print(id(p1))\n",
    "print(id(p2))"
   ]
  },
  {
   "cell_type": "markdown",
   "id": "4af03b65-6023-485c-b9d7-a26660a33235",
   "metadata": {},
   "source": [
    "# Encapsulation:"
   ]
  },
  {
   "cell_type": "code",
   "execution_count": null,
   "id": "daaad57e-5564-4fd0-bd05-6fa2dce97ead",
   "metadata": {},
   "outputs": [],
   "source": [
    "# Pascal Case: first letter all caps without space\n",
    "\n",
    "class BankAtm:\n",
    "    #constructor (special function which is not existing) ---> Superpower\n",
    "    def __init__(self):\n",
    "        self.pin = ''\n",
    "        self.balance = 0\n",
    "        self.menu()\n",
    "        \n",
    "    def menu(self):\n",
    "        data = input(\"\"\" \n",
    "        Hello,How may I help you?\n",
    "        1.Press to create new pin\n",
    "        2.Press 2 to Change Pin\n",
    "        3.Press 3 to check balance\n",
    "        4.Press 4 to withdraw\n",
    "        5.Anything else to exist\n",
    "        \"\"\")\n",
    "        if data == '1':\n",
    "            self.create_pin()\n",
    "        elif data == '2':\n",
    "            self.change_pin()\n",
    "        elif data == '3':\n",
    "            self.check_balance()\n",
    "        elif data == '4':\n",
    "            self.withdraw()\n",
    "        else:\n",
    "            print(\"Exiting, Thank You!\")\n",
    "            exit()\n",
    "            \n",
    "\n",
    "    def create_pin(self):\n",
    "        user_pin = input(\"Enter your pin:\")\n",
    "        self.pin = user_pin\n",
    "\n",
    "        user_balance = int(input(\"Enter you balance:\"))\n",
    "        self.balance = user_balance\n",
    "\n",
    "        print(\"Pin created Successfully!!\")\n",
    "        self.menu()\n",
    "        \n",
    "    def change_pin(self):\n",
    "        old_pin = input(\"Enter your old pin:\")\n",
    "        if old_pin == self.pin:\n",
    "            new_pin = input(\"Enter new pin:\")\n",
    "            self.pin = new_pin\n",
    "            print(\"Pin chnaged successfully\")\n",
    "        else:\n",
    "            print(\"Incorrect old pin, Please try again.\")\n",
    "        self.menu()\n",
    "    \n",
    "    def check_balance(self):\n",
    "        print(f\"Your current balance is : ${self.balance}\")\n",
    "        self.menu()\n",
    "    \n",
    "    def withdraw(self):\n",
    "        user_amount = int(input(\"Enter amount you want to withdraw:\"))\n",
    "        self.amount = user_amount\n",
    "        if user_amount  > self.balance:\n",
    "            print(\"Insuficient balance.\")\n",
    "        else:\n",
    "            self.balance -= user_amount\n",
    "            print(f\"Withdrawal successful!! Remaining balance is : ${self.balance}\")\n",
    "        self.menu()\n"
   ]
  },
  {
   "cell_type": "code",
   "execution_count": 100,
   "id": "b4052cbe-39b1-447c-adef-b072992d70a9",
   "metadata": {},
   "outputs": [
    {
     "name": "stdout",
     "output_type": "stream",
     "text": [
      "Company:Hyundai\n",
      "Model:Accent\n",
      "year:2013\n",
      "Mileage:100\n"
     ]
    }
   ],
   "source": [
    "class Car:\n",
    "    def __init__(self,make,model,year):\n",
    "        self.make = make\n",
    "        self.model = model\n",
    "        self.year = year\n",
    "        self.mileage = 0\n",
    "\n",
    "    def drive(self,miles):\n",
    "        if miles > 0:\n",
    "            self.mileage += miles\n",
    "\n",
    "    def get_mileage(self):\n",
    "        return f\"Mileage:{self.mileage}\"\n",
    "\n",
    "    def get_info(self):\n",
    "        return f\"Company:{self.make}\\nModel:{self.model}\\nyear:{self.year}\"\n",
    "\n",
    "\n",
    "mycar = Car(\"Hyundai\",\"Accent\",2013)\n",
    "mycar.drive(100)\n",
    "print(mycar.get_info())\n",
    "print(mycar.get_mileage())"
   ]
  },
  {
   "cell_type": "code",
   "execution_count": 106,
   "id": "06a5a05a-6b83-42c1-8c19-698a35d4e9de",
   "metadata": {},
   "outputs": [
    {
     "name": "stdout",
     "output_type": "stream",
     "text": [
      "Shivani\n"
     ]
    }
   ],
   "source": [
    "class Demo:\n",
    "    def __init__(self):\n",
    "        self.name = 'Shivani'\n",
    "        \n",
    "person = Demo()\n",
    "_Demo__name = \"Teli\"\n",
    "\n",
    "print(person.name)"
   ]
  },
  {
   "cell_type": "code",
   "execution_count": null,
   "id": "d3bf6b81-1546-41c0-ab1f-8b27387e7f8a",
   "metadata": {},
   "outputs": [],
   "source": []
  },
  {
   "cell_type": "code",
   "execution_count": null,
   "id": "cc784ba9-0d74-494a-9add-98ddc3c46d09",
   "metadata": {},
   "outputs": [],
   "source": []
  },
  {
   "cell_type": "code",
   "execution_count": null,
   "id": "1df9f310-e76b-4f08-8788-635e89f3c54c",
   "metadata": {},
   "outputs": [],
   "source": []
  },
  {
   "cell_type": "code",
   "execution_count": null,
   "id": "0bf7577b-6fae-4583-8668-4ed8201a927f",
   "metadata": {},
   "outputs": [],
   "source": []
  },
  {
   "cell_type": "code",
   "execution_count": null,
   "id": "ceeba74c-6f8f-4a83-b58d-ab46aaac165a",
   "metadata": {},
   "outputs": [],
   "source": []
  },
  {
   "cell_type": "code",
   "execution_count": null,
   "id": "7a02caa0-f7ff-4c5c-b6e6-94f26a63f779",
   "metadata": {},
   "outputs": [],
   "source": []
  },
  {
   "cell_type": "code",
   "execution_count": null,
   "id": "41e9534f-9207-4f26-ab7e-dc6509d3ecc6",
   "metadata": {},
   "outputs": [],
   "source": []
  },
  {
   "cell_type": "code",
   "execution_count": null,
   "id": "ca78b96b-d797-49ba-84c2-8a20413cade7",
   "metadata": {},
   "outputs": [],
   "source": []
  },
  {
   "cell_type": "code",
   "execution_count": null,
   "id": "223f6a29-7403-4d5a-89fa-7f3afb55df4f",
   "metadata": {},
   "outputs": [],
   "source": []
  },
  {
   "cell_type": "code",
   "execution_count": null,
   "id": "6bee1ea2-fd46-4365-9c06-92b40ad8b668",
   "metadata": {},
   "outputs": [],
   "source": []
  },
  {
   "cell_type": "code",
   "execution_count": null,
   "id": "b64fbd11-7fd2-4613-8d57-32a8c51b8300",
   "metadata": {},
   "outputs": [],
   "source": []
  },
  {
   "cell_type": "code",
   "execution_count": null,
   "id": "31e0b046-da76-4ade-8328-52c0fd30b336",
   "metadata": {},
   "outputs": [],
   "source": []
  }
 ],
 "metadata": {
  "kernelspec": {
   "display_name": "Python 3 (ipykernel)",
   "language": "python",
   "name": "python3"
  },
  "language_info": {
   "codemirror_mode": {
    "name": "ipython",
    "version": 3
   },
   "file_extension": ".py",
   "mimetype": "text/x-python",
   "name": "python",
   "nbconvert_exporter": "python",
   "pygments_lexer": "ipython3",
   "version": "3.10.14"
  }
 },
 "nbformat": 4,
 "nbformat_minor": 5
}
