{
 "cells": [
  {
   "cell_type": "markdown",
   "id": "7eb64860-5b2e-4f89-99c0-9d7df9c1db98",
   "metadata": {},
   "source": [
    "# OOPs Concepts"
   ]
  },
  {
   "cell_type": "markdown",
   "id": "92198ed2-4a00-4b94-a1f7-d9833d75d6ff",
   "metadata": {},
   "source": [
    "# Object Oriented Programming language\n",
    "- highly interpreted\n",
    "- general purpose "
   ]
  },
  {
   "cell_type": "markdown",
   "id": "8ca0ff45-f7a6-4a7c-91ef-fb74cf4b7c12",
   "metadata": {},
   "source": [
    "# Compmonets of OOPs:\n",
    "- Class : collection of object\n",
    "- Object : storing value means object\n",
    "- Attributes :\n",
    "- Abstraction:\n",
    "- Inheritance:\n",
    "- Encapsulation :\n",
    "- Polymorphism : "
   ]
  },
  {
   "cell_type": "markdown",
   "id": "40ca6d7e-dbe3-4d1d-a8de-6ea4425a44f0",
   "metadata": {},
   "source": [
    " Object : Generality to specificity\n",
    " OOPs is nothing ,it's way of programming  that is oriented towards creating objects (entities)"
   ]
  },
  {
   "cell_type": "markdown",
   "id": "360565f8-754e-4b9d-9440-a58310598fa5",
   "metadata": {},
   "source": [
    "# Class: It's blueprint/module/template/design to create object"
   ]
  },
  {
   "cell_type": "code",
   "execution_count": 68,
   "id": "eed737aa-0e16-48cd-9de6-102c39a76bbf",
   "metadata": {
    "jupyter": {
     "source_hidden": true
    }
   },
   "outputs": [],
   "source": [
    "# Pascal Case: first letter all caps without space\n",
    "\n",
    "class BankAtm:\n",
    "    #constructor (special function which is not existing) ---> Superpower\n",
    "    def __init__(self):\n",
    "        self.pin = ''\n",
    "        self.balance = 0\n",
    "        print(\"I wanted to check card working or not\")\n",
    "\n",
    "    def menu(self):\n",
    "        data = input(\"\"\" \n",
    "        Hello,How may I help you?\n",
    "        1.Press to create new pin\n",
    "        2.Press 2 to Change Pin\n",
    "        3.Press 3 to check balance\n",
    "        4.Press 4 to withdraw\n",
    "        5.Anything else to exist\n",
    "        \n",
    "        \n",
    "        \"\"\"\n",
    "        )"
   ]
  },
  {
   "cell_type": "code",
   "execution_count": 70,
   "id": "db9588a7-0075-43d5-9d78-ae40f9aac622",
   "metadata": {},
   "outputs": [
    {
     "name": "stdout",
     "output_type": "stream",
     "text": [
      "I wanted to check card working or not\n"
     ]
    }
   ],
   "source": [
    "obj = BankAtm()"
   ]
  },
  {
   "cell_type": "code",
   "execution_count": 4,
   "id": "763bf598-7e46-4e1e-8da0-6443a88577f3",
   "metadata": {},
   "outputs": [],
   "source": [
    "# Pascal Case: first letter all caps without space\n",
    "\n",
    "class BankAtm:\n",
    "    #constructor (special function which is not existing) ---> Superpower\n",
    "    def __init__(self):\n",
    "        self.pin = ''\n",
    "        self.balance = 0\n",
    "        self.menu()\n",
    "        \n",
    "    def menu(self):\n",
    "        data = input(\"\"\" \n",
    "        Hello,How may I help you?\n",
    "        1.Press to create new pin\n",
    "        2.Press 2 to Change Pin\n",
    "        3.Press 3 to check balance\n",
    "        4.Press 4 to withdraw\n",
    "        5.Anything else to exist\n",
    "        \"\"\")\n",
    "        if data == '1':\n",
    "            self.create_pin()\n",
    "        elif data == '2':\n",
    "            self.change_pin()\n",
    "        elif data == '3':\n",
    "            self.check_balance()\n",
    "        elif data == '4':\n",
    "            self.withdraw()\n",
    "        else:\n",
    "            print(\"Exiting, Thank You!\")\n",
    "            exit()\n",
    "            \n",
    "\n",
    "    def create_pin(self):\n",
    "        user_pin = input(\"Enter your pin:\")\n",
    "        self.pin = user_pin\n",
    "\n",
    "        user_balance = int(input(\"Enter you balance:\"))\n",
    "        self.balance = user_balance\n",
    "\n",
    "        print(\"Pin created Successfully!!\")\n",
    "        self.menu()\n",
    "        \n",
    "    def change_pin(self):\n",
    "        old_pin = input(\"Enter your old pin:\")\n",
    "        if old_pin == self.pin:\n",
    "            new_pin = input(\"Enter new pin:\")\n",
    "            self.pin = new_pin\n",
    "            print(\"Pin chnaged successfully\")\n",
    "        else:\n",
    "            print(\"Incorrect old pin, Please try again.\")\n",
    "        self.menu()\n",
    "    \n",
    "    def check_balance(self):\n",
    "        print(f\"Your current balance is : ${self.balance}\")\n",
    "        self.menu()\n",
    "    \n",
    "    def withdraw(self):\n",
    "        user_amount = int(input(\"Enter amount you want to withdraw:\"))\n",
    "        self.amount = user_amount\n",
    "        if user_amount  > self.balance:\n",
    "            print(\"Insuficient balance.\")\n",
    "        else:\n",
    "            self.balance -= user_amount\n",
    "            print(f\"Withdrawal successful!! Remaining balance is : ${self.balance}\")\n",
    "        self.menu()\n"
   ]
  },
  {
   "cell_type": "code",
   "execution_count": 6,
   "id": "9e124e19-70c6-4714-a183-75887eeac201",
   "metadata": {},
   "outputs": [
    {
     "name": "stdin",
     "output_type": "stream",
     "text": [
      " \n",
      "        Hello,How may I help you?\n",
      "        1.Press to create new pin\n",
      "        2.Press 2 to Change Pin\n",
      "        3.Press 3 to check balance\n",
      "        4.Press 4 to withdraw\n",
      "        5.Anything else to exist\n",
      "         5\n"
     ]
    },
    {
     "name": "stdout",
     "output_type": "stream",
     "text": [
      "Exiting, Thank You!\n"
     ]
    }
   ],
   "source": [
    "obj = BankAtm()"
   ]
  },
  {
   "cell_type": "code",
   "execution_count": 76,
   "id": "49bdad14-dc3d-4535-aa9d-78e301681569",
   "metadata": {},
   "outputs": [
    {
     "data": {
      "text/plain": [
       "2482500447648"
      ]
     },
     "execution_count": 76,
     "metadata": {},
     "output_type": "execute_result"
    }
   ],
   "source": [
    "id(obj)"
   ]
  },
  {
   "cell_type": "code",
   "execution_count": 78,
   "id": "bb483eee-25e3-4f23-b480-d4ead5d2c6c6",
   "metadata": {},
   "outputs": [
    {
     "data": {
      "text/plain": [
       "2484617671376"
      ]
     },
     "execution_count": 78,
     "metadata": {},
     "output_type": "execute_result"
    }
   ],
   "source": [
    "id(BankAtm)"
   ]
  },
  {
   "cell_type": "markdown",
   "id": "d0e8343b-a5f6-44e5-bd28-da7cbbf46a70",
   "metadata": {},
   "source": [
    "# Method vs Function\n",
    "\n",
    "## Method : A function defined inside a class is called method\n",
    "\n",
    "## Function : A function defined outside a class or independently is simply reffered to as a function"
   ]
  },
  {
   "cell_type": "code",
   "execution_count": null,
   "id": "7dd54c1c-9196-43c2-8347-53572d036eea",
   "metadata": {},
   "outputs": [],
   "source": []
  },
  {
   "cell_type": "code",
   "execution_count": null,
   "id": "d1205446-3787-490b-8192-1aa095123226",
   "metadata": {},
   "outputs": [],
   "source": [
    "Problem 5 based on OOP Python.\n",
    "TechWorld, a technology training center, wants to allocate courses for instructors. An instructor is identified by name, \n",
    "technology skills, experience and average feedback. An instructor is allocated a course, if he/she satisfies the below two conditions:\n",
    "eligibility criteria:\n",
    "if experience is more than 3 years, average feedback should be 4.5 or more\n",
    ".\n",
    "if experience is 3 years or less, average feedback should be 4 or more\n",
    ". he/she should posses the technology skill for the course\n",
    "dentify the class name and attributes to represent instructors. Write a Python program to implement the class chosen with its attributes and methods.\n",
    "Note:\n",
    "Consider all instance variables to be private and methods to be public.\n",
    ". An instructor may have multiple technology skills, so consider instance variable, technology_skill to be a list.\n",
    ". check_eligibility0): Return true if eligibility criteria is satisfied by the instructor. Else, return false\n",
    ". allocate_course(technology); Return true if the course which requires the given technology can be allocated to the instructor. Else, return false.\n",
    "Represent a few objects of the class, initialize instance variables using setter methods, invoke appropriate methods and test your program."
   ]
  },
  {
   "cell_type": "code",
   "execution_count": 52,
   "id": "a60ee0a6-ef97-4085-a8fe-9488693ab3ae",
   "metadata": {},
   "outputs": [
    {
     "name": "stdout",
     "output_type": "stream",
     "text": [
      "Name: Alice\n",
      "Skills: ['Python', 'Java']\n",
      "Experience: 4\n",
      "Feedback: 4.6\n",
      "Checkeligibility = True\n",
      "allocate_course: Python = True\n",
      "allocate_course: C++ = False\n"
     ]
    }
   ],
   "source": [
    "class Instructor:\n",
    "    def __init__(self):\n",
    "        self.name = None\n",
    "        self.skills = []\n",
    "        self.exp = 0\n",
    "        self.feed = 0.0\n",
    "\n",
    "    def iname(self, name):\n",
    "        self.name = name\n",
    "\n",
    "    def iskills(self, skills):\n",
    "        if isinstance(skills, list):\n",
    "            self.skills = skills\n",
    "        else:\n",
    "            return \"Enter data in list format\"\n",
    "\n",
    "    def iexp(self, exp):\n",
    "        self.exp = exp\n",
    "\n",
    "    def ifeed(self, feed):\n",
    "        self.feed = feed\n",
    "\n",
    "    def checkeligibility(self):\n",
    "        if self.exp > 3 and self.feed >= 4.5:\n",
    "            return True\n",
    "        elif self.exp <= 3 and self.feed >= 4.0:\n",
    "            return True\n",
    "        else:\n",
    "            return False\n",
    "\n",
    "    def allocate_course(self, technology):\n",
    "        if self.checkeligibility() and technology in self.skills:\n",
    "            return True\n",
    "        return False\n",
    "\n",
    "    def display(self):\n",
    "        print(\"Name:\", self.name)\n",
    "        print(\"Skills:\", self.skills)\n",
    "        print(\"Experience:\", self.exp)\n",
    "        print(\"Feedback:\", self.feed)\n",
    "\n",
    "\n",
    "# Example usage\n",
    "inst = Instructor()\n",
    "inst.iname(\"Alice\")\n",
    "inst.iskills([\"Python\", \"Java\"])\n",
    "inst.iexp(4)\n",
    "inst.ifeed(4.6)\n",
    "\n",
    "inst.display()\n",
    "print(\"Checkeligibility =\", inst.checkeligibility())\n",
    "\n",
    "# Using defined technology variable\n",
    "technology = \"Python\"\n",
    "print(f\"allocate_course: {technology} = {inst.allocate_course(technology)}\")\n",
    "\n",
    "technology = \"C++\"\n",
    "print(f\"allocate_course: {technology} =\", inst.allocate_course(technology))\n"
   ]
  },
  {
   "cell_type": "code",
   "execution_count": null,
   "id": "1315c778-fa0f-4aaa-aa3a-8d122e16a575",
   "metadata": {},
   "outputs": [],
   "source": []
  },
  {
   "cell_type": "code",
   "execution_count": null,
   "id": "d3192679-e811-44a7-8c08-4354b235c470",
   "metadata": {},
   "outputs": [],
   "source": []
  },
  {
   "cell_type": "code",
   "execution_count": null,
   "id": "9e452815-fe6b-4ae5-9f7c-9ca208513745",
   "metadata": {},
   "outputs": [],
   "source": []
  },
  {
   "cell_type": "code",
   "execution_count": null,
   "id": "9514f29f-a469-4c10-8240-28a4a648c65d",
   "metadata": {},
   "outputs": [],
   "source": []
  },
  {
   "cell_type": "code",
   "execution_count": null,
   "id": "a906b773-5847-4efb-a6c9-e34fec59872b",
   "metadata": {},
   "outputs": [],
   "source": []
  },
  {
   "cell_type": "code",
   "execution_count": null,
   "id": "9fe33cf2-b4ca-45df-ab05-a3bf2e6e4301",
   "metadata": {},
   "outputs": [],
   "source": []
  },
  {
   "cell_type": "code",
   "execution_count": null,
   "id": "2da9a441-4155-49ea-9d30-c6fe794c6be4",
   "metadata": {},
   "outputs": [],
   "source": []
  },
  {
   "cell_type": "code",
   "execution_count": null,
   "id": "6ea4f0c6-d868-4efc-a616-4c3f39597992",
   "metadata": {},
   "outputs": [],
   "source": []
  },
  {
   "cell_type": "code",
   "execution_count": null,
   "id": "d870a7c3-c3ed-4c33-aef2-1e22c802d9a1",
   "metadata": {},
   "outputs": [],
   "source": []
  },
  {
   "cell_type": "code",
   "execution_count": null,
   "id": "19192ab9-935d-4e7f-86eb-3e42a24d8921",
   "metadata": {},
   "outputs": [],
   "source": []
  },
  {
   "cell_type": "code",
   "execution_count": null,
   "id": "5913c92b-c23a-401b-a191-1cb7fb33d4a0",
   "metadata": {},
   "outputs": [],
   "source": []
  },
  {
   "cell_type": "code",
   "execution_count": null,
   "id": "43c45b7e-9d68-4f02-a5f2-557a948f37b2",
   "metadata": {},
   "outputs": [],
   "source": []
  },
  {
   "cell_type": "code",
   "execution_count": null,
   "id": "db1d4292-474c-4f3f-aee8-102d3e072bbc",
   "metadata": {},
   "outputs": [],
   "source": []
  },
  {
   "cell_type": "code",
   "execution_count": null,
   "id": "b8eefe61-a827-4efe-a196-c5640c665d43",
   "metadata": {},
   "outputs": [],
   "source": []
  },
  {
   "cell_type": "code",
   "execution_count": null,
   "id": "768fd2e7-63cb-4b9d-b2ab-410bda2632ad",
   "metadata": {},
   "outputs": [],
   "source": []
  },
  {
   "cell_type": "code",
   "execution_count": null,
   "id": "c9cf645b-0bfc-4561-951a-c8d5b53a5637",
   "metadata": {},
   "outputs": [],
   "source": []
  },
  {
   "cell_type": "code",
   "execution_count": null,
   "id": "8480d65c-6e27-4b42-b909-af9e6f7e876a",
   "metadata": {},
   "outputs": [],
   "source": []
  },
  {
   "cell_type": "code",
   "execution_count": null,
   "id": "89bfe032-9f9a-4d8b-a017-7c83d8513f60",
   "metadata": {},
   "outputs": [],
   "source": []
  }
 ],
 "metadata": {
  "kernelspec": {
   "display_name": "Python 3 (ipykernel)",
   "language": "python",
   "name": "python3"
  },
  "language_info": {
   "codemirror_mode": {
    "name": "ipython",
    "version": 3
   },
   "file_extension": ".py",
   "mimetype": "text/x-python",
   "name": "python",
   "nbconvert_exporter": "python",
   "pygments_lexer": "ipython3",
   "version": "3.10.14"
  }
 },
 "nbformat": 4,
 "nbformat_minor": 5
}
