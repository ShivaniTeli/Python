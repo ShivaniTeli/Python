{
 "cells": [
  {
   "cell_type": "code",
   "execution_count": 2,
   "id": "ad56c3ea",
   "metadata": {},
   "outputs": [
    {
     "data": {
      "text/plain": [
       "30"
      ]
     },
     "execution_count": 2,
     "metadata": {},
     "output_type": "execute_result"
    }
   ],
   "source": [
    "a = 10\n",
    "b = 20\n",
    "\n",
    "a + b\n",
    "#Code"
   ]
  },
  {
   "cell_type": "markdown",
   "id": "f43a8b27",
   "metadata": {},
   "source": [
    "#Markdown\n",
    "\n"
   ]
  },
  {
   "cell_type": "markdown",
   "id": "cb66cd62",
   "metadata": {},
   "source": [
    "# Header 1\n",
    "## Header 2\n",
    "### Header 3\n",
    "#### Header 4\n",
    "# <center> Heading </center>\n",
    "\n",
    "1. point 1\n",
    "2. point 2\n",
    "\n",
    "- point 3\n",
    "- point 4\n",
    "\n",
    "* point 5\n",
    "* point 6"
   ]
  },
  {
   "cell_type": "code",
   "execution_count": 7,
   "id": "d0ea1f42",
   "metadata": {},
   "outputs": [
    {
     "name": "stdout",
     "output_type": "stream",
     "text": [
      "Enter data:madam1\n",
      "Not Palin\n"
     ]
    }
   ],
   "source": [
    "a = input(\"Enter data:\")\n",
    "\n",
    "if a[::-1] == a:\n",
    "    print(\"Palin\")\n",
    "else:\n",
    "    print(\"Not Palin\")\n",
    "\n"
   ]
  },
  {
   "cell_type": "code",
   "execution_count": 8,
   "id": "19565860",
   "metadata": {},
   "outputs": [
    {
     "name": "stdout",
     "output_type": "stream",
     "text": [
      "50\n"
     ]
    }
   ],
   "source": [
    "a = 20 \n",
    "b = 30\n",
    "print(a + b)"
   ]
  },
  {
   "cell_type": "code",
   "execution_count": null,
   "id": "f8cad231",
   "metadata": {},
   "outputs": [],
   "source": [
    "a = input(\"Enter number:\")\n"
   ]
  },
  {
   "cell_type": "code",
   "execution_count": null,
   "id": "76c06bbc",
   "metadata": {},
   "outputs": [],
   "source": []
  },
  {
   "cell_type": "code",
   "execution_count": null,
   "id": "383ef238",
   "metadata": {},
   "outputs": [],
   "source": []
  },
  {
   "cell_type": "code",
   "execution_count": null,
   "id": "954e88ed",
   "metadata": {},
   "outputs": [],
   "source": []
  },
  {
   "cell_type": "code",
   "execution_count": null,
   "id": "3101ffca",
   "metadata": {},
   "outputs": [],
   "source": []
  },
  {
   "cell_type": "code",
   "execution_count": null,
   "id": "3122a21b",
   "metadata": {},
   "outputs": [],
   "source": []
  }
 ],
 "metadata": {
  "kernelspec": {
   "display_name": "Python 3 (ipykernel)",
   "language": "python",
   "name": "python3"
  },
  "language_info": {
   "codemirror_mode": {
    "name": "ipython",
    "version": 3
   },
   "file_extension": ".py",
   "mimetype": "text/x-python",
   "name": "python",
   "nbconvert_exporter": "python",
   "pygments_lexer": "ipython3",
   "version": "3.10.9"
  }
 },
 "nbformat": 4,
 "nbformat_minor": 5
}
