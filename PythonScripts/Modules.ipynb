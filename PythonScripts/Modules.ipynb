{
 "cells": [
  {
   "cell_type": "markdown",
   "id": "9422b062-d188-460d-88d3-48de7553fea1",
   "metadata": {},
   "source": [
    "# Modules:\n",
    "\n",
    "Modular coding\n",
    "\n",
    "types of module:\n",
    "\n",
    "1. Builtin modules - math,os,time,sys,datetime\n",
    "2. User defined - "
   ]
  },
  {
   "cell_type": "markdown",
   "id": "36537686-413c-4dcb-832a-4ae08a28923b",
   "metadata": {},
   "source": [
    "# Methods to import a module:"
   ]
  },
  {
   "cell_type": "code",
   "execution_count": 5,
   "id": "7e9a4814-efe1-488b-a79d-ef652165643c",
   "metadata": {},
   "outputs": [
    {
     "name": "stdout",
     "output_type": "stream",
     "text": [
      "['In', 'Out', '_', '_1', '_2', '_3', '_4', '__', '___', '__builtin__', '__builtins__', '__doc__', '__loader__', '__name__', '__package__', '__pandas', '__spec__', '_dh', '_i', '_i1', '_i2', '_i3', '_i4', '_i5', '_ih', '_ii', '_iii', '_oh', 'dataframe_columns', 'dataframe_hash', 'dtypes_str', 'exit', 'get_dataframes', 'get_ipython', 'getpass', 'hashlib', 'import_pandas_safely', 'is_data_frame', 'json', 'open', 'quit']\n"
     ]
    }
   ],
   "source": [
    "print(dir())"
   ]
  },
  {
   "cell_type": "code",
   "execution_count": 9,
   "id": "3121e1ec-ce6c-4f72-a1ab-5f84522eb35f",
   "metadata": {},
   "outputs": [],
   "source": [
    "def function():\n",
    "    pass"
   ]
  },
  {
   "cell_type": "code",
   "execution_count": 11,
   "id": "42da1165-9d0c-4b0b-84b2-431bd7a9ec20",
   "metadata": {},
   "outputs": [
    {
     "name": "stdout",
     "output_type": "stream",
     "text": [
      "['In', 'Out', '_', '_1', '_10', '_2', '_3', '_4', '_6', '_8', '__', '___', '__builtin__', '__builtins__', '__doc__', '__loader__', '__name__', '__package__', '__pandas', '__spec__', '_dh', '_i', '_i1', '_i10', '_i11', '_i2', '_i3', '_i4', '_i5', '_i6', '_i7', '_i8', '_i9', '_ih', '_ii', '_iii', '_oh', 'dataframe_columns', 'dataframe_hash', 'dtypes_str', 'exit', 'function', 'get_dataframes', 'get_ipython', 'getpass', 'hashlib', 'import_pandas_safely', 'is_data_frame', 'json', 'open', 'quit']\n"
     ]
    }
   ],
   "source": [
    "print(dir())"
   ]
  },
  {
   "cell_type": "markdown",
   "id": "3c7e594c-a6ce-4d8a-bb3e-c1c686368491",
   "metadata": {},
   "source": [
    "# 1st method of importing a module"
   ]
  },
  {
   "cell_type": "code",
   "execution_count": 15,
   "id": "0a4bff3b-d1c4-4d9e-853b-c70650dfa498",
   "metadata": {},
   "outputs": [
    {
     "name": "stdout",
     "output_type": "stream",
     "text": [
      "['In', 'Out', '_', '_1', '_10', '_12', '_13', '_14', '_2', '_3', '_4', '_6', '_8', '__', '___', '__builtin__', '__builtins__', '__doc__', '__loader__', '__name__', '__package__', '__pandas', '__spec__', '_dh', '_i', '_i1', '_i10', '_i11', '_i12', '_i13', '_i14', '_i15', '_i2', '_i3', '_i4', '_i5', '_i6', '_i7', '_i8', '_i9', '_ih', '_ii', '_iii', '_oh', 'dataframe_columns', 'dataframe_hash', 'dtypes_str', 'exit', 'function', 'get_dataframes', 'get_ipython', 'getpass', 'hashlib', 'import_pandas_safely', 'is_data_frame', 'json', 'open', 'quit']\n",
      "\n",
      "\n",
      "['In', 'Out', '_', '_1', '_10', '_12', '_13', '_14', '_2', '_3', '_4', '_6', '_8', '__', '___', '__builtin__', '__builtins__', '__doc__', '__loader__', '__name__', '__package__', '__pandas', '__spec__', '_dh', '_i', '_i1', '_i10', '_i11', '_i12', '_i13', '_i14', '_i15', '_i2', '_i3', '_i4', '_i5', '_i6', '_i7', '_i8', '_i9', '_ih', '_ii', '_iii', '_oh', 'dataframe_columns', 'dataframe_hash', 'dtypes_str', 'exit', 'function', 'get_dataframes', 'get_ipython', 'getpass', 'hashlib', 'import_pandas_safely', 'is_data_frame', 'json', 'math', 'open', 'quit']\n"
     ]
    }
   ],
   "source": [
    "print(dir(),end = '\\n\\n\\n')\n",
    "\n",
    "import math\n",
    "\n",
    "print(dir())"
   ]
  },
  {
   "cell_type": "code",
   "execution_count": 17,
   "id": "9ad8478d-f6f9-4857-b27f-eaa37af29ae7",
   "metadata": {},
   "outputs": [
    {
     "name": "stdout",
     "output_type": "stream",
     "text": [
      "['__doc__', '__loader__', '__name__', '__package__', '__spec__', 'acos', 'acosh', 'asin', 'asinh', 'atan', 'atan2', 'atanh', 'ceil', 'comb', 'copysign', 'cos', 'cosh', 'degrees', 'dist', 'e', 'erf', 'erfc', 'exp', 'expm1', 'fabs', 'factorial', 'floor', 'fmod', 'frexp', 'fsum', 'gamma', 'gcd', 'hypot', 'inf', 'isclose', 'isfinite', 'isinf', 'isnan', 'isqrt', 'lcm', 'ldexp', 'lgamma', 'log', 'log10', 'log1p', 'log2', 'modf', 'nan', 'nextafter', 'perm', 'pi', 'pow', 'prod', 'radians', 'remainder', 'sin', 'sinh', 'sqrt', 'tan', 'tanh', 'tau', 'trunc', 'ulp']\n"
     ]
    }
   ],
   "source": [
    "print(dir(math))"
   ]
  },
  {
   "cell_type": "code",
   "execution_count": 23,
   "id": "e6a21cad-d77e-47f1-8d98-44d79f0347e0",
   "metadata": {},
   "outputs": [
    {
     "data": {
      "text/plain": [
       "5.0"
      ]
     },
     "execution_count": 23,
     "metadata": {},
     "output_type": "execute_result"
    }
   ],
   "source": [
    "math.sqrt(25)"
   ]
  },
  {
   "cell_type": "markdown",
   "id": "0d30eb01-9694-4dbe-8e1f-42bcfadf0e6c",
   "metadata": {},
   "source": [
    "# 2nd method"
   ]
  },
  {
   "cell_type": "code",
   "execution_count": 26,
   "id": "e316eca4-aaed-4f5a-854a-136f098f16f8",
   "metadata": {},
   "outputs": [
    {
     "name": "stdout",
     "output_type": "stream",
     "text": [
      "['In', 'Out', '_', '_1', '_10', '_12', '_13', '_14', '_16', '_18', '_19', '_2', '_20', '_21', '_22', '_23', '_24', '_25', '_3', '_4', '_6', '_8', '__', '___', '__builtin__', '__builtins__', '__doc__', '__loader__', '__name__', '__package__', '__pandas', '__spec__', '_dh', '_i', '_i1', '_i10', '_i11', '_i12', '_i13', '_i14', '_i15', '_i16', '_i17', '_i18', '_i19', '_i2', '_i20', '_i21', '_i22', '_i23', '_i24', '_i25', '_i26', '_i3', '_i4', '_i5', '_i6', '_i7', '_i8', '_i9', '_ih', '_ii', '_iii', '_oh', 'dataframe_columns', 'dataframe_hash', 'dtypes_str', 'exit', 'function', 'get_dataframes', 'get_ipython', 'getpass', 'hashlib', 'import_pandas_safely', 'is_data_frame', 'json', 'math', 'open', 'quit']\n",
      "\n",
      "\n",
      "['In', 'Out', '_', '_1', '_10', '_12', '_13', '_14', '_16', '_18', '_19', '_2', '_20', '_21', '_22', '_23', '_24', '_25', '_3', '_4', '_6', '_8', '__', '___', '__builtin__', '__builtins__', '__doc__', '__loader__', '__name__', '__package__', '__pandas', '__spec__', '_dh', '_i', '_i1', '_i10', '_i11', '_i12', '_i13', '_i14', '_i15', '_i16', '_i17', '_i18', '_i19', '_i2', '_i20', '_i21', '_i22', '_i23', '_i24', '_i25', '_i26', '_i3', '_i4', '_i5', '_i6', '_i7', '_i8', '_i9', '_ih', '_ii', '_iii', '_oh', 'acos', 'acosh', 'asin', 'asinh', 'atan', 'atan2', 'atanh', 'ceil', 'comb', 'copysign', 'cos', 'cosh', 'dataframe_columns', 'dataframe_hash', 'degrees', 'dist', 'dtypes_str', 'e', 'erf', 'erfc', 'exit', 'exp', 'expm1', 'fabs', 'factorial', 'floor', 'fmod', 'frexp', 'fsum', 'function', 'gamma', 'gcd', 'get_dataframes', 'get_ipython', 'getpass', 'hashlib', 'hypot', 'import_pandas_safely', 'inf', 'is_data_frame', 'isclose', 'isfinite', 'isinf', 'isnan', 'isqrt', 'json', 'lcm', 'ldexp', 'lgamma', 'log', 'log10', 'log1p', 'log2', 'math', 'modf', 'nan', 'nextafter', 'open', 'perm', 'pi', 'pow', 'prod', 'quit', 'radians', 'remainder', 'sin', 'sinh', 'sqrt', 'tan', 'tanh', 'tau', 'trunc', 'ulp']\n"
     ]
    }
   ],
   "source": [
    "print(dir(),end = '\\n\\n\\n')\n",
    "\n",
    "from math import *\n",
    "\n",
    "print(dir())"
   ]
  },
  {
   "cell_type": "code",
   "execution_count": 28,
   "id": "41721a95-6fb5-4d5a-9ad9-89b926636102",
   "metadata": {},
   "outputs": [
    {
     "data": {
      "text/plain": [
       "3.0"
      ]
     },
     "execution_count": 28,
     "metadata": {},
     "output_type": "execute_result"
    }
   ],
   "source": [
    "sqrt(9)"
   ]
  },
  {
   "cell_type": "markdown",
   "id": "3f5828c3-afec-4bc0-800d-a6053cf31a35",
   "metadata": {},
   "source": [
    "# 3rd method"
   ]
  },
  {
   "cell_type": "code",
   "execution_count": 38,
   "id": "3b0cb3b0-8267-47bf-853e-04f5dbf1ad64",
   "metadata": {},
   "outputs": [
    {
     "name": "stdout",
     "output_type": "stream",
     "text": [
      "['In', 'Out', '_', '_1', '_10', '_12', '_13', '_14', '_16', '_18', '_19', '_2', '_20', '_21', '_22', '_23', '_24', '_25', '_27', '_28', '_29', '_3', '_30', '_32', '_34', '_36', '_37', '_4', '_6', '_8', '__', '___', '__builtin__', '__builtins__', '__doc__', '__loader__', '__name__', '__package__', '__pandas', '__spec__', '_dh', '_i', '_i1', '_i10', '_i11', '_i12', '_i13', '_i14', '_i15', '_i16', '_i17', '_i18', '_i19', '_i2', '_i20', '_i21', '_i22', '_i23', '_i24', '_i25', '_i26', '_i27', '_i28', '_i29', '_i3', '_i30', '_i31', '_i32', '_i33', '_i34', '_i35', '_i36', '_i37', '_i38', '_i4', '_i5', '_i6', '_i7', '_i8', '_i9', '_ih', '_ii', '_iii', '_oh', 'acos', 'acosh', 'asin', 'asinh', 'atan', 'atan2', 'atanh', 'ceil', 'comb', 'copysign', 'cos', 'cosh', 'dataframe_columns', 'dataframe_hash', 'degrees', 'dist', 'dtypes_str', 'e', 'erf', 'erfc', 'exit', 'exp', 'expm1', 'fabs', 'factorial', 'floor', 'fmod', 'frexp', 'fsum', 'function', 'gamma', 'gcd', 'get_dataframes', 'get_ipython', 'getpass', 'hashlib', 'hypot', 'import_pandas_safely', 'inf', 'is_data_frame', 'isclose', 'isfinite', 'isinf', 'isnan', 'isqrt', 'json', 'lcm', 'ldexp', 'lgamma', 'log', 'log10', 'log1p', 'log2', 'math', 'modf', 'nan', 'nextafter', 'open', 'perm', 'pi', 'pow', 'prod', 'quit', 'radians', 'remainder', 'sin', 'sinh', 'sqrt', 'tan', 'tanh', 'tau', 'trunc', 'ulp']\n",
      "\n",
      "\n",
      "['In', 'Out', '_', '_1', '_10', '_12', '_13', '_14', '_16', '_18', '_19', '_2', '_20', '_21', '_22', '_23', '_24', '_25', '_27', '_28', '_29', '_3', '_30', '_32', '_34', '_36', '_37', '_4', '_6', '_8', '__', '___', '__builtin__', '__builtins__', '__doc__', '__loader__', '__name__', '__package__', '__pandas', '__spec__', '_dh', '_i', '_i1', '_i10', '_i11', '_i12', '_i13', '_i14', '_i15', '_i16', '_i17', '_i18', '_i19', '_i2', '_i20', '_i21', '_i22', '_i23', '_i24', '_i25', '_i26', '_i27', '_i28', '_i29', '_i3', '_i30', '_i31', '_i32', '_i33', '_i34', '_i35', '_i36', '_i37', '_i38', '_i4', '_i5', '_i6', '_i7', '_i8', '_i9', '_ih', '_ii', '_iii', '_oh', 'acos', 'acosh', 'asin', 'asinh', 'atan', 'atan2', 'atanh', 'ceil', 'comb', 'copysign', 'cos', 'cosh', 'dataframe_columns', 'dataframe_hash', 'degrees', 'dist', 'dtypes_str', 'e', 'erf', 'erfc', 'exit', 'exp', 'expm1', 'fabs', 'factorial', 'floor', 'fmod', 'frexp', 'fsum', 'function', 'gamma', 'gcd', 'get_dataframes', 'get_ipython', 'getpass', 'hashlib', 'hypot', 'import_pandas_safely', 'inf', 'is_data_frame', 'isclose', 'isfinite', 'isinf', 'isnan', 'isqrt', 'json', 'lcm', 'ldexp', 'lgamma', 'log', 'log10', 'log1p', 'log2', 'math', 'modf', 'nan', 'nextafter', 'open', 'perm', 'pi', 'pow', 'prod', 'quit', 'radians', 'remainder', 'sin', 'sinh', 'sqrt', 'tan', 'tanh', 'tau', 'trunc', 'ulp']\n"
     ]
    }
   ],
   "source": [
    "print(dir(),end = '\\n\\n\\n')\n",
    "from math import sqrt,tan\n",
    "\n",
    "print(dir())"
   ]
  },
  {
   "cell_type": "markdown",
   "id": "315f396d-8261-4a4a-9313-25383a39ef8f",
   "metadata": {},
   "source": [
    "# 4th method"
   ]
  },
  {
   "cell_type": "code",
   "execution_count": 40,
   "id": "be8d375d-869f-4e28-9fbe-4bdb786e580b",
   "metadata": {},
   "outputs": [
    {
     "name": "stdout",
     "output_type": "stream",
     "text": [
      "['In', 'Out', '_', '_1', '_10', '_12', '_13', '_14', '_16', '_18', '_19', '_2', '_20', '_21', '_22', '_23', '_24', '_25', '_27', '_28', '_29', '_3', '_30', '_32', '_34', '_36', '_37', '_39', '_4', '_6', '_8', '__', '___', '__builtin__', '__builtins__', '__doc__', '__loader__', '__name__', '__package__', '__pandas', '__spec__', '_dh', '_i', '_i1', '_i10', '_i11', '_i12', '_i13', '_i14', '_i15', '_i16', '_i17', '_i18', '_i19', '_i2', '_i20', '_i21', '_i22', '_i23', '_i24', '_i25', '_i26', '_i27', '_i28', '_i29', '_i3', '_i30', '_i31', '_i32', '_i33', '_i34', '_i35', '_i36', '_i37', '_i38', '_i39', '_i4', '_i40', '_i5', '_i6', '_i7', '_i8', '_i9', '_ih', '_ii', '_iii', '_oh', 'acos', 'acosh', 'asin', 'asinh', 'atan', 'atan2', 'atanh', 'ceil', 'comb', 'copysign', 'cos', 'cosh', 'dataframe_columns', 'dataframe_hash', 'degrees', 'dist', 'dtypes_str', 'e', 'erf', 'erfc', 'exit', 'exp', 'expm1', 'fabs', 'factorial', 'floor', 'fmod', 'frexp', 'fsum', 'function', 'gamma', 'gcd', 'get_dataframes', 'get_ipython', 'getpass', 'hashlib', 'hypot', 'import_pandas_safely', 'inf', 'is_data_frame', 'isclose', 'isfinite', 'isinf', 'isnan', 'isqrt', 'json', 'lcm', 'ldexp', 'lgamma', 'log', 'log10', 'log1p', 'log2', 'math', 'modf', 'nan', 'nextafter', 'open', 'perm', 'pi', 'pow', 'prod', 'quit', 'radians', 'remainder', 'sin', 'sinh', 'sqrt', 'tan', 'tanh', 'tau', 'trunc', 'ulp']\n",
      "\n",
      "\n",
      "['In', 'Out', '_', '_1', '_10', '_12', '_13', '_14', '_16', '_18', '_19', '_2', '_20', '_21', '_22', '_23', '_24', '_25', '_27', '_28', '_29', '_3', '_30', '_32', '_34', '_36', '_37', '_39', '_4', '_6', '_8', '__', '___', '__builtin__', '__builtins__', '__doc__', '__loader__', '__name__', '__package__', '__pandas', '__spec__', '_dh', '_i', '_i1', '_i10', '_i11', '_i12', '_i13', '_i14', '_i15', '_i16', '_i17', '_i18', '_i19', '_i2', '_i20', '_i21', '_i22', '_i23', '_i24', '_i25', '_i26', '_i27', '_i28', '_i29', '_i3', '_i30', '_i31', '_i32', '_i33', '_i34', '_i35', '_i36', '_i37', '_i38', '_i39', '_i4', '_i40', '_i5', '_i6', '_i7', '_i8', '_i9', '_ih', '_ii', '_iii', '_oh', 'acos', 'acosh', 'asin', 'asinh', 'atan', 'atan2', 'atanh', 'ceil', 'comb', 'copysign', 'cos', 'cosh', 'dataframe_columns', 'dataframe_hash', 'degrees', 'dist', 'dtypes_str', 'e', 'erf', 'erfc', 'exit', 'exp', 'expm1', 'fabs', 'factorial', 'floor', 'fmod', 'frexp', 'fsum', 'function', 'gamma', 'gcd', 'get_dataframes', 'get_ipython', 'getpass', 'hashlib', 'hypot', 'import_pandas_safely', 'inf', 'is_data_frame', 'isclose', 'isfinite', 'isinf', 'isnan', 'isqrt', 'json', 'lcm', 'ldexp', 'lgamma', 'log', 'log10', 'log1p', 'log2', 'math', 'modf', 'mt', 'nan', 'nextafter', 'open', 'perm', 'pi', 'pow', 'prod', 'quit', 'radians', 'remainder', 'sin', 'sinh', 'sqrt', 'tan', 'tanh', 'tau', 'trunc', 'ulp']\n"
     ]
    }
   ],
   "source": [
    "print(dir(),end = '\\n\\n\\n')\n",
    "import math as mt\n",
    "print(dir())"
   ]
  },
  {
   "cell_type": "code",
   "execution_count": 42,
   "id": "b68e9eca-50fa-41ed-aca2-7dbddf109712",
   "metadata": {},
   "outputs": [
    {
     "data": {
      "text/plain": [
       "2.0"
      ]
     },
     "execution_count": 42,
     "metadata": {},
     "output_type": "execute_result"
    }
   ],
   "source": [
    "mt.sqrt(4)"
   ]
  },
  {
   "cell_type": "code",
   "execution_count": 44,
   "id": "416e6a24-9220-4f4a-882c-841664b5a7e4",
   "metadata": {},
   "outputs": [
    {
     "data": {
      "text/plain": [
       "3.0"
      ]
     },
     "execution_count": 44,
     "metadata": {},
     "output_type": "execute_result"
    }
   ],
   "source": [
    "from math import sqrt as sq\n",
    "\n",
    "sq(9)"
   ]
  },
  {
   "cell_type": "markdown",
   "id": "5399e963-a4c0-41d9-be35-cb488a0d6f3a",
   "metadata": {},
   "source": [
    "# User defined"
   ]
  },
  {
   "cell_type": "code",
   "execution_count": 59,
   "id": "ab2dd6d6-0682-464e-827a-15e5ad145a8b",
   "metadata": {},
   "outputs": [
    {
     "name": "stdout",
     "output_type": "stream",
     "text": [
      "['In', 'Out', '_', '_1', '_10', '_12', '_13', '_14', '_16', '_18', '_19', '_2', '_20', '_21', '_22', '_23', '_24', '_25', '_27', '_28', '_29', '_3', '_30', '_32', '_34', '_36', '_37', '_39', '_4', '_41', '_42', '_43', '_44', '_45', '_46', '_48', '_50', '_52', '_53', '_54', '_55', '_56', '_58', '_6', '_8', '__', '___', '__builtin__', '__builtins__', '__doc__', '__loader__', '__name__', '__package__', '__pandas', '__spec__', '_dh', '_i', '_i1', '_i10', '_i11', '_i12', '_i13', '_i14', '_i15', '_i16', '_i17', '_i18', '_i19', '_i2', '_i20', '_i21', '_i22', '_i23', '_i24', '_i25', '_i26', '_i27', '_i28', '_i29', '_i3', '_i30', '_i31', '_i32', '_i33', '_i34', '_i35', '_i36', '_i37', '_i38', '_i39', '_i4', '_i40', '_i41', '_i42', '_i43', '_i44', '_i45', '_i46', '_i47', '_i48', '_i49', '_i5', '_i50', '_i51', '_i52', '_i53', '_i54', '_i55', '_i56', '_i57', '_i58', '_i59', '_i6', '_i7', '_i8', '_i9', '_ih', '_ii', '_iii', '_oh', 'acos', 'acosh', 'asin', 'asinh', 'atan', 'atan2', 'atanh', 'ceil', 'comb', 'copysign', 'cos', 'cosh', 'dataframe_columns', 'dataframe_hash', 'degrees', 'dist', 'dm', 'dtypes_str', 'e', 'erf', 'erfc', 'exit', 'exp', 'expm1', 'fabs', 'factorial', 'floor', 'fmod', 'frexp', 'fsum', 'function', 'gamma', 'gcd', 'get_dataframes', 'get_ipython', 'getpass', 'hashlib', 'hypot', 'import_pandas_safely', 'inf', 'is_data_frame', 'isclose', 'isfinite', 'isinf', 'isnan', 'isqrt', 'json', 'lcm', 'ldexp', 'lgamma', 'log', 'log10', 'log1p', 'log2', 'math', 'modf', 'mt', 'nan', 'nextafter', 'open', 'perm', 'pi', 'pow', 'prod', 'quit', 'radians', 'remainder', 'sin', 'sinh', 'sq', 'sqrt', 'tan', 'tanh', 'tau', 'trunc', 'ulp']\n",
      "\n",
      "\n",
      "['__builtins__', '__cached__', '__doc__', '__file__', '__loader__', '__name__', '__package__', '__spec__', 'palindrom', 'temp_converted']\n"
     ]
    }
   ],
   "source": [
    "import Demo_Module as dm\n",
    "\n",
    "print(dir(),end = '\\n\\n\\n')\n",
    "print(dir(dm))"
   ]
  },
  {
   "cell_type": "code",
   "execution_count": 53,
   "id": "f2d81f08-e7cc-43ac-8e74-d7cba8e8d305",
   "metadata": {},
   "outputs": [
    {
     "data": {
      "text/plain": [
       "'Palindrom'"
      ]
     },
     "execution_count": 53,
     "metadata": {},
     "output_type": "execute_result"
    }
   ],
   "source": [
    "dm.palindrom('level')"
   ]
  },
  {
   "cell_type": "code",
   "execution_count": 55,
   "id": "461b0ac2-af2c-4bfd-b6d3-a1087b250ae4",
   "metadata": {},
   "outputs": [
    {
     "data": {
      "text/plain": [
       "82.4"
      ]
     },
     "execution_count": 55,
     "metadata": {},
     "output_type": "execute_result"
    }
   ],
   "source": [
    "dm.temp_converted(28)"
   ]
  },
  {
   "cell_type": "code",
   "execution_count": 13,
   "id": "3638e5a9-6591-4986-ac32-39f200ac2bd0",
   "metadata": {},
   "outputs": [
    {
     "name": "stdout",
     "output_type": "stream",
     "text": [
      "['C:\\\\Users\\\\Shivani Teli\\\\Documents\\\\PythonLearnbay', 'F:\\\\ANACONDA\\\\python310.zip', 'F:\\\\ANACONDA\\\\DLLs', 'F:\\\\ANACONDA\\\\lib', 'F:\\\\ANACONDA', '', 'F:\\\\ANACONDA\\\\lib\\\\site-packages', 'F:\\\\ANACONDA\\\\lib\\\\site-packages\\\\win32', 'F:\\\\ANACONDA\\\\lib\\\\site-packages\\\\win32\\\\lib', 'F:\\\\ANACONDA\\\\lib\\\\site-packages\\\\Pythonwin']\n"
     ]
    }
   ],
   "source": [
    "import sys\n",
    "\n",
    "print(sys.path)"
   ]
  },
  {
   "cell_type": "code",
   "execution_count": 15,
   "id": "4baafddb-fdd8-4191-b465-670f8f4359ea",
   "metadata": {},
   "outputs": [
    {
     "name": "stdout",
     "output_type": "stream",
     "text": [
      "['C:\\\\Users\\\\Shivani Teli\\\\Documents\\\\PythonLearnbay', 'F:\\\\ANACONDA\\\\python310.zip', 'F:\\\\ANACONDA\\\\DLLs', 'F:\\\\ANACONDA\\\\lib', 'F:\\\\ANACONDA', '', 'F:\\\\ANACONDA\\\\lib\\\\site-packages', 'F:\\\\ANACONDA\\\\lib\\\\site-packages\\\\win32', 'F:\\\\ANACONDA\\\\lib\\\\site-packages\\\\win32\\\\lib', 'F:\\\\ANACONDA\\\\lib\\\\site-packages\\\\Pythonwin', 'C:\\\\Users\\\\Shivani Teli\\\\OneDrive\\\\Desktop\\\\PYModules']\n"
     ]
    }
   ],
   "source": [
    "custom_loc = r\"C:\\Users\\Shivani Teli\\OneDrive\\Desktop\\PYModules\"\n",
    "sys.path.append(custom_loc)\n",
    "print(sys.path)"
   ]
  },
  {
   "cell_type": "code",
   "execution_count": 17,
   "id": "1bee2691-19f4-4c35-8437-bc0dbedd90d0",
   "metadata": {},
   "outputs": [
    {
     "name": "stdout",
     "output_type": "stream",
     "text": [
      "30\n",
      "Hello World\n"
     ]
    },
    {
     "data": {
      "text/plain": [
       "'Not a palindrom'"
      ]
     },
     "execution_count": 17,
     "metadata": {},
     "output_type": "execute_result"
    }
   ],
   "source": [
    "import Demo_Module as dm\n",
    "dm.palindrom('car')"
   ]
  },
  {
   "cell_type": "code",
   "execution_count": 19,
   "id": "8a1459ba-24da-4a9e-8246-ef605506c67f",
   "metadata": {},
   "outputs": [
    {
     "data": {
      "text/plain": [
       "73.4"
      ]
     },
     "execution_count": 19,
     "metadata": {},
     "output_type": "execute_result"
    }
   ],
   "source": [
    "import Demo_Module as dm\n",
    "dm.temp_converted(23)"
   ]
  },
  {
   "cell_type": "code",
   "execution_count": null,
   "id": "2d788cf9-f65b-4655-b484-5ddf6da693aa",
   "metadata": {},
   "outputs": [],
   "source": []
  },
  {
   "cell_type": "code",
   "execution_count": null,
   "id": "0e95f4af-42e1-4567-807c-1241e154f496",
   "metadata": {},
   "outputs": [],
   "source": []
  },
  {
   "cell_type": "code",
   "execution_count": null,
   "id": "fe2efe6e-1916-4c8e-b1aa-07013bc1536c",
   "metadata": {},
   "outputs": [],
   "source": []
  },
  {
   "cell_type": "code",
   "execution_count": null,
   "id": "13b9f54c-87f0-493a-a6e8-512202f5434b",
   "metadata": {},
   "outputs": [],
   "source": []
  },
  {
   "cell_type": "code",
   "execution_count": null,
   "id": "c432afa1-9eac-4403-815f-dd1594bfc94b",
   "metadata": {},
   "outputs": [],
   "source": []
  },
  {
   "cell_type": "code",
   "execution_count": null,
   "id": "0be27c18-a337-4f65-bf4c-1bee37fb4735",
   "metadata": {},
   "outputs": [],
   "source": []
  },
  {
   "cell_type": "code",
   "execution_count": null,
   "id": "f3722f82-c8d6-4344-a67d-e7c4d2388383",
   "metadata": {},
   "outputs": [],
   "source": []
  },
  {
   "cell_type": "code",
   "execution_count": null,
   "id": "241f891d-77a4-44bc-8f02-457d71fc18e6",
   "metadata": {},
   "outputs": [],
   "source": []
  },
  {
   "cell_type": "code",
   "execution_count": null,
   "id": "4d835a9d-e9af-452a-a5a6-7037e76d4852",
   "metadata": {},
   "outputs": [],
   "source": []
  },
  {
   "cell_type": "code",
   "execution_count": null,
   "id": "d80e6829-0a94-4159-bf9e-5773cc6a0610",
   "metadata": {},
   "outputs": [],
   "source": []
  },
  {
   "cell_type": "code",
   "execution_count": null,
   "id": "117f4804-bd43-4fc1-a5ac-e8cac34ad667",
   "metadata": {},
   "outputs": [],
   "source": []
  },
  {
   "cell_type": "code",
   "execution_count": null,
   "id": "3594cc94-7d9c-4814-a811-23c4834840dd",
   "metadata": {},
   "outputs": [],
   "source": []
  },
  {
   "cell_type": "code",
   "execution_count": null,
   "id": "282eb8a4-232b-48bf-9700-06490b8a78ca",
   "metadata": {},
   "outputs": [],
   "source": []
  },
  {
   "cell_type": "code",
   "execution_count": null,
   "id": "16390cda-ff11-4ae7-8673-df9d36c368f8",
   "metadata": {},
   "outputs": [],
   "source": []
  },
  {
   "cell_type": "code",
   "execution_count": null,
   "id": "6a3e0b75-804e-4e40-b25f-1786a7dcbad3",
   "metadata": {},
   "outputs": [],
   "source": []
  },
  {
   "cell_type": "code",
   "execution_count": null,
   "id": "c92cb884-073d-4734-a53a-e22c7bfc1e1e",
   "metadata": {},
   "outputs": [],
   "source": []
  },
  {
   "cell_type": "code",
   "execution_count": null,
   "id": "ec3524c8-9b34-400d-8985-35491263a796",
   "metadata": {},
   "outputs": [],
   "source": []
  },
  {
   "cell_type": "code",
   "execution_count": null,
   "id": "acbea40b-4b7e-4b2a-bfb3-67ec7fcb045c",
   "metadata": {},
   "outputs": [],
   "source": []
  },
  {
   "cell_type": "code",
   "execution_count": null,
   "id": "91d8e8d9-1bfa-4e3e-83a0-6fecff333559",
   "metadata": {},
   "outputs": [],
   "source": []
  },
  {
   "cell_type": "code",
   "execution_count": null,
   "id": "68900c9c-ffbc-4533-9cd0-6562f8dcecff",
   "metadata": {},
   "outputs": [],
   "source": []
  },
  {
   "cell_type": "code",
   "execution_count": null,
   "id": "d54ecc6a-86c7-491d-ae52-4804b875d3aa",
   "metadata": {},
   "outputs": [],
   "source": []
  },
  {
   "cell_type": "code",
   "execution_count": null,
   "id": "8db125d3-f3e6-46ef-b0e0-8a65677ec6ca",
   "metadata": {},
   "outputs": [],
   "source": []
  },
  {
   "cell_type": "code",
   "execution_count": null,
   "id": "7e481e3a-ef33-4f22-a2c2-61dde295917a",
   "metadata": {},
   "outputs": [],
   "source": []
  },
  {
   "cell_type": "code",
   "execution_count": null,
   "id": "40069edf-68a3-4e27-898b-97703971a81c",
   "metadata": {},
   "outputs": [],
   "source": []
  },
  {
   "cell_type": "code",
   "execution_count": null,
   "id": "ce70b508-3f46-4642-9bf9-4ca63fce6516",
   "metadata": {},
   "outputs": [],
   "source": []
  },
  {
   "cell_type": "code",
   "execution_count": null,
   "id": "c229574a-13ea-4bc9-9d82-d95ee0b88029",
   "metadata": {},
   "outputs": [],
   "source": []
  },
  {
   "cell_type": "code",
   "execution_count": null,
   "id": "63361854-cfad-4301-8834-23c48189b91a",
   "metadata": {},
   "outputs": [],
   "source": []
  },
  {
   "cell_type": "code",
   "execution_count": null,
   "id": "27a39185-b2f5-42d2-b481-36d25bad1766",
   "metadata": {},
   "outputs": [],
   "source": []
  },
  {
   "cell_type": "code",
   "execution_count": null,
   "id": "07c4d337-c160-418a-8940-b61553bb33c8",
   "metadata": {},
   "outputs": [],
   "source": []
  },
  {
   "cell_type": "code",
   "execution_count": null,
   "id": "29044354-0c1d-4e00-a5fd-1b419873b0df",
   "metadata": {},
   "outputs": [],
   "source": []
  },
  {
   "cell_type": "code",
   "execution_count": null,
   "id": "c02b9dc7-6da6-4901-86fb-08a9b475310a",
   "metadata": {},
   "outputs": [],
   "source": []
  },
  {
   "cell_type": "code",
   "execution_count": null,
   "id": "c900a9dc-d25b-48ae-8fc5-405ae2ceb396",
   "metadata": {},
   "outputs": [],
   "source": []
  },
  {
   "cell_type": "code",
   "execution_count": null,
   "id": "3befea97-dd9e-4805-82f1-cde87667b640",
   "metadata": {},
   "outputs": [],
   "source": []
  },
  {
   "cell_type": "code",
   "execution_count": null,
   "id": "2fd14f8a-5053-497c-abf4-d3dd625927b4",
   "metadata": {},
   "outputs": [],
   "source": []
  },
  {
   "cell_type": "code",
   "execution_count": null,
   "id": "85c608fa-c444-479f-a16e-b7de9dd81e8f",
   "metadata": {},
   "outputs": [],
   "source": []
  },
  {
   "cell_type": "code",
   "execution_count": null,
   "id": "ad18a3a3-3c00-4e40-acc7-6aa1c75c2b7f",
   "metadata": {},
   "outputs": [],
   "source": []
  },
  {
   "cell_type": "code",
   "execution_count": null,
   "id": "0e0c5ebf-fe5d-4688-a815-e2e89d150c72",
   "metadata": {},
   "outputs": [],
   "source": []
  },
  {
   "cell_type": "code",
   "execution_count": null,
   "id": "2b312456-0a12-46ed-b336-ad8769a2b463",
   "metadata": {},
   "outputs": [],
   "source": []
  },
  {
   "cell_type": "code",
   "execution_count": null,
   "id": "bcef4d3f-bdb8-4f54-bcc6-fb4c8f31812e",
   "metadata": {},
   "outputs": [],
   "source": []
  },
  {
   "cell_type": "code",
   "execution_count": null,
   "id": "3b6dd854-e35d-49c8-a672-f5abf9b80100",
   "metadata": {},
   "outputs": [],
   "source": []
  },
  {
   "cell_type": "code",
   "execution_count": null,
   "id": "e8eaa6b5-018e-41a9-85e5-0798428d8af4",
   "metadata": {},
   "outputs": [],
   "source": []
  },
  {
   "cell_type": "code",
   "execution_count": null,
   "id": "f7f37079-3020-4658-a0c3-78ab2d8421cc",
   "metadata": {},
   "outputs": [],
   "source": []
  },
  {
   "cell_type": "code",
   "execution_count": null,
   "id": "d7b2f5d6-9e0b-4c48-9a6f-65cfdf0c6e9b",
   "metadata": {},
   "outputs": [],
   "source": []
  },
  {
   "cell_type": "code",
   "execution_count": null,
   "id": "3290851d-8e83-4f21-8200-5ed446586e7f",
   "metadata": {},
   "outputs": [],
   "source": []
  },
  {
   "cell_type": "code",
   "execution_count": null,
   "id": "0bd16c46-5706-4a38-8652-95389f136e5b",
   "metadata": {},
   "outputs": [],
   "source": []
  },
  {
   "cell_type": "code",
   "execution_count": null,
   "id": "c6ed5caf-86f0-4ad7-831b-4254af7da538",
   "metadata": {},
   "outputs": [],
   "source": []
  },
  {
   "cell_type": "code",
   "execution_count": null,
   "id": "9f1f595a-24b7-4456-b250-161709720656",
   "metadata": {},
   "outputs": [],
   "source": []
  },
  {
   "cell_type": "code",
   "execution_count": null,
   "id": "b1d2eac5-97de-4f1f-8cf3-da52c338aa22",
   "metadata": {},
   "outputs": [],
   "source": []
  },
  {
   "cell_type": "code",
   "execution_count": null,
   "id": "e944341f-944a-43f1-83ef-a6f7e8963e4f",
   "metadata": {},
   "outputs": [],
   "source": []
  },
  {
   "cell_type": "code",
   "execution_count": null,
   "id": "25893001-9962-4a2b-8037-3ac72fe58f93",
   "metadata": {},
   "outputs": [],
   "source": []
  },
  {
   "cell_type": "code",
   "execution_count": null,
   "id": "1a4948c9-61e6-419a-b56c-b79a84342835",
   "metadata": {},
   "outputs": [],
   "source": []
  },
  {
   "cell_type": "code",
   "execution_count": null,
   "id": "b4ca8f0d-a6bd-42c2-bc22-f546b6bd6ebd",
   "metadata": {},
   "outputs": [],
   "source": []
  },
  {
   "cell_type": "code",
   "execution_count": null,
   "id": "8686f47d-ee60-46cf-bbfa-862900549820",
   "metadata": {},
   "outputs": [],
   "source": []
  },
  {
   "cell_type": "code",
   "execution_count": null,
   "id": "95153628-1167-4667-90a0-7aeea3d63031",
   "metadata": {},
   "outputs": [],
   "source": []
  },
  {
   "cell_type": "code",
   "execution_count": null,
   "id": "0f0f0794-2240-4213-a1b7-7369f41619b1",
   "metadata": {},
   "outputs": [],
   "source": []
  },
  {
   "cell_type": "code",
   "execution_count": null,
   "id": "e534d860-72ea-4bb3-bee5-683154af62b7",
   "metadata": {},
   "outputs": [],
   "source": []
  },
  {
   "cell_type": "code",
   "execution_count": null,
   "id": "88c20a28-e007-4ad5-88d2-f27384095287",
   "metadata": {},
   "outputs": [],
   "source": []
  },
  {
   "cell_type": "code",
   "execution_count": null,
   "id": "3bf25ccc-9e47-41a9-a7d0-6233af35b5d9",
   "metadata": {},
   "outputs": [],
   "source": []
  },
  {
   "cell_type": "code",
   "execution_count": null,
   "id": "885487e9-589f-46a8-9c63-a21d89227c99",
   "metadata": {},
   "outputs": [],
   "source": []
  },
  {
   "cell_type": "code",
   "execution_count": null,
   "id": "de87069d-b83e-4147-bb16-2250df607114",
   "metadata": {},
   "outputs": [],
   "source": []
  },
  {
   "cell_type": "code",
   "execution_count": null,
   "id": "1f359220-8409-4c1e-a24a-2a3fb0740e8a",
   "metadata": {},
   "outputs": [],
   "source": []
  },
  {
   "cell_type": "code",
   "execution_count": null,
   "id": "475ffbfb-116c-4ab4-86c1-cff12afc8050",
   "metadata": {},
   "outputs": [],
   "source": []
  },
  {
   "cell_type": "code",
   "execution_count": null,
   "id": "cb69fa92-602f-411f-8f17-3177caa1e7b1",
   "metadata": {},
   "outputs": [],
   "source": []
  },
  {
   "cell_type": "code",
   "execution_count": null,
   "id": "4d52286f-35fd-41c0-8fe0-c00e980a5434",
   "metadata": {},
   "outputs": [],
   "source": []
  },
  {
   "cell_type": "code",
   "execution_count": null,
   "id": "0624c8c5-bb0f-4016-8ed4-7e9b3ce4a97a",
   "metadata": {},
   "outputs": [],
   "source": []
  },
  {
   "cell_type": "code",
   "execution_count": null,
   "id": "8bed31ea-f1f5-402f-b085-198d7f13aa83",
   "metadata": {},
   "outputs": [],
   "source": []
  },
  {
   "cell_type": "code",
   "execution_count": null,
   "id": "67b86237-885e-485b-adc7-12955017a0aa",
   "metadata": {},
   "outputs": [],
   "source": []
  },
  {
   "cell_type": "code",
   "execution_count": null,
   "id": "9f9b67e6-4ed2-40f3-8dd1-3afa5acee456",
   "metadata": {},
   "outputs": [],
   "source": []
  },
  {
   "cell_type": "code",
   "execution_count": null,
   "id": "061cfe45-202b-42d4-8752-9a38ef7985d7",
   "metadata": {},
   "outputs": [],
   "source": []
  },
  {
   "cell_type": "code",
   "execution_count": null,
   "id": "4a0768ec-508f-48e2-b9f3-b18fa5e1791e",
   "metadata": {},
   "outputs": [],
   "source": []
  }
 ],
 "metadata": {
  "kernelspec": {
   "display_name": "Python [conda env:base] *",
   "language": "python",
   "name": "conda-base-py"
  },
  "language_info": {
   "codemirror_mode": {
    "name": "ipython",
    "version": 3
   },
   "file_extension": ".py",
   "mimetype": "text/x-python",
   "name": "python",
   "nbconvert_exporter": "python",
   "pygments_lexer": "ipython3",
   "version": "3.10.14"
  }
 },
 "nbformat": 4,
 "nbformat_minor": 5
}
