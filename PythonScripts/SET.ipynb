{
 "cells": [
  {
   "cell_type": "code",
   "execution_count": 37,
   "id": "47edea27-f874-4365-8a88-5f371d934816",
   "metadata": {},
   "outputs": [
    {
     "data": {
      "text/plain": [
       "({1, 2, 3, 4, 5}, set)"
      ]
     },
     "execution_count": 37,
     "metadata": {},
     "output_type": "execute_result"
    }
   ],
   "source": [
    "# Set\n",
    "\n",
    "a = {1,2,3,4,5}\n",
    "a,type(a)"
   ]
  },
  {
   "cell_type": "markdown",
   "id": "e2801dd3-73bd-4831-b2af-519eed033594",
   "metadata": {},
   "source": [
    "# Properties of set\n",
    "\n",
    "- It's not sequence data type\n",
    "- unique values\n",
    "- it's not heterogenous - does not allow mutable\n",
    "- It's mutuable"
   ]
  },
  {
   "cell_type": "code",
   "execution_count": 39,
   "id": "1d7840a6-0d47-42f9-91dd-7c4fedb4742d",
   "metadata": {},
   "outputs": [
    {
     "ename": "TypeError",
     "evalue": "'set' object is not subscriptable",
     "output_type": "error",
     "traceback": [
      "\u001b[1;31m---------------------------------------------------------------------------\u001b[0m",
      "\u001b[1;31mTypeError\u001b[0m                                 Traceback (most recent call last)",
      "Cell \u001b[1;32mIn[39], line 2\u001b[0m\n\u001b[0;32m      1\u001b[0m a \u001b[38;5;241m=\u001b[39m {\u001b[38;5;241m1\u001b[39m,\u001b[38;5;241m2\u001b[39m,\u001b[38;5;241m34\u001b[39m,\u001b[38;5;241m5\u001b[39m}\n\u001b[1;32m----> 2\u001b[0m \u001b[43ma\u001b[49m\u001b[43m[\u001b[49m\u001b[38;5;241;43m0\u001b[39;49m\u001b[43m]\u001b[49m\n",
      "\u001b[1;31mTypeError\u001b[0m: 'set' object is not subscriptable"
     ]
    }
   ],
   "source": [
    "a = {1,2,34,5}\n",
    "a[0]"
   ]
  },
  {
   "cell_type": "code",
   "execution_count": 41,
   "id": "dabee49e-64ce-4520-bf23-acc5baf2827e",
   "metadata": {},
   "outputs": [
    {
     "data": {
      "text/plain": [
       "{2, 3, 4, 6, 7, 11, 33}"
      ]
     },
     "execution_count": 41,
     "metadata": {},
     "output_type": "execute_result"
    }
   ],
   "source": [
    "a = {11,2,2,33,4,3,6,7}\n",
    "a"
   ]
  },
  {
   "cell_type": "code",
   "execution_count": 49,
   "id": "d4fcd157-e7fe-49a9-a42e-490b47930948",
   "metadata": {},
   "outputs": [
    {
     "data": {
      "text/plain": [
       "{(7+9j), 12, 5.9, 'abc'}"
      ]
     },
     "execution_count": 49,
     "metadata": {},
     "output_type": "execute_result"
    }
   ],
   "source": [
    "a = {'abc',12,5.9,7+9j}\n",
    "a"
   ]
  },
  {
   "cell_type": "code",
   "execution_count": 51,
   "id": "e4d32b06-e596-4aac-8383-f4f48dfaa449",
   "metadata": {},
   "outputs": [
    {
     "ename": "TypeError",
     "evalue": "unhashable type: 'list'",
     "output_type": "error",
     "traceback": [
      "\u001b[1;31m---------------------------------------------------------------------------\u001b[0m",
      "\u001b[1;31mTypeError\u001b[0m                                 Traceback (most recent call last)",
      "Cell \u001b[1;32mIn[51], line 1\u001b[0m\n\u001b[1;32m----> 1\u001b[0m a \u001b[38;5;241m=\u001b[39m {\u001b[38;5;124m'\u001b[39m\u001b[38;5;124mabc\u001b[39m\u001b[38;5;124m'\u001b[39m,\u001b[38;5;241m12\u001b[39m,\u001b[38;5;241m5.9\u001b[39m,\u001b[38;5;241m7\u001b[39m\u001b[38;5;241m+\u001b[39m\u001b[38;5;241m9\u001b[39mj,[\u001b[38;5;241m9\u001b[39m,\u001b[38;5;241m8\u001b[39m],{\u001b[38;5;124m'\u001b[39m\u001b[38;5;124ma\u001b[39m\u001b[38;5;124m'\u001b[39m:\u001b[38;5;241m5\u001b[39m}}\n\u001b[0;32m      2\u001b[0m a\n",
      "\u001b[1;31mTypeError\u001b[0m: unhashable type: 'list'"
     ]
    }
   ],
   "source": [
    "a = {'abc',12,5.9,7+9j,[9,8],{'a':5}}\n",
    "a"
   ]
  },
  {
   "cell_type": "code",
   "execution_count": 56,
   "id": "22c9656f-6aff-4c52-a619-3cf977667ff8",
   "metadata": {},
   "outputs": [
    {
     "name": "stdout",
     "output_type": "stream",
     "text": [
      "None\n"
     ]
    },
    {
     "data": {
      "text/plain": [
       "{1, 2, 3, 4, 5, 8}"
      ]
     },
     "execution_count": 56,
     "metadata": {},
     "output_type": "execute_result"
    }
   ],
   "source": [
    "a = {1,2,3,4,5}\n",
    "\n",
    "print(a.add(8)) #changing original object so getting None\n",
    "a"
   ]
  },
  {
   "cell_type": "code",
   "execution_count": 65,
   "id": "d34a8a5e-c452-44a0-843c-1a70956c3daa",
   "metadata": {},
   "outputs": [
    {
     "data": {
      "text/plain": [
       "{'emp2', 'emp4'}"
      ]
     },
     "execution_count": 65,
     "metadata": {},
     "output_type": "execute_result"
    }
   ],
   "source": [
    "dev = {'emp1','emp2','emp4'}\n",
    "\n",
    "prod = {'emp3','emp4','emp2','emp6'}\n",
    "\n",
    "dev & prod"
   ]
  },
  {
   "cell_type": "code",
   "execution_count": 67,
   "id": "74bb5c7d-2460-426d-bb62-f99026cefb1e",
   "metadata": {},
   "outputs": [
    {
     "data": {
      "text/plain": [
       "{'emp1', 'emp2', 'emp3', 'emp4', 'emp6'}"
      ]
     },
     "execution_count": 67,
     "metadata": {},
     "output_type": "execute_result"
    }
   ],
   "source": [
    "dev = {'emp1','emp2','emp4'}\n",
    "\n",
    "prod = {'emp3','emp4','emp2','emp6'}\n",
    "\n",
    "dev | prod"
   ]
  },
  {
   "cell_type": "code",
   "execution_count": 71,
   "id": "8bb8ee81-0837-4f73-8b75-beb179ec19ff",
   "metadata": {},
   "outputs": [
    {
     "data": {
      "text/plain": [
       "{'emp1'}"
      ]
     },
     "execution_count": 71,
     "metadata": {},
     "output_type": "execute_result"
    }
   ],
   "source": [
    "dev = {'emp1','emp2','emp4'}\n",
    "\n",
    "prod = {'emp3','emp4','emp2','emp6'}\n",
    "\n",
    "dev - prod #unique in dev"
   ]
  },
  {
   "cell_type": "code",
   "execution_count": 73,
   "id": "5ddda8c4-c222-4b26-8c9b-777c1c00cc89",
   "metadata": {},
   "outputs": [
    {
     "data": {
      "text/plain": [
       "{'emp3', 'emp6'}"
      ]
     },
     "execution_count": 73,
     "metadata": {},
     "output_type": "execute_result"
    }
   ],
   "source": [
    "dev = {'emp1','emp2','emp4'}\n",
    "\n",
    "prod = {'emp3','emp4','emp2','emp6'}\n",
    "\n",
    "prod - dev #unique in prod"
   ]
  },
  {
   "cell_type": "code",
   "execution_count": 85,
   "id": "75e28786-04cd-4008-8ece-617822679a2a",
   "metadata": {},
   "outputs": [
    {
     "name": "stdout",
     "output_type": "stream",
     "text": [
      "{'bangalore', 'mumbai'}\n",
      "{'goa', 'chicago', 'bangalore', 'chennai', 'New york', 'mumbai'}\n",
      "{'goa', 'chennai'}\n",
      "{'New york', 'chicago'}\n"
     ]
    }
   ],
   "source": [
    "temp = {'New york','chicago','bangalore','mumbai'}\n",
    "\n",
    "humidity = {'bangalore','chennai','mumbai','goa'}\n",
    "\n",
    "print(temp & humidity)\n",
    "print(temp | humidity)\n",
    "print(humidity - temp)\n",
    "print(temp - humidity)"
   ]
  },
  {
   "cell_type": "markdown",
   "id": "bf4bfca0-77e5-440b-ada0-99da1e442375",
   "metadata": {},
   "source": [
    "# Conditional Statements"
   ]
  },
  {
   "cell_type": "code",
   "execution_count": null,
   "id": "81b93c59-5f80-4fdc-b9cc-3b3d89180625",
   "metadata": {},
   "outputs": [],
   "source": [
    "# if,else\n",
    "\n",
    "stat1\n",
    "stat2\n",
    "if condition:\n",
    "    stat3\n",
    "    stat4\n",
    "else:\n",
    "    stat5\n",
    "    stat6\n",
    "stat7\n",
    "stat8"
   ]
  },
  {
   "cell_type": "code",
   "execution_count": 88,
   "id": "268410b3-8a26-4e2a-a1ce-85c5efcc941a",
   "metadata": {},
   "outputs": [
    {
     "name": "stdout",
     "output_type": "stream",
     "text": [
      "Java\n"
     ]
    }
   ],
   "source": [
    "a = 10\n",
    "b = 20\n",
    "if a > b:\n",
    "    print(\"python\")\n",
    "    print(\"sql\")\n",
    "print(\"Java\")"
   ]
  },
  {
   "cell_type": "code",
   "execution_count": 90,
   "id": "37249b0a-e67e-4680-99e9-bea4d53ca6d9",
   "metadata": {},
   "outputs": [
    {
     "name": "stdout",
     "output_type": "stream",
     "text": [
      "python\n",
      "sql\n",
      "Java\n"
     ]
    }
   ],
   "source": [
    "a = 10\n",
    "b = 20\n",
    "if a < b:\n",
    "    print(\"python\")\n",
    "    print(\"sql\")\n",
    "print(\"Java\")"
   ]
  },
  {
   "cell_type": "code",
   "execution_count": 94,
   "id": "2e29f05e-fe37-44bc-8ae6-32707713a532",
   "metadata": {},
   "outputs": [
    {
     "name": "stdout",
     "output_type": "stream",
     "text": [
      "Java\n",
      "c++\n"
     ]
    }
   ],
   "source": [
    "a = 10\n",
    "b = 20\n",
    "if a > b:\n",
    "    print(\"python\")\n",
    "    print(\"sql\")\n",
    "else:\n",
    "    print(\"Java\")\n",
    "print(\"c++\")"
   ]
  },
  {
   "cell_type": "code",
   "execution_count": 100,
   "id": "a0fa8c6f-f829-401c-aaa4-5f8f94e5429c",
   "metadata": {},
   "outputs": [
    {
     "name": "stdout",
     "output_type": "stream",
     "text": [
      "python\n",
      "sql\n",
      "Java\n",
      "c++\n"
     ]
    }
   ],
   "source": [
    "a = 10\n",
    "b = 20\n",
    "if a < b:\n",
    "    print(\"python\")\n",
    "    print(\"sql\")\n",
    "if a == b:\n",
    "    print(\"Big Data\")\n",
    "if a > b:\n",
    "    print(\"Hadoop\")\n",
    "else:\n",
    "    print(\"Java\")\n",
    "print(\"c++\")"
   ]
  },
  {
   "cell_type": "code",
   "execution_count": 108,
   "id": "4c4f9a64-ec13-48fc-b9ae-95ba7e0e1f63",
   "metadata": {},
   "outputs": [
    {
     "name": "stdout",
     "output_type": "stream",
     "text": [
      "Big Data\n",
      "c++\n"
     ]
    }
   ],
   "source": [
    "# if ,elif,else\n",
    "\n",
    "a = 10\n",
    "b = 20\n",
    "if a > b:\n",
    "    print(\"python\")\n",
    "    print(\"sql\")\n",
    "elif a != b:\n",
    "    print(\"Big Data\")\n",
    "elif a < b:\n",
    "    print(\"Hadoop\")\n",
    "else:\n",
    "    print(\"Java\")\n",
    "print(\"c++\")"
   ]
  },
  {
   "cell_type": "code",
   "execution_count": 208,
   "id": "d0ff2918-c9d8-4cf4-a0fa-640bc677e7cc",
   "metadata": {},
   "outputs": [
    {
     "name": "stdin",
     "output_type": "stream",
     "text": [
      "Enter a number between : 6\n"
     ]
    },
    {
     "name": "stdout",
     "output_type": "stream",
     "text": [
      "six\n",
      "even numbers\n"
     ]
    }
   ],
   "source": [
    "num = eval(input(\"Enter a number between :\"))\n",
    "numwords = {1:'One',2:'Two',3:'Three',4:'Four',5:'Five',6:'six',7:'seven'}\n",
    "\n",
    "if (num < min(numwords.keys())) or (num > max(numwords.keys())):\n",
    "    print(\"Number out of range\")\n",
    "elif type(num) == float:\n",
    "    print(\"Invalid input  given\")\n",
    "else:\n",
    "    print(numwords.get(num))\n",
    "print(\"even numbers\")"
   ]
  },
  {
   "cell_type": "code",
   "execution_count": 206,
   "id": "d4d1773b-8db0-47fe-b2c4-38fcc3a0a88f",
   "metadata": {},
   "outputs": [
    {
     "name": "stdin",
     "output_type": "stream",
     "text": [
      "Enter number1: 45\n",
      "Enter number2: 6\n",
      "Enter an operation (+, -, *, /):  /\n"
     ]
    },
    {
     "name": "stdout",
     "output_type": "stream",
     "text": [
      "Result: 7.5\n"
     ]
    }
   ],
   "source": [
    "num1 = eval(input(\"Enter number1:\"))\n",
    "num2 = eval(input(\"Enter number2:\"))\n",
    "\n",
    "cal = {\n",
    "    '+': num1 + num2,\n",
    "    '-': num1 - num2,\n",
    "    '*': num1 * num2,\n",
    "    '/': num1 / num2 if num2 != 0 else 'Undefined (division by zero)'\n",
    "}\n",
    "op = input(\"Enter an operation (+, -, *, /): \")\n",
    "\n",
    "if op in cal:\n",
    "    print(\"Result:\", cal[op])\n",
    "else:\n",
    "    print(\"Invalid operation\")\n"
   ]
  },
  {
   "cell_type": "code",
   "execution_count": 212,
   "id": "e1e8851c-2ee8-4d84-9a53-12221eb1694f",
   "metadata": {},
   "outputs": [
    {
     "name": "stdout",
     "output_type": "stream",
     "text": [
      "{'name': 'shivani', 'age': 26, 'salary': '1cr', 'phone': '+91 9011376392'} <class 'dict'>\n",
      "20\n"
     ]
    }
   ],
   "source": [
    "a = {\"name\":\"shivani\",\"age\": 26,\"salary\":'1cr',\"phone\":\"+91 9011376392\"}\n",
    "print(a,type(a))\n",
    "print(b)"
   ]
  },
  {
   "cell_type": "code",
   "execution_count": null,
   "id": "f135a7d7-e3b5-4491-b02c-6069f9dfcfe9",
   "metadata": {},
   "outputs": [],
   "source": []
  },
  {
   "cell_type": "code",
   "execution_count": null,
   "id": "25d0bbaa-3b71-410e-bb3f-8f2606916079",
   "metadata": {},
   "outputs": [],
   "source": []
  },
  {
   "cell_type": "code",
   "execution_count": null,
   "id": "11721a4c-600a-4f81-a48b-2c7a2bb114f1",
   "metadata": {},
   "outputs": [],
   "source": []
  },
  {
   "cell_type": "code",
   "execution_count": null,
   "id": "4560997f-2015-4f1e-8da7-d15c0d6e1212",
   "metadata": {},
   "outputs": [],
   "source": []
  },
  {
   "cell_type": "code",
   "execution_count": null,
   "id": "05d89874-64db-4536-84f2-380be7fd4c08",
   "metadata": {},
   "outputs": [],
   "source": []
  },
  {
   "cell_type": "code",
   "execution_count": null,
   "id": "380a3e79-e310-4c3d-bd8b-7e18f865bf7b",
   "metadata": {},
   "outputs": [],
   "source": []
  },
  {
   "cell_type": "code",
   "execution_count": null,
   "id": "9d5e5689-5212-4e78-b92b-513f9ec83d08",
   "metadata": {},
   "outputs": [],
   "source": []
  },
  {
   "cell_type": "code",
   "execution_count": null,
   "id": "7085dc0b-8bc1-477f-a3b9-cb8532bbba42",
   "metadata": {},
   "outputs": [],
   "source": []
  },
  {
   "cell_type": "code",
   "execution_count": null,
   "id": "865ed2c8-547d-4136-af48-7fda455cf539",
   "metadata": {},
   "outputs": [],
   "source": []
  },
  {
   "cell_type": "code",
   "execution_count": null,
   "id": "f7960915-89f2-4687-8dba-03ee77122b26",
   "metadata": {},
   "outputs": [],
   "source": []
  }
 ],
 "metadata": {
  "kernelspec": {
   "display_name": "Python [conda env:base] *",
   "language": "python",
   "name": "conda-base-py"
  },
  "language_info": {
   "codemirror_mode": {
    "name": "ipython",
    "version": 3
   },
   "file_extension": ".py",
   "mimetype": "text/x-python",
   "name": "python",
   "nbconvert_exporter": "python",
   "pygments_lexer": "ipython3",
   "version": "3.10.14"
  }
 },
 "nbformat": 4,
 "nbformat_minor": 5
}
