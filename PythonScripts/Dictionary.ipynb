{
 "cells": [
  {
   "cell_type": "markdown",
   "id": "94ae4798-58a3-446c-8b9b-c15b2455bd8b",
   "metadata": {},
   "source": [
    "# Properties of Dictionary"
   ]
  },
  {
   "cell_type": "markdown",
   "id": "73865fcd-63d6-440d-8550-24229c0f7378",
   "metadata": {},
   "source": [
    "- Its a collection of key and value pair\n",
    "- A key and value together is refered as an item\n",
    "- Items are sep by ,\n",
    "- A key and a value is sep by :\n",
    "- keys can't be duplicate\n",
    "- wheras values can be duplicated\n",
    "- A key can't be an mutable data type\n",
    "- whereas a value can be anything(mutable,imutable)\n",
    "- It is not a seq data type hence no indexing, slicing, concatenation,repetation\n",
    "- Membership op are not possible but only on keys\n",
    "- Identity op are possible\n",
    "\n",
    "### It's an mutable data type"
   ]
  },
  {
   "cell_type": "code",
   "execution_count": 17,
   "id": "a07a7c46-8e73-452d-ab8e-3cf5d18655f3",
   "metadata": {},
   "outputs": [
    {
     "name": "stdout",
     "output_type": "stream",
     "text": [
      "{'name': 'siya', 'age': 30, 'salary': 300000} <class 'dict'>\n",
      "3\n"
     ]
    }
   ],
   "source": [
    "a = {'name':'siya','age':30,'salary':300000}\n",
    "\n",
    "print(a,type(a))\n",
    "\n",
    "print(len(a))"
   ]
  },
  {
   "cell_type": "code",
   "execution_count": 21,
   "id": "a892c0a1-3665-4e1b-8820-c9dece24ff93",
   "metadata": {},
   "outputs": [
    {
     "name": "stdout",
     "output_type": "stream",
     "text": [
      "{'name': 'ram', 'age': 30, 'salary': 300000} <class 'dict'>\n"
     ]
    }
   ],
   "source": [
    "a = {'name':'siya','age':30,'salary':300000,'name':'ram'}\n",
    "\n",
    "print(a,type(a))\n",
    "\n",
    "#name key get updated so its not duplicate"
   ]
  },
  {
   "cell_type": "code",
   "execution_count": 29,
   "id": "6a587222-c07b-42cc-8754-053dac5a750c",
   "metadata": {},
   "outputs": [
    {
     "name": "stdout",
     "output_type": "stream",
     "text": [
      "{'name': 'siya', 'age': 30, 'salary': 300000, 'emp1': 'siya'} <class 'dict'>\n"
     ]
    }
   ],
   "source": [
    "a = {'name':'siya','age':30,'salary':300000,'emp1':'siya'}\n",
    "\n",
    "print(a,type(a))\n",
    "\n",
    "#nvalues can be duplicate"
   ]
  },
  {
   "cell_type": "code",
   "execution_count": 35,
   "id": "5315cf67-52bc-42a2-9045-16ffc24f0c5b",
   "metadata": {},
   "outputs": [
    {
     "data": {
      "text/plain": [
       "{23: 33, 'abd': 23, (1, 2): 'siya'}"
      ]
     },
     "execution_count": 35,
     "metadata": {},
     "output_type": "execute_result"
    }
   ],
   "source": [
    "a = {23:33,'abd':23,(1,2):'siya'}\n",
    "a\n",
    "\n",
    "# any immutable data type is key like string,integer,tuple"
   ]
  },
  {
   "cell_type": "markdown",
   "id": "c834bd6a-15ae-46cf-aede-45f070f6839d",
   "metadata": {},
   "source": [
    "a = {'name':'siya','age':30,'salary':300000,'emp1':'siya'}\n",
    "\n",
    "print(a[0])\n",
    "\n",
    "# It will not allow indexing,slicing,concate,repetation"
   ]
  },
  {
   "cell_type": "code",
   "execution_count": 43,
   "id": "0be439e3-7e04-4b39-ac3b-3189e3a298b5",
   "metadata": {},
   "outputs": [
    {
     "name": "stdout",
     "output_type": "stream",
     "text": [
      "30\n"
     ]
    }
   ],
   "source": [
    "a = {'name':'siya','age':30,'salary':300000,'emp1':'siya'}\n",
    "\n",
    "print(a['age'])\n",
    "\n",
    "# we can access value by giving key "
   ]
  },
  {
   "cell_type": "code",
   "execution_count": 45,
   "id": "eaffc51c-2949-45d2-893f-bb0712f74e17",
   "metadata": {},
   "outputs": [
    {
     "data": {
      "text/plain": [
       "True"
      ]
     },
     "execution_count": 45,
     "metadata": {},
     "output_type": "execute_result"
    }
   ],
   "source": [
    "a = {'name':'siya','age':30,'salary':300000,'emp1':'siya'}\n",
    "\n",
    "'age'in a\n",
    "# membership only work for key"
   ]
  },
  {
   "cell_type": "code",
   "execution_count": 51,
   "id": "8e65b6bd-ca57-45da-8a89-afe447116e10",
   "metadata": {},
   "outputs": [
    {
     "data": {
      "text/plain": [
       "False"
      ]
     },
     "execution_count": 51,
     "metadata": {},
     "output_type": "execute_result"
    }
   ],
   "source": [
    "a = {'name':'siya','age':30,'salary':300000,'emp1':'siya'}\n",
    "\n",
    "'siya' in a\n",
    "# membership will not for values, never do check on values"
   ]
  },
  {
   "cell_type": "code",
   "execution_count": 72,
   "id": "1eb8c97f-3c56-41ef-9ae5-ead075b9bf88",
   "metadata": {},
   "outputs": [
    {
     "name": "stdout",
     "output_type": "stream",
     "text": [
      "False\n"
     ]
    }
   ],
   "source": [
    "a = {'name':'siya','age':30,'salary':300000,'emp1':'siya'}\n",
    "b = {'name':'siya','age':30,'salary':300000,'emp1':'siya'}\n",
    "\n",
    "print(a is b)"
   ]
  },
  {
   "cell_type": "code",
   "execution_count": 80,
   "id": "a04b272b-3249-42a5-bbd4-88ae01727c11",
   "metadata": {},
   "outputs": [
    {
     "data": {
      "text/plain": [
       "{'name': 'Ram', 'age': 30, 'salary': 300000, 'emp1': 'siya'}"
      ]
     },
     "execution_count": 80,
     "metadata": {},
     "output_type": "execute_result"
    }
   ],
   "source": [
    "# we extract data as per keys ,so dict is mutable\n",
    "\n",
    "a = {'name':'siya','age':30,'salary':300000,'emp1':'siya'}\n",
    "\n",
    "a['name'] = 'Ram'\n",
    "\n",
    "a"
   ]
  },
  {
   "cell_type": "code",
   "execution_count": 86,
   "id": "0e753456-5166-46b0-a66f-76df337807a4",
   "metadata": {},
   "outputs": [
    {
     "data": {
      "text/plain": [
       "32"
      ]
     },
     "execution_count": 86,
     "metadata": {},
     "output_type": "execute_result"
    }
   ],
   "source": [
    "emp_data = {'emp_1': {'name':'siya','age':21,'salary':908876},\n",
    "            'emp_2': {'name':'siya','age':39,'salary':895471},\n",
    "            'emp_3': {'name':'siya','age':32,'salary':369874}\n",
    "           }\n",
    "emp_data['emp_3']['age']"
   ]
  },
  {
   "cell_type": "code",
   "execution_count": 88,
   "id": "3970127e-5ee9-4004-8c0a-0aa841b6e084",
   "metadata": {},
   "outputs": [
    {
     "data": {
      "text/plain": [
       "{'emp_1': {'name': 'siya', 'age': 21, 'salary': 908876},\n",
       " 'emp_2': {'name': 'siya', 'age': 32, 'salary': 369874}}"
      ]
     },
     "execution_count": 88,
     "metadata": {},
     "output_type": "execute_result"
    }
   ],
   "source": [
    "emp_data = {'emp_1': {'name':'siya','age':21,'salary':908876},\n",
    "            'emp_2': {'name':'siya','age':39,'salary':895471},\n",
    "            'emp_2': {'name':'siya','age':32,'salary':369874}\n",
    "           }\n",
    "emp_data"
   ]
  },
  {
   "cell_type": "code",
   "execution_count": 106,
   "id": "430d28a2-2e26-4443-bbb2-0891512926ca",
   "metadata": {},
   "outputs": [
    {
     "name": "stdout",
     "output_type": "stream",
     "text": [
      "siya\n",
      "Kiya\n"
     ]
    }
   ],
   "source": [
    "emp_data = {'emp_1': {'name':'siya','age':21,'salary':908876},\n",
    "            'emp_2': {'name':'Kiya','age':29,'salary':895471},\n",
    "            'emp_3': {'name':'Ram','age':32,'salary':369874}\n",
    "           }\n",
    "for i in emp_data:\n",
    "    if emp_data[i]['age'] <= 30:\n",
    "        print(emp_data[i]['name'])"
   ]
  },
  {
   "cell_type": "code",
   "execution_count": 137,
   "id": "b01d78ac-d69d-4e7e-8ceb-346f33f3eed1",
   "metadata": {},
   "outputs": [
    {
     "name": "stdout",
     "output_type": "stream",
     "text": [
      "emp_1 Siya\n",
      "emp_3 Sam\n"
     ]
    }
   ],
   "source": [
    "emp_data = {'emp_1': {'name':'Siya','age':21,'salary':908876},\n",
    "            'emp_2': {'name':'Kiya','age':29,'salary':895471},\n",
    "            'emp_3': {'name':'Sam','age':32,'salary':369874}\n",
    "           }\n",
    "for i in emp_data:\n",
    "    if emp_data[i]['name'].lower().startswith('s'):\n",
    "        print(i,emp_data[i]['name'])"
   ]
  },
  {
   "cell_type": "markdown",
   "id": "a58f78ef-40bb-4d72-b3e5-605dcc75c65f",
   "metadata": {},
   "source": [
    "# Methods of Dictionary"
   ]
  },
  {
   "cell_type": "code",
   "execution_count": 140,
   "id": "4134e727-33ca-4100-aba3-c1ab61dc08b2",
   "metadata": {},
   "outputs": [
    {
     "name": "stdout",
     "output_type": "stream",
     "text": [
      "['__class__', '__class_getitem__', '__contains__', '__delattr__', '__delitem__', '__dir__', '__doc__', '__eq__', '__format__', '__ge__', '__getattribute__', '__getitem__', '__gt__', '__hash__', '__init__', '__init_subclass__', '__ior__', '__iter__', '__le__', '__len__', '__lt__', '__ne__', '__new__', '__or__', '__reduce__', '__reduce_ex__', '__repr__', '__reversed__', '__ror__', '__setattr__', '__setitem__', '__sizeof__', '__str__', '__subclasshook__', 'clear', 'copy', 'fromkeys', 'get', 'items', 'keys', 'pop', 'popitem', 'setdefault', 'update', 'values']\n"
     ]
    }
   ],
   "source": [
    "print(dir(dict))"
   ]
  },
  {
   "cell_type": "markdown",
   "id": "ab03e517-be1f-42e5-99b2-a75a31234b4f",
   "metadata": {},
   "source": [
    "### Methods to add or access the items in the dict\n",
    "\n",
    "- get: 1.extract value if the key is present\n",
    "       2.if the key is not present by default it returns None\n",
    "       3.Custom message can be returned if the key is not present\n",
    "       4.Can't change the existing\n",
    "       5.Can't insert any data in the dict \n",
    "- setdefault: 1.Extract the value if the key is present\n",
    "              2.Can insert 1 record at a time\n",
    "              3.Can't change the existing data\n",
    "              4.Can't insert multiple records at a time\n",
    "- update:\n",
    "          1.can change the existing data\n",
    "          2.can insert multiple items"
   ]
  },
  {
   "cell_type": "code",
   "execution_count": 144,
   "id": "fa7aef23-4b19-49e7-987e-ae041f3d2c78",
   "metadata": {},
   "outputs": [
    {
     "data": {
      "text/plain": [
       "{'name': 'Kiya', 'age': 29, 'salary': 895471}"
      ]
     },
     "execution_count": 144,
     "metadata": {},
     "output_type": "execute_result"
    }
   ],
   "source": [
    "# get : if key is present\n",
    "\n",
    "emp_data = {'emp_1': {'name':'Siya','age':21,'salary':908876},\n",
    "            'emp_2': {'name':'Kiya','age':29,'salary':895471},\n",
    "            'emp_3': {'name':'Sam','age':32,'salary':369874}\n",
    "           }\n",
    "emp_data.get('emp_2')"
   ]
  },
  {
   "cell_type": "code",
   "execution_count": 148,
   "id": "f33efa36-3aba-4294-8b7f-ee7b4a198866",
   "metadata": {},
   "outputs": [
    {
     "name": "stdout",
     "output_type": "stream",
     "text": [
      "None\n"
     ]
    }
   ],
   "source": [
    "# get : if key is not present\n",
    "\n",
    "emp_data = {'emp_1': {'name':'Siya','age':21,'salary':908876},\n",
    "            'emp_2': {'name':'Kiya','age':29,'salary':895471},\n",
    "            'emp_3': {'name':'Sam','age':32,'salary':369874}\n",
    "           }\n",
    "print(emp_data.get('emp_4'))"
   ]
  },
  {
   "cell_type": "code",
   "execution_count": 156,
   "id": "06e9e474-e568-4be5-89f8-c9edee1ce529",
   "metadata": {},
   "outputs": [
    {
     "name": "stdout",
     "output_type": "stream",
     "text": [
      "The emp you are searching for is not present in database\n"
     ]
    }
   ],
   "source": [
    "# get : if key is not present - custom msg\n",
    "\n",
    "emp_data = {'emp_1': {'name':'Siya','age':21,'salary':908876},\n",
    "            'emp_2': {'name':'Kiya','age':29,'salary':895471},\n",
    "            'emp_3': {'name':'Sam','age':32,'salary':369874}\n",
    "           }\n",
    "print(emp_data.get('emp_4', \"The emp you are searching for is not present in database\"))"
   ]
  },
  {
   "cell_type": "code",
   "execution_count": null,
   "id": "f297a91f-7826-4e9f-982c-42f2e5f89502",
   "metadata": {},
   "outputs": [],
   "source": [
    "# we can't insert any data and change in data using get method"
   ]
  },
  {
   "cell_type": "code",
   "execution_count": 160,
   "id": "edc232c8-59f4-49bb-809e-0b2986494664",
   "metadata": {},
   "outputs": [
    {
     "name": "stdout",
     "output_type": "stream",
     "text": [
      "{'name': 'Sam', 'age': 32, 'salary': 369874}\n"
     ]
    }
   ],
   "source": [
    "# Setdefault-  if key is present\n",
    "\n",
    "emp_data = {'emp_1': {'name':'Siya','age':21,'salary':908876},\n",
    "            'emp_2': {'name':'Kiya','age':29,'salary':895471},\n",
    "            'emp_3': {'name':'Sam','age':32,'salary':369874}\n",
    "           }\n",
    "print(emp_data.setdefault('emp_3'))"
   ]
  },
  {
   "cell_type": "code",
   "execution_count": 168,
   "id": "cb2d9d71-39f8-4de3-b016-1ce0a29f5dae",
   "metadata": {},
   "outputs": [
    {
     "name": "stdout",
     "output_type": "stream",
     "text": [
      "None\n"
     ]
    },
    {
     "data": {
      "text/plain": [
       "{'emp_1': {'name': 'Siya', 'age': 21, 'salary': 908876},\n",
       " 'emp_2': {'name': 'Kiya', 'age': 29, 'salary': 895471},\n",
       " 'emp_3': {'name': 'Sam', 'age': 32, 'salary': 369874},\n",
       " 'emp_4': None}"
      ]
     },
     "execution_count": 168,
     "metadata": {},
     "output_type": "execute_result"
    }
   ],
   "source": [
    "# Setdefault-  if key is not present\n",
    "\n",
    "emp_data = {'emp_1': {'name':'Siya','age':21,'salary':908876},\n",
    "            'emp_2': {'name':'Kiya','age':29,'salary':895471},\n",
    "            'emp_3': {'name':'Sam','age':32,'salary':369874}\n",
    "           }\n",
    "print(emp_data.setdefault('emp_4'))\n",
    "emp_data"
   ]
  },
  {
   "cell_type": "code",
   "execution_count": 172,
   "id": "010d5182-e4b4-4a47-b6ab-e1c0a306a2dc",
   "metadata": {},
   "outputs": [
    {
     "name": "stdout",
     "output_type": "stream",
     "text": [
      "{'name': 'Ram', 'age': 30, 'salary': 999874}\n"
     ]
    },
    {
     "data": {
      "text/plain": [
       "{'emp_1': {'name': 'Siya', 'age': 21, 'salary': 908876},\n",
       " 'emp_2': {'name': 'Kiya', 'age': 29, 'salary': 895471},\n",
       " 'emp_3': {'name': 'Sam', 'age': 32, 'salary': 369874},\n",
       " 'emp_4': {'name': 'Ram', 'age': 30, 'salary': 999874}}"
      ]
     },
     "execution_count": 172,
     "metadata": {},
     "output_type": "execute_result"
    }
   ],
   "source": [
    "# we can insert any data and change in data using get method\n",
    "emp_data = {'emp_1': {'name':'Siya','age':21,'salary':908876},\n",
    "            'emp_2': {'name':'Kiya','age':29,'salary':895471},\n",
    "            'emp_3': {'name':'Sam','age':32,'salary':369874}\n",
    "           }\n",
    "print(emp_data.setdefault('emp_4',{'name':'Ram','age':30,'salary':999874}))\n",
    "emp_data"
   ]
  },
  {
   "cell_type": "code",
   "execution_count": 188,
   "id": "6b681663-fb95-410d-a1ea-767f6e855be8",
   "metadata": {},
   "outputs": [
    {
     "data": {
      "text/plain": [
       "{'emp_1': {'name': 'Siya', 'age': 21, 'salary': 908876},\n",
       " 'emp_2': {'name': 'Kiya', 'age': 29, 'salary': 895471},\n",
       " 'emp_3': {'name': 'Sam', 'age': 32, 'salary': 369874},\n",
       " 'emp_4': {'name': 'ram', 'age': 55, 'salary': 808876},\n",
       " 'emp_5': {'name': 'piya', 'age': 44, 'salary': 795471}}"
      ]
     },
     "execution_count": 188,
     "metadata": {},
     "output_type": "execute_result"
    }
   ],
   "source": [
    "#Update\n",
    "\n",
    "emp_data = {'emp_1': {'name':'Siya','age':21,'salary':908876},\n",
    "            'emp_2': {'name':'Kiya','age':29,'salary':895471},\n",
    "            'emp_3': {'name':'Sam','age':32,'salary':369874}\n",
    "           }\n",
    "new = {'emp_4': {'name':'ram','age':55,'salary':808876},\n",
    "            'emp_5': {'name':'piya','age':44,'salary':795471},\n",
    "           }\n",
    "emp_data.update(new)\n",
    "emp_data"
   ]
  },
  {
   "cell_type": "code",
   "execution_count": 217,
   "id": "b6eea59c-dcc3-4ff7-85c8-c4ff355e9899",
   "metadata": {},
   "outputs": [
    {
     "name": "stdin",
     "output_type": "stream",
     "text": [
      "Enter name: shivani\n",
      "Enter age: 26\n",
      "Enter salary: 600000\n"
     ]
    },
    {
     "data": {
      "text/plain": [
       "{'emp_1': {'name': 'Siya', 'age': 21, 'salary': 908876},\n",
       " 'emp_2': {'name': 'Kiya', 'age': 29, 'salary': 895471},\n",
       " 'emp_3': {'name': 'Sam', 'age': 32, 'salary': 369874},\n",
       " 'emp_4': {'name': 'shivani', 'age': '26', 'salary': '600000'}}"
      ]
     },
     "execution_count": 217,
     "metadata": {},
     "output_type": "execute_result"
    }
   ],
   "source": [
    "emp_data= {'emp_1': {'name':'Siya','age':21,'salary':908876},\n",
    "            'emp_2': {'name':'Kiya','age':29,'salary':895471},\n",
    "            'emp_3': {'name':'Sam','age':32,'salary':369874}\n",
    "           }\n",
    "key = f'emp_{len(emp_data) + 1}'\n",
    "name = input(\"Enter name:\")\n",
    "age = input(\"Enter age:\")\n",
    "salary = input(\"Enter salary:\")\n",
    "\n",
    "emp_data.setdefault(key,{'name':name,'age':age,'salary':salary})\n",
    "emp_data"
   ]
  },
  {
   "cell_type": "code",
   "execution_count": 223,
   "id": "34f4ff6b-2fe0-49cd-a527-d32b54e220eb",
   "metadata": {},
   "outputs": [
    {
     "name": "stdin",
     "output_type": "stream",
     "text": [
      "Enter name: shiv\n",
      "Enter age: 28\n",
      "Enter salary: 100000\n"
     ]
    },
    {
     "data": {
      "text/plain": [
       "{'emp_1': {'name': 'Siya', 'age': 21, 'salary': 908876},\n",
       " 'emp_2': {'name': 'Kiya', 'age': 29, 'salary': 895471},\n",
       " 'emp_3': {'name': 'Sam', 'age': 32, 'salary': 369874},\n",
       " 'emp_4': {'name': 'shiv', 'age': '28', 'salary': '100000'}}"
      ]
     },
     "execution_count": 223,
     "metadata": {},
     "output_type": "execute_result"
    }
   ],
   "source": [
    "emp_data= {'emp_1': {'name':'Siya','age':21,'salary':908876},\n",
    "            'emp_2': {'name':'Kiya','age':29,'salary':895471},\n",
    "            'emp_3': {'name':'Sam','age':32,'salary':369874}\n",
    "           }\n",
    "key = f'emp_{len(emp_data) + 1}'\n",
    "name = input(\"Enter name:\")\n",
    "age = input(\"Enter age:\")\n",
    "salary = input(\"Enter salary:\")\n",
    "\n",
    "emp_data.update({key : {'name':name,'age':age,'salary':salary}})\n",
    "emp_data"
   ]
  },
  {
   "cell_type": "markdown",
   "id": "1986c2df-ec2a-44f4-9bac-b57db4b78d2e",
   "metadata": {},
   "source": [
    "# Methods to remove the items from dict"
   ]
  },
  {
   "cell_type": "code",
   "execution_count": 226,
   "id": "e9d7e15f-8e4a-41d9-873b-caee7004c790",
   "metadata": {},
   "outputs": [
    {
     "name": "stdout",
     "output_type": "stream",
     "text": [
      "['__class__', '__class_getitem__', '__contains__', '__delattr__', '__delitem__', '__dir__', '__doc__', '__eq__', '__format__', '__ge__', '__getattribute__', '__getitem__', '__gt__', '__hash__', '__init__', '__init_subclass__', '__ior__', '__iter__', '__le__', '__len__', '__lt__', '__ne__', '__new__', '__or__', '__reduce__', '__reduce_ex__', '__repr__', '__reversed__', '__ror__', '__setattr__', '__setitem__', '__sizeof__', '__str__', '__subclasshook__', 'clear', 'copy', 'fromkeys', 'get', 'items', 'keys', 'pop', 'popitem', 'setdefault', 'update', 'values']\n"
     ]
    }
   ],
   "source": [
    "print(dir(dict))"
   ]
  },
  {
   "cell_type": "markdown",
   "id": "513ebc0f-9817-4003-99ac-4b210aef6ead",
   "metadata": {},
   "source": [
    "1. pop- any data present in dict we can remove\n",
    "   \n",
    "2. popitem -  remove last item \n"
   ]
  },
  {
   "cell_type": "code",
   "execution_count": 230,
   "id": "aeba52da-0ded-4bd3-809a-aaaddf6aab22",
   "metadata": {},
   "outputs": [
    {
     "data": {
      "text/plain": [
       "{'name': 'Sam', 'age': 32, 'salary': 369874}"
      ]
     },
     "execution_count": 230,
     "metadata": {},
     "output_type": "execute_result"
    }
   ],
   "source": [
    "# Pop:\n",
    "\n",
    "emp_data= {'emp_1': {'name':'Siya','age':21,'salary':908876},\n",
    "            'emp_2': {'name':'Kiya','age':29,'salary':895471},\n",
    "            'emp_3': {'name':'Sam','age':32,'salary':369874}\n",
    "           }\n",
    "emp_data.pop('emp_3')"
   ]
  },
  {
   "cell_type": "code",
   "execution_count": 232,
   "id": "5ae988f4-5bc8-4e66-bf82-2c1e81ee06c0",
   "metadata": {},
   "outputs": [
    {
     "data": {
      "text/plain": [
       "{'emp_1': {'name': 'Siya', 'age': 21, 'salary': 908876},\n",
       " 'emp_2': {'name': 'Kiya', 'age': 29, 'salary': 895471}}"
      ]
     },
     "execution_count": 232,
     "metadata": {},
     "output_type": "execute_result"
    }
   ],
   "source": [
    "emp_data"
   ]
  },
  {
   "cell_type": "code",
   "execution_count": 234,
   "id": "cf844ba2-899e-4a66-a0c4-d2c7dc2743ce",
   "metadata": {},
   "outputs": [
    {
     "ename": "KeyError",
     "evalue": "'emp_5'",
     "output_type": "error",
     "traceback": [
      "\u001b[1;31m---------------------------------------------------------------------------\u001b[0m",
      "\u001b[1;31mKeyError\u001b[0m                                  Traceback (most recent call last)",
      "Cell \u001b[1;32mIn[234], line 5\u001b[0m\n\u001b[0;32m      1\u001b[0m emp_data\u001b[38;5;241m=\u001b[39m {\u001b[38;5;124m'\u001b[39m\u001b[38;5;124memp_1\u001b[39m\u001b[38;5;124m'\u001b[39m: {\u001b[38;5;124m'\u001b[39m\u001b[38;5;124mname\u001b[39m\u001b[38;5;124m'\u001b[39m:\u001b[38;5;124m'\u001b[39m\u001b[38;5;124mSiya\u001b[39m\u001b[38;5;124m'\u001b[39m,\u001b[38;5;124m'\u001b[39m\u001b[38;5;124mage\u001b[39m\u001b[38;5;124m'\u001b[39m:\u001b[38;5;241m21\u001b[39m,\u001b[38;5;124m'\u001b[39m\u001b[38;5;124msalary\u001b[39m\u001b[38;5;124m'\u001b[39m:\u001b[38;5;241m908876\u001b[39m},\n\u001b[0;32m      2\u001b[0m             \u001b[38;5;124m'\u001b[39m\u001b[38;5;124memp_2\u001b[39m\u001b[38;5;124m'\u001b[39m: {\u001b[38;5;124m'\u001b[39m\u001b[38;5;124mname\u001b[39m\u001b[38;5;124m'\u001b[39m:\u001b[38;5;124m'\u001b[39m\u001b[38;5;124mKiya\u001b[39m\u001b[38;5;124m'\u001b[39m,\u001b[38;5;124m'\u001b[39m\u001b[38;5;124mage\u001b[39m\u001b[38;5;124m'\u001b[39m:\u001b[38;5;241m29\u001b[39m,\u001b[38;5;124m'\u001b[39m\u001b[38;5;124msalary\u001b[39m\u001b[38;5;124m'\u001b[39m:\u001b[38;5;241m895471\u001b[39m},\n\u001b[0;32m      3\u001b[0m             \u001b[38;5;124m'\u001b[39m\u001b[38;5;124memp_3\u001b[39m\u001b[38;5;124m'\u001b[39m: {\u001b[38;5;124m'\u001b[39m\u001b[38;5;124mname\u001b[39m\u001b[38;5;124m'\u001b[39m:\u001b[38;5;124m'\u001b[39m\u001b[38;5;124mSam\u001b[39m\u001b[38;5;124m'\u001b[39m,\u001b[38;5;124m'\u001b[39m\u001b[38;5;124mage\u001b[39m\u001b[38;5;124m'\u001b[39m:\u001b[38;5;241m32\u001b[39m,\u001b[38;5;124m'\u001b[39m\u001b[38;5;124msalary\u001b[39m\u001b[38;5;124m'\u001b[39m:\u001b[38;5;241m369874\u001b[39m}\n\u001b[0;32m      4\u001b[0m            }\n\u001b[1;32m----> 5\u001b[0m \u001b[43memp_data\u001b[49m\u001b[38;5;241;43m.\u001b[39;49m\u001b[43mpop\u001b[49m\u001b[43m(\u001b[49m\u001b[38;5;124;43m'\u001b[39;49m\u001b[38;5;124;43memp_5\u001b[39;49m\u001b[38;5;124;43m'\u001b[39;49m\u001b[43m)\u001b[49m\n",
      "\u001b[1;31mKeyError\u001b[0m: 'emp_5'"
     ]
    }
   ],
   "source": [
    "emp_data= {'emp_1': {'name':'Siya','age':21,'salary':908876},\n",
    "            'emp_2': {'name':'Kiya','age':29,'salary':895471},\n",
    "            'emp_3': {'name':'Sam','age':32,'salary':369874}\n",
    "           }\n",
    "emp_data.pop('emp_5')"
   ]
  },
  {
   "cell_type": "code",
   "execution_count": 236,
   "id": "9c9ceb5d-a7c3-4ef0-95d9-5d770efa6dfc",
   "metadata": {},
   "outputs": [
    {
     "data": {
      "text/plain": [
       "('emp_3', {'name': 'Sam', 'age': 32, 'salary': 369874})"
      ]
     },
     "execution_count": 236,
     "metadata": {},
     "output_type": "execute_result"
    }
   ],
   "source": [
    "emp_data= {'emp_1': {'name':'Siya','age':21,'salary':908876},\n",
    "            'emp_2': {'name':'Kiya','age':29,'salary':895471},\n",
    "            'emp_3': {'name':'Sam','age':32,'salary':369874}\n",
    "           }\n",
    "emp_data.popitem()"
   ]
  },
  {
   "cell_type": "code",
   "execution_count": 238,
   "id": "f5a8c9c7-1b23-497b-b4b9-a008ce957f54",
   "metadata": {},
   "outputs": [
    {
     "data": {
      "text/plain": [
       "{'emp_1': {'name': 'Siya', 'age': 21, 'salary': 908876},\n",
       " 'emp_2': {'name': 'Kiya', 'age': 29, 'salary': 895471}}"
      ]
     },
     "execution_count": 238,
     "metadata": {},
     "output_type": "execute_result"
    }
   ],
   "source": [
    "emp_data"
   ]
  },
  {
   "cell_type": "code",
   "execution_count": 302,
   "id": "bdd2cd6b-d7fc-409d-b1b0-5a6a2b650367",
   "metadata": {},
   "outputs": [],
   "source": [
    "exist = {'emp_1': {'name': 'Siya', 'age': 21, 'salary': 908876},\n",
    " 'emp_2': {'name': 'Kiya', 'age': 29, 'salary': 895471},\n",
    " 'emp_3': {'name': 'Sam', 'age': 32, 'salary': 369874},\n",
    " 'emp_4': {'name': 'shivani', 'age': '26', 'salary': 600000},\n",
    " 'emp_5': {'name': 'shiv', 'age': 28, 'salary': 775471},\n",
    " 'emp_6': {'name': 'sakhi', 'age': 23, 'salary': 969874},\n",
    " 'emp_7': {'name': 'tina', 'age': 45, 'salary': 340000}}\n",
    "ex_emp = {}"
   ]
  },
  {
   "cell_type": "code",
   "execution_count": 308,
   "id": "d0804cec-b17a-4dc5-9fda-74f3cbb08ed3",
   "metadata": {},
   "outputs": [
    {
     "name": "stdin",
     "output_type": "stream",
     "text": [
      "enter employee who left company: emp_6\n"
     ]
    },
    {
     "name": "stdout",
     "output_type": "stream",
     "text": [
      "{'emp_7': {'name': 'tina', 'age': 45, 'salary': 340000}, 'emp_6': {'name': 'sakhi', 'age': 23, 'salary': 969874}}\n"
     ]
    }
   ],
   "source": [
    "\n",
    "emp_left = input(\"enter employee who left company:\")\n",
    "\n",
    "ex_emp.setdefault(emp_left,exist.pop(emp_left))\n",
    "print(ex_emp)"
   ]
  },
  {
   "cell_type": "code",
   "execution_count": 310,
   "id": "ace8680c-79e6-46e9-bb45-44c50c13d0d4",
   "metadata": {},
   "outputs": [
    {
     "name": "stdout",
     "output_type": "stream",
     "text": [
      "{'emp_1': {'name': 'Siya', 'age': 21, 'salary': 908876}, 'emp_2': {'name': 'Kiya', 'age': 29, 'salary': 895471}, 'emp_3': {'name': 'Sam', 'age': 32, 'salary': 369874}, 'emp_4': {'name': 'shivani', 'age': '26', 'salary': 600000}, 'emp_5': {'name': 'shiv', 'age': 28, 'salary': 775471}}\n"
     ]
    }
   ],
   "source": [
    "print(exist)"
   ]
  },
  {
   "cell_type": "code",
   "execution_count": 300,
   "id": "d7f8589c-c66b-449e-9993-7683e926010c",
   "metadata": {},
   "outputs": [
    {
     "name": "stdout",
     "output_type": "stream",
     "text": [
      "{'emp_5': {'name': 'shiv', 'age': 28, 'salary': 775471}}\n"
     ]
    }
   ],
   "source": [
    "print(ex_emp)"
   ]
  },
  {
   "cell_type": "code",
   "execution_count": 318,
   "id": "ba44ce90-bac8-4146-8d10-cbf106600a8f",
   "metadata": {},
   "outputs": [
    {
     "name": "stdout",
     "output_type": "stream",
     "text": [
      "{'xyz': 1, 'abc': 1, 'pqr': 1}\n"
     ]
    }
   ],
   "source": [
    "# From keys\n",
    "\n",
    "a = ['xyz','abc','pqr']\n",
    "print(dict.fromkeys(a,1))"
   ]
  },
  {
   "cell_type": "code",
   "execution_count": null,
   "id": "900ff206-66dd-4fa7-9cd2-0ed4704bec70",
   "metadata": {},
   "outputs": [],
   "source": []
  },
  {
   "cell_type": "code",
   "execution_count": null,
   "id": "5b02e9e3-19d1-49e4-ab21-0fd2dac67636",
   "metadata": {},
   "outputs": [],
   "source": []
  },
  {
   "cell_type": "code",
   "execution_count": null,
   "id": "bf270fa1-48aa-4f04-b901-95702326b205",
   "metadata": {},
   "outputs": [],
   "source": []
  },
  {
   "cell_type": "code",
   "execution_count": null,
   "id": "762a2662-136c-4d00-b166-ac30af47ae7d",
   "metadata": {},
   "outputs": [],
   "source": []
  },
  {
   "cell_type": "code",
   "execution_count": null,
   "id": "1dcf481d-90cf-4ceb-a5cd-39e5c276de87",
   "metadata": {},
   "outputs": [],
   "source": []
  },
  {
   "cell_type": "code",
   "execution_count": null,
   "id": "4cfca73f-c2bd-4c30-8482-89f0d1a8c77a",
   "metadata": {},
   "outputs": [],
   "source": []
  },
  {
   "cell_type": "code",
   "execution_count": null,
   "id": "fe623af0-15b7-4c93-9219-23fa96eda38f",
   "metadata": {},
   "outputs": [],
   "source": []
  },
  {
   "cell_type": "code",
   "execution_count": null,
   "id": "1dacb0c6-f1cf-47b7-944e-1865b72b94c2",
   "metadata": {},
   "outputs": [],
   "source": []
  },
  {
   "cell_type": "code",
   "execution_count": null,
   "id": "9e6c4a10-d69c-4bfe-988d-e66c8d6a5e73",
   "metadata": {},
   "outputs": [],
   "source": []
  },
  {
   "cell_type": "code",
   "execution_count": null,
   "id": "5a31adbf-a585-4d87-8353-82c319a137c7",
   "metadata": {},
   "outputs": [],
   "source": []
  },
  {
   "cell_type": "code",
   "execution_count": null,
   "id": "0b6417dc-9a86-46ce-9345-39f375149b94",
   "metadata": {},
   "outputs": [],
   "source": []
  },
  {
   "cell_type": "code",
   "execution_count": null,
   "id": "f6fec7f2-ea54-4b75-97c6-bba90b73f928",
   "metadata": {},
   "outputs": [],
   "source": []
  }
 ],
 "metadata": {
  "kernelspec": {
   "display_name": "Python [conda env:base] *",
   "language": "python",
   "name": "conda-base-py"
  },
  "language_info": {
   "codemirror_mode": {
    "name": "ipython",
    "version": 3
   },
   "file_extension": ".py",
   "mimetype": "text/x-python",
   "name": "python",
   "nbconvert_exporter": "python",
   "pygments_lexer": "ipython3",
   "version": "3.10.14"
  }
 },
 "nbformat": 4,
 "nbformat_minor": 5
}
