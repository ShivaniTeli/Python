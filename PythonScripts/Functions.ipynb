{
 "cells": [
  {
   "cell_type": "markdown",
   "id": "27f307a3-7289-4f9d-bcd8-51f8e9427ab0",
   "metadata": {},
   "source": [
    "# Functions"
   ]
  },
  {
   "cell_type": "markdown",
   "id": "86078923-4518-4a6e-8805-fd6974a19451",
   "metadata": {},
   "source": [
    "- Should be written in as minimum line as possible\n",
    "- "
   ]
  },
  {
   "cell_type": "markdown",
   "id": "00654f67-55d3-4aca-a705-4759c2951997",
   "metadata": {},
   "source": [
    "# Function ---> do not repeat yourself\n",
    "\n",
    "1. function defination--> define code\n",
    "2. Function call--------> We excute the code \n",
    "\n",
    "Syntax of Function defination:\n",
    "\n",
    "def function_name(parameters):\n",
    "    stat1\n",
    "    stat2\n",
    "    return stat3\n",
    "\n",
    "syntax of Function call:\n",
    "\n",
    "function_name(arguments)\n",
    "\n",
    "\n",
    "####Things which are optional\n",
    "1.return---> but if not used by default every function return None\n",
    "2. parameters-->but if you created paramaters should be complusorly pass arguments"
   ]
  },
  {
   "cell_type": "code",
   "execution_count": 58,
   "id": "d910e98a-5d62-492b-99e6-12bd651c3875",
   "metadata": {},
   "outputs": [
    {
     "name": "stdout",
     "output_type": "stream",
     "text": [
      "103\n"
     ]
    }
   ],
   "source": [
    "# Function declaration\n",
    "def adder():\n",
    "    print(99 + 4)\n",
    "# Function call\n",
    "adder()"
   ]
  },
  {
   "cell_type": "code",
   "execution_count": 60,
   "id": "6b945382-2f9d-4fb7-86c9-0ec1d31ca582",
   "metadata": {},
   "outputs": [
    {
     "name": "stdout",
     "output_type": "stream",
     "text": [
      "9\n"
     ]
    }
   ],
   "source": [
    "def adder(a,b):\n",
    "    print(a+b)\n",
    "adder(4,5)"
   ]
  },
  {
   "cell_type": "code",
   "execution_count": 74,
   "id": "a4178340-a1f4-4118-9086-805850e60ea4",
   "metadata": {},
   "outputs": [
    {
     "name": "stdout",
     "output_type": "stream",
     "text": [
      "madam is Palindrome\n",
      "level is Palindrome\n",
      "rotor is Palindrome\n",
      "car is Not palindrome\n"
     ]
    }
   ],
   "source": [
    "def palin(a):\n",
    "    if(a[::-1]==a):\n",
    "        print(f\"{a} is Palindrome\")\n",
    "    else:\n",
    "        print(f\"{a} is Not palindrome\")\n",
    "palin(\"madam\")\n",
    "palin(\"level\")\n",
    "palin(\"rotor\")\n",
    "palin(\"car\")"
   ]
  },
  {
   "cell_type": "code",
   "execution_count": 68,
   "id": "edf43154-40bd-4a73-b1d6-7b147c2c917a",
   "metadata": {},
   "outputs": [
    {
     "name": "stdin",
     "output_type": "stream",
     "text": [
      "Enter Data: racecar\n"
     ]
    },
    {
     "name": "stdout",
     "output_type": "stream",
     "text": [
      "Palindrome\n"
     ]
    }
   ],
   "source": [
    "a = input(\"Enter Data:\")\n",
    "def palin():\n",
    "    if(a[::-1]==a):\n",
    "        print(\"Palindrome\")\n",
    "    else:\n",
    "        print(\"Not palindrome\")\n",
    "palin()"
   ]
  },
  {
   "cell_type": "markdown",
   "id": "1b629336-f310-49aa-9a9e-5baccc13f0b2",
   "metadata": {},
   "source": [
    "# Types of arguments\n",
    "\n",
    "1. Positional arguments\n",
    "2. keywords arguments\n",
    "3. default arguments\n",
    "4. variable length"
   ]
  },
  {
   "cell_type": "markdown",
   "id": "0a0db781-241c-4c1f-9c44-46f328b14dce",
   "metadata": {},
   "source": [
    "# Positional arguments: \n",
    "1.order is important  \n",
    "2.number of paramaters should be total number of arguments"
   ]
  },
  {
   "cell_type": "code",
   "execution_count": null,
   "id": "d49dab21-4270-42dc-9a36-caa5120989ab",
   "metadata": {},
   "outputs": [],
   "source": [
    "def emp_info(name,age,salary):\n",
    "    print(\"name:\",name)\n",
    "    print(\"age:\",age)\n",
    "    print(\"salary:\",salary)\n",
    "emp_info(\"shivani\",26,3500000)"
   ]
  },
  {
   "cell_type": "markdown",
   "id": "647f31c4-a96f-4700-bda4-d6b2a0d5f8e7",
   "metadata": {},
   "source": [
    "# Keyword:\n",
    "- order is not important\n",
    "- you can give mix position, or keyword, but keyword args should be given at the end"
   ]
  },
  {
   "cell_type": "code",
   "execution_count": 90,
   "id": "bf93a83c-aba6-49eb-a44f-3062a72cbe38",
   "metadata": {},
   "outputs": [
    {
     "name": "stdout",
     "output_type": "stream",
     "text": [
      "name: shivani\n",
      "age: 26\n",
      "salary: 3500000\n"
     ]
    }
   ],
   "source": [
    "def emp_info(name,age,salary):\n",
    "    print(\"name:\",name)\n",
    "    print(\"age:\",age)\n",
    "    print(\"salary:\",salary)\n",
    "emp_info(age= 26,name=\"shivani\",salary=3500000)"
   ]
  },
  {
   "cell_type": "code",
   "execution_count": 95,
   "id": "551094ed-f718-428f-8694-989eea049cac",
   "metadata": {},
   "outputs": [
    {
     "name": "stdout",
     "output_type": "stream",
     "text": [
      "name: shivani\n",
      "age: 26\n",
      "salary: 3500000\n"
     ]
    }
   ],
   "source": [
    "def emp_info(name,age,salary):\n",
    "    print(\"name:\",name)\n",
    "    print(\"age:\",age)\n",
    "    print(\"salary:\",salary)\n",
    "emp_info(\"shivani\",26,salary=3500000)"
   ]
  },
  {
   "cell_type": "markdown",
   "id": "ad8c3491-168c-4a3c-bcee-1c47f76b57c6",
   "metadata": {},
   "source": [
    "# Default "
   ]
  },
  {
   "cell_type": "code",
   "execution_count": 100,
   "id": "ebf0a74a-cc93-4947-a48e-514be439f1d5",
   "metadata": {},
   "outputs": [
    {
     "name": "stdout",
     "output_type": "stream",
     "text": [
      "name: shivani\n",
      "age: 26\n",
      "salary: 3500000\n",
      "location: Bangalore\n",
      "pincode: 123456\n"
     ]
    }
   ],
   "source": [
    "def emp_info(name,age,salary,loc = \"Bangalore\",pin=123456):\n",
    "    print(\"name:\",name)\n",
    "    print(\"age:\",age)\n",
    "    print(\"salary:\",salary)\n",
    "    print(\"location:\",loc)\n",
    "    print(\"pincode:\",pin)\n",
    "\n",
    "emp_info(\"shivani\",26,salary=3500000)"
   ]
  },
  {
   "cell_type": "code",
   "execution_count": 106,
   "id": "ea4abac8-349c-4242-8e72-ed399c133fcf",
   "metadata": {},
   "outputs": [
    {
     "name": "stdout",
     "output_type": "stream",
     "text": [
      "name: shivani\n",
      "age: 26\n",
      "salary: 3500000\n",
      "location: goa\n",
      "pincode: 345678\n"
     ]
    }
   ],
   "source": [
    "# Change in default\n",
    "def emp_info(name,age,salary,loc = \"Bangalore\",pin=123456):\n",
    "    print(\"name:\",name)\n",
    "    print(\"age:\",age)\n",
    "    print(\"salary:\",salary)\n",
    "    print(\"location:\",loc)\n",
    "    print(\"pincode:\",pin)\n",
    "\n",
    "emp_info(\"shivani\",26,3500000,loc='goa',pin=345678)"
   ]
  },
  {
   "cell_type": "code",
   "execution_count": 108,
   "id": "49de189c-98e4-44a1-880e-5937e59f0159",
   "metadata": {},
   "outputs": [
    {
     "name": "stdout",
     "output_type": "stream",
     "text": [
      "name: shivani\n",
      "age: 26\n",
      "salary: 3500000\n",
      "location: goa\n",
      "pincode: 345678\n"
     ]
    }
   ],
   "source": [
    "def emp_info(name,age,/,salary,*,loc = \"Bangalore\",pin=123456):\n",
    "    print(\"name:\",name)\n",
    "    print(\"age:\",age)\n",
    "    print(\"salary:\",salary)\n",
    "    print(\"location:\",loc)\n",
    "    print(\"pincode:\",pin)\n",
    "\n",
    "emp_info(\"shivani\",26,3500000,loc='goa',pin=345678)"
   ]
  },
  {
   "cell_type": "code",
   "execution_count": 114,
   "id": "02f5470b-b6e6-44ba-8845-0344b321c2a5",
   "metadata": {},
   "outputs": [
    {
     "name": "stdout",
     "output_type": "stream",
     "text": [
      "name: shivani\n",
      "age: 26\n",
      "salary: 3500000\n",
      "location: goa\n",
      "pincode: 345678\n"
     ]
    }
   ],
   "source": [
    "def emp_info(name,age,/,salary,*,loc = \"Bangalore\",pin=123456):\n",
    "    print(\"name:\",name)\n",
    "    print(\"age:\",age)\n",
    "    print(\"salary:\",salary)\n",
    "    print(\"location:\",loc)\n",
    "    print(\"pincode:\",pin)\n",
    "\n",
    "emp_info(\"shivani\",26,salary=3500000,loc='goa',pin=345678)"
   ]
  },
  {
   "cell_type": "code",
   "execution_count": 137,
   "id": "f40ac29d-eb7e-4452-bec4-087b27e411c7",
   "metadata": {},
   "outputs": [
    {
     "name": "stdout",
     "output_type": "stream",
     "text": [
      "[556, 78, 34, 12]\n"
     ]
    }
   ],
   "source": [
    "lst = [12,34,556,78]\n",
    "\n",
    "lst.sort(reverse = True) #### after * only keyword args\n",
    "print(lst)"
   ]
  },
  {
   "cell_type": "code",
   "execution_count": 139,
   "id": "c7bb4599-9d8a-47c4-940e-423d7e77dbc2",
   "metadata": {},
   "outputs": [
    {
     "data": {
      "text/plain": [
       "'jython parrot pink'"
      ]
     },
     "execution_count": 139,
     "metadata": {},
     "output_type": "execute_result"
    }
   ],
   "source": [
    "a= 'python parrot pink'\n",
    "a.replace('p','j',1) ####before / only positional args"
   ]
  },
  {
   "cell_type": "markdown",
   "id": "a1bc6797-f2d5-4485-b916-037a1a882324",
   "metadata": {},
   "source": [
    "# Variable Length\n",
    "\n",
    "*args, **kwargs\n",
    "\n",
    "1. *args ---> it takes the variable length postional arguments and store it in form of tuple\n",
    "2. **kwargs--->it takes the variable length keyword arguments and store it in form of dictionary "
   ]
  },
  {
   "cell_type": "code",
   "execution_count": 146,
   "id": "997415ea-2d4a-46de-ad0c-39d543a77bcc",
   "metadata": {},
   "outputs": [
    {
     "name": "stdout",
     "output_type": "stream",
     "text": [
      "(1, 2, 3, 4, 5) <class 'tuple'>\n"
     ]
    }
   ],
   "source": [
    "def adder(*args):\n",
    "    print(args, type(args))\n",
    "adder(1,2,3,4,5)"
   ]
  },
  {
   "cell_type": "code",
   "execution_count": 148,
   "id": "a8895ff6-c453-43d4-b1b8-128c3acfe4d1",
   "metadata": {},
   "outputs": [
    {
     "name": "stdout",
     "output_type": "stream",
     "text": [
      "{'name': 'siya', 'age': 26} <class 'dict'>\n"
     ]
    }
   ],
   "source": [
    "def adder(**kwargs):\n",
    "    print(kwargs, type(kwargs))\n",
    "adder(name = \"siya\",age=26)"
   ]
  },
  {
   "cell_type": "code",
   "execution_count": 152,
   "id": "d65cd114-b39f-4f67-ab02-a7b4617725f9",
   "metadata": {},
   "outputs": [
    {
     "name": "stdout",
     "output_type": "stream",
     "text": [
      "15\n"
     ]
    }
   ],
   "source": [
    "def adder(*args):\n",
    "    print(sum(args))\n",
    "adder(1,2,3,4,5)"
   ]
  },
  {
   "cell_type": "code",
   "execution_count": 154,
   "id": "1ea57f7b-39f1-4115-a8d3-27269e49a856",
   "metadata": {},
   "outputs": [
    {
     "name": "stdout",
     "output_type": "stream",
     "text": [
      "(1, 2, 3, 4, 5) <class 'tuple'>\n",
      "{'name': 'siya', 'age': 26} <class 'dict'>\n"
     ]
    }
   ],
   "source": [
    "def adder(*args,**kwargs):\n",
    "    print(args, type(args))\n",
    "    print(kwargs, type(kwargs))\n",
    "\n",
    "adder(1,2,3,4,5,name = \"siya\",age=26)"
   ]
  },
  {
   "cell_type": "code",
   "execution_count": 158,
   "id": "b1010e9e-7357-4e4c-a87d-890b03a95a04",
   "metadata": {},
   "outputs": [],
   "source": [
    "emp_data =  {'emp_1': {'name': 'Salahudin', 'age': 32, 'salary': 4234324},\n",
    "             'emp_2': {'name': 'Pranav', 'age': 43, 'salary': 4234234324},\n",
    "             'emp_3': {'name': 'Mohini', 'age': 26, 'salary': 4234324324},\n",
    "            'emp_4': {'name': 'saurabh', 'age': 23, 'salary': 4234324324}}"
   ]
  },
  {
   "cell_type": "code",
   "execution_count": 160,
   "id": "1a2c5e7d-465b-4f7e-900c-224383899944",
   "metadata": {},
   "outputs": [],
   "source": [
    "def emp_adder(name , age , salary , **kwargs):\n",
    "    key = f'emp_{ len(emp_data) + 1}'\n",
    "    emp_data.setdefault(key , {'name': name, 'age': age, 'salary': salary}).update(kwargs)"
   ]
  },
  {
   "cell_type": "code",
   "execution_count": 162,
   "id": "994ffa4e-ed36-4e00-ad34-d39193ab44a2",
   "metadata": {},
   "outputs": [],
   "source": [
    "def emp_adder(name , age , salary , **kwargs):\n",
    "    key = f'emp_{ len(emp_data) + 1}'\n",
    "    d = {'name': name, 'age': age, 'salary': salary}\n",
    "    d.update(kwargs)\n",
    "    emp_data.setdefault(key , d)"
   ]
  },
  {
   "cell_type": "code",
   "execution_count": 164,
   "id": "b28afcca-c5b2-4709-a3fb-b99dc9813543",
   "metadata": {},
   "outputs": [
    {
     "data": {
      "text/plain": [
       "{'emp_1': {'name': 'Salahudin', 'age': 32, 'salary': 4234324},\n",
       " 'emp_2': {'name': 'Pranav', 'age': 43, 'salary': 4234234324},\n",
       " 'emp_3': {'name': 'Mohini', 'age': 26, 'salary': 4234324324},\n",
       " 'emp_4': {'name': 'saurabh', 'age': 23, 'salary': 4234324324},\n",
       " 'emp_5': {'name': 'lmn', 'age': 32, 'salary': 323221, 'adhar': 32, 'pan': 43}}"
      ]
     },
     "execution_count": 164,
     "metadata": {},
     "output_type": "execute_result"
    }
   ],
   "source": [
    "emp_adder('lmn',32,323221 , adhar = 32 ,pan = 43)\n",
    "\n",
    "emp_data"
   ]
  },
  {
   "cell_type": "code",
   "execution_count": 1,
   "id": "a63be81a-458e-421c-ac0a-125cdb037f64",
   "metadata": {},
   "outputs": [],
   "source": [
    "existing_emp = {'emp_1': {'name': 'Salahudin', 'age': 32, 'salary': 4234324},\n",
    "                 'emp_2': {'name': 'Pranav', 'age': 43, 'salary': 4234234324},\n",
    "                 'emp_3': {'name': 'Mohini', 'age': 26, 'salary': 4234324324},\n",
    "                 'emp_4': {'name': 'saurabh', 'age': 23, 'salary': 4234324324},\n",
    "                 'emp_5': {'name': 'Amit', 'age': 32, 'salary': 423423423},\n",
    "                 'emp_6': {'name': 'Chaitra', 'age': 54, 'salary': 23432432},\n",
    "                 'emp_7': {'name': 'Mahak', 'age': 54, 'salary': 243324324}}\n",
    "\n",
    "ex_emp = {}"
   ]
  },
  {
   "cell_type": "code",
   "execution_count": 7,
   "id": "b004d495-600a-42a7-8048-ec508d5328a4",
   "metadata": {},
   "outputs": [],
   "source": [
    "def emp_remove(*args):\n",
    "    for i in args:\n",
    "        ex_emp.setdefault(i , existing_emp.pop(i))\n",
    "emp_remove('emp_6' , 'emp_2' , 'emp_4')"
   ]
  },
  {
   "cell_type": "code",
   "execution_count": 9,
   "id": "9aa6ee8e-d1bc-43de-abd1-472382792a8f",
   "metadata": {},
   "outputs": [
    {
     "data": {
      "text/plain": [
       "{'emp_1': {'name': 'Salahudin', 'age': 32, 'salary': 4234324},\n",
       " 'emp_3': {'name': 'Mohini', 'age': 26, 'salary': 4234324324},\n",
       " 'emp_5': {'name': 'Amit', 'age': 32, 'salary': 423423423},\n",
       " 'emp_7': {'name': 'Mahak', 'age': 54, 'salary': 243324324}}"
      ]
     },
     "execution_count": 9,
     "metadata": {},
     "output_type": "execute_result"
    }
   ],
   "source": [
    "existing_emp"
   ]
  },
  {
   "cell_type": "code",
   "execution_count": 11,
   "id": "0831c7d6-84c9-4235-a6c5-c9a4770ec9d9",
   "metadata": {},
   "outputs": [
    {
     "data": {
      "text/plain": [
       "{'emp_6': {'name': 'Chaitra', 'age': 54, 'salary': 23432432},\n",
       " 'emp_2': {'name': 'Pranav', 'age': 43, 'salary': 4234234324},\n",
       " 'emp_4': {'name': 'saurabh', 'age': 23, 'salary': 4234324324}}"
      ]
     },
     "execution_count": 11,
     "metadata": {},
     "output_type": "execute_result"
    }
   ],
   "source": [
    "ex_emp"
   ]
  },
  {
   "cell_type": "markdown",
   "id": "e19db3c5-7d53-4726-a664-739c7bf5e7eb",
   "metadata": {},
   "source": [
    "# Local and Global Variable"
   ]
  },
  {
   "cell_type": "code",
   "execution_count": null,
   "id": "40dd52b6-0eb0-4fb8-9f3e-d720221242e9",
   "metadata": {},
   "outputs": [],
   "source": [
    "def function_name(parameters):\n",
    "    stat1\n",
    "    sta2\n",
    "    \n",
    "function_name(arguments)"
   ]
  },
  {
   "cell_type": "code",
   "execution_count": null,
   "id": "c1c2d13a-1ba3-4478-b0cb-68049bb4f606",
   "metadata": {},
   "outputs": [],
   "source": [
    "1.positional\n",
    "2.keyword\n",
    "3.Default\n",
    "4.variable"
   ]
  },
  {
   "cell_type": "code",
   "execution_count": 28,
   "id": "54f264f2-b9ef-4bca-873b-922ceb0fcbc6",
   "metadata": {},
   "outputs": [
    {
     "name": "stdout",
     "output_type": "stream",
     "text": [
      "10\n",
      "20\n",
      "3\n",
      "30\n"
     ]
    }
   ],
   "source": [
    "x = 10\n",
    "y = 20\n",
    "\n",
    "def add(a,b):\n",
    "    c = a + b\n",
    "    d = x + y\n",
    "    print(c)   #local variables\n",
    "    print(d)   #local variables\n",
    "\n",
    "print(x)  #Global variables\n",
    "print(y)  #Global variables\n",
    "#print(c) # local variables are not accessible outside function\n",
    "#print(d)\n",
    "add(1,2)"
   ]
  },
  {
   "cell_type": "code",
   "execution_count": 35,
   "id": "80a8711e-2e3d-4b7c-887d-d779f4f7ed8c",
   "metadata": {},
   "outputs": [
    {
     "name": "stdout",
     "output_type": "stream",
     "text": [
      "3\n",
      "30\n",
      "10\n",
      "20\n",
      "3\n",
      "30\n"
     ]
    }
   ],
   "source": [
    "x = 10\n",
    "y = 20\n",
    "\n",
    "def add(a,b):\n",
    "    global c\n",
    "    c = a + b\n",
    "    global d\n",
    "    d = x + y\n",
    "    print(c)   #local variables\n",
    "    print(d)   #local variables\n",
    "\n",
    "add(1,2)\n",
    "print(x)  #Global variables\n",
    "print(y)  #Global variables\n",
    "print(c) # now its global as its declare as global\n",
    "print(d)"
   ]
  },
  {
   "cell_type": "markdown",
   "id": "51dcb156-b666-448d-bbb5-6a168c96a67c",
   "metadata": {},
   "source": [
    "# Return\n",
    "\n",
    "- If not used by default every function returns None\n",
    "- It can only use once inside function"
   ]
  },
  {
   "cell_type": "code",
   "execution_count": 56,
   "id": "c9d7df20-b91a-4e57-bd91-d6eb1c2f5c45",
   "metadata": {},
   "outputs": [
    {
     "name": "stdout",
     "output_type": "stream",
     "text": [
      "3\n",
      "None\n"
     ]
    }
   ],
   "source": [
    "def add(a,b):\n",
    "    print(a+b)\n",
    "    \n",
    "re = add(1,2)\n",
    "print(re)"
   ]
  },
  {
   "cell_type": "code",
   "execution_count": 54,
   "id": "cd5b5871-ee35-444e-a90e-378f6d3fe0e5",
   "metadata": {},
   "outputs": [
    {
     "name": "stdout",
     "output_type": "stream",
     "text": [
      "3\n"
     ]
    }
   ],
   "source": [
    "def add (a,b):\n",
    "    return(a+b)\n",
    "\n",
    "re = add(1,2)\n",
    "print(re)"
   ]
  },
  {
   "cell_type": "code",
   "execution_count": 63,
   "id": "cb9a0772-316f-44a6-84c9-3b92541273cc",
   "metadata": {},
   "outputs": [
    {
     "name": "stdout",
     "output_type": "stream",
     "text": [
      "Palindrome\n"
     ]
    },
    {
     "data": {
      "text/plain": [
       "'Not palindrome'"
      ]
     },
     "execution_count": 63,
     "metadata": {},
     "output_type": "execute_result"
    }
   ],
   "source": [
    "def palin(a):\n",
    "    if a == a[::-1]:\n",
    "        return(\"Palindrome\")\n",
    "    else:\n",
    "        return(\"Not palindrome\")\n",
    "\n",
    "print(palin(\"level\"))\n",
    "palin(\"car\")"
   ]
  },
  {
   "cell_type": "code",
   "execution_count": 81,
   "id": "a1ce857d-96e7-44dc-950f-e16153689996",
   "metadata": {},
   "outputs": [
    {
     "name": "stdout",
     "output_type": "stream",
     "text": [
      "30 10\n"
     ]
    }
   ],
   "source": [
    "def add(a,b):\n",
    "    c = a + b\n",
    "    d = a - b\n",
    "    return c,d\n",
    "\n",
    "a1,a2=add(20,10)\n",
    "print(a1,a2)"
   ]
  },
  {
   "cell_type": "code",
   "execution_count": 111,
   "id": "0ed5c3ca-29d9-49bf-8faf-d3c671c29230",
   "metadata": {},
   "outputs": [
    {
     "data": {
      "text/plain": [
       "('even:', [76, 90, 10, 54], 'odd', [23, 45, 45, 89, 43, 67])"
      ]
     },
     "execution_count": 111,
     "metadata": {},
     "output_type": "execute_result"
    }
   ],
   "source": [
    "lst = [23,45,76,45,89,90,10,43,54,67]\n",
    "e_list = [] \n",
    "o_list = []\n",
    "def num(a):\n",
    "    for i in a:\n",
    "        if (i%2 == 0):\n",
    "            e_list.append(i)\n",
    "        else:\n",
    "            o_list.append(i)\n",
    "    return 'even:',e_list,'odd',o_list\n",
    "num(lst)"
   ]
  },
  {
   "cell_type": "markdown",
   "id": "5922e441-7b29-4942-857b-a8baaeb554b3",
   "metadata": {},
   "source": [
    "# Yield"
   ]
  },
  {
   "cell_type": "code",
   "execution_count": 121,
   "id": "cc3e9388-9340-4742-ae04-d130029901ec",
   "metadata": {},
   "outputs": [
    {
     "data": {
      "text/plain": [
       "[76, 90, 10, 54]"
      ]
     },
     "execution_count": 121,
     "metadata": {},
     "output_type": "execute_result"
    }
   ],
   "source": [
    "lst = [23,45,76,45,89,90,10,43,54,67]\n",
    "\n",
    "def num(a):\n",
    "    for i in a:\n",
    "        if (i%2 == 0):\n",
    "            yield i\n",
    "\n",
    "list(num(lst))"
   ]
  },
  {
   "cell_type": "code",
   "execution_count": 125,
   "id": "d4a11b94-1cee-4aa4-be1b-72c49d80254c",
   "metadata": {},
   "outputs": [
    {
     "data": {
      "text/plain": [
       "['ABC', 'XYZ', 'PQR', 'TFW']"
      ]
     },
     "execution_count": 125,
     "metadata": {},
     "output_type": "execute_result"
    }
   ],
   "source": [
    "lst = ['abc','xyz','pqr','tfw']\n",
    "\n",
    "def alpha(a):\n",
    "    for i in a:\n",
    "        yield i.upper()\n",
    "\n",
    "list(alpha(lst))"
   ]
  },
  {
   "cell_type": "markdown",
   "id": "eb0fa3b8-3fdb-4837-95d5-812b933dc899",
   "metadata": {},
   "source": [
    "1.Global : \n",
    "- Brings the variable along with its value outside the function\n",
    "\n",
    "\n",
    "2. Return:\n",
    "- Brings the value outside the function\n",
    "- as soon as return executes your function is closed\n",
    "\n",
    "3. Yield:\n",
    "- Brings the value outside the function\n",
    "- as soon as yield executes your function is not closed,next iteration will be continued"
   ]
  },
  {
   "cell_type": "markdown",
   "id": "9a04964e-e7ee-40a5-bbdc-2b914eb7ace2",
   "metadata": {},
   "source": [
    "# Recursive Function\n",
    "- Making a function call itself is called as recursive function"
   ]
  },
  {
   "cell_type": "code",
   "execution_count": 160,
   "id": "6d9e64f5-e788-4b2c-b3d0-354fb4ca6d71",
   "metadata": {},
   "outputs": [
    {
     "name": "stdin",
     "output_type": "stream",
     "text": [
      "Ented data: 4\n",
      "Ented data: 0\n"
     ]
    },
    {
     "data": {
      "text/plain": [
       "'outside the function'"
      ]
     },
     "execution_count": 160,
     "metadata": {},
     "output_type": "execute_result"
    }
   ],
   "source": [
    "def demo():\n",
    "    a = eval(input(\"Ented data:\"))\n",
    "    if a == 0:\n",
    "        return 'outside the function'\n",
    "    else:\n",
    "        return demo()\n",
    "demo()"
   ]
  },
  {
   "cell_type": "code",
   "execution_count": 172,
   "id": "fc0eecfa-787b-4209-8791-f95a762c5329",
   "metadata": {},
   "outputs": [
    {
     "name": "stdin",
     "output_type": "stream",
     "text": [
      "Enter amount to deposit: 789654\n"
     ]
    },
    {
     "name": "stdout",
     "output_type": "stream",
     "text": [
      "amount deposited\n"
     ]
    },
    {
     "name": "stdin",
     "output_type": "stream",
     "text": [
      "Do you want to deposit again y/n:  y\n",
      "Enter amount to deposit: 56245\n"
     ]
    },
    {
     "name": "stdout",
     "output_type": "stream",
     "text": [
      "amount deposited\n"
     ]
    },
    {
     "name": "stdin",
     "output_type": "stream",
     "text": [
      "Do you want to deposit again y/n:  n\n"
     ]
    },
    {
     "data": {
      "text/plain": [
       "'Have a nice day'"
      ]
     },
     "execution_count": 172,
     "metadata": {},
     "output_type": "execute_result"
    }
   ],
   "source": [
    "def cdm():\n",
    "    deposit = eval(input(\"Enter amount to deposit:\"))\n",
    "    print('amount deposited')\n",
    "    con = input(\"Do you want to deposit again y/n: \").lower()\n",
    "    if (con == 'y'):\n",
    "        return cdm()\n",
    "    else:\n",
    "        return 'Have a nice day'\n",
    "\n",
    "cdm()"
   ]
  },
  {
   "cell_type": "code",
   "execution_count": 186,
   "id": "43f941f4-2160-431a-ac53-181338913c5e",
   "metadata": {},
   "outputs": [
    {
     "name": "stdin",
     "output_type": "stream",
     "text": [
      "Enter amount to deposit: 45\n"
     ]
    },
    {
     "name": "stdout",
     "output_type": "stream",
     "text": [
      "amount deposited\n"
     ]
    },
    {
     "name": "stdin",
     "output_type": "stream",
     "text": [
      "Do you want to deposit again y/n:  y\n",
      "Enter amount to deposit: 55\n"
     ]
    },
    {
     "name": "stdout",
     "output_type": "stream",
     "text": [
      "amount deposited\n"
     ]
    },
    {
     "name": "stdin",
     "output_type": "stream",
     "text": [
      "Do you want to deposit again y/n:  n\n"
     ]
    },
    {
     "name": "stdout",
     "output_type": "stream",
     "text": [
      "None\n"
     ]
    }
   ],
   "source": [
    "def cdm():\n",
    "    deposit = eval(input(\"Enter amount to deposit:\"))\n",
    "    print('amount deposited')\n",
    "    con = input(\"Do you want to deposit again y/n: \").lower()\n",
    "    if (con == 'y'):\n",
    "         cdm()     # without return\n",
    "    else:\n",
    "        return 'Have a nice day'\n",
    "\n",
    "print(cdm())"
   ]
  },
  {
   "cell_type": "code",
   "execution_count": 190,
   "id": "f0ce5258-366c-4cf4-b71c-2dd438942090",
   "metadata": {},
   "outputs": [
    {
     "data": {
      "text/plain": [
       "120"
      ]
     },
     "execution_count": 190,
     "metadata": {},
     "output_type": "execute_result"
    }
   ],
   "source": [
    "def fact(num):\n",
    "    if num == 0:\n",
    "        return 1\n",
    "    else:\n",
    "        return num * fact(num-1)\n",
    "fact(5)"
   ]
  },
  {
   "cell_type": "code",
   "execution_count": null,
   "id": "edb378be-0060-469b-91ac-56fb6e7cd30b",
   "metadata": {},
   "outputs": [],
   "source": []
  },
  {
   "cell_type": "code",
   "execution_count": null,
   "id": "383f646e-d226-4d3a-827e-572861aeb44d",
   "metadata": {},
   "outputs": [],
   "source": []
  },
  {
   "cell_type": "code",
   "execution_count": null,
   "id": "602e4200-3b20-49eb-bee1-beeac8bdd5ac",
   "metadata": {},
   "outputs": [],
   "source": []
  },
  {
   "cell_type": "code",
   "execution_count": null,
   "id": "3690d2b6-4053-450b-a0a6-5d1c27a4a35e",
   "metadata": {},
   "outputs": [],
   "source": []
  },
  {
   "cell_type": "code",
   "execution_count": null,
   "id": "4d76f448-a410-4a07-9fb4-f2b7103a5457",
   "metadata": {},
   "outputs": [],
   "source": []
  },
  {
   "cell_type": "code",
   "execution_count": null,
   "id": "3ac344b3-4893-4d66-a71c-654e08ad1297",
   "metadata": {},
   "outputs": [],
   "source": []
  },
  {
   "cell_type": "code",
   "execution_count": null,
   "id": "ae135b0c-b0b4-43eb-acc7-16f9947e69a0",
   "metadata": {},
   "outputs": [],
   "source": []
  },
  {
   "cell_type": "code",
   "execution_count": null,
   "id": "fafe4884-e5ae-4542-b7cd-5340c8808f8b",
   "metadata": {},
   "outputs": [],
   "source": []
  },
  {
   "cell_type": "code",
   "execution_count": null,
   "id": "cc7d9f28-09df-4479-aeb5-ede9c0eaf3f2",
   "metadata": {},
   "outputs": [],
   "source": []
  },
  {
   "cell_type": "code",
   "execution_count": null,
   "id": "9c8359cb-7839-4ea8-b9d5-3d0ece18acd6",
   "metadata": {},
   "outputs": [],
   "source": []
  },
  {
   "cell_type": "code",
   "execution_count": null,
   "id": "9ca12ebc-1ad9-4ce5-bee3-b66979087d8b",
   "metadata": {},
   "outputs": [],
   "source": []
  },
  {
   "cell_type": "code",
   "execution_count": null,
   "id": "41587e77-fb48-4941-98b1-d8bac4565b63",
   "metadata": {},
   "outputs": [],
   "source": []
  },
  {
   "cell_type": "code",
   "execution_count": null,
   "id": "cb1d4623-93a7-4990-a82a-6cff628dabdf",
   "metadata": {},
   "outputs": [],
   "source": []
  },
  {
   "cell_type": "code",
   "execution_count": null,
   "id": "1b56be14-b048-4423-804a-9f803d4b91f0",
   "metadata": {},
   "outputs": [],
   "source": []
  },
  {
   "cell_type": "code",
   "execution_count": null,
   "id": "022aa093-55b2-423f-bffd-45067104dbb2",
   "metadata": {},
   "outputs": [],
   "source": []
  },
  {
   "cell_type": "code",
   "execution_count": null,
   "id": "a1219f8f-a206-4b81-bf34-6216bdd36590",
   "metadata": {},
   "outputs": [],
   "source": []
  },
  {
   "cell_type": "code",
   "execution_count": null,
   "id": "f5a446f4-cbb9-4d67-8815-f3a4b88eba25",
   "metadata": {},
   "outputs": [],
   "source": []
  },
  {
   "cell_type": "code",
   "execution_count": null,
   "id": "e8ed27f6-9b2d-410d-b026-1217987ba8dc",
   "metadata": {},
   "outputs": [],
   "source": []
  },
  {
   "cell_type": "code",
   "execution_count": null,
   "id": "25e5d3de-1d70-4409-84f2-1bd1fb29949f",
   "metadata": {},
   "outputs": [],
   "source": []
  },
  {
   "cell_type": "code",
   "execution_count": null,
   "id": "c8049df6-f1c2-4d9c-99c4-36b98fa43a96",
   "metadata": {},
   "outputs": [],
   "source": []
  },
  {
   "cell_type": "code",
   "execution_count": null,
   "id": "03be7f58-18b2-4ca8-8419-965e248ca08b",
   "metadata": {},
   "outputs": [],
   "source": []
  }
 ],
 "metadata": {
  "kernelspec": {
   "display_name": "Python [conda env:base] *",
   "language": "python",
   "name": "conda-base-py"
  },
  "language_info": {
   "codemirror_mode": {
    "name": "ipython",
    "version": 3
   },
   "file_extension": ".py",
   "mimetype": "text/x-python",
   "name": "python",
   "nbconvert_exporter": "python",
   "pygments_lexer": "ipython3",
   "version": "3.10.14"
  }
 },
 "nbformat": 4,
 "nbformat_minor": 5
}
