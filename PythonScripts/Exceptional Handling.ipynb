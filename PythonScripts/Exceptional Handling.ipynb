{
 "cells": [
  {
   "cell_type": "markdown",
   "id": "4006c88e-5e02-48c3-9c54-38479a1f0d18",
   "metadata": {},
   "source": [
    "# Exception Handling"
   ]
  },
  {
   "cell_type": "markdown",
   "id": "a9aa7c4a-2b42-4168-bf2f-31512d905505",
   "metadata": {},
   "source": [
    "# Types of error :\n",
    "\n",
    "1. Compile Time Error : Syntax error, Indentation Error\n",
    "2. Runtime Error: Type Error , Zerodivision,Name\n",
    "3. LogiCal Error : Errors made by users to create a logic\n",
    "\n",
    "Note : Using exceptional Handling you can only handle run time errors"
   ]
  },
  {
   "cell_type": "code",
   "execution_count": null,
   "id": "d24b2f4a-701d-484d-9f30-cc13e46b11e6",
   "metadata": {},
   "outputs": [],
   "source": [
    "Code ---> Compiled (syntax,indentation)----> Interpretator"
   ]
  },
  {
   "cell_type": "markdown",
   "id": "51c2f6d6-ccb8-4dd4-82bd-ec7c5d01b36e",
   "metadata": {},
   "source": [
    "# Keywords used in exceptional handling :\n",
    "\n",
    "1. Try\n",
    "2. except\n",
    "3. else\n",
    "4. finally\n",
    "5. raise"
   ]
  },
  {
   "cell_type": "code",
   "execution_count": null,
   "id": "15fe99d4-2c17-4da9-9597-ab152868a07d",
   "metadata": {},
   "outputs": [],
   "source": [
    "try: \n",
    "    # Any code\n",
    "except: \n",
    "    # Backup code (it will execute if the try block fails)"
   ]
  },
  {
   "cell_type": "code",
   "execution_count": 57,
   "id": "73f33a2b-433b-4892-bbf3-ca0e731ca0be",
   "metadata": {},
   "outputs": [
    {
     "name": "stdin",
     "output_type": "stream",
     "text": [
      "number1: 4\n",
      "number2: 0\n"
     ]
    },
    {
     "name": "stdout",
     "output_type": "stream",
     "text": [
      "4\n",
      "Backup code\n",
      "0\n"
     ]
    }
   ],
   "source": [
    "a = eval(input(\"number1:\"))\n",
    "b = eval(input(\"number2:\"))\n",
    "\n",
    "print(a)\n",
    "try:\n",
    "    print(a/b)\n",
    "except:\n",
    "    print(\"Backup code\")\n",
    "print(b)"
   ]
  },
  {
   "cell_type": "code",
   "execution_count": 66,
   "id": "e0ba28df-77c1-479d-91d7-8f1b52d6ba52",
   "metadata": {},
   "outputs": [
    {
     "name": "stdout",
     "output_type": "stream",
     "text": [
      "10.0\n",
      "Next Function\n"
     ]
    }
   ],
   "source": [
    "a = 20\n",
    "b = 2\n",
    "\n",
    "try:\n",
    "    print(a/b)\n",
    "except:\n",
    "    print(\"Backup code\")\n",
    "    \n",
    "print(\"Next Function\")\n",
    "\n",
    "# try and except both are important"
   ]
  },
  {
   "cell_type": "markdown",
   "id": "e9c5ddf4-8fb9-42cd-afe7-fc12e5644165",
   "metadata": {},
   "source": [
    "# Else :\n",
    "\n",
    "- except ---> If try fails\n",
    "- else-----> if try does not fails"
   ]
  },
  {
   "cell_type": "code",
   "execution_count": 74,
   "id": "26477ebe-3c5a-4762-b43e-3553edd0e492",
   "metadata": {},
   "outputs": [
    {
     "name": "stdout",
     "output_type": "stream",
     "text": [
      "10.0\n",
      "Continued code \n",
      "Next Function\n"
     ]
    }
   ],
   "source": [
    "a = 20\n",
    "b = 2\n",
    "\n",
    "try:\n",
    "    print(a/b)\n",
    "except:\n",
    "    print(\"Backup code\")\n",
    "else: \n",
    "    print(\"Continued code \")\n",
    "    \n",
    "print(\"Next Function\")"
   ]
  },
  {
   "cell_type": "code",
   "execution_count": 76,
   "id": "16b1892d-94a5-4483-abb1-8a4e0ca12cf1",
   "metadata": {},
   "outputs": [
    {
     "name": "stdout",
     "output_type": "stream",
     "text": [
      "Backup code\n",
      "Next Function\n"
     ]
    }
   ],
   "source": [
    "a = 20\n",
    "b = 'abc'\n",
    "\n",
    "try:\n",
    "    print(a/b)\n",
    "except:\n",
    "    print(\"Backup code\")\n",
    "else: \n",
    "    print(\"Continued code \")\n",
    "    \n",
    "print(\"Next Function\")"
   ]
  },
  {
   "cell_type": "markdown",
   "id": "334a2e3f-8465-467e-a926-6da91bb40b1a",
   "metadata": {},
   "source": [
    "# Finally : \n",
    "\n",
    "- Place "
   ]
  },
  {
   "cell_type": "code",
   "execution_count": 79,
   "id": "094b49d2-a6d9-41ce-8498-6ea5d3eec30c",
   "metadata": {},
   "outputs": [
    {
     "name": "stdout",
     "output_type": "stream",
     "text": [
      "10.0\n",
      "Continued code \n",
      "Super important\n",
      "Next Function\n"
     ]
    }
   ],
   "source": [
    "a = 20\n",
    "b = 2\n",
    "\n",
    "try:\n",
    "    print(a/b)\n",
    "except:\n",
    "    print(\"Backup code\")\n",
    "else: \n",
    "    print(\"Continued code \")\n",
    "finally:\n",
    "    print(\"Super important\")\n",
    "print(\"Next Function\")"
   ]
  },
  {
   "cell_type": "code",
   "execution_count": 87,
   "id": "fd6c6786-fe17-447b-b863-ee7e5afbee31",
   "metadata": {},
   "outputs": [
    {
     "name": "stdout",
     "output_type": "stream",
     "text": [
      "Super important\n",
      "Next Function\n"
     ]
    }
   ],
   "source": [
    "a = 20\n",
    "b = 'abc'\n",
    "try:\n",
    "    try:\n",
    "        print(a/b)\n",
    "    except:\n",
    "        print(a + b)\n",
    "    else: \n",
    "        print(\"Continued code \")\n",
    "    finally:\n",
    "        print(\"Super important\")\n",
    "except:\n",
    "    pass\n",
    "    \n",
    "print(\"Next Function\")"
   ]
  },
  {
   "cell_type": "markdown",
   "id": "c1b2309f-82ce-4830-b4a4-17c7fbd24995",
   "metadata": {},
   "source": [
    "# Showing code errors to the user"
   ]
  },
  {
   "cell_type": "code",
   "execution_count": 94,
   "id": "e480d795-64ba-49b6-b06d-b3db75b3409a",
   "metadata": {},
   "outputs": [
    {
     "name": "stdout",
     "output_type": "stream",
     "text": [
      "Backup code\n",
      "Next Function\n"
     ]
    }
   ],
   "source": [
    "a = 20\n",
    "b = 0\n",
    "\n",
    "try:\n",
    "    print(a/b)\n",
    "except:\n",
    "    print(\"Backup code\")\n",
    "\n",
    "print(\"Next Function\")   "
   ]
  },
  {
   "cell_type": "code",
   "execution_count": 100,
   "id": "7284e6ab-ca5e-4906-86a7-1860d3daa073",
   "metadata": {},
   "outputs": [
    {
     "name": "stdout",
     "output_type": "stream",
     "text": [
      "division by zero\n",
      "Backup code\n",
      "Next Function\n"
     ]
    }
   ],
   "source": [
    "a = 20\n",
    "b = 0\n",
    "\n",
    "try:\n",
    "    print(a/b)\n",
    "except Exception as e:\n",
    "    print(e)\n",
    "    print(\"Backup code\")\n",
    "\n",
    "print(\"Next Function\")   "
   ]
  },
  {
   "cell_type": "code",
   "execution_count": 102,
   "id": "3e57aefc-6366-446a-9e20-29d7f3d3682e",
   "metadata": {},
   "outputs": [
    {
     "name": "stdout",
     "output_type": "stream",
     "text": [
      "unsupported operand type(s) for /: 'int' and 'str'\n",
      "Backup code\n",
      "Next Function\n"
     ]
    }
   ],
   "source": [
    "a = 20\n",
    "b = 'abc'\n",
    "\n",
    "try:\n",
    "    print(a/b)\n",
    "except Exception as e:\n",
    "    print(e)\n",
    "    print(\"Backup code\")\n",
    "\n",
    "print(\"Next Function\")   "
   ]
  },
  {
   "cell_type": "code",
   "execution_count": 108,
   "id": "96c7f83f-eff5-4e39-9f61-e1cade46272d",
   "metadata": {},
   "outputs": [],
   "source": [
    "# print(dir(__builtins__)) ---> contains each and every error"
   ]
  },
  {
   "cell_type": "code",
   "execution_count": 116,
   "id": "d7f31b7c-b43d-48fa-9c31-8727194e79af",
   "metadata": {},
   "outputs": [
    {
     "name": "stdin",
     "output_type": "stream",
     "text": [
      "Enter the first number  78\n",
      "Enter the second number  0\n"
     ]
    },
    {
     "name": "stdout",
     "output_type": "stream",
     "text": [
      "division by zero\n",
      "Backup code\n",
      "Next Function Started\n"
     ]
    }
   ],
   "source": [
    "import time\n",
    "\n",
    "current_time = time.strftime(\"%d-%m-%Y %I:%M:%S  %p\")\n",
    "try: \n",
    "    a = eval(input('Enter the first number '))\n",
    "    b = eval(input('Enter the second number '))\n",
    "    c = a / b\n",
    "    print(c)\n",
    "except Exception as e:\n",
    "    print(e)\n",
    "    print(\"Backup code\")\n",
    "\n",
    "print(\"Next Function Started\")"
   ]
  },
  {
   "cell_type": "code",
   "execution_count": 134,
   "id": "28ee1760-92c5-4b3d-a904-08fb09052998",
   "metadata": {},
   "outputs": [
    {
     "name": "stdin",
     "output_type": "stream",
     "text": [
      "Enter the first number  6\n",
      "Enter the second number  0\n"
     ]
    },
    {
     "name": "stdout",
     "output_type": "stream",
     "text": [
      "Getting Error:  division by zero\n",
      "Next Funtion started\n"
     ]
    }
   ],
   "source": [
    "import time\n",
    "\n",
    "current_time = time.strftime(\"%d-%m-%Y %I:%M:%S  %p\")\n",
    "try:\n",
    "    a = eval(input('Enter the first number '))\n",
    "    b = eval(input('Enter the second number '))\n",
    "    c = a/b\n",
    "except Exception as e:\n",
    "    with open('File Handling/error_logsheet.txt','a+') as f:\n",
    "        f.write(f\"\\nAt {current_time} :- Error logs are: {e}\")\n",
    "        print(\"Getting Error: \",e)\n",
    "\n",
    "print(\"Next Funtion started\")"
   ]
  },
  {
   "cell_type": "markdown",
   "id": "d5abb3ee-ecd7-4e2f-8fbc-6a8c783dd5dc",
   "metadata": {},
   "source": [
    "# Differnt errors with different backup code"
   ]
  },
  {
   "cell_type": "code",
   "execution_count": 159,
   "id": "fb6482aa-6622-48f9-abfd-90fc41bfa35f",
   "metadata": {},
   "outputs": [
    {
     "name": "stdout",
     "output_type": "stream",
     "text": [
      "name 'k' is not defined\n",
      "Comman backup code\n",
      "Next funtion started\n"
     ]
    }
   ],
   "source": [
    "a = 20\n",
    "b = 3\n",
    "\n",
    "try:\n",
    "    print(a/k)\n",
    "except ZeroDivisionError as e:\n",
    "    print(\"error:\",e)\n",
    "    print(\"Backup code for ZeroDivisionError\")\n",
    "except TypeError as e:\n",
    "    print(\"error\",e)\n",
    "    print(\"Back up for Type error\")\n",
    "except Exception as e:\n",
    "    print(e)\n",
    "    print(\"Comman backup code\")\n",
    "print(\"Next funtion started\")"
   ]
  },
  {
   "cell_type": "code",
   "execution_count": 165,
   "id": "b9082889-7961-484c-9cb8-93fa8637f6f8",
   "metadata": {},
   "outputs": [
    {
     "name": "stdout",
     "output_type": "stream",
     "text": [
      "error unsupported operand type(s) for /: 'int' and 'str'\n",
      "Back up for Type error\n",
      "Next funtion started\n"
     ]
    }
   ],
   "source": [
    "a = 20\n",
    "b = 'abc'\n",
    "\n",
    "try:\n",
    "    print(a/b)\n",
    "except ZeroDivisionError as e:\n",
    "    print(\"error:\",e)\n",
    "    print(\"Backup code for ZeroDivisionError\")\n",
    "except TypeError as e:\n",
    "    print(\"error\",e)\n",
    "    print(\"Back up for Type error\")\n",
    "print(\"Next funtion started\")"
   ]
  },
  {
   "cell_type": "code",
   "execution_count": 169,
   "id": "cbec483c-a659-46ba-a5d8-23f39b2dc764",
   "metadata": {},
   "outputs": [
    {
     "name": "stdout",
     "output_type": "stream",
     "text": [
      "error: division by zero\n",
      "Backup code for ZeroDivisionError\n",
      "Next funtion started\n"
     ]
    }
   ],
   "source": [
    "a = 20\n",
    "b = 0\n",
    "\n",
    "try:\n",
    "    print(a/b)\n",
    "except ZeroDivisionError as e:\n",
    "    print(\"error:\",e)\n",
    "    print(\"Backup code for ZeroDivisionError\")\n",
    "except TypeError as e:\n",
    "    print(\"error\",e)\n",
    "    print(\"Back up for Type error\")\n",
    "print(\"Next funtion started\")"
   ]
  },
  {
   "cell_type": "code",
   "execution_count": 171,
   "id": "d6ba2627-6179-479f-9c5c-d3686d816b29",
   "metadata": {},
   "outputs": [],
   "source": [
    "# Order also important for except"
   ]
  },
  {
   "cell_type": "markdown",
   "id": "146b6cb4-86ec-4cfc-b3ef-b8d0b54b8545",
   "metadata": {},
   "source": [
    "# Raise"
   ]
  },
  {
   "cell_type": "code",
   "execution_count": 194,
   "id": "2e6db9d6-7e15-40f4-b53c-e2c71e8efeb6",
   "metadata": {},
   "outputs": [
    {
     "name": "stdout",
     "output_type": "stream",
     "text": [
      "Continue with program\n"
     ]
    }
   ],
   "source": [
    "a = 10\n",
    "b = 20\n",
    "\n",
    "try:\n",
    "    if a > b:\n",
    "        raise NameError (\"Custom message\")\n",
    "    else:\n",
    "        print(\"Continue with program\")\n",
    "except NameError:\n",
    "    print(\"Working with data\")"
   ]
  },
  {
   "cell_type": "markdown",
   "id": "dcf2647c-a44c-4a21-bad7-ace32cad6902",
   "metadata": {},
   "source": [
    "# User defined error"
   ]
  },
  {
   "cell_type": "code",
   "execution_count": 203,
   "id": "a6883d35-a5c7-4fc7-93c8-39a1d08b4978",
   "metadata": {},
   "outputs": [
    {
     "name": "stdout",
     "output_type": "stream",
     "text": [
      "10\n"
     ]
    },
    {
     "ename": "dq_error",
     "evalue": "User created error",
     "output_type": "error",
     "traceback": [
      "\u001b[1;31m---------------------------------------------------------------------------\u001b[0m",
      "\u001b[1;31mdq_error\u001b[0m                                  Traceback (most recent call last)",
      "Cell \u001b[1;32mIn[203], line 8\u001b[0m\n\u001b[0;32m      5\u001b[0m b \u001b[38;5;241m=\u001b[39m \u001b[38;5;241m20\u001b[39m\n\u001b[0;32m      7\u001b[0m \u001b[38;5;28mprint\u001b[39m(a)\n\u001b[1;32m----> 8\u001b[0m \u001b[38;5;28;01mraise\u001b[39;00m dq_error(\u001b[38;5;124m\"\u001b[39m\u001b[38;5;124mUser created error\u001b[39m\u001b[38;5;124m\"\u001b[39m)\n\u001b[0;32m      9\u001b[0m \u001b[38;5;28mprint\u001b[39m(b)\n",
      "\u001b[1;31mdq_error\u001b[0m: User created error"
     ]
    }
   ],
   "source": [
    "class dq_error(Exception):\n",
    "    def __init__(self,msg=None):\n",
    "        self.msg = msg\n",
    "a = 10\n",
    "b = 20\n",
    "\n",
    "print(a)\n",
    "raise dq_error(\"User created error\")\n",
    "print(b)"
   ]
  },
  {
   "cell_type": "markdown",
   "id": "edc3e2c6-1283-4e9c-b1f7-1817b5618016",
   "metadata": {},
   "source": [
    "# CDM : Cash deposit machine\n",
    "\n",
    "pan_error\n",
    "overlimit_error\n",
    "terminate_error\n",
    "\n",
    "program \n",
    "amt ---> amount to enter\n",
    "\n",
    "if amt < 50k ---> amt deposited ---> close program\n",
    "if amt 50 k and 70 k --> throw an panerror\n",
    "        if panerror raised:\n",
    "                    enter pan details:\n",
    "                                if len(pan) == 10 ---> amt deposited ---> close program\n",
    "                                else----> throw an terminate error with---> Try after sometime and close program\n",
    "if amt > 70k ----> overlimtit error\n",
    "                        if overlimit error raised :\n",
    "                                do you want to retry?\n",
    "                                y ---> repeate the process from the begining\n",
    "                                n ---> Have a nice day! throw  terminate program\n",
    "                                "
   ]
  },
  {
   "cell_type": "code",
   "execution_count": 237,
   "id": "20035de7-608e-43cc-8a31-62695a68a924",
   "metadata": {},
   "outputs": [
    {
     "name": "stdin",
     "output_type": "stream",
     "text": [
      "Enter amount to deposit:  60000\n"
     ]
    },
    {
     "name": "stdout",
     "output_type": "stream",
     "text": [
      "PAN required for this amount.\n"
     ]
    },
    {
     "name": "stdin",
     "output_type": "stream",
     "text": [
      "Enter PAN details (10 characters):  9876567\n"
     ]
    },
    {
     "name": "stdout",
     "output_type": "stream",
     "text": [
      "Invalid PAN details\n"
     ]
    },
    {
     "ename": "terminate_error",
     "evalue": "PAN verification failed. Thanks for banking with us.",
     "output_type": "error",
     "traceback": [
      "\u001b[1;31m---------------------------------------------------------------------------\u001b[0m",
      "\u001b[1;31mpan_error\u001b[0m                                 Traceback (most recent call last)",
      "Cell \u001b[1;32mIn[237], line 41\u001b[0m\n\u001b[0;32m     40\u001b[0m \u001b[38;5;28;01mtry\u001b[39;00m:\n\u001b[1;32m---> 41\u001b[0m     result \u001b[38;5;241m=\u001b[39m \u001b[43mcdm\u001b[49m\u001b[43m(\u001b[49m\u001b[43m)\u001b[49m\n\u001b[0;32m     42\u001b[0m     \u001b[38;5;28mprint\u001b[39m(result)\n",
      "Cell \u001b[1;32mIn[237], line 29\u001b[0m, in \u001b[0;36mcdm\u001b[1;34m()\u001b[0m\n\u001b[0;32m     28\u001b[0m \u001b[38;5;28;01melif\u001b[39;00m \u001b[38;5;241m50000\u001b[39m \u001b[38;5;241m<\u001b[39m\u001b[38;5;241m=\u001b[39m amount \u001b[38;5;241m<\u001b[39m \u001b[38;5;241m70000\u001b[39m:\n\u001b[1;32m---> 29\u001b[0m     \u001b[38;5;28;01mraise\u001b[39;00m pan_error(\u001b[38;5;124m\"\u001b[39m\u001b[38;5;124mPAN required for this amount.\u001b[39m\u001b[38;5;124m\"\u001b[39m)\n\u001b[0;32m     30\u001b[0m \u001b[38;5;28;01melse\u001b[39;00m:\n",
      "\u001b[1;31mpan_error\u001b[0m: PAN required for this amount.",
      "\nDuring handling of the above exception, another exception occurred:\n",
      "\u001b[1;31mpan_error\u001b[0m                                 Traceback (most recent call last)",
      "Cell \u001b[1;32mIn[237], line 46\u001b[0m\n\u001b[0;32m     45\u001b[0m \u001b[38;5;28;01mtry\u001b[39;00m:\n\u001b[1;32m---> 46\u001b[0m     pan_result \u001b[38;5;241m=\u001b[39m \u001b[43mpandata\u001b[49m\u001b[43m(\u001b[49m\u001b[43m)\u001b[49m\n\u001b[0;32m     47\u001b[0m     \u001b[38;5;28mprint\u001b[39m(pan_result)\n",
      "Cell \u001b[1;32mIn[237], line 21\u001b[0m, in \u001b[0;36mpandata\u001b[1;34m()\u001b[0m\n\u001b[0;32m     20\u001b[0m \u001b[38;5;28;01melse\u001b[39;00m:\n\u001b[1;32m---> 21\u001b[0m     \u001b[38;5;28;01mraise\u001b[39;00m pan_error(\u001b[38;5;124m\"\u001b[39m\u001b[38;5;124mInvalid PAN details\u001b[39m\u001b[38;5;124m\"\u001b[39m)\n",
      "\u001b[1;31mpan_error\u001b[0m: Invalid PAN details",
      "\nDuring handling of the above exception, another exception occurred:\n",
      "\u001b[1;31mterminate_error\u001b[0m                           Traceback (most recent call last)",
      "Cell \u001b[1;32mIn[237], line 50\u001b[0m\n\u001b[0;32m     48\u001b[0m     \u001b[38;5;28;01mexcept\u001b[39;00m pan_error \u001b[38;5;28;01mas\u001b[39;00m pe:\n\u001b[0;32m     49\u001b[0m         \u001b[38;5;28mprint\u001b[39m(pe)\n\u001b[1;32m---> 50\u001b[0m         \u001b[38;5;28;01mraise\u001b[39;00m terminate_error(\u001b[38;5;124m\"\u001b[39m\u001b[38;5;124mPAN verification failed. Thanks for banking with us.\u001b[39m\u001b[38;5;124m\"\u001b[39m)\n\u001b[0;32m     51\u001b[0m \u001b[38;5;28;01mexcept\u001b[39;00m terminate_error \u001b[38;5;28;01mas\u001b[39;00m te:\n\u001b[0;32m     52\u001b[0m     \u001b[38;5;28mprint\u001b[39m(te)\n",
      "\u001b[1;31mterminate_error\u001b[0m: PAN verification failed. Thanks for banking with us."
     ]
    }
   ],
   "source": [
    "class pan_error(Exception):\n",
    "    def __init__(self, msg=None):\n",
    "        self.msg = msg\n",
    "        super().__init__(self.msg)\n",
    "\n",
    "class overlimit_error(Exception):\n",
    "    def __init__(self, msg=None):\n",
    "        self.msg = msg\n",
    "        super().__init__(self.msg)\n",
    "\n",
    "class terminate_error(Exception):\n",
    "    def __init__(self, msg=None):\n",
    "        self.msg = msg\n",
    "        super().__init__(self.msg)\n",
    "\n",
    "def pandata():\n",
    "    pand = input(\"Enter PAN details (10 characters): \")\n",
    "    if len(pand) == 10:\n",
    "        return \"PAN accepted. Amount deposited.\"\n",
    "    else:\n",
    "        raise pan_error(\"Invalid PAN details\")\n",
    "\n",
    "def cdm():\n",
    "    try:\n",
    "        amount = int(input(\"Enter amount to deposit: \"))  # safer than eval()\n",
    "        if amount < 50000:\n",
    "            return \"Amount deposited\"\n",
    "        elif 50000 <= amount < 70000:\n",
    "            raise pan_error(\"PAN required for this amount.\")\n",
    "        else:\n",
    "            raise overlimit_error(\"Amount exceeds limit!\")\n",
    "    except overlimit_error as e:\n",
    "        print(e)\n",
    "        retry = input(\"Do you want to repeat the process from beginning? (y/n): \")\n",
    "        if retry.lower() == 'y':\n",
    "            return cdm()\n",
    "        else:\n",
    "            raise terminate_error(\"Thanks for banking with us\")\n",
    "\n",
    "try:\n",
    "    result = cdm()\n",
    "    print(result)\n",
    "except pan_error as e:\n",
    "    print(e)\n",
    "    try:\n",
    "        pan_result = pandata()\n",
    "        print(pan_result)\n",
    "    except pan_error as pe:\n",
    "        print(pe)\n",
    "        raise terminate_error(\"PAN verification failed. Thanks for banking with us.\")\n",
    "except terminate_error as te:\n",
    "    print(te)\n"
   ]
  },
  {
   "cell_type": "code",
   "execution_count": null,
   "id": "c5c23cab-26e5-4309-b351-9094b2afbcbf",
   "metadata": {},
   "outputs": [],
   "source": []
  },
  {
   "cell_type": "code",
   "execution_count": null,
   "id": "b88bc5f6-2b6f-4043-ba6b-e2997bd38a5f",
   "metadata": {},
   "outputs": [],
   "source": []
  },
  {
   "cell_type": "code",
   "execution_count": null,
   "id": "ebd644ae-2f60-468d-a184-70adf0ad2521",
   "metadata": {},
   "outputs": [],
   "source": []
  },
  {
   "cell_type": "code",
   "execution_count": null,
   "id": "b2a977ca-5e6a-4259-9074-fac8f675db5e",
   "metadata": {},
   "outputs": [],
   "source": []
  },
  {
   "cell_type": "code",
   "execution_count": null,
   "id": "e800d2ab-4f84-4f52-9a35-a718fe33d5fc",
   "metadata": {},
   "outputs": [],
   "source": []
  },
  {
   "cell_type": "code",
   "execution_count": null,
   "id": "fbe4abe6-099d-4263-b092-5597c4cb7338",
   "metadata": {},
   "outputs": [],
   "source": []
  },
  {
   "cell_type": "code",
   "execution_count": null,
   "id": "19e23247-9023-4500-8560-4d0143296ab5",
   "metadata": {},
   "outputs": [],
   "source": []
  },
  {
   "cell_type": "code",
   "execution_count": null,
   "id": "e6dc2c8b-57a7-42f7-a2a7-202df16e15ba",
   "metadata": {},
   "outputs": [],
   "source": []
  },
  {
   "cell_type": "code",
   "execution_count": null,
   "id": "7cd0cd80-afe8-49f5-bcaf-883fd54a6f36",
   "metadata": {},
   "outputs": [],
   "source": []
  },
  {
   "cell_type": "code",
   "execution_count": null,
   "id": "c01e907f-5b0d-4798-adce-40575c71a52a",
   "metadata": {},
   "outputs": [],
   "source": []
  },
  {
   "cell_type": "code",
   "execution_count": null,
   "id": "d6321b3c-b394-4a89-8cd6-55423645ef5c",
   "metadata": {},
   "outputs": [],
   "source": []
  },
  {
   "cell_type": "code",
   "execution_count": null,
   "id": "a8a14cc6-bbea-47fb-95ed-9873631c49b2",
   "metadata": {},
   "outputs": [],
   "source": []
  },
  {
   "cell_type": "code",
   "execution_count": null,
   "id": "5593c9d6-4612-4c21-b5fa-f7d7053c8140",
   "metadata": {},
   "outputs": [],
   "source": []
  },
  {
   "cell_type": "code",
   "execution_count": null,
   "id": "6795128a-7d37-4031-9429-e29d478b462a",
   "metadata": {},
   "outputs": [],
   "source": []
  },
  {
   "cell_type": "code",
   "execution_count": null,
   "id": "66cef596-8824-46ce-b277-2475c83bceb2",
   "metadata": {},
   "outputs": [],
   "source": []
  },
  {
   "cell_type": "code",
   "execution_count": null,
   "id": "ee0f2bb0-493a-41a5-92ce-74096bc31fb4",
   "metadata": {},
   "outputs": [],
   "source": []
  },
  {
   "cell_type": "code",
   "execution_count": null,
   "id": "af4c5e6c-8aa1-4f98-a75b-1a7b831dcab8",
   "metadata": {},
   "outputs": [],
   "source": []
  },
  {
   "cell_type": "code",
   "execution_count": null,
   "id": "accd65cc-6a7d-4063-aabd-28cc475a94a4",
   "metadata": {},
   "outputs": [],
   "source": []
  },
  {
   "cell_type": "code",
   "execution_count": null,
   "id": "d0570226-f0ce-4009-a758-3eae5db0913e",
   "metadata": {},
   "outputs": [],
   "source": []
  },
  {
   "cell_type": "code",
   "execution_count": null,
   "id": "9dc99acf-1351-4fdd-9431-3f7d9654ae4d",
   "metadata": {},
   "outputs": [],
   "source": []
  }
 ],
 "metadata": {
  "kernelspec": {
   "display_name": "Python [conda env:base] *",
   "language": "python",
   "name": "conda-base-py"
  },
  "language_info": {
   "codemirror_mode": {
    "name": "ipython",
    "version": 3
   },
   "file_extension": ".py",
   "mimetype": "text/x-python",
   "name": "python",
   "nbconvert_exporter": "python",
   "pygments_lexer": "ipython3",
   "version": "3.10.14"
  }
 },
 "nbformat": 4,
 "nbformat_minor": 5
}
