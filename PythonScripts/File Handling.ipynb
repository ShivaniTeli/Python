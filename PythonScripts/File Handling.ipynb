{
 "cells": [
  {
   "cell_type": "markdown",
   "id": "dd13de0d-992c-4bf1-ab73-7e1bc5916097",
   "metadata": {},
   "source": [
    "# There are some points to keep in mind before working with file handling\n",
    "\n",
    "\n",
    "1. To read or write into the file first we have to open the file\n",
    "\n",
    "   Syntax:\n",
    "           var = open('path/file_name.ext','mode')\n",
    "           var.close() :- Closing a file is very imp or else the changes will not reflect\n",
    "\n",
    "2. Data read from the file will always be in a form of string\n",
    "\n",
    "3. Modes of opeartion : Text Files\n",
    "\n",
    "- read mode --> 'r'\n",
    "- write mode --> 'w'\n",
    "- append mode -->'a'\n",
    "- read and write mode --> 'r+'\n",
    "- write and read mode --> 'w+'\n",
    "- append and read mode --> 'a+'\n",
    "\n",
    "4. Modes of opeartion : Binary Files\n",
    "\n",
    "- read mode --> 'rb'\n",
    "- write mode --> 'wb'\n",
    "- append mode -->'ab'\n",
    "- read and write mode --> 'r+b'\n",
    "- write and read mode --> 'w+b'\n",
    "- append and read mode --> 'a+b'\n",
    "\n",
    "5. Methods on file objects\n",
    "\n",
    "- read() --> read the content from the file\n",
    "- write() --> write the content into the file\n",
    "- tell() --> tells us the position of the cursor\n",
    "- seek()--> move the cursor to any specific index loaction"
   ]
  },
  {
   "cell_type": "markdown",
   "id": "0fd0b046-c428-4074-bd90-cbe72a273ac4",
   "metadata": {},
   "source": [
    "# Modes of operation"
   ]
  },
  {
   "cell_type": "markdown",
   "id": "87bd9c76-39c3-4296-a898-de0435eabedd",
   "metadata": {},
   "source": [
    "# read mode ---> 'r'\n",
    "\n",
    "- If the file does not exist, It will throw an \"file not found\" error\n",
    "- If the file is present, It will open the file and places the cursor at the begining of the file\n",
    "- You can only read the data from it, but can't write into it"
   ]
  },
  {
   "cell_type": "code",
   "execution_count": 5,
   "id": "6d1e59ec-9ee4-4dd1-afeb-03e8bd15b815",
   "metadata": {},
   "outputs": [],
   "source": [
    "# - If the file does not exist, It will throw an \"file not found\" error\n",
    "\n",
    "f = open('File Handling/read_mode.txt','r')"
   ]
  },
  {
   "cell_type": "code",
   "execution_count": 9,
   "id": "78c24afd-9d8b-459a-aa9e-18de9decc03c",
   "metadata": {},
   "outputs": [
    {
     "name": "stdout",
     "output_type": "stream",
     "text": [
      "0\n"
     ]
    }
   ],
   "source": [
    "# - If the file is present, It will open the file and places the cursor at the begining of the file\n",
    " \n",
    "f = open('File Handling/read_mode.txt','r')\n",
    "print(f.tell())"
   ]
  },
  {
   "cell_type": "code",
   "execution_count": 11,
   "id": "4eda6ca2-dbf4-4c97-bd26-54baee963065",
   "metadata": {},
   "outputs": [
    {
     "name": "stdout",
     "output_type": "stream",
     "text": [
      "0\n",
      "Hello , we are learning file handling <class 'str'>\n"
     ]
    }
   ],
   "source": [
    "f = open('File Handling/read_mode.txt','r')\n",
    "print(f.tell())\n",
    "a = f.read()\n",
    "print(a,type(a))"
   ]
  },
  {
   "cell_type": "code",
   "execution_count": 15,
   "id": "546bf33f-bf5e-43d5-8861-927431f35ecb",
   "metadata": {},
   "outputs": [
    {
     "name": "stdout",
     "output_type": "stream",
     "text": [
      "0\n",
      "6\n",
      ", we are learning file handling\n"
     ]
    }
   ],
   "source": [
    "# - You can only read the data from it, but can't write into it\n",
    "f = open('File Handling/read_mode.txt','r')\n",
    "print(f.tell())\n",
    "f.seek(6)\n",
    "print(f.tell())\n",
    "print(f.read())"
   ]
  },
  {
   "cell_type": "code",
   "execution_count": null,
   "id": "51f862b5-ac9b-4f7a-8040-8d1bb6ac9992",
   "metadata": {},
   "outputs": [],
   "source": [
    "# write mode ---> 'w'\n",
    "\n",
    "- If the file does not exist, It will create a file with that name and extension\n",
    "- If the file is present, It will open the file and delete the previous data\n",
    "- You can only write into the data from it, but can't read into it"
   ]
  },
  {
   "cell_type": "code",
   "execution_count": 17,
   "id": "b0e02eab-c3cf-4be8-b983-27459485bb95",
   "metadata": {},
   "outputs": [],
   "source": [
    "f = open('File Handling/write_mode.txt','w')"
   ]
  },
  {
   "cell_type": "code",
   "execution_count": 19,
   "id": "cffef23b-ec53-4f53-974a-cee95ee09faa",
   "metadata": {},
   "outputs": [
    {
     "name": "stdout",
     "output_type": "stream",
     "text": [
      "0\n"
     ]
    }
   ],
   "source": [
    "f = open('File Handling/write_mode.txt','w')\n",
    "print(f.tell())"
   ]
  },
  {
   "cell_type": "code",
   "execution_count": 21,
   "id": "f2b2c652-4876-4c87-8002-1796433a867f",
   "metadata": {},
   "outputs": [],
   "source": [
    "f = open('File Handling/write_mode.txt','w')\n",
    "f.write(\"Hello world\")\n",
    "f.close()"
   ]
  },
  {
   "cell_type": "code",
   "execution_count": 23,
   "id": "37d3741f-a4bf-488d-9597-63030ce4cc56",
   "metadata": {},
   "outputs": [],
   "source": [
    "f = open('File Handling/write_mode.txt','w')\n",
    "f.write(\"Hello world\")\n",
    "f.seek(6)\n",
    "f.write(\"New data\")\n",
    "f.close()"
   ]
  },
  {
   "cell_type": "code",
   "execution_count": null,
   "id": "e17b8bcb-6e9d-4efe-aba6-41af820f0cce",
   "metadata": {},
   "outputs": [],
   "source": [
    "# Append mode ---> 'a'\n",
    "\n",
    "- If the file does not exist, It will create a file with that name and extension\n",
    "- If the file is present, It will open the file and place the cursor at the end of file\n",
    "- You can read and write into file\n",
    "- You can overwrite the existing file"
   ]
  },
  {
   "cell_type": "code",
   "execution_count": 35,
   "id": "9d678617-6251-4a84-a628-8e2c5476e5b8",
   "metadata": {},
   "outputs": [],
   "source": [
    "f = open('File Handling/append_mode.txt','a')"
   ]
  },
  {
   "cell_type": "code",
   "execution_count": 59,
   "id": "239f25ad-5e64-4406-a3b5-5cb3149f030a",
   "metadata": {},
   "outputs": [
    {
     "data": {
      "text/plain": [
       "35"
      ]
     },
     "execution_count": 59,
     "metadata": {},
     "output_type": "execute_result"
    }
   ],
   "source": [
    "f = open('File Handling/append_mode.txt','a')\n",
    "f.tell()"
   ]
  },
  {
   "cell_type": "code",
   "execution_count": 61,
   "id": "4cf87daf-eeed-4331-b9a5-d3b6d39a062a",
   "metadata": {},
   "outputs": [],
   "source": [
    "f = open('File Handling/append_mode.txt','a')\n",
    "f.write(\"\\tNew data\")\n",
    "f.close()"
   ]
  },
  {
   "cell_type": "code",
   "execution_count": 65,
   "id": "7df71f32-e8a7-4117-be4c-4f162a5dcaf9",
   "metadata": {},
   "outputs": [],
   "source": [
    "f = open('File Handling/append_mode.txt','a')\n",
    "f.write(\"\\nappend mode \")\n",
    "f.close()"
   ]
  },
  {
   "cell_type": "markdown",
   "id": "ad1df7d6-2c87-444e-bb81-b4fe846b72bd",
   "metadata": {},
   "source": [
    "# New syntax:\n",
    "\n",
    "note: closing file is optional"
   ]
  },
  {
   "cell_type": "code",
   "execution_count": 67,
   "id": "d22e66ff-285c-4128-bc0f-324ee2c8ed6f",
   "metadata": {},
   "outputs": [],
   "source": [
    "with open('File Handling/append_mode.txt','a') as f:\n",
    "    f.write(\"New syntax\")"
   ]
  },
  {
   "cell_type": "code",
   "execution_count": null,
   "id": "d9c2469c-0cad-445f-b61a-5510cf734da4",
   "metadata": {},
   "outputs": [],
   "source": [
    "# read and write mode ---> 'r'\n",
    "\n",
    "- If the file does not exist, It will throw an \"file not found\" error\n",
    "- If the file is present, It will open the file and places the cursor at the begining of the file\n",
    "- You can only read the data from it, but can write into it"
   ]
  },
  {
   "cell_type": "code",
   "execution_count": 89,
   "id": "e9ca12b3-ff1e-4bb1-b23c-43c014a141cd",
   "metadata": {},
   "outputs": [
    {
     "name": "stdout",
     "output_type": "stream",
     "text": [
      "0\n",
      "Hellodatadata\n",
      "4\n"
     ]
    }
   ],
   "source": [
    "f = open('File Handling/read_write_mode.txt','r+')\n",
    "print(f.tell())\n",
    "print(f.read())\n",
    "print(f.write(\"data\"))\n",
    "f.close()"
   ]
  },
  {
   "cell_type": "code",
   "execution_count": 104,
   "id": "465d355d-515b-4328-89f0-7b58e07bebf9",
   "metadata": {},
   "outputs": [],
   "source": [
    "f = open('File Handling/read_write_mode.txt','r+')\n",
    "f.write(\"replcable\")\n",
    "f.close()"
   ]
  },
  {
   "cell_type": "markdown",
   "id": "721b080c-29e6-49bf-a410-b9cfb511e99b",
   "metadata": {},
   "source": [
    "# write and read mode ---> 'w+'\n",
    "\n",
    "- If the file does not exist, It will create a file with that name and extension\n",
    "- If the file is present, It will open the file and delete the previous data\n",
    "- You can  write and read data"
   ]
  },
  {
   "cell_type": "code",
   "execution_count": 114,
   "id": "4bb54cb7-aa3d-4842-8a66-e8581f164db7",
   "metadata": {},
   "outputs": [
    {
     "name": "stdout",
     "output_type": "stream",
     "text": [
      "hello world\n"
     ]
    }
   ],
   "source": [
    "f = open('File Handling/write_read_mode.txt','w+')\n",
    "f.write(\"hello world\")\n",
    "f.seek(0)\n",
    "print(f.read())\n",
    "f.close()"
   ]
  },
  {
   "cell_type": "code",
   "execution_count": null,
   "id": "26517dbf-5702-4fb1-90ed-85b98c45d783",
   "metadata": {},
   "outputs": [],
   "source": [
    "# Append mode ---> 'a+'\n",
    "\n",
    "- If the file does not exist, It will create a file with that name and extension\n",
    "- If the file is present, It will open the file and place the cursor at the end of file\n",
    "- You can read and write into file\n",
    "- You can never overwrite the existing file"
   ]
  },
  {
   "cell_type": "code",
   "execution_count": 116,
   "id": "c37ed2b9-7131-4758-8bd6-ddc8b1c10dd0",
   "metadata": {},
   "outputs": [
    {
     "data": {
      "text/plain": [
       "0"
      ]
     },
     "execution_count": 116,
     "metadata": {},
     "output_type": "execute_result"
    }
   ],
   "source": [
    "f = open('File Handling/append_read_mode.txt','a+')\n",
    "f.tell()"
   ]
  },
  {
   "cell_type": "code",
   "execution_count": 118,
   "id": "c203b076-07c4-46a6-8c16-ba9e178db395",
   "metadata": {},
   "outputs": [],
   "source": [
    "f = open('File Handling/append_read_mode.txt','a+')\n",
    "f.write(\"\\nThis mode never overwrite\")\n",
    "f.close()"
   ]
  },
  {
   "cell_type": "code",
   "execution_count": 122,
   "id": "c8e13546-d0ff-40dd-bc92-a3c22b540f6f",
   "metadata": {},
   "outputs": [],
   "source": [
    "f = open('File Handling/append_read_mode.txt','a+')\n",
    "f.write(\"\\ttrial\")\n",
    "f.close()"
   ]
  },
  {
   "cell_type": "markdown",
   "id": "112affdd-3acb-404a-a487-54e8daa49d29",
   "metadata": {},
   "source": [
    "# Methods similar to read function\n",
    "\n",
    "- read()--> Reads the complete content from the current location\n",
    "- read(char)--> Reads the specified number of charachters from the current location\n",
    "- readline()--> Read only the current\n",
    "- readlines()--> read complete content from the current loc but return a list each line is an element"
   ]
  },
  {
   "cell_type": "code",
   "execution_count": 126,
   "id": "20c87e66-794b-4e81-869c-46b40366bab2",
   "metadata": {},
   "outputs": [
    {
     "data": {
      "text/plain": [
       "'hello world\\nnew techniques\\nlearn python\\n'"
      ]
     },
     "execution_count": 126,
     "metadata": {},
     "output_type": "execute_result"
    }
   ],
   "source": [
    "f = open('File Handling/read_write_mode.txt','r')\n",
    "f.read()"
   ]
  },
  {
   "cell_type": "code",
   "execution_count": 134,
   "id": "8b47138f-5384-433e-b745-a9cbb21cf386",
   "metadata": {},
   "outputs": [
    {
     "data": {
      "text/plain": [
       "'world\\nnew techniques\\nlearn python\\n'"
      ]
     },
     "execution_count": 134,
     "metadata": {},
     "output_type": "execute_result"
    }
   ],
   "source": [
    "f = open('File Handling/read_write_mode.txt','r')\n",
    "f.seek(6)\n",
    "f.read()"
   ]
  },
  {
   "cell_type": "code",
   "execution_count": 136,
   "id": "f3c23206-a278-404a-ab72-4377b49689f2",
   "metadata": {},
   "outputs": [
    {
     "data": {
      "text/plain": [
       "'hello w'"
      ]
     },
     "execution_count": 136,
     "metadata": {},
     "output_type": "execute_result"
    }
   ],
   "source": [
    "f = open('File Handling/read_write_mode.txt','r')\n",
    "f.read(7)"
   ]
  },
  {
   "cell_type": "code",
   "execution_count": 200,
   "id": "21af1091-2be4-4f99-9583-acafe1916156",
   "metadata": {},
   "outputs": [],
   "source": [
    "f = open('File Handling/read_write_mode.txt','r')"
   ]
  },
  {
   "cell_type": "code",
   "execution_count": 204,
   "id": "9e3017a0-edfb-48b1-a3fd-a9650f393d9a",
   "metadata": {},
   "outputs": [
    {
     "data": {
      "text/plain": [
       "'new techniques\\n'"
      ]
     },
     "execution_count": 204,
     "metadata": {},
     "output_type": "execute_result"
    }
   ],
   "source": [
    "f.readline()"
   ]
  },
  {
   "cell_type": "code",
   "execution_count": 208,
   "id": "95cd69f2-bf2c-4198-8514-b069e7b0d216",
   "metadata": {},
   "outputs": [
    {
     "data": {
      "text/plain": [
       "['hello world\\n', 'new techniques\\n', 'learn python\\n']"
      ]
     },
     "execution_count": 208,
     "metadata": {},
     "output_type": "execute_result"
    }
   ],
   "source": [
    "f = open('File Handling/read_write_mode.txt','r')\n",
    "t = f.readlines()\n",
    "t"
   ]
  },
  {
   "cell_type": "code",
   "execution_count": null,
   "id": "c19c5b1b-8dd6-4941-80d7-12434647fb57",
   "metadata": {},
   "outputs": [],
   "source": [
    "f = open('File Handling/read_write_mode.txt','r')\n",
    "t = f.readlines()\n",
    "print(t[2])"
   ]
  },
  {
   "cell_type": "markdown",
   "id": "0560021f-9dcc-4dac-9774-51b7082b73d0",
   "metadata": {},
   "source": [
    "# Task1"
   ]
  },
  {
   "cell_type": "code",
   "execution_count": 239,
   "id": "e57207c0-2e4e-4726-87ec-1b2e584fa60c",
   "metadata": {},
   "outputs": [
    {
     "name": "stdin",
     "output_type": "stream",
     "text": [
      "Enter the first number  78\n",
      "Enter the second number  90\n"
     ]
    },
    {
     "name": "stdout",
     "output_type": "stream",
     "text": [
      "168\n"
     ]
    }
   ],
   "source": [
    "import time\n",
    "\n",
    "current_time = time.strftime(\"%d-%m-%Y %I:%M:%S  %p\")\n",
    "\n",
    "a = eval(input('Enter the first number '))\n",
    "b = eval(input('Enter the second number '))\n",
    "c = a+b\n",
    "with open('File Handling/log_sheet.txt','a+') as f:\n",
    "    f.write(f\"\\nAt {current_time} :- The addition of {a} and {b} = {c}\")\n",
    "print(c)"
   ]
  },
  {
   "cell_type": "markdown",
   "id": "7a90fcd3-e8b0-4e48-8061-5fa397e8b779",
   "metadata": {},
   "source": [
    "# Task 2"
   ]
  },
  {
   "cell_type": "code",
   "execution_count": 246,
   "id": "c8b30aae-7848-4cf8-a176-9de494fc927b",
   "metadata": {},
   "outputs": [],
   "source": [
    "with open('File Handling/pyth.jpg','rb') as f:\n",
    "    data=f.read()\n",
    "with open('File Handling/convertImage.jpeg','wb') as f1:\n",
    "    f1.write(data)"
   ]
  },
  {
   "cell_type": "code",
   "execution_count": null,
   "id": "886e3046-fde5-4dd2-9eab-4fa53948e2ee",
   "metadata": {},
   "outputs": [],
   "source": []
  },
  {
   "cell_type": "code",
   "execution_count": null,
   "id": "71b114fb-44de-4efc-ac36-bf20e1592e1b",
   "metadata": {},
   "outputs": [],
   "source": []
  },
  {
   "cell_type": "code",
   "execution_count": null,
   "id": "b91558e7-0c76-452e-b301-414ec88aa8ae",
   "metadata": {},
   "outputs": [],
   "source": []
  },
  {
   "cell_type": "code",
   "execution_count": null,
   "id": "d35556a6-530c-413d-a865-1bac0f601b60",
   "metadata": {},
   "outputs": [],
   "source": []
  },
  {
   "cell_type": "code",
   "execution_count": null,
   "id": "62fd89b1-e411-4e72-846a-6ce19d0db97f",
   "metadata": {},
   "outputs": [],
   "source": []
  },
  {
   "cell_type": "code",
   "execution_count": null,
   "id": "1ddd5ede-e99b-4c80-8d55-252101a15f2c",
   "metadata": {},
   "outputs": [],
   "source": []
  },
  {
   "cell_type": "code",
   "execution_count": null,
   "id": "fc15afc4-62c9-4031-9d1a-84f306f7b8c0",
   "metadata": {},
   "outputs": [],
   "source": []
  },
  {
   "cell_type": "code",
   "execution_count": null,
   "id": "57b13930-954b-426a-be9c-362e4dfedfbd",
   "metadata": {},
   "outputs": [],
   "source": []
  },
  {
   "cell_type": "code",
   "execution_count": null,
   "id": "5c2d4b35-f106-4486-9469-62c95550fe47",
   "metadata": {},
   "outputs": [],
   "source": []
  },
  {
   "cell_type": "code",
   "execution_count": null,
   "id": "ffdef0b3-51c7-4647-b359-0bc1bac20e1e",
   "metadata": {},
   "outputs": [],
   "source": []
  },
  {
   "cell_type": "code",
   "execution_count": null,
   "id": "b1502fec-2fdc-4d0b-acc2-cf1eb3d14ad4",
   "metadata": {},
   "outputs": [],
   "source": []
  },
  {
   "cell_type": "code",
   "execution_count": null,
   "id": "5ea053ea-c74b-4955-967e-0293c8cf7934",
   "metadata": {},
   "outputs": [],
   "source": []
  },
  {
   "cell_type": "code",
   "execution_count": null,
   "id": "8ab15ca5-5171-4879-900c-5ce24b199f3a",
   "metadata": {},
   "outputs": [],
   "source": []
  },
  {
   "cell_type": "code",
   "execution_count": null,
   "id": "75938a39-a292-44a0-b0be-ff62a8c668ee",
   "metadata": {},
   "outputs": [],
   "source": []
  },
  {
   "cell_type": "code",
   "execution_count": null,
   "id": "0e6fcdea-4a3c-4712-9c73-e4c56d85add9",
   "metadata": {},
   "outputs": [],
   "source": []
  },
  {
   "cell_type": "code",
   "execution_count": null,
   "id": "e18d1cbf-06ad-432f-9b51-4e5302d737e9",
   "metadata": {},
   "outputs": [],
   "source": []
  },
  {
   "cell_type": "code",
   "execution_count": null,
   "id": "9cf35363-9255-41ed-b3ac-7965fa015f9d",
   "metadata": {},
   "outputs": [],
   "source": []
  },
  {
   "cell_type": "code",
   "execution_count": null,
   "id": "42478c01-f36d-4de5-b681-fbb0e26453e2",
   "metadata": {},
   "outputs": [],
   "source": []
  },
  {
   "cell_type": "code",
   "execution_count": null,
   "id": "271bce00-1b84-4fc9-93a0-89750e1ddcc1",
   "metadata": {},
   "outputs": [],
   "source": []
  },
  {
   "cell_type": "code",
   "execution_count": null,
   "id": "62f060a4-6a27-4ec3-b6e1-7f98ae2b6668",
   "metadata": {},
   "outputs": [],
   "source": []
  },
  {
   "cell_type": "code",
   "execution_count": null,
   "id": "ab88d681-54ae-4ae2-8413-bc789ccd705f",
   "metadata": {},
   "outputs": [],
   "source": []
  },
  {
   "cell_type": "code",
   "execution_count": null,
   "id": "344ca596-06b5-40dc-bf6d-f221df509927",
   "metadata": {},
   "outputs": [],
   "source": []
  },
  {
   "cell_type": "code",
   "execution_count": null,
   "id": "bbbacf97-3935-4052-9ada-c3ba50126c41",
   "metadata": {},
   "outputs": [],
   "source": []
  },
  {
   "cell_type": "code",
   "execution_count": null,
   "id": "571fbe7c-def4-4dac-bd15-aaf20fd80a7b",
   "metadata": {},
   "outputs": [],
   "source": []
  },
  {
   "cell_type": "code",
   "execution_count": null,
   "id": "0822547d-9d5e-419a-a8a5-d3dbf020efcf",
   "metadata": {},
   "outputs": [],
   "source": []
  },
  {
   "cell_type": "code",
   "execution_count": null,
   "id": "96fdbfb6-df36-4c35-b595-c02f5d131e02",
   "metadata": {},
   "outputs": [],
   "source": []
  },
  {
   "cell_type": "code",
   "execution_count": null,
   "id": "eb6031ff-8c59-4c0a-9a2f-d53d4af9843a",
   "metadata": {},
   "outputs": [],
   "source": []
  },
  {
   "cell_type": "code",
   "execution_count": null,
   "id": "70c8d62d-7b76-4197-8651-1d4f4a62ce54",
   "metadata": {},
   "outputs": [],
   "source": []
  },
  {
   "cell_type": "code",
   "execution_count": null,
   "id": "f94dc7e3-c989-4445-8505-6196a139748c",
   "metadata": {},
   "outputs": [],
   "source": []
  },
  {
   "cell_type": "code",
   "execution_count": null,
   "id": "b6cd87f1-0468-46ba-9af5-b431954c144e",
   "metadata": {},
   "outputs": [],
   "source": []
  }
 ],
 "metadata": {
  "kernelspec": {
   "display_name": "Python [conda env:base] *",
   "language": "python",
   "name": "conda-base-py"
  },
  "language_info": {
   "codemirror_mode": {
    "name": "ipython",
    "version": 3
   },
   "file_extension": ".py",
   "mimetype": "text/x-python",
   "name": "python",
   "nbconvert_exporter": "python",
   "pygments_lexer": "ipython3",
   "version": "3.10.14"
  }
 },
 "nbformat": 4,
 "nbformat_minor": 5
}
