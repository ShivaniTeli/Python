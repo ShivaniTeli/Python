{
 "cells": [
  {
   "cell_type": "markdown",
   "id": "f9728692-26ec-48fb-af9b-1ab7c759efd0",
   "metadata": {},
   "source": [
    "# Lambda: Anonymous Function - A function without a name\n",
    "\n",
    "syntax\n",
    "\n",
    "lambda args: expression"
   ]
  },
  {
   "cell_type": "code",
   "execution_count": 43,
   "id": "e0132286-d16d-4f7b-9563-1df27bb2ab49",
   "metadata": {},
   "outputs": [
    {
     "data": {
      "text/plain": [
       "3"
      ]
     },
     "execution_count": 43,
     "metadata": {},
     "output_type": "execute_result"
    }
   ],
   "source": [
    "#syntax 1:\n",
    "\n",
    "\n",
    "x = lambda a,b: a + b\n",
    "\n",
    "x(1,2)"
   ]
  },
  {
   "cell_type": "code",
   "execution_count": 45,
   "id": "3d9d88f6-42ab-41f3-be63-fb751ce0cfdd",
   "metadata": {},
   "outputs": [
    {
     "data": {
      "text/plain": [
       "30"
      ]
     },
     "execution_count": 45,
     "metadata": {},
     "output_type": "execute_result"
    }
   ],
   "source": [
    "# Syntax 2:\n",
    "\n",
    "(lambda a,b : a + b)(10,20)"
   ]
  },
  {
   "cell_type": "code",
   "execution_count": 61,
   "id": "508db44d-9e60-4a8e-9401-69d93e5fbbed",
   "metadata": {},
   "outputs": [
    {
     "data": {
      "text/plain": [
       "'Palindrome'"
      ]
     },
     "execution_count": 61,
     "metadata": {},
     "output_type": "execute_result"
    }
   ],
   "source": [
    "(lambda x : 'Palindrome' if x == x[::-1] else 'Not Palindrome') ('level')"
   ]
  },
  {
   "cell_type": "code",
   "execution_count": 69,
   "id": "34a136cb-cca9-40eb-8c7d-5ba6fe2f90da",
   "metadata": {},
   "outputs": [
    {
     "data": {
      "text/plain": [
       "89.6"
      ]
     },
     "execution_count": 69,
     "metadata": {},
     "output_type": "execute_result"
    }
   ],
   "source": [
    "(lambda T : ((9/5) * T) + 32)(32)"
   ]
  },
  {
   "cell_type": "code",
   "execution_count": 77,
   "id": "fe07c9fc-ba52-40a8-b3fb-cbe22ad7614d",
   "metadata": {},
   "outputs": [
    {
     "name": "stdin",
     "output_type": "stream",
     "text": [
      "Enter number: 5\n"
     ]
    },
    {
     "data": {
      "text/plain": [
       "'odd'"
      ]
     },
     "execution_count": 77,
     "metadata": {},
     "output_type": "execute_result"
    }
   ],
   "source": [
    "num = eval(input(\"Enter number:\"))\n",
    "(lambda a: 'even' if a%2==0 else 'odd')(num)"
   ]
  },
  {
   "cell_type": "markdown",
   "id": "1e6d8145-4158-4386-a22e-c425d04c80fb",
   "metadata": {},
   "source": [
    "# Map\n",
    "1.function\n",
    "2.seq"
   ]
  },
  {
   "cell_type": "code",
   "execution_count": 85,
   "id": "451658c2-0c27-47a0-8472-7732d51758b1",
   "metadata": {},
   "outputs": [
    {
     "data": {
      "text/plain": [
       "[89.6, 113.0, 152.60000000000002, 192.20000000000002]"
      ]
     },
     "execution_count": 85,
     "metadata": {},
     "output_type": "execute_result"
    }
   ],
   "source": [
    "temp = [32,45,67,89]\n",
    "\n",
    "list(map((lambda t : ((9/5) * t)+32),temp))"
   ]
  },
  {
   "cell_type": "code",
   "execution_count": 95,
   "id": "dbd14761-9070-43a3-beed-c3900bb87856",
   "metadata": {},
   "outputs": [
    {
     "data": {
      "text/plain": [
       "['akzelxw',\n",
       " 'elum',\n",
       " 'akbar.caakaterasu',\n",
       " 'akarui.kibuno',\n",
       " 'ajsparkchick',\n",
       " 'ajmeia',\n",
       " 'ajhnstn87',\n",
       " 'ailuvzhoko4',\n",
       " 'ailuvzhoko3',\n",
       " 'ailuvzhoko2',\n",
       " 'ailuvzhoko',\n",
       " 'aillensiquioco',\n",
       " 'ahmovic_ines',\n",
       " 'ahmed_g300',\n",
       " 'ahmadjazlan',\n",
       " 'ahmad_ridho19']"
      ]
     },
     "execution_count": 95,
     "metadata": {},
     "output_type": "execute_result"
    }
   ],
   "source": [
    "lst = ['akzelxw@hotmail.com',\n",
    "'elum@gmail.com',\n",
    "'akbar.caakaterasu@gmail.com',\n",
    "'akarui.kibuno@gmail.com',\n",
    "'ajsparkchick@hotmail.com',\n",
    "'ajmeia@yahoo.com',\n",
    "'ajhnstn87@gmail.com',\n",
    "'ailuvzhoko4@hotmail.com',\n",
    "'ailuvzhoko3@hotmail.com',\n",
    "'ailuvzhoko2@hotmail.com',\n",
    "'ailuvzhoko@hotmail.com',\n",
    "'aillensiquioco@aol.com',\n",
    "'ahmovic_ines@hotmail.com',\n",
    "'ahmed_g300@yahoo.com',\n",
    "'ahmadjazlan@gmail.com',\n",
    "'ahmad_ridho19@yahoo.com']\n",
    "\n",
    "\n",
    "list(map((lambda a : a.split('@')[0]) ,lst))"
   ]
  },
  {
   "cell_type": "code",
   "execution_count": 97,
   "id": "b618e80e-9d0e-4160-9fe6-4bddc6adf2b2",
   "metadata": {},
   "outputs": [
    {
     "data": {
      "text/plain": [
       "[7, 9, 11, 13, 11]"
      ]
     },
     "execution_count": 97,
     "metadata": {},
     "output_type": "execute_result"
    }
   ],
   "source": [
    "a = [1,2,3,4,5]\n",
    "b = [6,7,8,9,6]\n",
    "\n",
    "list(map((lambda x,y: x + y),a,b))"
   ]
  },
  {
   "cell_type": "markdown",
   "id": "a7b2214f-1ca3-422c-a631-8e82c919fb27",
   "metadata": {},
   "source": [
    "# Reduce\n",
    "\n",
    "1. function\n",
    "2. sequence"
   ]
  },
  {
   "cell_type": "code",
   "execution_count": 103,
   "id": "93237071-6d46-4531-a5d5-7a8470bd9ecb",
   "metadata": {},
   "outputs": [],
   "source": [
    "from functools import reduce"
   ]
  },
  {
   "cell_type": "code",
   "execution_count": 105,
   "id": "7ba19631-e538-4f25-8a2c-3109060d6bf3",
   "metadata": {},
   "outputs": [
    {
     "data": {
      "text/plain": [
       "15"
      ]
     },
     "execution_count": 105,
     "metadata": {},
     "output_type": "execute_result"
    }
   ],
   "source": [
    "l1 = [1,2,3,4,5]\n",
    "\n",
    "reduce((lambda x,y:x+y),l1)"
   ]
  },
  {
   "cell_type": "code",
   "execution_count": 109,
   "id": "cfdfbd12-8729-4423-bb18-7938f2e7f257",
   "metadata": {},
   "outputs": [
    {
     "data": {
      "text/plain": [
       "120"
      ]
     },
     "execution_count": 109,
     "metadata": {},
     "output_type": "execute_result"
    }
   ],
   "source": [
    "l1 = [1,2,3,4,5]\n",
    "\n",
    "reduce((lambda x,y : x * y),l1)"
   ]
  },
  {
   "cell_type": "code",
   "execution_count": 113,
   "id": "64267a17-9b8e-47fd-a3d4-7394e17b9257",
   "metadata": {},
   "outputs": [
    {
     "data": {
      "text/plain": [
       "50"
      ]
     },
     "execution_count": 113,
     "metadata": {},
     "output_type": "execute_result"
    }
   ],
   "source": [
    "l1 = [91,72,53,94,50]\n",
    "\n",
    "reduce((lambda x,y : x if x < y else y),l1)"
   ]
  },
  {
   "cell_type": "code",
   "execution_count": 115,
   "id": "284063da-0586-442d-92fd-23416b9520fe",
   "metadata": {},
   "outputs": [
    {
     "data": {
      "text/plain": [
       "94"
      ]
     },
     "execution_count": 115,
     "metadata": {},
     "output_type": "execute_result"
    }
   ],
   "source": [
    "l1 = [91,72,53,94,50]\n",
    "\n",
    "reduce((lambda x,y : x if x > y else y),l1)"
   ]
  },
  {
   "cell_type": "markdown",
   "id": "1d629bf4-9fb5-4e84-a748-105d5ca9aa4c",
   "metadata": {},
   "source": [
    "# Filter \n",
    "\n",
    "1. Function\n",
    "2. sequence\n",
    "\n",
    "Note: A function should be created in such a format that it returns bools values as an output"
   ]
  },
  {
   "cell_type": "code",
   "execution_count": 119,
   "id": "229b03ef-16ba-4e3c-b6ce-572a595aaaa3",
   "metadata": {},
   "outputs": [
    {
     "data": {
      "text/plain": [
       "[32, 98]"
      ]
     },
     "execution_count": 119,
     "metadata": {},
     "output_type": "execute_result"
    }
   ],
   "source": [
    "lst = [32,45,67,43,21,98]\n",
    "\n",
    "list(filter((lambda a : a%2 == 0 ),lst))"
   ]
  },
  {
   "cell_type": "code",
   "execution_count": 131,
   "id": "afee1e23-a083-488a-a6da-73157f8b74a3",
   "metadata": {},
   "outputs": [
    {
     "data": {
      "text/plain": [
       "['elum@gmail.com',\n",
       " 'akbar.caakaterasu@gmail.com',\n",
       " 'akarui.kibuno@gmail.com',\n",
       " 'ajhnstn87@gmail.com',\n",
       " 'ahmadjazlan@gmail.com']"
      ]
     },
     "execution_count": 131,
     "metadata": {},
     "output_type": "execute_result"
    }
   ],
   "source": [
    "lst = ['akzelxw@hotmail.com',\n",
    "'elum@gmail.com',\n",
    "'akbar.caakaterasu@gmail.com',\n",
    "'akarui.kibuno@gmail.com',\n",
    "'ajsparkchick@hotmail.com',\n",
    "'ajmeia@yahoo.com',\n",
    "'ajhnstn87@gmail.com',\n",
    "'ailuvzhoko4@hotmail.com',\n",
    "'ailuvzhoko3@hotmail.com',\n",
    "'ailuvzhoko2@hotmail.com',\n",
    "'ailuvzhoko@hotmail.com',\n",
    "'aillensiquioco@aol.com',\n",
    "'ahmovic_ines@hotmail.com',\n",
    "'ahmed_g300@yahoo.com',\n",
    "'ahmadjazlan@gmail.com',\n",
    "'ahmad_ridho19@yahoo.com']\n",
    "\n",
    "list(filter(lambda email: email.endswith('@gmail.com'), lst))"
   ]
  },
  {
   "cell_type": "code",
   "execution_count": 137,
   "id": "6efb20ce-3518-4514-9320-5cbffda74aa1",
   "metadata": {},
   "outputs": [
    {
     "data": {
      "text/plain": [
       "['elum@gmail.com',\n",
       " 'akbar.caakaterasu@gmail.com',\n",
       " 'akarui.kibuno@gmail.com',\n",
       " 'ajhnstn87@gmail.com',\n",
       " 'ahmadjazlan@gmail.com']"
      ]
     },
     "execution_count": 137,
     "metadata": {},
     "output_type": "execute_result"
    }
   ],
   "source": [
    "list(filter((lambda a: '@gmail.com' in a),lst))"
   ]
  },
  {
   "cell_type": "code",
   "execution_count": 143,
   "id": "12eec450-ab35-4bf6-944d-e44a917d37ab",
   "metadata": {},
   "outputs": [
    {
     "data": {
      "text/plain": [
       "['elum@gmail.com',\n",
       " 'akbar.caakaterasu@gmail.com',\n",
       " 'akarui.kibuno@gmail.com',\n",
       " 'ajhnstn87@gmail.com',\n",
       " 'ahmadjazlan@gmail.com']"
      ]
     },
     "execution_count": 143,
     "metadata": {},
     "output_type": "execute_result"
    }
   ],
   "source": [
    "lst = ['akzelxw@hotmail.com',\n",
    "'elum@gmail.com',\n",
    "'akbar.caakaterasu@gmail.com',\n",
    "'akarui.kibuno@gmail.com',\n",
    "'ajsparkchick@hotmail.com',\n",
    "'ajmeia@yahoo.com',\n",
    "'ajhnstn87@gmail.com',\n",
    "'ailuvzhoko4@hotmail.com',\n",
    "'ailuvzhoko3@hotmail.com',\n",
    "'ailuvzhoko2@hotmail.com',\n",
    "'ailuvzhoko@hotmail.com',\n",
    "'aillensiquioco@aol.com',\n",
    "'ahmovic_ines@hotmail.com',\n",
    "'ahmed_g300@yahoo.com',\n",
    "'ahmadjazlan@gmail.com',\n",
    "'ahmad_ridho19@yahoo.com']\n",
    "\n",
    "list(filter((lambda a: a.split('@')[1] =='gmail.com'),lst))"
   ]
  },
  {
   "cell_type": "code",
   "execution_count": 171,
   "id": "a896ed95-2385-4206-aa2d-c4c3236e9b68",
   "metadata": {},
   "outputs": [
    {
     "data": {
      "text/html": [
       "<div>\n",
       "<style scoped>\n",
       "    .dataframe tbody tr th:only-of-type {\n",
       "        vertical-align: middle;\n",
       "    }\n",
       "\n",
       "    .dataframe tbody tr th {\n",
       "        vertical-align: top;\n",
       "    }\n",
       "\n",
       "    .dataframe thead th {\n",
       "        text-align: right;\n",
       "    }\n",
       "</style>\n",
       "<table border=\"1\" class=\"dataframe\">\n",
       "  <thead>\n",
       "    <tr style=\"text-align: right;\">\n",
       "      <th></th>\n",
       "      <th>day</th>\n",
       "      <th>temperature</th>\n",
       "      <th>windspeed</th>\n",
       "      <th>event</th>\n",
       "    </tr>\n",
       "  </thead>\n",
       "  <tbody>\n",
       "    <tr>\n",
       "      <th>0</th>\n",
       "      <td>1/1/2017</td>\n",
       "      <td>32</td>\n",
       "      <td>6</td>\n",
       "      <td>Rain</td>\n",
       "    </tr>\n",
       "    <tr>\n",
       "      <th>1</th>\n",
       "      <td>1/2/2017</td>\n",
       "      <td>35</td>\n",
       "      <td>7</td>\n",
       "      <td>Sunny</td>\n",
       "    </tr>\n",
       "    <tr>\n",
       "      <th>2</th>\n",
       "      <td>1/3/2017</td>\n",
       "      <td>28</td>\n",
       "      <td>2</td>\n",
       "      <td>Snow</td>\n",
       "    </tr>\n",
       "    <tr>\n",
       "      <th>3</th>\n",
       "      <td>1/4/2017</td>\n",
       "      <td>24</td>\n",
       "      <td>7</td>\n",
       "      <td>Snow</td>\n",
       "    </tr>\n",
       "    <tr>\n",
       "      <th>4</th>\n",
       "      <td>1/5/2017</td>\n",
       "      <td>32</td>\n",
       "      <td>4</td>\n",
       "      <td>Rain</td>\n",
       "    </tr>\n",
       "    <tr>\n",
       "      <th>5</th>\n",
       "      <td>1/6/2017</td>\n",
       "      <td>31</td>\n",
       "      <td>2</td>\n",
       "      <td>Sunny</td>\n",
       "    </tr>\n",
       "  </tbody>\n",
       "</table>\n",
       "</div>"
      ],
      "text/plain": [
       "        day  temperature  windspeed  event\n",
       "0  1/1/2017           32          6   Rain\n",
       "1  1/2/2017           35          7  Sunny\n",
       "2  1/3/2017           28          2   Snow\n",
       "3  1/4/2017           24          7   Snow\n",
       "4  1/5/2017           32          4   Rain\n",
       "5  1/6/2017           31          2  Sunny"
      ]
     },
     "execution_count": 171,
     "metadata": {},
     "output_type": "execute_result"
    }
   ],
   "source": [
    "import pandas as pd\n",
    "\n",
    "data = pd.DataFrame({'day': {0: '1/1/2017',\n",
    "  1: '1/2/2017',\n",
    "  2: '1/3/2017',\n",
    "  3: '1/4/2017',\n",
    "  4: '1/5/2017',\n",
    "  5: '1/6/2017'},\n",
    " 'temperature': {0: 32, 1: 35, 2: 28, 3: 24, 4: 32, 5: 31},\n",
    " 'windspeed': {0: 6, 1: 7, 2: 2, 3: 7, 4: 4, 5: 2},\n",
    " 'event': {0: 'Rain', 1: 'Sunny', 2: 'Snow', 3: 'Snow', 4: 'Rain', 5: 'Sunny'}})\n",
    "\n",
    "data"
   ]
  },
  {
   "cell_type": "code",
   "execution_count": 149,
   "id": "9be912d3-1ee3-4b3e-9704-42438b33dce3",
   "metadata": {},
   "outputs": [
    {
     "data": {
      "text/plain": [
       "0    1/1/2017\n",
       "1    1/2/2017\n",
       "2    1/3/2017\n",
       "3    1/4/2017\n",
       "4    1/5/2017\n",
       "5    1/6/2017\n",
       "Name: day, dtype: object"
      ]
     },
     "execution_count": 149,
     "metadata": {},
     "output_type": "execute_result"
    }
   ],
   "source": [
    "data['day']"
   ]
  },
  {
   "cell_type": "code",
   "execution_count": 155,
   "id": "a1313682-6bdd-4c22-bac3-37c7d521de91",
   "metadata": {},
   "outputs": [
    {
     "data": {
      "text/plain": [
       "['2017', '2017', '2017', '2017', '2017', '2017']"
      ]
     },
     "execution_count": 155,
     "metadata": {},
     "output_type": "execute_result"
    }
   ],
   "source": [
    "list(map((lambda x : x.split('/')[-1]),data['day']))"
   ]
  },
  {
   "cell_type": "code",
   "execution_count": 167,
   "id": "97b4c25e-2c4e-4804-9693-d78fc9ad4ac1",
   "metadata": {},
   "outputs": [
    {
     "data": {
      "text/plain": [
       "['Even', 'Odd', 'Even', 'Odd', 'Even', 'Even']"
      ]
     },
     "execution_count": 167,
     "metadata": {},
     "output_type": "execute_result"
    }
   ],
   "source": [
    "list(map((lambda x : 'Even' if x%2==0 else 'Odd'),data['windspeed']))"
   ]
  },
  {
   "cell_type": "code",
   "execution_count": 177,
   "id": "64ba7142-4f86-42a9-9d2e-fdcecc88c6ef",
   "metadata": {},
   "outputs": [
    {
     "data": {
      "text/html": [
       "<div>\n",
       "<style scoped>\n",
       "    .dataframe tbody tr th:only-of-type {\n",
       "        vertical-align: middle;\n",
       "    }\n",
       "\n",
       "    .dataframe tbody tr th {\n",
       "        vertical-align: top;\n",
       "    }\n",
       "\n",
       "    .dataframe thead th {\n",
       "        text-align: right;\n",
       "    }\n",
       "</style>\n",
       "<table border=\"1\" class=\"dataframe\">\n",
       "  <thead>\n",
       "    <tr style=\"text-align: right;\">\n",
       "      <th></th>\n",
       "      <th>day</th>\n",
       "      <th>temperature</th>\n",
       "      <th>windspeed</th>\n",
       "      <th>event</th>\n",
       "    </tr>\n",
       "  </thead>\n",
       "  <tbody>\n",
       "    <tr>\n",
       "      <th>0</th>\n",
       "      <td>1/1/2017</td>\n",
       "      <td>32</td>\n",
       "      <td>6</td>\n",
       "      <td>Rain</td>\n",
       "    </tr>\n",
       "    <tr>\n",
       "      <th>1</th>\n",
       "      <td>1/2/2017</td>\n",
       "      <td>35</td>\n",
       "      <td>7</td>\n",
       "      <td>Sunny</td>\n",
       "    </tr>\n",
       "    <tr>\n",
       "      <th>2</th>\n",
       "      <td>1/3/2017</td>\n",
       "      <td>28</td>\n",
       "      <td>2</td>\n",
       "      <td>Snow</td>\n",
       "    </tr>\n",
       "    <tr>\n",
       "      <th>3</th>\n",
       "      <td>1/4/2017</td>\n",
       "      <td>24</td>\n",
       "      <td>7</td>\n",
       "      <td>Snow</td>\n",
       "    </tr>\n",
       "    <tr>\n",
       "      <th>4</th>\n",
       "      <td>1/5/2017</td>\n",
       "      <td>32</td>\n",
       "      <td>4</td>\n",
       "      <td>Rain</td>\n",
       "    </tr>\n",
       "    <tr>\n",
       "      <th>5</th>\n",
       "      <td>1/6/2017</td>\n",
       "      <td>31</td>\n",
       "      <td>2</td>\n",
       "      <td>Sunny</td>\n",
       "    </tr>\n",
       "  </tbody>\n",
       "</table>\n",
       "</div>"
      ],
      "text/plain": [
       "        day  temperature  windspeed  event\n",
       "0  1/1/2017           32          6   Rain\n",
       "1  1/2/2017           35          7  Sunny\n",
       "2  1/3/2017           28          2   Snow\n",
       "3  1/4/2017           24          7   Snow\n",
       "4  1/5/2017           32          4   Rain\n",
       "5  1/6/2017           31          2  Sunny"
      ]
     },
     "execution_count": 177,
     "metadata": {},
     "output_type": "execute_result"
    }
   ],
   "source": [
    "import pandas as pd\n",
    "\n",
    "data = pd.DataFrame({'day': {0: '1/1/2017',\n",
    "  1: '1/2/2017',\n",
    "  2: '1/3/2017',\n",
    "  3: '1/4/2017',\n",
    "  4: '1/5/2017',\n",
    "  5: '1/6/2017'},\n",
    " 'temperature': {0: 32, 1: 35, 2: 28, 3: 24, 4: 32, 5: 31},\n",
    " 'windspeed': {0: 6, 1: 7, 2: 2, 3: 7, 4: 4, 5: 2},\n",
    " 'event': {0: 'Rain', 1: 'Sunny', 2: 'Snow', 3: 'Snow', 4: 'Rain', 5: 'Sunny'}})\n",
    "\n",
    "data"
   ]
  },
  {
   "cell_type": "code",
   "execution_count": 181,
   "id": "3a969931-307f-462b-9142-1147d71113df",
   "metadata": {},
   "outputs": [
    {
     "data": {
      "text/plain": [
       "[5.333333333333333, 5.0, 14.0, 3.4285714285714284, 8.0, 15.5]"
      ]
     },
     "execution_count": 181,
     "metadata": {},
     "output_type": "execute_result"
    }
   ],
   "source": [
    "list(map((lambda x,y: x/y),data['temperature'],data['windspeed'])) "
   ]
  },
  {
   "cell_type": "code",
   "execution_count": 195,
   "id": "a973d093-9ee1-4a75-afa3-48d8938295e0",
   "metadata": {},
   "outputs": [
    {
     "data": {
      "text/plain": [
       "['n', 'y', 'w', 'w', 'n', 'y']"
      ]
     },
     "execution_count": 195,
     "metadata": {},
     "output_type": "execute_result"
    }
   ],
   "source": [
    "list(map((lambda x : x.lower()[0] if x.lower()[1] == 'aeiou' else x[-1]),data['event']))"
   ]
  },
  {
   "cell_type": "code",
   "execution_count": null,
   "id": "b0615822-44ad-4255-bbd7-8d46fc226334",
   "metadata": {},
   "outputs": [],
   "source": [
    "print(list(lambda x : \"palindrome\" if x=={::-1}(0\"not palindrome())"
   ]
  },
  {
   "cell_type": "code",
   "execution_count": 1,
   "id": "7d5ce37c-5c76-46c9-9e0c-d5a95aed9f44",
   "metadata": {},
   "outputs": [
    {
     "ename": "TypeError",
     "evalue": "map() must have at least two arguments.",
     "output_type": "error",
     "traceback": [
      "\u001b[1;31m---------------------------------------------------------------------------\u001b[0m",
      "\u001b[1;31mTypeError\u001b[0m                                 Traceback (most recent call last)",
      "Cell \u001b[1;32mIn[1], line 1\u001b[0m\n\u001b[1;32m----> 1\u001b[0m \u001b[38;5;28mlist\u001b[39m(\u001b[38;5;28;43mmap\u001b[39;49m\u001b[43m(\u001b[49m\u001b[38;5;28;43;01mlambda\u001b[39;49;00m\u001b[43m \u001b[49m\u001b[43mx\u001b[49m\u001b[43m:\u001b[49m\u001b[43m \u001b[49m\u001b[38;5;124;43m\"\u001b[39;49m\u001b[38;5;124;43meven\u001b[39;49m\u001b[38;5;124;43m\"\u001b[39;49m\u001b[43m \u001b[49m\u001b[38;5;28;43;01mif\u001b[39;49;00m\u001b[43m \u001b[49m\u001b[43mx\u001b[49m\u001b[38;5;241;43m%\u001b[39;49m\u001b[38;5;241;43m2\u001b[39;49m\u001b[38;5;241;43m==\u001b[39;49m\u001b[38;5;241;43m0\u001b[39;49m\u001b[43m \u001b[49m\u001b[38;5;28;43;01melse\u001b[39;49;00m\u001b[43m \u001b[49m\u001b[38;5;124;43m\"\u001b[39;49m\u001b[38;5;124;43modd\u001b[39;49m\u001b[38;5;124;43m\"\u001b[39;49m\u001b[43m)\u001b[49m,\u001b[38;5;241m4\u001b[39m)\n",
      "\u001b[1;31mTypeError\u001b[0m: map() must have at least two arguments."
     ]
    }
   ],
   "source": [
    "list(map(lambda x: \"even\" if x%2==0 else \"odd\"),4)"
   ]
  },
  {
   "cell_type": "code",
   "execution_count": null,
   "id": "2f79c82d-d2e8-4b71-93b2-6c8f420a0e81",
   "metadata": {},
   "outputs": [],
   "source": []
  },
  {
   "cell_type": "code",
   "execution_count": null,
   "id": "02a119cf-cb88-44a9-8ea6-ace6e94d5f5e",
   "metadata": {},
   "outputs": [],
   "source": []
  },
  {
   "cell_type": "code",
   "execution_count": null,
   "id": "35a92579-53c4-4a0c-86d5-67ec018c38f6",
   "metadata": {},
   "outputs": [],
   "source": []
  },
  {
   "cell_type": "code",
   "execution_count": null,
   "id": "7e2079ae-81dc-4feb-a3b2-733d90f3452e",
   "metadata": {},
   "outputs": [],
   "source": []
  },
  {
   "cell_type": "code",
   "execution_count": null,
   "id": "0905d4b9-4f6c-4212-bc99-d0bfe0e7684a",
   "metadata": {},
   "outputs": [],
   "source": []
  },
  {
   "cell_type": "code",
   "execution_count": null,
   "id": "3a044fa1-638d-4ba4-81c0-73a214270e2d",
   "metadata": {},
   "outputs": [],
   "source": []
  },
  {
   "cell_type": "code",
   "execution_count": null,
   "id": "f57299a2-dfb9-40f9-a33a-2d634596e749",
   "metadata": {},
   "outputs": [],
   "source": []
  },
  {
   "cell_type": "code",
   "execution_count": null,
   "id": "7aee55b5-f9ac-4ad3-bde8-cc0ee103f326",
   "metadata": {},
   "outputs": [],
   "source": []
  },
  {
   "cell_type": "code",
   "execution_count": null,
   "id": "71bbf839-711b-41cd-94bf-46c1a1cd85d0",
   "metadata": {},
   "outputs": [],
   "source": []
  },
  {
   "cell_type": "code",
   "execution_count": null,
   "id": "934ac6bc-751b-4b5f-8452-2fd0ce75bb59",
   "metadata": {},
   "outputs": [],
   "source": []
  },
  {
   "cell_type": "code",
   "execution_count": null,
   "id": "cd793d1c-fc50-47a9-bba4-3ca61cd7dfaa",
   "metadata": {},
   "outputs": [],
   "source": []
  },
  {
   "cell_type": "code",
   "execution_count": null,
   "id": "80ae9f7b-d8d9-44db-99bb-9187d2befd72",
   "metadata": {},
   "outputs": [],
   "source": []
  },
  {
   "cell_type": "code",
   "execution_count": null,
   "id": "d3bb4c5a-34d9-49d3-bb1e-00fcc6138aba",
   "metadata": {},
   "outputs": [],
   "source": []
  },
  {
   "cell_type": "code",
   "execution_count": null,
   "id": "ee68912b-81b1-4712-80d7-593bc4b703ce",
   "metadata": {},
   "outputs": [],
   "source": []
  },
  {
   "cell_type": "code",
   "execution_count": null,
   "id": "f703f044-9ae1-4a9c-a8d7-0cf86cb55b4c",
   "metadata": {},
   "outputs": [],
   "source": []
  },
  {
   "cell_type": "code",
   "execution_count": null,
   "id": "c69ab030-d9cf-4724-b510-56bead23b097",
   "metadata": {},
   "outputs": [],
   "source": []
  }
 ],
 "metadata": {
  "kernelspec": {
   "display_name": "Python [conda env:base] *",
   "language": "python",
   "name": "conda-base-py"
  },
  "language_info": {
   "codemirror_mode": {
    "name": "ipython",
    "version": 3
   },
   "file_extension": ".py",
   "mimetype": "text/x-python",
   "name": "python",
   "nbconvert_exporter": "python",
   "pygments_lexer": "ipython3",
   "version": "3.10.14"
  }
 },
 "nbformat": 4,
 "nbformat_minor": 5
}
